{
 "cells": [
  {
   "cell_type": "code",
   "execution_count": 1,
   "id": "e56e8e0a-40b9-47a9-af80-07ca3273725f",
   "metadata": {},
   "outputs": [
    {
     "name": "stdout",
     "output_type": "stream",
     "text": [
      "Hello Jupyter Notebook!\n"
     ]
    }
   ],
   "source": [
    "print('Hello Jupyter Notebook!')"
   ]
  },
  {
   "cell_type": "code",
   "execution_count": 3,
   "id": "ae60cde8-8b67-4975-9851-d276ef0156a6",
   "metadata": {},
   "outputs": [
    {
     "data": {
      "text/plain": [
       "2"
      ]
     },
     "execution_count": 3,
     "metadata": {},
     "output_type": "execute_result"
    }
   ],
   "source": [
    "1+1"
   ]
  },
  {
   "cell_type": "code",
   "execution_count": 5,
   "id": "f6a0c504-057c-49a3-b383-b52920f94442",
   "metadata": {},
   "outputs": [
    {
     "data": {
      "text/plain": [
       "1000000000000000.0"
      ]
     },
     "execution_count": 5,
     "metadata": {},
     "output_type": "execute_result"
    }
   ],
   "source": [
    "1e15"
   ]
  },
  {
   "cell_type": "code",
   "execution_count": 7,
   "id": "f642bb4f-0de2-4764-b16b-c5c9a81083a2",
   "metadata": {},
   "outputs": [
    {
     "data": {
      "text/plain": [
       "1e-05"
      ]
     },
     "execution_count": 7,
     "metadata": {},
     "output_type": "execute_result"
    }
   ],
   "source": [
    "1e-5"
   ]
  },
  {
   "cell_type": "code",
   "execution_count": 9,
   "id": "758c95c2-e33f-4dee-819b-af8acb9503d1",
   "metadata": {},
   "outputs": [
    {
     "data": {
      "text/plain": [
       "17"
      ]
     },
     "execution_count": 9,
     "metadata": {},
     "output_type": "execute_result"
    }
   ],
   "source": [
    "17"
   ]
  },
  {
   "cell_type": "code",
   "execution_count": 11,
   "id": "c4e47c75-54cf-41f6-9ed0-df453bbf3ffe",
   "metadata": {},
   "outputs": [
    {
     "data": {
      "text/plain": [
       "17"
      ]
     },
     "execution_count": 11,
     "metadata": {},
     "output_type": "execute_result"
    }
   ],
   "source": [
    "0b10001"
   ]
  },
  {
   "cell_type": "code",
   "execution_count": 13,
   "id": "e50ac2bf-9059-4d60-a04c-88a3a107bb76",
   "metadata": {},
   "outputs": [
    {
     "data": {
      "text/plain": [
       "17"
      ]
     },
     "execution_count": 13,
     "metadata": {},
     "output_type": "execute_result"
    }
   ],
   "source": [
    "0o21"
   ]
  },
  {
   "cell_type": "code",
   "execution_count": 15,
   "id": "3845c665-c749-43fe-9550-9f4c28f9a5fc",
   "metadata": {},
   "outputs": [
    {
     "data": {
      "text/plain": [
       "17"
      ]
     },
     "execution_count": 15,
     "metadata": {},
     "output_type": "execute_result"
    }
   ],
   "source": [
    "0x11"
   ]
  },
  {
   "cell_type": "code",
   "execution_count": 17,
   "id": "13642041-b842-458a-82a5-f1384f989712",
   "metadata": {},
   "outputs": [
    {
     "data": {
      "text/plain": [
       "'0b10001'"
      ]
     },
     "execution_count": 17,
     "metadata": {},
     "output_type": "execute_result"
    }
   ],
   "source": [
    "bin(17)"
   ]
  },
  {
   "cell_type": "code",
   "execution_count": 19,
   "id": "d892d43e-0006-4b59-937a-056bcd29bb0a",
   "metadata": {},
   "outputs": [
    {
     "data": {
      "text/plain": [
       "'0o21'"
      ]
     },
     "execution_count": 19,
     "metadata": {},
     "output_type": "execute_result"
    }
   ],
   "source": [
    "oct(17)"
   ]
  },
  {
   "cell_type": "code",
   "execution_count": 21,
   "id": "0a1c2639-d159-4b44-ab11-3fb46c24236e",
   "metadata": {},
   "outputs": [
    {
     "data": {
      "text/plain": [
       "'0x11'"
      ]
     },
     "execution_count": 21,
     "metadata": {},
     "output_type": "execute_result"
    }
   ],
   "source": [
    "hex(17)"
   ]
  },
  {
   "cell_type": "code",
   "execution_count": 23,
   "id": "662fb953-2bdd-4177-81f4-2cd24a9b1baf",
   "metadata": {},
   "outputs": [
    {
     "data": {
      "text/plain": [
       "22"
      ]
     },
     "execution_count": 23,
     "metadata": {},
     "output_type": "execute_result"
    }
   ],
   "source": [
    "0b10*0o10+0x10-10"
   ]
  },
  {
   "cell_type": "code",
   "execution_count": 27,
   "id": "481016e8-0123-4549-9b5e-a7db63ac1bbb",
   "metadata": {},
   "outputs": [
    {
     "data": {
      "text/plain": [
       "'0b10110'"
      ]
     },
     "execution_count": 27,
     "metadata": {},
     "output_type": "execute_result"
    }
   ],
   "source": [
    "bin(0b10*0o10+0x10-10)"
   ]
  },
  {
   "cell_type": "code",
   "execution_count": 29,
   "id": "75d75fa4-7a8c-4388-814b-98d05f8a0510",
   "metadata": {},
   "outputs": [
    {
     "data": {
      "text/plain": [
       "'0o26'"
      ]
     },
     "execution_count": 29,
     "metadata": {},
     "output_type": "execute_result"
    }
   ],
   "source": [
    "oct(0b10*0o10+0x10-10)"
   ]
  },
  {
   "cell_type": "code",
   "execution_count": 31,
   "id": "276fc45b-c9f1-487b-8d20-4edac0f6508c",
   "metadata": {},
   "outputs": [
    {
     "data": {
      "text/plain": [
       "'0x16'"
      ]
     },
     "execution_count": 31,
     "metadata": {},
     "output_type": "execute_result"
    }
   ],
   "source": [
    "hex(0b10*0o10+0x10-10)"
   ]
  },
  {
   "cell_type": "code",
   "execution_count": 33,
   "id": "0a1e495c-bf28-41da-9466-e10d032f8101",
   "metadata": {},
   "outputs": [
    {
     "name": "stdout",
     "output_type": "stream",
     "text": [
      "True\n"
     ]
    }
   ],
   "source": [
    "print(True)"
   ]
  },
  {
   "cell_type": "code",
   "execution_count": 35,
   "id": "b3b26251-d2f8-480a-adf6-092a84814df1",
   "metadata": {},
   "outputs": [
    {
     "data": {
      "text/plain": [
       "bool"
      ]
     },
     "execution_count": 35,
     "metadata": {},
     "output_type": "execute_result"
    }
   ],
   "source": [
    "type(True)"
   ]
  },
  {
   "cell_type": "code",
   "execution_count": 37,
   "id": "d2d0c797-ba27-430f-960c-dcb8b7372f5c",
   "metadata": {},
   "outputs": [
    {
     "name": "stdout",
     "output_type": "stream",
     "text": [
      "False\n"
     ]
    }
   ],
   "source": [
    "print(True and False)"
   ]
  },
  {
   "cell_type": "code",
   "execution_count": 39,
   "id": "9fe07222-6add-4416-91be-49201d2d4f60",
   "metadata": {},
   "outputs": [
    {
     "name": "stdout",
     "output_type": "stream",
     "text": [
      "True\n",
      "False\n"
     ]
    }
   ],
   "source": [
    "print(True or False)\n",
    "print(not True)"
   ]
  },
  {
   "cell_type": "code",
   "execution_count": 43,
   "id": "d7f2246f-9016-4591-8f63-94b8d46f20d9",
   "metadata": {},
   "outputs": [
    {
     "name": "stdout",
     "output_type": "stream",
     "text": [
      "False\n",
      "True\n",
      "False\n",
      "True\n",
      "False\n",
      "True\n"
     ]
    }
   ],
   "source": [
    "print(5 ==3)\n",
    "print(5!=3)\n",
    "print(5<3)\n",
    "print(5>3)\n",
    "print(5<=3)\n",
    "print(5>=3)"
   ]
  },
  {
   "cell_type": "code",
   "execution_count": null,
   "id": "351bb3b2-712e-4b42-86e0-f63c6b674076",
   "metadata": {},
   "outputs": [],
   "source": []
  }
 ],
 "metadata": {
  "kernelspec": {
   "display_name": "Python [conda env:base] *",
   "language": "python",
   "name": "conda-base-py"
  },
  "language_info": {
   "codemirror_mode": {
    "name": "ipython",
    "version": 3
   },
   "file_extension": ".py",
   "mimetype": "text/x-python",
   "name": "python",
   "nbconvert_exporter": "python",
   "pygments_lexer": "ipython3",
   "version": "3.12.4"
  }
 },
 "nbformat": 4,
 "nbformat_minor": 5
}
