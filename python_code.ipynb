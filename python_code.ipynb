{
 "cells": [
  {
   "cell_type": "code",
   "execution_count": 1,
   "id": "e56e8e0a-40b9-47a9-af80-07ca3273725f",
   "metadata": {},
   "outputs": [
    {
     "name": "stdout",
     "output_type": "stream",
     "text": [
      "Hello Jupyter Notebook!\n"
     ]
    }
   ],
   "source": [
    "print('Hello Jupyter Notebook!')"
   ]
  },
  {
   "cell_type": "code",
   "execution_count": 3,
   "id": "ae60cde8-8b67-4975-9851-d276ef0156a6",
   "metadata": {},
   "outputs": [
    {
     "data": {
      "text/plain": [
       "2"
      ]
     },
     "execution_count": 3,
     "metadata": {},
     "output_type": "execute_result"
    }
   ],
   "source": [
    "1+1"
   ]
  },
  {
   "cell_type": "code",
   "execution_count": 5,
   "id": "f6a0c504-057c-49a3-b383-b52920f94442",
   "metadata": {},
   "outputs": [
    {
     "data": {
      "text/plain": [
       "1000000000000000.0"
      ]
     },
     "execution_count": 5,
     "metadata": {},
     "output_type": "execute_result"
    }
   ],
   "source": [
    "1e15"
   ]
  },
  {
   "cell_type": "code",
   "execution_count": 7,
   "id": "f642bb4f-0de2-4764-b16b-c5c9a81083a2",
   "metadata": {},
   "outputs": [
    {
     "data": {
      "text/plain": [
       "1e-05"
      ]
     },
     "execution_count": 7,
     "metadata": {},
     "output_type": "execute_result"
    }
   ],
   "source": [
    "1e-5"
   ]
  },
  {
   "cell_type": "code",
   "execution_count": 9,
   "id": "758c95c2-e33f-4dee-819b-af8acb9503d1",
   "metadata": {},
   "outputs": [
    {
     "data": {
      "text/plain": [
       "17"
      ]
     },
     "execution_count": 9,
     "metadata": {},
     "output_type": "execute_result"
    }
   ],
   "source": [
    "17"
   ]
  },
  {
   "cell_type": "code",
   "execution_count": 11,
   "id": "c4e47c75-54cf-41f6-9ed0-df453bbf3ffe",
   "metadata": {},
   "outputs": [
    {
     "data": {
      "text/plain": [
       "17"
      ]
     },
     "execution_count": 11,
     "metadata": {},
     "output_type": "execute_result"
    }
   ],
   "source": [
    "0b10001"
   ]
  },
  {
   "cell_type": "code",
   "execution_count": 13,
   "id": "e50ac2bf-9059-4d60-a04c-88a3a107bb76",
   "metadata": {},
   "outputs": [
    {
     "data": {
      "text/plain": [
       "17"
      ]
     },
     "execution_count": 13,
     "metadata": {},
     "output_type": "execute_result"
    }
   ],
   "source": [
    "0o21"
   ]
  },
  {
   "cell_type": "code",
   "execution_count": 15,
   "id": "3845c665-c749-43fe-9550-9f4c28f9a5fc",
   "metadata": {},
   "outputs": [
    {
     "data": {
      "text/plain": [
       "17"
      ]
     },
     "execution_count": 15,
     "metadata": {},
     "output_type": "execute_result"
    }
   ],
   "source": [
    "0x11"
   ]
  },
  {
   "cell_type": "code",
   "execution_count": 17,
   "id": "13642041-b842-458a-82a5-f1384f989712",
   "metadata": {},
   "outputs": [
    {
     "data": {
      "text/plain": [
       "'0b10001'"
      ]
     },
     "execution_count": 17,
     "metadata": {},
     "output_type": "execute_result"
    }
   ],
   "source": [
    "bin(17)"
   ]
  },
  {
   "cell_type": "code",
   "execution_count": 19,
   "id": "d892d43e-0006-4b59-937a-056bcd29bb0a",
   "metadata": {},
   "outputs": [
    {
     "data": {
      "text/plain": [
       "'0o21'"
      ]
     },
     "execution_count": 19,
     "metadata": {},
     "output_type": "execute_result"
    }
   ],
   "source": [
    "oct(17)"
   ]
  },
  {
   "cell_type": "code",
   "execution_count": 21,
   "id": "0a1c2639-d159-4b44-ab11-3fb46c24236e",
   "metadata": {},
   "outputs": [
    {
     "data": {
      "text/plain": [
       "'0x11'"
      ]
     },
     "execution_count": 21,
     "metadata": {},
     "output_type": "execute_result"
    }
   ],
   "source": [
    "hex(17)"
   ]
  },
  {
   "cell_type": "code",
   "execution_count": 23,
   "id": "662fb953-2bdd-4177-81f4-2cd24a9b1baf",
   "metadata": {},
   "outputs": [
    {
     "data": {
      "text/plain": [
       "22"
      ]
     },
     "execution_count": 23,
     "metadata": {},
     "output_type": "execute_result"
    }
   ],
   "source": [
    "0b10*0o10+0x10-10"
   ]
  },
  {
   "cell_type": "code",
   "execution_count": 27,
   "id": "481016e8-0123-4549-9b5e-a7db63ac1bbb",
   "metadata": {},
   "outputs": [
    {
     "data": {
      "text/plain": [
       "'0b10110'"
      ]
     },
     "execution_count": 27,
     "metadata": {},
     "output_type": "execute_result"
    }
   ],
   "source": [
    "bin(0b10*0o10+0x10-10)"
   ]
  },
  {
   "cell_type": "code",
   "execution_count": 29,
   "id": "75d75fa4-7a8c-4388-814b-98d05f8a0510",
   "metadata": {},
   "outputs": [
    {
     "data": {
      "text/plain": [
       "'0o26'"
      ]
     },
     "execution_count": 29,
     "metadata": {},
     "output_type": "execute_result"
    }
   ],
   "source": [
    "oct(0b10*0o10+0x10-10)"
   ]
  },
  {
   "cell_type": "code",
   "execution_count": 31,
   "id": "276fc45b-c9f1-487b-8d20-4edac0f6508c",
   "metadata": {},
   "outputs": [
    {
     "data": {
      "text/plain": [
       "'0x16'"
      ]
     },
     "execution_count": 31,
     "metadata": {},
     "output_type": "execute_result"
    }
   ],
   "source": [
    "hex(0b10*0o10+0x10-10)"
   ]
  },
  {
   "cell_type": "code",
   "execution_count": 33,
   "id": "0a1e495c-bf28-41da-9466-e10d032f8101",
   "metadata": {},
   "outputs": [
    {
     "name": "stdout",
     "output_type": "stream",
     "text": [
      "True\n"
     ]
    }
   ],
   "source": [
    "print(True)"
   ]
  },
  {
   "cell_type": "code",
   "execution_count": 35,
   "id": "b3b26251-d2f8-480a-adf6-092a84814df1",
   "metadata": {},
   "outputs": [
    {
     "data": {
      "text/plain": [
       "bool"
      ]
     },
     "execution_count": 35,
     "metadata": {},
     "output_type": "execute_result"
    }
   ],
   "source": [
    "type(True)"
   ]
  },
  {
   "cell_type": "code",
   "execution_count": 37,
   "id": "d2d0c797-ba27-430f-960c-dcb8b7372f5c",
   "metadata": {},
   "outputs": [
    {
     "name": "stdout",
     "output_type": "stream",
     "text": [
      "False\n"
     ]
    }
   ],
   "source": [
    "print(True and False)"
   ]
  },
  {
   "cell_type": "code",
   "execution_count": 39,
   "id": "9fe07222-6add-4416-91be-49201d2d4f60",
   "metadata": {},
   "outputs": [
    {
     "name": "stdout",
     "output_type": "stream",
     "text": [
      "True\n",
      "False\n"
     ]
    }
   ],
   "source": [
    "print(True or False)\n",
    "print(not True)"
   ]
  },
  {
   "cell_type": "code",
   "execution_count": 43,
   "id": "d7f2246f-9016-4591-8f63-94b8d46f20d9",
   "metadata": {},
   "outputs": [
    {
     "name": "stdout",
     "output_type": "stream",
     "text": [
      "False\n",
      "True\n",
      "False\n",
      "True\n",
      "False\n",
      "True\n"
     ]
    }
   ],
   "source": [
    "print(5 ==3)\n",
    "print(5!=3)\n",
    "print(5<3)\n",
    "print(5>3)\n",
    "print(5<=3)\n",
    "print(5>=3)"
   ]
  },
  {
   "cell_type": "code",
   "execution_count": 45,
   "id": "351bb3b2-712e-4b42-86e0-f63c6b674076",
   "metadata": {},
   "outputs": [
    {
     "name": "stdout",
     "output_type": "stream",
     "text": [
      "True\n"
     ]
    }
   ],
   "source": [
    "print(1>0 and -2 <0)"
   ]
  },
  {
   "cell_type": "code",
   "execution_count": 47,
   "id": "c075bdcc-a2c4-4196-a2e2-b36cc10e1994",
   "metadata": {},
   "outputs": [
    {
     "data": {
      "text/plain": [
       "6170.0"
      ]
     },
     "execution_count": 47,
     "metadata": {},
     "output_type": "execute_result"
    }
   ],
   "source": [
    "12340*1/2"
   ]
  },
  {
   "cell_type": "code",
   "execution_count": 49,
   "id": "e8a9ec94-72c9-4d73-b928-f09123ebbba7",
   "metadata": {},
   "outputs": [
    {
     "data": {
      "text/plain": [
       "3085.0"
      ]
     },
     "execution_count": 49,
     "metadata": {},
     "output_type": "execute_result"
    }
   ],
   "source": [
    "12340*1/4"
   ]
  },
  {
   "cell_type": "code",
   "execution_count": 51,
   "id": "2ca9f28a-991e-4355-b832-597a60e3b095",
   "metadata": {},
   "outputs": [
    {
     "data": {
      "text/plain": [
       "2468.0"
      ]
     },
     "execution_count": 51,
     "metadata": {},
     "output_type": "execute_result"
    }
   ],
   "source": [
    "12340*1/5"
   ]
  },
  {
   "cell_type": "code",
   "execution_count": 53,
   "id": "82127617-047b-49b4-88e2-ff93e6b63e78",
   "metadata": {},
   "outputs": [
    {
     "name": "stdout",
     "output_type": "stream",
     "text": [
      "12340\n"
     ]
    }
   ],
   "source": [
    "abc = 12340\n",
    "print(abc)"
   ]
  },
  {
   "cell_type": "code",
   "execution_count": 55,
   "id": "f888f298-75e7-4f74-bbc7-e1cf84d93756",
   "metadata": {},
   "outputs": [
    {
     "data": {
      "text/plain": [
       "12340"
      ]
     },
     "execution_count": 55,
     "metadata": {},
     "output_type": "execute_result"
    }
   ],
   "source": [
    "abc"
   ]
  },
  {
   "cell_type": "code",
   "execution_count": 57,
   "id": "39ef01c6-b118-4d5d-980c-7490ea56deef",
   "metadata": {},
   "outputs": [
    {
     "name": "stdout",
     "output_type": "stream",
     "text": [
      "6170.0\n"
     ]
    }
   ],
   "source": [
    "print(abc*1/2)"
   ]
  },
  {
   "cell_type": "code",
   "execution_count": 59,
   "id": "467a3eec-7551-445c-8467-5cdc3f0ba958",
   "metadata": {},
   "outputs": [
    {
     "name": "stdout",
     "output_type": "stream",
     "text": [
      "String Test\n"
     ]
    }
   ],
   "source": [
    "print(\"String Test\")"
   ]
  },
  {
   "cell_type": "code",
   "execution_count": 61,
   "id": "98347571-fc17-4b44-8388-57f11d7fec5b",
   "metadata": {},
   "outputs": [],
   "source": [
    "string1 = \"String Test 1\" "
   ]
  },
  {
   "cell_type": "code",
   "execution_count": 63,
   "id": "d48a3cf4-f77d-4fd9-a359-683ea3d67c70",
   "metadata": {},
   "outputs": [
    {
     "name": "stdout",
     "output_type": "stream",
     "text": [
      "String Test 1\n"
     ]
    }
   ],
   "source": [
    "print(string1)"
   ]
  },
  {
   "cell_type": "code",
   "execution_count": 65,
   "id": "7f7fd023-4607-49ae-806c-5cfc39ceaf14",
   "metadata": {},
   "outputs": [
    {
     "name": "stdout",
     "output_type": "stream",
     "text": [
      " String Test 2 \n"
     ]
    }
   ],
   "source": [
    "string2 =' String Test 2 '\n",
    "print(string2)"
   ]
  },
  {
   "cell_type": "code",
   "execution_count": 67,
   "id": "0a10def8-fe9e-4b64-9007-946e6efdd139",
   "metadata": {},
   "outputs": [
    {
     "data": {
      "text/plain": [
       "str"
      ]
     },
     "execution_count": 67,
     "metadata": {},
     "output_type": "execute_result"
    }
   ],
   "source": [
    "type(string1)"
   ]
  },
  {
   "cell_type": "code",
   "execution_count": 69,
   "id": "7cc03698-679e-426d-8f60-ca1bc4ce4b23",
   "metadata": {},
   "outputs": [
    {
     "name": "stdout",
     "output_type": "stream",
     "text": [
      "This is a \"double\" quotation test\n"
     ]
    }
   ],
   "source": [
    "string3 = 'This is a \"double\" quotation test'\n",
    "print(string3)"
   ]
  },
  {
   "cell_type": "code",
   "execution_count": 71,
   "id": "dda89f93-df01-4885-950e-ab913af32ad0",
   "metadata": {},
   "outputs": [
    {
     "name": "stdout",
     "output_type": "stream",
     "text": [
      "Enjoy python!\n"
     ]
    }
   ],
   "source": [
    "a = 'Enjoy '\n",
    "b = 'python!'\n",
    "c = a+b\n",
    "print(c)"
   ]
  },
  {
   "cell_type": "code",
   "execution_count": 73,
   "id": "7a57305c-0a87-4660-8dac-240f2af6c692",
   "metadata": {},
   "outputs": [
    {
     "name": "stdout",
     "output_type": "stream",
     "text": [
      "Enjoy Enjoy Enjoy \n"
     ]
    }
   ],
   "source": [
    "print(a *3)"
   ]
  },
  {
   "cell_type": "code",
   "execution_count": 75,
   "id": "408aa934-222a-454a-813e-cdd2c234e83c",
   "metadata": {},
   "outputs": [],
   "source": [
    "student = [90,95,85,80]"
   ]
  },
  {
   "cell_type": "code",
   "execution_count": 77,
   "id": "b5eff35f-8420-4f11-af17-78c08d9b6d09",
   "metadata": {},
   "outputs": [
    {
     "data": {
      "text/plain": [
       "[90, 95, 85, 80]"
      ]
     },
     "execution_count": 77,
     "metadata": {},
     "output_type": "execute_result"
    }
   ],
   "source": [
    "student"
   ]
  },
  {
   "cell_type": "code",
   "execution_count": 79,
   "id": "ba6ce0e0-4b83-4b65-9ef1-0af359a23425",
   "metadata": {},
   "outputs": [
    {
     "data": {
      "text/plain": [
       "list"
      ]
     },
     "execution_count": 79,
     "metadata": {},
     "output_type": "execute_result"
    }
   ],
   "source": [
    "type(student)"
   ]
  },
  {
   "cell_type": "code",
   "execution_count": 83,
   "id": "b07742b9-dd33-4a42-9dd7-870b5a01ef38",
   "metadata": {},
   "outputs": [
    {
     "data": {
      "text/plain": [
       "90"
      ]
     },
     "execution_count": 83,
     "metadata": {},
     "output_type": "execute_result"
    }
   ],
   "source": [
    "student[0]"
   ]
  },
  {
   "cell_type": "code",
   "execution_count": 85,
   "id": "f49340b4-8f54-4f1a-9db1-41c3712f915d",
   "metadata": {},
   "outputs": [
    {
     "data": {
      "text/plain": [
       "80"
      ]
     },
     "execution_count": 85,
     "metadata": {},
     "output_type": "execute_result"
    }
   ],
   "source": [
    "student[-1]"
   ]
  },
  {
   "cell_type": "code",
   "execution_count": 87,
   "id": "21860cdc-eee8-4eff-8646-23163732cd5f",
   "metadata": {},
   "outputs": [],
   "source": [
    "student[1] = 100"
   ]
  },
  {
   "cell_type": "code",
   "execution_count": 89,
   "id": "591cc8c0-7c8d-4aa8-a527-aa96cc6173d6",
   "metadata": {},
   "outputs": [
    {
     "data": {
      "text/plain": [
       "[90, 100, 85, 80]"
      ]
     },
     "execution_count": 89,
     "metadata": {},
     "output_type": "execute_result"
    }
   ],
   "source": [
    "student"
   ]
  },
  {
   "cell_type": "code",
   "execution_count": 91,
   "id": "7c60467c-3c9a-49cd-8021-d3141d08d0ac",
   "metadata": {},
   "outputs": [],
   "source": [
    "myFriends = ['Jamees',' Robert','Lisa','Mary']"
   ]
  },
  {
   "cell_type": "code",
   "execution_count": 93,
   "id": "f0637cdc-ad1f-4202-9ddd-5215c9442c28",
   "metadata": {},
   "outputs": [
    {
     "data": {
      "text/plain": [
       "['Jamees', ' Robert', 'Lisa', 'Mary']"
      ]
     },
     "execution_count": 93,
     "metadata": {},
     "output_type": "execute_result"
    }
   ],
   "source": [
    "myFriends"
   ]
  },
  {
   "cell_type": "code",
   "execution_count": 95,
   "id": "bf3a8ff2-4742-4e59-8ccb-14925b655f31",
   "metadata": {},
   "outputs": [
    {
     "data": {
      "text/plain": [
       "'Lisa'"
      ]
     },
     "execution_count": 95,
     "metadata": {},
     "output_type": "execute_result"
    }
   ],
   "source": [
    "myFriends[2]"
   ]
  },
  {
   "cell_type": "code",
   "execution_count": 97,
   "id": "b976434a-f10a-4d6f-9e27-46a7f55ab695",
   "metadata": {},
   "outputs": [
    {
     "data": {
      "text/plain": [
       "[0, 2, 3.14, 'python', 'program', True, ['Jamees', ' Robert', 'Lisa', 'Mary']]"
      ]
     },
     "execution_count": 97,
     "metadata": {},
     "output_type": "execute_result"
    }
   ],
   "source": [
    "mixedList = [0,2,3.14,'python','program',True, myFriends]\n",
    "mixedList"
   ]
  },
  {
   "cell_type": "code",
   "execution_count": 99,
   "id": "f73a0b9a-bab0-41f2-be38-f86b14029407",
   "metadata": {},
   "outputs": [],
   "source": [
    "list_con1 = [1,2,3,4]\n",
    "list_con2 = [5,6,7,8]\n",
    "list_con = list_con1 + list_con2"
   ]
  },
  {
   "cell_type": "code",
   "execution_count": 101,
   "id": "8f397d74-5016-4db7-bac2-4b2c07a680e9",
   "metadata": {},
   "outputs": [
    {
     "name": "stdout",
     "output_type": "stream",
     "text": [
      "[1, 2, 3, 4, 5, 6, 7, 8]\n"
     ]
    }
   ],
   "source": [
    "print(list_con)"
   ]
  },
  {
   "cell_type": "code",
   "execution_count": 105,
   "id": "3d78e824-5135-4a26-901e-2d9d0c9a12c0",
   "metadata": {},
   "outputs": [],
   "source": [
    "list_con = list_con*3"
   ]
  },
  {
   "cell_type": "code",
   "execution_count": 107,
   "id": "ead66394-aad7-4182-b912-560e0ffb8a9f",
   "metadata": {},
   "outputs": [
    {
     "name": "stdout",
     "output_type": "stream",
     "text": [
      "[1, 2, 3, 4, 5, 6, 7, 8, 1, 2, 3, 4, 5, 6, 7, 8, 1, 2, 3, 4, 5, 6, 7, 8]\n"
     ]
    }
   ],
   "source": [
    "print(list_con)"
   ]
  },
  {
   "cell_type": "code",
   "execution_count": 109,
   "id": "888c3708-7cc6-43df-bfbd-c5932a363627",
   "metadata": {},
   "outputs": [],
   "source": [
    "list_data = [0,1,2,3,4,5,6,7,8,9]"
   ]
  },
  {
   "cell_type": "code",
   "execution_count": 111,
   "id": "e72cd772-9ea8-4d7a-82f2-004c5bc80a30",
   "metadata": {},
   "outputs": [
    {
     "name": "stdout",
     "output_type": "stream",
     "text": [
      "[0, 1, 2, 3, 4, 5, 6, 7, 8, 9]\n"
     ]
    }
   ],
   "source": [
    "print(list_data)"
   ]
  },
  {
   "cell_type": "code",
   "execution_count": 113,
   "id": "f8792a7c-7560-48a7-885f-bbc816d0de94",
   "metadata": {},
   "outputs": [
    {
     "name": "stdout",
     "output_type": "stream",
     "text": [
      "[0, 1, 2]\n"
     ]
    }
   ],
   "source": [
    "print(list_data[0:3])"
   ]
  },
  {
   "cell_type": "code",
   "execution_count": 115,
   "id": "8592379a-0266-462a-aec2-257cdcceceea",
   "metadata": {},
   "outputs": [
    {
     "name": "stdout",
     "output_type": "stream",
     "text": [
      "[4, 5, 6, 7]\n"
     ]
    }
   ],
   "source": [
    "print(list_data[4:8])"
   ]
  },
  {
   "cell_type": "code",
   "execution_count": 117,
   "id": "a69ace11-9b2b-41c2-b7c8-6f6faf3a7ebf",
   "metadata": {},
   "outputs": [
    {
     "name": "stdout",
     "output_type": "stream",
     "text": [
      "[0, 1, 2]\n"
     ]
    }
   ],
   "source": [
    "print(list_data[:3])"
   ]
  },
  {
   "cell_type": "code",
   "execution_count": 121,
   "id": "0262dbba-3e47-4289-999c-ef9c4c4a7bdd",
   "metadata": {},
   "outputs": [
    {
     "name": "stdout",
     "output_type": "stream",
     "text": [
      "[7, 8, 9]\n"
     ]
    }
   ],
   "source": [
    "print(list_data[7:])"
   ]
  },
  {
   "cell_type": "raw",
   "id": "2c74f145-e40f-42a2-9360-475f8b60d03f",
   "metadata": {},
   "source": [
    "list_data = [0,1,2,3,4,5,6,7,8,9]"
   ]
  },
  {
   "cell_type": "code",
   "execution_count": 123,
   "id": "0cbd92f2-0859-4002-bc6b-322cf41df3de",
   "metadata": {},
   "outputs": [
    {
     "name": "stdout",
     "output_type": "stream",
     "text": [
      "[0, 1, 2, 3, 4, 5, 6, 7, 8, 9]\n"
     ]
    }
   ],
   "source": [
    "print(list_data)"
   ]
  },
  {
   "cell_type": "code",
   "execution_count": 125,
   "id": "cd110e5c-ec49-47c9-baf5-f131c17a3273",
   "metadata": {},
   "outputs": [],
   "source": [
    "del list_data[6]"
   ]
  },
  {
   "cell_type": "code",
   "execution_count": 127,
   "id": "31c2b35d-0b51-4a74-b77a-c8cf089f2b12",
   "metadata": {},
   "outputs": [
    {
     "name": "stdout",
     "output_type": "stream",
     "text": [
      "[0, 1, 2, 3, 4, 5, 7, 8, 9]\n"
     ]
    }
   ],
   "source": [
    "print(list_data)"
   ]
  },
  {
   "cell_type": "code",
   "execution_count": 129,
   "id": "0ce4c532-eb5b-4b85-9613-fd0b8787daed",
   "metadata": {},
   "outputs": [
    {
     "name": "stdout",
     "output_type": "stream",
     "text": [
      "True\n",
      "False\n"
     ]
    }
   ],
   "source": [
    "list_data1 = [1,2,3,4,5]\n",
    "print(5 in list_data1)\n",
    "print(6 in list_data1)"
   ]
  },
  {
   "cell_type": "code",
   "execution_count": 135,
   "id": "d1968818-0b4b-49a3-bb97-45ad55a7750d",
   "metadata": {},
   "outputs": [
    {
     "name": "stdout",
     "output_type": "stream",
     "text": [
      "['James', 'Robert', 'Lisa', 'Mary']\n"
     ]
    }
   ],
   "source": [
    "myFriends = ['James','Robert','Lisa','Mary']\n",
    "print(myFriends)"
   ]
  },
  {
   "cell_type": "code",
   "execution_count": 137,
   "id": "160ab62a-3ce4-4d14-8390-69d7c4df197e",
   "metadata": {},
   "outputs": [],
   "source": [
    "myFriends.append('Thomas')"
   ]
  },
  {
   "cell_type": "code",
   "execution_count": 139,
   "id": "53f09589-a101-424b-a2f2-2de401975ecc",
   "metadata": {},
   "outputs": [
    {
     "name": "stdout",
     "output_type": "stream",
     "text": [
      "['James', 'Robert', 'Lisa', 'Mary', 'Thomas']\n"
     ]
    }
   ],
   "source": [
    "print(myFriends)"
   ]
  },
  {
   "cell_type": "code",
   "execution_count": 141,
   "id": "4494cd55-6b59-4be1-9fbb-41ce634da36d",
   "metadata": {},
   "outputs": [
    {
     "name": "stdout",
     "output_type": "stream",
     "text": [
      "['James', 'Paul', 'Robert', 'Lisa', 'Mary', 'Thomas']\n"
     ]
    }
   ],
   "source": [
    "myFriends.insert(1,'Paul')\n",
    "print(myFriends)"
   ]
  },
  {
   "cell_type": "code",
   "execution_count": 145,
   "id": "7ab798c7-60e3-4cda-b58a-7025e963c4c4",
   "metadata": {},
   "outputs": [
    {
     "name": "stdout",
     "output_type": "stream",
     "text": [
      "['James', 'Paul', 'Robert', 'Lisa', 'Mary', 'Thomas', 'Laura', 'Betty']\n"
     ]
    }
   ],
   "source": [
    "myFriends.extend(['Laura','Betty'])\n",
    "print(myFriends)"
   ]
  },
  {
   "cell_type": "code",
   "execution_count": 147,
   "id": "301aca1a-b9d0-40f3-a4cd-f91c11416a07",
   "metadata": {},
   "outputs": [
    {
     "data": {
      "text/plain": [
       "tuple"
      ]
     },
     "execution_count": 147,
     "metadata": {},
     "output_type": "execute_result"
    }
   ],
   "source": [
    "tuple1 = (1,2,3,4)\n",
    "tuple"
   ]
  },
  {
   "cell_type": "code",
   "execution_count": 149,
   "id": "023133d3-62b2-4539-829e-ca46c871c453",
   "metadata": {},
   "outputs": [
    {
     "data": {
      "text/plain": [
       "(1, 2, 3, 4)"
      ]
     },
     "execution_count": 149,
     "metadata": {},
     "output_type": "execute_result"
    }
   ],
   "source": [
    "tuple1"
   ]
  },
  {
   "cell_type": "code",
   "execution_count": 153,
   "id": "70adc19b-1886-4b6b-9cae-f30e62ce6ebf",
   "metadata": {},
   "outputs": [
    {
     "data": {
      "text/plain": [
       "tuple"
      ]
     },
     "execution_count": 153,
     "metadata": {},
     "output_type": "execute_result"
    }
   ],
   "source": [
    "type(tuple1)"
   ]
  },
  {
   "cell_type": "code",
   "execution_count": 155,
   "id": "f3517d70-333c-4a72-b871-3d00dfdc9468",
   "metadata": {},
   "outputs": [
    {
     "data": {
      "text/plain": [
       "2"
      ]
     },
     "execution_count": 155,
     "metadata": {},
     "output_type": "execute_result"
    }
   ],
   "source": [
    "tuple1[1]"
   ]
  },
  {
   "cell_type": "code",
   "execution_count": 157,
   "id": "79fd6a7f-3e31-4d67-8f64-8a222b155613",
   "metadata": {},
   "outputs": [
    {
     "name": "stdout",
     "output_type": "stream",
     "text": [
      "(5, 6, 7, 8)\n"
     ]
    }
   ],
   "source": [
    "tuple2 = 5,6,7,8\n",
    "print(tuple2)"
   ]
  },
  {
   "cell_type": "code",
   "execution_count": 159,
   "id": "ced2655c-aac6-42a5-89ec-e4d884f58e60",
   "metadata": {},
   "outputs": [
    {
     "data": {
      "text/plain": [
       "tuple"
      ]
     },
     "execution_count": 159,
     "metadata": {},
     "output_type": "execute_result"
    }
   ],
   "source": [
    "type(tuple2)"
   ]
  },
  {
   "cell_type": "code",
   "execution_count": 161,
   "id": "c594ff90-c9cb-423d-b9df-be1874acc305",
   "metadata": {},
   "outputs": [
    {
     "name": "stdout",
     "output_type": "stream",
     "text": [
      "(9,)\n",
      "(10,)\n"
     ]
    }
   ],
   "source": [
    "tuple3 = (9,)\n",
    "tuple4 = 10,\n",
    "print(tuple3)\n",
    "print(tuple4)\n"
   ]
  },
  {
   "cell_type": "code",
   "execution_count": 163,
   "id": "a8cb3d5c-24da-4bd0-9684-defb594f8b54",
   "metadata": {},
   "outputs": [
    {
     "data": {
      "text/plain": [
       "2"
      ]
     },
     "execution_count": 163,
     "metadata": {},
     "output_type": "execute_result"
    }
   ],
   "source": [
    "tuple6=('a','b','c','d','e','f')\n",
    "tuple6.index('c')"
   ]
  },
  {
   "cell_type": "code",
   "execution_count": 165,
   "id": "fe4e0b6b-0c8e-4d8d-864d-1313e2160555",
   "metadata": {},
   "outputs": [
    {
     "data": {
      "text/plain": [
       "4"
      ]
     },
     "execution_count": 165,
     "metadata": {},
     "output_type": "execute_result"
    }
   ],
   "source": [
    "tuple7 = ('a','a','a','a','b','b','b','c','c','c')\n",
    "tuple7.count('a')"
   ]
  },
  {
   "cell_type": "code",
   "execution_count": 167,
   "id": "147bbc1c-9e48-40c6-a867-a46055d64f03",
   "metadata": {},
   "outputs": [
    {
     "name": "stdout",
     "output_type": "stream",
     "text": [
      "{1, 2, 3}\n",
      "{1, 2, 3}\n"
     ]
    }
   ],
   "source": [
    "set1 = {1,2,3}\n",
    "set1a = {1,2,3,3}\n",
    "print(set1)\n",
    "print(set1a)"
   ]
  },
  {
   "cell_type": "code",
   "execution_count": 169,
   "id": "8f61c2f5-d854-4bb7-a47f-2f6905092ffa",
   "metadata": {},
   "outputs": [
    {
     "data": {
      "text/plain": [
       "set"
      ]
     },
     "execution_count": 169,
     "metadata": {},
     "output_type": "execute_result"
    }
   ],
   "source": [
    "type(set1)"
   ]
  },
  {
   "cell_type": "code",
   "execution_count": 171,
   "id": "e518c34b-cbea-46aa-b533-768538a78ec2",
   "metadata": {},
   "outputs": [
    {
     "data": {
      "text/plain": [
       "{4, 5}"
      ]
     },
     "execution_count": 171,
     "metadata": {},
     "output_type": "execute_result"
    }
   ],
   "source": [
    "A = {1,2,3,4,5}\n",
    "B = {4,5,6,7,8,9,10}\n",
    "A.intersection(B)"
   ]
  },
  {
   "cell_type": "code",
   "execution_count": 173,
   "id": "877e08ab-c819-408d-ac5d-4f2f6bb0eaa5",
   "metadata": {},
   "outputs": [
    {
     "data": {
      "text/plain": [
       "{1, 2, 3, 4, 5, 6, 7, 8, 9, 10}"
      ]
     },
     "execution_count": 173,
     "metadata": {},
     "output_type": "execute_result"
    }
   ],
   "source": [
    "A.union(B)"
   ]
  },
  {
   "cell_type": "code",
   "execution_count": 175,
   "id": "37d9d2f0-ddbd-4648-867c-fb250226f52f",
   "metadata": {},
   "outputs": [
    {
     "data": {
      "text/plain": [
       "{1, 2, 3}"
      ]
     },
     "execution_count": 175,
     "metadata": {},
     "output_type": "execute_result"
    }
   ],
   "source": [
    "A.difference(B)"
   ]
  },
  {
   "cell_type": "code",
   "execution_count": 177,
   "id": "3476b371-9bed-4530-95c1-e525c0e08913",
   "metadata": {},
   "outputs": [
    {
     "data": {
      "text/plain": [
       "{4, 5}"
      ]
     },
     "execution_count": 177,
     "metadata": {},
     "output_type": "execute_result"
    }
   ],
   "source": [
    "A & B"
   ]
  },
  {
   "cell_type": "code",
   "execution_count": 179,
   "id": "ed71aced-e3a9-4b64-828a-a145d9fd9e94",
   "metadata": {},
   "outputs": [
    {
     "data": {
      "text/plain": [
       "{1, 2, 3, 4, 5, 6, 7, 8, 9, 10}"
      ]
     },
     "execution_count": 179,
     "metadata": {},
     "output_type": "execute_result"
    }
   ],
   "source": [
    "A | B"
   ]
  },
  {
   "cell_type": "code",
   "execution_count": 181,
   "id": "a6628a3a-533f-418f-b946-1002d9c4bee4",
   "metadata": {},
   "outputs": [
    {
     "data": {
      "text/plain": [
       "{1, 2, 3}"
      ]
     },
     "execution_count": 181,
     "metadata": {},
     "output_type": "execute_result"
    }
   ],
   "source": [
    "A -B "
   ]
  },
  {
   "cell_type": "code",
   "execution_count": 185,
   "id": "9db36cd7-2f8c-48de-90e6-43d8c9d15a47",
   "metadata": {},
   "outputs": [
    {
     "data": {
      "text/plain": [
       "list"
      ]
     },
     "execution_count": 185,
     "metadata": {},
     "output_type": "execute_result"
    }
   ],
   "source": [
    "a =[1,2,3,4,5]\n",
    "type(a)"
   ]
  },
  {
   "cell_type": "code",
   "execution_count": 187,
   "id": "cc489682-de52-4450-8d9c-808dec8d64b3",
   "metadata": {},
   "outputs": [
    {
     "data": {
      "text/plain": [
       "(1, 2, 3, 4, 5)"
      ]
     },
     "execution_count": 187,
     "metadata": {},
     "output_type": "execute_result"
    }
   ],
   "source": [
    "b= tuple(a)\n",
    "b"
   ]
  },
  {
   "cell_type": "code",
   "execution_count": 189,
   "id": "bc003709-a30a-4a43-86e6-08736f613d77",
   "metadata": {},
   "outputs": [
    {
     "data": {
      "text/plain": [
       "tuple"
      ]
     },
     "execution_count": 189,
     "metadata": {},
     "output_type": "execute_result"
    }
   ],
   "source": [
    "type(b)"
   ]
  },
  {
   "cell_type": "code",
   "execution_count": 191,
   "id": "38f1f0c9-63c5-47d3-9484-1e7b413e31d1",
   "metadata": {},
   "outputs": [
    {
     "data": {
      "text/plain": [
       "{1, 2, 3, 4, 5}"
      ]
     },
     "execution_count": 191,
     "metadata": {},
     "output_type": "execute_result"
    }
   ],
   "source": [
    "c = set(a)\n",
    "c"
   ]
  },
  {
   "cell_type": "code",
   "execution_count": 193,
   "id": "437358fa-ec4e-47c1-afe0-7b803f3dd587",
   "metadata": {},
   "outputs": [
    {
     "data": {
      "text/plain": [
       "set"
      ]
     },
     "execution_count": 193,
     "metadata": {},
     "output_type": "execute_result"
    }
   ],
   "source": [
    "type(c)"
   ]
  },
  {
   "cell_type": "code",
   "execution_count": 195,
   "id": "ed1416d5-f37f-4e3f-be60-fb29513e2726",
   "metadata": {},
   "outputs": [
    {
     "data": {
      "text/plain": [
       "[1, 2, 3, 4, 5]"
      ]
     },
     "execution_count": 195,
     "metadata": {},
     "output_type": "execute_result"
    }
   ],
   "source": [
    "list(b)"
   ]
  },
  {
   "cell_type": "code",
   "execution_count": 199,
   "id": "bb1eeeae-54d8-4c98-8a50-0c88b6556acc",
   "metadata": {},
   "outputs": [
    {
     "data": {
      "text/plain": [
       "{'영국': '런던', '프랑스': '파리', '스위스': '베른', '호주': '멜버른', '덴마크': '코펜하겐'}"
      ]
     },
     "execution_count": 199,
     "metadata": {},
     "output_type": "execute_result"
    }
   ],
   "source": [
    "country_capital = {\"영국\":\"런던\", \"프랑스\":\"파리\",\"스위스\":\"베른\",\"호주\":\"멜버른\",\"덴마크\":\"코펜하겐\"}\n",
    "country_capital"
   ]
  },
  {
   "cell_type": "code",
   "execution_count": 201,
   "id": "a0f4ec37-f853-4c29-b0a5-bba9117e8df5",
   "metadata": {},
   "outputs": [
    {
     "data": {
      "text/plain": [
       "dict"
      ]
     },
     "execution_count": 201,
     "metadata": {},
     "output_type": "execute_result"
    }
   ],
   "source": [
    "type(country_capital)"
   ]
  },
  {
   "cell_type": "code",
   "execution_count": 203,
   "id": "ac5e54af-53d7-490e-82fb-4fb028aa14cd",
   "metadata": {},
   "outputs": [
    {
     "data": {
      "text/plain": [
       "'런던'"
      ]
     },
     "execution_count": 203,
     "metadata": {},
     "output_type": "execute_result"
    }
   ],
   "source": [
    "country_capital[\"영국\"]"
   ]
  },
  {
   "cell_type": "code",
   "execution_count": 207,
   "id": "f523fb90-6cd3-4ca0-962e-a4c02e1e94ba",
   "metadata": {},
   "outputs": [
    {
     "data": {
      "text/plain": [
       "{1: '버스', 3: '비행기', 4: '택시', 5: '자전거'}"
      ]
     },
     "execution_count": 207,
     "metadata": {},
     "output_type": "execute_result"
    }
   ],
   "source": [
    "dict_data1 = {1:\"버스\",3:\"비행기\",4:\"택시\",5:\"자전거\"}\n",
    "dict_data1"
   ]
  },
  {
   "cell_type": "code",
   "execution_count": 209,
   "id": "d366a55b-9c6c-440d-a866-afacd00eb7d7",
   "metadata": {},
   "outputs": [
    {
     "data": {
      "text/plain": [
       "'비행기'"
      ]
     },
     "execution_count": 209,
     "metadata": {},
     "output_type": "execute_result"
    }
   ],
   "source": [
    "dict_data1[3]"
   ]
  },
  {
   "cell_type": "code",
   "execution_count": 211,
   "id": "f2c7e025-88b5-4b97-bfab-b76444197aaf",
   "metadata": {},
   "outputs": [
    {
     "name": "stdout",
     "output_type": "stream",
     "text": [
      "{1: 10, 2: 20, 3: 30, 4: 40, 5: 50}\n",
      "40\n"
     ]
    }
   ],
   "source": [
    "dict_data2 = {1:10, 2:20, 3:30, 4:40, 5:50}\n",
    "print(dict_data2)\n",
    "print(dict_data2[4])"
   ]
  },
  {
   "cell_type": "code",
   "execution_count": 215,
   "id": "ca241e83-673d-45f0-9c2d-30191e8bc1d9",
   "metadata": {},
   "outputs": [
    {
     "name": "stdout",
     "output_type": "stream",
     "text": [
      "{'list_data1': [11, 12, 13], 'list_data2': [21, 22, 23]}\n",
      "[21, 22, 23]\n"
     ]
    }
   ],
   "source": [
    "dict_data3 = {\"list_data1\":[11,12,13],\"list_data2\":[21,22,23]}\n",
    "print(dict_data3)\n",
    "print(dict_data3[\"list_data2\"])"
   ]
  },
  {
   "cell_type": "code",
   "execution_count": 217,
   "id": "d822de85-2798-483d-b15c-08b27c7414d9",
   "metadata": {},
   "outputs": [
    {
     "data": {
      "text/plain": [
       "{1: 10,\n",
       " 'dict_num': {1: 10, 2: 20},\n",
       " 'dict_list_tuple': {'A': [11, 12, 13], 'B': (21, 22, 23)},\n",
       " 'dict_string': '이것은 책입니다.'}"
      ]
     },
     "execution_count": 217,
     "metadata": {},
     "output_type": "execute_result"
    }
   ],
   "source": [
    "mixed_dict = {1:10, 'dict_num':{1:10,2:20},\"dict_list_tuple\":{\"A\":[11,12,13],\"B\":(21,22,23)}, \"dict_string\":\"이것은 책입니다.\"}\n",
    "mixed_dict"
   ]
  },
  {
   "cell_type": "code",
   "execution_count": 219,
   "id": "24400efe-cf02-41f4-b618-55b6f9dba246",
   "metadata": {},
   "outputs": [
    {
     "data": {
      "text/plain": [
       "{'영국': '런던', '프랑스': '파리', '스위스': '베른', '호주': '멜버른', '덴마크': '코펜하겐', '독일': '베를린'}"
      ]
     },
     "execution_count": 219,
     "metadata": {},
     "output_type": "execute_result"
    }
   ],
   "source": [
    "country_capital[\"독일\"]=\"베를린\"\n",
    "country_capital"
   ]
  },
  {
   "cell_type": "code",
   "execution_count": 221,
   "id": "4b6b85d9-ddcd-413a-a70f-e9e868e0c6a0",
   "metadata": {},
   "outputs": [
    {
     "data": {
      "text/plain": [
       "{'영국': '런던', '프랑스': '파리', '스위스': '베른', '호주': '캔버라', '덴마크': '코펜하겐', '독일': '베를린'}"
      ]
     },
     "execution_count": 221,
     "metadata": {},
     "output_type": "execute_result"
    }
   ],
   "source": [
    "country_capital[\"호주\"]=\"캔버라\"\n",
    "country_capital"
   ]
  },
  {
   "cell_type": "code",
   "execution_count": 223,
   "id": "edf2d20e-9422-4dc5-aad5-67d56d37dab3",
   "metadata": {},
   "outputs": [
    {
     "data": {
      "text/plain": [
       "{'영국': '런던', '프랑스': '파리', '스위스': '베른', '호주': '캔버라', '독일': '베를린'}"
      ]
     },
     "execution_count": 223,
     "metadata": {},
     "output_type": "execute_result"
    }
   ],
   "source": [
    "del country_capital[\"덴마크\"]\n",
    "country_capital"
   ]
  },
  {
   "cell_type": "code",
   "execution_count": 225,
   "id": "433fad06-736d-4159-b359-b797b8777791",
   "metadata": {},
   "outputs": [
    {
     "name": "stdout",
     "output_type": "stream",
     "text": [
      "dict_keys(['사과', '배', '딸기', '포도', '바나나'])\n"
     ]
    }
   ],
   "source": [
    "fruit_code = {\"사과\":101, \"배\":102,\"딸기\":103,\"포도\":104,\"바나나\":105}\n",
    "print(fruit_code.keys())"
   ]
  },
  {
   "cell_type": "code",
   "execution_count": 227,
   "id": "01906f99-a97e-483e-ad37-8b478a6d1e52",
   "metadata": {},
   "outputs": [
    {
     "name": "stdout",
     "output_type": "stream",
     "text": [
      "dict_values([101, 102, 103, 104, 105])\n"
     ]
    }
   ],
   "source": [
    "print(fruit_code.values())"
   ]
  },
  {
   "cell_type": "code",
   "execution_count": 229,
   "id": "585db42d-db19-49f5-9900-4a53dffd0ade",
   "metadata": {},
   "outputs": [
    {
     "name": "stdout",
     "output_type": "stream",
     "text": [
      "dict_items([('사과', 101), ('배', 102), ('딸기', 103), ('포도', 104), ('바나나', 105)])\n"
     ]
    }
   ],
   "source": [
    "print(fruit_code.items())"
   ]
  },
  {
   "cell_type": "code",
   "execution_count": 231,
   "id": "923a07c2-0afa-422b-8cd1-9ce1666fec9a",
   "metadata": {},
   "outputs": [
    {
     "data": {
      "text/plain": [
       "['사과', '배', '딸기', '포도', '바나나']"
      ]
     },
     "execution_count": 231,
     "metadata": {},
     "output_type": "execute_result"
    }
   ],
   "source": [
    "list(fruit_code.keys())"
   ]
  },
  {
   "cell_type": "code",
   "execution_count": 233,
   "id": "4a1d1a7a-8606-4123-b285-1dc004be0ddf",
   "metadata": {},
   "outputs": [
    {
     "data": {
      "text/plain": [
       "[101, 102, 103, 104, 105]"
      ]
     },
     "execution_count": 233,
     "metadata": {},
     "output_type": "execute_result"
    }
   ],
   "source": [
    "list(fruit_code.values())"
   ]
  },
  {
   "cell_type": "code",
   "execution_count": 235,
   "id": "8e0a9286-09ef-4653-835d-421009b3b05c",
   "metadata": {},
   "outputs": [
    {
     "data": {
      "text/plain": [
       "[('사과', 101), ('배', 102), ('딸기', 103), ('포도', 104), ('바나나', 105)]"
      ]
     },
     "execution_count": 235,
     "metadata": {},
     "output_type": "execute_result"
    }
   ],
   "source": [
    "list(fruit_code.items())"
   ]
  },
  {
   "cell_type": "code",
   "execution_count": 237,
   "id": "16e972a2-4da6-49c8-a3cd-a0bed5e9bfc0",
   "metadata": {},
   "outputs": [],
   "source": [
    "fruit_code2={\"오렌지\":106,\"수박\":107}"
   ]
  },
  {
   "cell_type": "code",
   "execution_count": 239,
   "id": "a7dd8d85-c638-4baa-9abc-00332570b095",
   "metadata": {},
   "outputs": [],
   "source": [
    "fruit_code.update(fruit_code2)"
   ]
  },
  {
   "cell_type": "code",
   "execution_count": 241,
   "id": "b0714dd4-6616-431c-b166-9341a5444612",
   "metadata": {},
   "outputs": [
    {
     "data": {
      "text/plain": [
       "{'사과': 101, '배': 102, '딸기': 103, '포도': 104, '바나나': 105, '오렌지': 106, '수박': 107}"
      ]
     },
     "execution_count": 241,
     "metadata": {},
     "output_type": "execute_result"
    }
   ],
   "source": [
    "fruit_code"
   ]
  },
  {
   "cell_type": "code",
   "execution_count": 243,
   "id": "f4c77f70-89a1-4a49-a027-4861c6fb64e6",
   "metadata": {},
   "outputs": [
    {
     "name": "stdout",
     "output_type": "stream",
     "text": [
      "{}\n"
     ]
    },
    {
     "data": {
      "text/plain": [
       "dict"
      ]
     },
     "execution_count": 243,
     "metadata": {},
     "output_type": "execute_result"
    }
   ],
   "source": [
    "fruit_code2.clear()\n",
    "print(fruit_code2)\n",
    "type(fruit_code2)"
   ]
  },
  {
   "cell_type": "code",
   "execution_count": 245,
   "id": "e5036acf-4385-466c-914e-f09e8f1f6a60",
   "metadata": {},
   "outputs": [
    {
     "name": "stdout",
     "output_type": "stream",
     "text": [
      "Pass\n"
     ]
    }
   ],
   "source": [
    "x = 95\n",
    "if x > 90:\n",
    "    print(\"Pass\")"
   ]
  },
  {
   "cell_type": "code",
   "execution_count": 247,
   "id": "97cbcc92-18f6-4793-ab31-ed0f7c73f666",
   "metadata": {},
   "outputs": [
    {
     "name": "stdout",
     "output_type": "stream",
     "text": [
      "Fail\n"
     ]
    }
   ],
   "source": [
    "x = 75 \n",
    "if x >= 90:\n",
    "    print(\"Pass\")\n",
    "else:\n",
    "    print(\"Fail\")"
   ]
  },
  {
   "cell_type": "code",
   "execution_count": 249,
   "id": "7c02249d-8625-4356-b805-6c18e0de2b1d",
   "metadata": {},
   "outputs": [
    {
     "name": "stdout",
     "output_type": "stream",
     "text": [
      "Perfect\n"
     ]
    }
   ],
   "source": [
    "x = 100\n",
    "if x >= 90 : \n",
    "    if x == 100 : \n",
    "        print(\"Perfect\")\n",
    "    else: \n",
    "        print(\"Very Good\")\n",
    "elif(x>= 80) and (x < 90):\n",
    "    print(\"GOOD\")\n",
    "else:\n",
    "    print(\"BAD\")\n",
    "    "
   ]
  },
  {
   "cell_type": "code",
   "execution_count": 253,
   "id": "6c1bf1c6-b4d1-4153-bfd6-60cb4f014d53",
   "metadata": {},
   "outputs": [
    {
     "name": "stdout",
     "output_type": "stream",
     "text": [
      "0\n",
      "1\n",
      "2\n",
      "3\n",
      "4\n",
      "5\n"
     ]
    }
   ],
   "source": [
    "for a in [0,1,2,3,4,5]:\n",
    "    print(a)"
   ]
  },
  {
   "cell_type": "code",
   "execution_count": 255,
   "id": "6463127f-5c36-442f-baa4-6922ce4c8b6c",
   "metadata": {},
   "outputs": [
    {
     "name": "stdout",
     "output_type": "stream",
     "text": [
      "James\n",
      "Robert\n",
      "Lisa\n",
      "Mary\n"
     ]
    }
   ],
   "source": [
    "myFriends = ['James','Robert','Lisa','Mary']\n",
    "for myFriend in myFriends:\n",
    "    print(myFriend)"
   ]
  },
  {
   "cell_type": "code",
   "execution_count": 259,
   "id": "3f0d19ef-15ee-46cc-bb0f-9f614c1c5d88",
   "metadata": {},
   "outputs": [
    {
     "name": "stdout",
     "output_type": "stream",
     "text": [
      "range(0, 10)\n"
     ]
    }
   ],
   "source": [
    "print(range(0,10,1))"
   ]
  },
  {
   "cell_type": "code",
   "execution_count": 261,
   "id": "d1d7340d-23c2-4029-ae53-ec8fed03386c",
   "metadata": {},
   "outputs": [
    {
     "name": "stdout",
     "output_type": "stream",
     "text": [
      "[0, 1, 2, 3, 4, 5, 6, 7, 8, 9]\n"
     ]
    }
   ],
   "source": [
    "print(list(range(0,10,1)))"
   ]
  },
  {
   "cell_type": "code",
   "execution_count": 263,
   "id": "284db234-7963-4cd8-82db-3becf0bf7ec2",
   "metadata": {},
   "outputs": [
    {
     "name": "stdout",
     "output_type": "stream",
     "text": [
      "0\n",
      "1\n",
      "2\n",
      "3\n",
      "4\n",
      "5\n"
     ]
    }
   ],
   "source": [
    "for a in range(0,6,1):\n",
    "    print(a)"
   ]
  },
  {
   "cell_type": "code",
   "execution_count": 265,
   "id": "20454db7-a887-4b74-a386-3a40e6029909",
   "metadata": {},
   "outputs": [
    {
     "name": "stdout",
     "output_type": "stream",
     "text": [
      "0\n",
      "2\n",
      "4\n"
     ]
    }
   ],
   "source": [
    "for a in range(0,6,2):\n",
    "    print(a)"
   ]
  },
  {
   "cell_type": "code",
   "execution_count": 267,
   "id": "357e7c71-97ad-4783-aa0f-964125259e3e",
   "metadata": {},
   "outputs": [
    {
     "name": "stdout",
     "output_type": "stream",
     "text": [
      "[0, 1, 2, 3, 4, 5, 6, 7, 8, 9]\n",
      "[0, 1, 2, 3, 4, 5, 6, 7, 8, 9]\n",
      "[0, 1, 2, 3, 4, 5, 6, 7, 8, 9]\n"
     ]
    }
   ],
   "source": [
    "print(list(range(0,10,1)))\n",
    "print(list(range(0,10)))\n",
    "print(list(range(10)))"
   ]
  },
  {
   "cell_type": "code",
   "execution_count": 271,
   "id": "52d85829-9be3-4eb2-9efe-d567489d4362",
   "metadata": {},
   "outputs": [
    {
     "name": "stdout",
     "output_type": "stream",
     "text": [
      "[0, 5, 10, 15]\n",
      "[-10, -8, -6, -4, -2]\n",
      "[3, 0, -3, -6, -9]\n",
      "[]\n"
     ]
    }
   ],
   "source": [
    "print(list(range(0,20,5)))\n",
    "print(list(range(-10,0,2)))\n",
    "print(list(range(3,-10,-3)))\n",
    "print(list(range(0,-5,1)))\n"
   ]
  },
  {
   "cell_type": "code",
   "execution_count": 273,
   "id": "5b36c912-5e3f-4e13-a3f7-ddc74e184590",
   "metadata": {},
   "outputs": [
    {
     "name": "stdout",
     "output_type": "stream",
     "text": [
      "x y\n",
      "x1 y1\n",
      "x1 y2\n",
      "x2 y1\n",
      "x2 y2\n"
     ]
    }
   ],
   "source": [
    "x_list=['x1','x2']\n",
    "y_list=['y1','y2']\n",
    "print(\"x y\")\n",
    "for x in x_list:\n",
    "    for y in y_list:\n",
    "        print(x,y)"
   ]
  },
  {
   "cell_type": "code",
   "execution_count": 277,
   "id": "374beced-7fb5-4675-93eb-bf7b14542914",
   "metadata": {},
   "outputs": [
    {
     "name": "stdout",
     "output_type": "stream",
     "text": [
      "James 95\n",
      "Robert 96\n",
      "Lisa 97\n",
      "Mary 94\n"
     ]
    }
   ],
   "source": [
    "names = ['James','Robert','Lisa','Mary']\n",
    "scores = [95,96,97,94]\n",
    "\n",
    "for k in range(len(names)):\n",
    "    print(names[k],scores[k])"
   ]
  },
  {
   "cell_type": "code",
   "execution_count": 279,
   "id": "1280cb50-52fb-4bef-80bd-811bf48485cb",
   "metadata": {},
   "outputs": [
    {
     "name": "stdout",
     "output_type": "stream",
     "text": [
      "James 95\n",
      "Robert 96\n",
      "Lisa 97\n",
      "Mary 94\n"
     ]
    }
   ],
   "source": [
    "for name, score in zip(names, scores):\n",
    "    print(name, score)"
   ]
  },
  {
   "cell_type": "code",
   "execution_count": 281,
   "id": "2c78fcec-d7a0-4e3f-84be-5e765480370b",
   "metadata": {},
   "outputs": [
    {
     "name": "stdout",
     "output_type": "stream",
     "text": [
      "i sum\n",
      "1 1\n",
      "2 3\n",
      "3 6\n",
      "4 10\n",
      "5 15\n",
      "6 21\n"
     ]
    }
   ],
   "source": [
    "i=0\n",
    "sum=0\n",
    "print(\"i sum\")\n",
    "while (sum < 20):\n",
    "    i = i + 1 \n",
    "    sum = sum + i\n",
    "    print(i, sum)"
   ]
  },
  {
   "cell_type": "code",
   "execution_count": 283,
   "id": "a24138b4-4f90-4ae2-8bda-fdd970c02b0e",
   "metadata": {},
   "outputs": [
    {
     "name": "stdout",
     "output_type": "stream",
     "text": [
      "1\n",
      "2\n",
      "3\n"
     ]
    }
   ],
   "source": [
    "k = 0\n",
    "while True : \n",
    "    k = k +1 \n",
    "    if(k > 3 ) :\n",
    "        break\n",
    "    print(k)"
   ]
  },
  {
   "cell_type": "code",
   "execution_count": 285,
   "id": "0d6c915b-ec42-4f67-9e29-6f37a6c99122",
   "metadata": {},
   "outputs": [
    {
     "name": "stdout",
     "output_type": "stream",
     "text": [
      "0\n",
      "1\n",
      "2\n"
     ]
    }
   ],
   "source": [
    "for k in range(10):\n",
    "    if(k > 2):\n",
    "        break\n",
    "    print(k)"
   ]
  },
  {
   "cell_type": "code",
   "execution_count": 287,
   "id": "9efe0278-e4a6-4ce1-a9ae-fa3848789450",
   "metadata": {},
   "outputs": [
    {
     "name": "stdout",
     "output_type": "stream",
     "text": [
      "0\n",
      "1\n",
      "3\n",
      "4\n"
     ]
    }
   ],
   "source": [
    "for k in range(5):\n",
    "    if(k==2):\n",
    "        continue\n",
    "    print(k)"
   ]
  },
  {
   "cell_type": "code",
   "execution_count": 289,
   "id": "0988ccd3-c050-4207-8bb8-9fdf07e27eb0",
   "metadata": {},
   "outputs": [
    {
     "name": "stdout",
     "output_type": "stream",
     "text": [
      "1\n",
      "continue next\n",
      "3\n",
      "4\n"
     ]
    }
   ],
   "source": [
    "k = 0\n",
    "while True:\n",
    "    k = k+1\n",
    "    if(k==2):\n",
    "        print(\"continue next\")\n",
    "        continue\n",
    "    if(k>4):\n",
    "        break\n",
    "    print(k)\n",
    "    "
   ]
  },
  {
   "cell_type": "code",
   "execution_count": 291,
   "id": "72d5ceb5-0145-487e-b8f6-fd2d182bf724",
   "metadata": {},
   "outputs": [
    {
     "name": "stdout",
     "output_type": "stream",
     "text": [
      "[1, 4, 9, 16, 25]\n"
     ]
    }
   ],
   "source": [
    "numbers = [1,2,3,4,5]\n",
    "square = []\n",
    "\n",
    "for i in numbers : \n",
    "    square.append(i**2)\n",
    "print(square)\n"
   ]
  },
  {
   "cell_type": "code",
   "execution_count": 293,
   "id": "9acc09df-2630-4ab3-906f-e0ca9a03f0bb",
   "metadata": {},
   "outputs": [
    {
     "name": "stdout",
     "output_type": "stream",
     "text": [
      "[1, 4, 9, 16, 25]\n"
     ]
    }
   ],
   "source": [
    "numbers = [1,2,3,4,5]\n",
    "square = [i**2 for i in numbers]\n",
    "print(square)\n"
   ]
  },
  {
   "cell_type": "code",
   "execution_count": 299,
   "id": "59dc4cfa-9782-4b48-911d-61a2bbe13610",
   "metadata": {},
   "outputs": [
    {
     "name": "stdout",
     "output_type": "stream",
     "text": [
      "[9, 16, 25]\n"
     ]
    }
   ],
   "source": [
    "numbers = [1,2,3,4,5]\n",
    "square = []\n",
    "for i in numbers : \n",
    "    if i >= 3:\n",
    "        square.append(i**2)\n",
    "print(square)\n",
    "    "
   ]
  },
  {
   "cell_type": "code",
   "execution_count": 301,
   "id": "f142a1f9-b712-4ee2-a644-316de8ea19f2",
   "metadata": {},
   "outputs": [
    {
     "name": "stdout",
     "output_type": "stream",
     "text": [
      "[9, 16, 25]\n"
     ]
    }
   ],
   "source": [
    "numbers = [1,2,3,4,5]\n",
    "square = [i**2 for i in numbers if i >=3]\n",
    "print(square)"
   ]
  },
  {
   "cell_type": "code",
   "execution_count": 305,
   "id": "6773e6d8-c4b8-4985-a695-4e8e91a14f1e",
   "metadata": {},
   "outputs": [
    {
     "name": "stdout",
     "output_type": "stream",
     "text": [
      "Hello Python!!\n"
     ]
    }
   ],
   "source": [
    "print(\"Hello Python!!\")"
   ]
  },
  {
   "cell_type": "code",
   "execution_count": 307,
   "id": "491d7868-0197-4b24-991c-98b26ff3dc91",
   "metadata": {},
   "outputs": [
    {
     "name": "stdout",
     "output_type": "stream",
     "text": [
      "Best python book\n"
     ]
    }
   ],
   "source": [
    "print(\"Best\", \"python\",\"book\")"
   ]
  },
  {
   "cell_type": "code",
   "execution_count": 309,
   "id": "35c25d26-94a4-4d62-8cae-83bcd3db1921",
   "metadata": {},
   "outputs": [
    {
     "name": "stdout",
     "output_type": "stream",
     "text": [
      "Best-:*:-python-:*:-book\n"
     ]
    }
   ],
   "source": [
    "print(\"Best\",\"python\",\"book\", sep=\"-:*:-\")"
   ]
  },
  {
   "cell_type": "code",
   "execution_count": 311,
   "id": "7cf99c84-3dce-4438-b8cc-8e12e145255b",
   "metadata": {},
   "outputs": [
    {
     "name": "stdout",
     "output_type": "stream",
     "text": [
      "abcdefg\n"
     ]
    }
   ],
   "source": [
    "print(\"abcd\"+\"efg\")"
   ]
  },
  {
   "cell_type": "code",
   "execution_count": 313,
   "id": "6336b37b-c2e1-4cc0-8398-0428c18bdee7",
   "metadata": {},
   "outputs": [
    {
     "name": "stdout",
     "output_type": "stream",
     "text": [
      "Best python book: this book\n"
     ]
    }
   ],
   "source": [
    "print(\"Best\",\"python\",\"book\"+\":\",\"this book\")"
   ]
  },
  {
   "cell_type": "code",
   "execution_count": 315,
   "id": "1e1f4804-2079-4662-97da-80aa2e6f5204",
   "metadata": {},
   "outputs": [
    {
     "name": "stdout",
     "output_type": "stream",
     "text": [
      "10\n"
     ]
    }
   ],
   "source": [
    "x = 10\n",
    "print(x)"
   ]
  },
  {
   "cell_type": "code",
   "execution_count": 317,
   "id": "429d15b2-f410-415b-a561-b11338d645bf",
   "metadata": {},
   "outputs": [
    {
     "name": "stdout",
     "output_type": "stream",
     "text": [
      "Name: james, ID Number: 789\n"
     ]
    }
   ],
   "source": [
    "name = \"james\"\n",
    "ID_num = 789\n",
    "print(\"Name:\", name + \",\",\"ID Number:\", ID_num)"
   ]
  },
  {
   "cell_type": "code",
   "execution_count": 319,
   "id": "64d05650-fd18-424d-9c72-cddb254a9214",
   "metadata": {},
   "outputs": [
    {
     "name": "stdout",
     "output_type": "stream",
     "text": [
      "James is my friend. \n",
      "He is Korean.\n"
     ]
    }
   ],
   "source": [
    "print(\"James is my friend. \\nHe is Korean.\")"
   ]
  },
  {
   "cell_type": "code",
   "execution_count": 321,
   "id": "3a5f6602-83d2-4e42-a3b7-7c809da662f7",
   "metadata": {},
   "outputs": [
    {
     "name": "stdout",
     "output_type": "stream",
     "text": [
      "Welcome to \n"
     ]
    }
   ],
   "source": [
    "print(\"Welcome to \" )"
   ]
  },
  {
   "cell_type": "code",
   "execution_count": 323,
   "id": "c960a18e-98ca-40aa-b4b6-e4e427dba4c7",
   "metadata": {},
   "outputs": [
    {
     "name": "stdout",
     "output_type": "stream",
     "text": [
      "python\n"
     ]
    }
   ],
   "source": [
    "print(\"python\")"
   ]
  },
  {
   "cell_type": "code",
   "execution_count": 325,
   "id": "2ed8c77a-f036-4441-b3c3-aebedc63a8a3",
   "metadata": {},
   "outputs": [
    {
     "name": "stdout",
     "output_type": "stream",
     "text": [
      "Welcome to python\n"
     ]
    }
   ],
   "source": [
    "print(\"Welcome to \" , end = \"\")\n",
    "print(\"python\")"
   ]
  },
  {
   "cell_type": "code",
   "execution_count": 327,
   "id": "ea8dd339-3ae8-4641-864f-004d6573bf93",
   "metadata": {},
   "outputs": [
    {
     "name": "stdout",
     "output_type": "stream",
     "text": [
      "광재는 나의 친구입니다.\n"
     ]
    }
   ],
   "source": [
    "name = \"광재\"\n",
    "print(\"%s는 나의 친구입니다.\" % name)"
   ]
  },
  {
   "cell_type": "code",
   "execution_count": 329,
   "id": "7cfdb81f-bebf-46c4-930c-cd822b842313",
   "metadata": {},
   "outputs": [
    {
     "name": "stdout",
     "output_type": "stream",
     "text": [
      "반지름 : 3, 원주율: 3.141593\n"
     ]
    }
   ],
   "source": [
    "r = 3\n",
    "PI = 3.14159265358979\n",
    "print(\"반지름 : %d, 원주율: %f\" % (r, PI)) "
   ]
  },
  {
   "cell_type": "code",
   "execution_count": 331,
   "id": "8bcccfba-7527-4fa3-8ea6-75965aac9355",
   "metadata": {},
   "outputs": [
    {
     "name": "stdout",
     "output_type": "stream",
     "text": [
      "Animal: cat\n",
      "Animal: cat,dog,fox\n"
     ]
    }
   ],
   "source": [
    "animal_0 = \"cat\"\n",
    "animal_1 = \"dog\"\n",
    "animal_2 = \"fox\"\n",
    "print(\"Animal: {0}\".format(animal_0))\n",
    "print(\"Animal: {0},{1},{2}\".format(animal_0, animal_1, animal_2))"
   ]
  },
  {
   "cell_type": "code",
   "execution_count": 333,
   "id": "8330ae5d-26eb-4771-a8a5-92cb13b9b99b",
   "metadata": {},
   "outputs": [
    {
     "name": "stdout",
     "output_type": "stream",
     "text": [
      "Animal : dog,fox,cat\n"
     ]
    }
   ],
   "source": [
    "print(\"Animal : {1},{2},{0}\".format(animal_0, animal_1, animal_2))"
   ]
  },
  {
   "cell_type": "code",
   "execution_count": 335,
   "id": "ecb0b1cf-bafe-4012-a6de-7d8769922bf8",
   "metadata": {},
   "outputs": [
    {
     "name": "stdout",
     "output_type": "stream",
     "text": [
      "Animal: cat,fox\n"
     ]
    }
   ],
   "source": [
    "print(\"Animal: {0},{2}\".format(animal_0, animal_1, animal_2))"
   ]
  },
  {
   "cell_type": "code",
   "execution_count": 337,
   "id": "8bf8e16b-d8a9-456e-8347-b0263ba6872b",
   "metadata": {},
   "outputs": [
    {
     "name": "stdout",
     "output_type": "stream",
     "text": [
      "Animal:cat,dog,fox\n"
     ]
    }
   ],
   "source": [
    "print(\"Animal:{},{},{}\".format(animal_0, animal_1, animal_2))"
   ]
  },
  {
   "cell_type": "code",
   "execution_count": 339,
   "id": "31fad3ec-7bcb-43ef-b9a6-6c62aa6dce8d",
   "metadata": {},
   "outputs": [
    {
     "name": "stdout",
     "output_type": "stream",
     "text": [
      "String : Tomas. Integer Number:10.Floating Number:0.12345678901234568\n"
     ]
    }
   ],
   "source": [
    "name=\"Tomas\"\n",
    "age =10\n",
    "a = 0.1234567890123456789\n",
    "fmt_string = \"String : {0}. Integer Number:{1}.Floating Number:{2}\"\n",
    "print(fmt_string.format(name,age, a))"
   ]
  },
  {
   "cell_type": "code",
   "execution_count": 341,
   "id": "8fad5694-1c48-4873-b636-1c8cce9bc8e3",
   "metadata": {},
   "outputs": [
    {
     "name": "stdout",
     "output_type": "stream",
     "text": [
      "0.12,0.12346\n"
     ]
    }
   ],
   "source": [
    "a = 0.1234567890123456789\n",
    "print(\"{0:.2f},{0:.5f}\".format(a))"
   ]
  },
  {
   "cell_type": "code",
   "execution_count": 343,
   "id": "0e568bec-5c86-434a-a7c7-a2d765aa5a10",
   "metadata": {},
   "outputs": [
    {
     "name": "stdin",
     "output_type": "stream",
     "text": [
      "문자열 안녕하신가? \n"
     ]
    }
   ],
   "source": [
    "data = input(\"문자열\")"
   ]
  },
  {
   "cell_type": "code",
   "execution_count": 345,
   "id": "3d9f5385-76ac-4d3f-8fc7-04dd98d18933",
   "metadata": {},
   "outputs": [
    {
     "name": "stdin",
     "output_type": "stream",
     "text": [
      "당신의 이름은? 김요한\n"
     ]
    },
    {
     "name": "stdout",
     "output_type": "stream",
     "text": [
      "당신은 김요한이군요.\n"
     ]
    }
   ],
   "source": [
    "yourName = input(\"당신의 이름은?\")\n",
    "print(\"당신은 {}이군요.\".format(yourName))"
   ]
  },
  {
   "cell_type": "code",
   "execution_count": 347,
   "id": "5089bb79-8dc2-4cf2-8a2b-dae64bf8c066",
   "metadata": {},
   "outputs": [
    {
     "name": "stdin",
     "output_type": "stream",
     "text": [
      "숫자를 입력하세요 :  12\n"
     ]
    },
    {
     "name": "stdout",
     "output_type": "stream",
     "text": [
      "당신이 입력한 숫자는 12입니다.\n"
     ]
    }
   ],
   "source": [
    "num = input(\"숫자를 입력하세요 : \")\n",
    "print(\"당신이 입력한 숫자는 {}입니다.\".format(num))"
   ]
  },
  {
   "cell_type": "code",
   "execution_count": 349,
   "id": "1a77eaec-4429-4154-ab3d-cb62b1abe18c",
   "metadata": {},
   "outputs": [
    {
     "name": "stdin",
     "output_type": "stream",
     "text": [
      "정사각형 한변의 길이는?: 12\n"
     ]
    },
    {
     "name": "stdout",
     "output_type": "stream",
     "text": [
      "정사각형의 넓이 : 144\n"
     ]
    }
   ],
   "source": [
    "a = input(\"정사각형 한변의 길이는?:\")\n",
    "area = int(a)**2\n",
    "print(\"정사각형의 넓이 : {}\".format(area))"
   ]
  },
  {
   "cell_type": "code",
   "execution_count": 351,
   "id": "822d8e3c-97f3-44ce-a284-3ede2ec277e4",
   "metadata": {},
   "outputs": [
    {
     "name": "stdin",
     "output_type": "stream",
     "text": [
      "정사각형 한변의 길이는 ?: 12\n"
     ]
    },
    {
     "name": "stdout",
     "output_type": "stream",
     "text": [
      "정사각형의 넓이 : 144.0\n"
     ]
    }
   ],
   "source": [
    "b = input(\"정사각형 한변의 길이는 ?:\")\n",
    "area = float(b)**2\n",
    "print(\"정사각형의 넓이 : {}\".format(area))"
   ]
  },
  {
   "cell_type": "code",
   "execution_count": 353,
   "id": "818798b8-23b3-4485-97a1-9ab648e9765c",
   "metadata": {},
   "outputs": [
    {
     "name": "stdin",
     "output_type": "stream",
     "text": [
      "정사각형 한변의 길이는?: 3\n"
     ]
    },
    {
     "name": "stdout",
     "output_type": "stream",
     "text": [
      "정사각형의 넓이 : 9.0\n"
     ]
    }
   ],
   "source": [
    "c = input(\"정사각형 한변의 길이는?:\")\n",
    "area = float(c)**2\n",
    "print(\"정사각형의 넓이 : {}\".format(area))"
   ]
  },
  {
   "cell_type": "code",
   "execution_count": 359,
   "id": "ca5369fe-f348-460b-9578-83eed1070ef6",
   "metadata": {},
   "outputs": [],
   "source": [
    "\n",
    "f = open('myFile.txt','w')\n",
    "f.write('This is my first file.')\n",
    "f.close()"
   ]
  },
  {
   "cell_type": "code",
   "execution_count": 361,
   "id": "52477dba-086b-40b7-b2bf-ffa3955f666d",
   "metadata": {},
   "outputs": [
    {
     "name": "stdout",
     "output_type": "stream",
     "text": [
      "This is my first file.\n"
     ]
    }
   ],
   "source": [
    "!type myFile.txt"
   ]
  },
  {
   "cell_type": "code",
   "execution_count": 367,
   "id": "bf057db1-0366-4448-a0bf-904892f1a1e5",
   "metadata": {},
   "outputs": [
    {
     "name": "stdout",
     "output_type": "stream",
     "text": [
      "This is my first file.\n"
     ]
    }
   ],
   "source": [
    "f = open('myFile.txt','r') \n",
    "file_text = f.read()\n",
    "f.close()\n",
    "\n",
    "print(file_text)"
   ]
  },
  {
   "cell_type": "code",
   "execution_count": 369,
   "id": "109cf49b-143c-4598-92f5-64042df1a732",
   "metadata": {},
   "outputs": [],
   "source": [
    "f = open('two_times_table.txt','w')\n",
    "for num in range(1,6):\n",
    "    format_string = \"2 * {0} = {1}\\n\".format(num,2*num)\n",
    "    f.write(format_string)\n",
    "f.close()"
   ]
  },
  {
   "cell_type": "code",
   "execution_count": 371,
   "id": "56f0c285-3663-4b7d-af97-c5569691c47e",
   "metadata": {},
   "outputs": [
    {
     "name": "stdout",
     "output_type": "stream",
     "text": [
      "2 * 1 = 2\n",
      "2 * 2 = 4\n",
      "2 * 3 = 6\n",
      "2 * 4 = 8\n",
      "2 * 5 = 10\n"
     ]
    }
   ],
   "source": [
    "!type two_times_table.txt"
   ]
  },
  {
   "cell_type": "code",
   "execution_count": 373,
   "id": "a0fae223-1d0e-46ae-b0fd-b387b04a2e15",
   "metadata": {},
   "outputs": [
    {
     "name": "stdout",
     "output_type": "stream",
     "text": [
      "2 * 1 = 2\n",
      "2 * 2 = 4\n"
     ]
    }
   ],
   "source": [
    "f = open(\"two_times_table.txt\")\n",
    "line1 = f.readline()\n",
    "line2 = f.readline()\n",
    "f.close()\n",
    "print(line1, end=\"\")\n",
    "print(line2, end=\"\")\n"
   ]
  },
  {
   "cell_type": "code",
   "execution_count": 375,
   "id": "94b8d475-f6f9-476d-833a-4b80804bd50b",
   "metadata": {},
   "outputs": [
    {
     "name": "stdout",
     "output_type": "stream",
     "text": [
      "2 * 1 = 2\n",
      "2 * 2 = 4\n",
      "2 * 3 = 6\n",
      "2 * 4 = 8\n",
      "2 * 5 = 10\n"
     ]
    }
   ],
   "source": [
    "f = open(\"two_times_table.txt\")\n",
    "line = f.readline()\n",
    "while line : \n",
    "    print(line, end = \"\")\n",
    "    line = f.readline()\n",
    "f.close()"
   ]
  },
  {
   "cell_type": "code",
   "execution_count": 377,
   "id": "67147ef2-824a-43c0-aa0e-424afc7f1fcc",
   "metadata": {},
   "outputs": [
    {
     "name": "stdout",
     "output_type": "stream",
     "text": [
      "['2 * 1 = 2\\n', '2 * 2 = 4\\n', '2 * 3 = 6\\n', '2 * 4 = 8\\n', '2 * 5 = 10\\n']\n"
     ]
    }
   ],
   "source": [
    "f = open(\"two_times_table.txt\")\n",
    "lines = f.readlines()\n",
    "f.close()\n",
    "print(lines)"
   ]
  },
  {
   "cell_type": "code",
   "execution_count": 379,
   "id": "ab7badf8-4b29-42d3-ac2b-9858212b1b3a",
   "metadata": {},
   "outputs": [
    {
     "name": "stdout",
     "output_type": "stream",
     "text": [
      "['2 * 1 = 2\\n', '2 * 2 = 4\\n', '2 * 3 = 6\\n', '2 * 4 = 8\\n', '2 * 5 = 10\\n']\n"
     ]
    }
   ],
   "source": [
    "f = open(\"two_times_table.txt\")\n",
    "lines = f.readlines()\n",
    "f.close()\n",
    "print(lines)"
   ]
  },
  {
   "cell_type": "code",
   "execution_count": 381,
   "id": "2713d873-7ad7-4289-832a-4f6a713474ef",
   "metadata": {},
   "outputs": [
    {
     "name": "stdout",
     "output_type": "stream",
     "text": [
      "2 * 1 = 2\n",
      "2 * 2 = 4\n",
      "2 * 3 = 6\n",
      "2 * 4 = 8\n",
      "2 * 5 = 10\n"
     ]
    }
   ],
   "source": [
    "f = open(\"two_times_table.txt\")\n",
    "lines = f.readlines()\n",
    "f.close()\n",
    "for line in lines:\n",
    "    print(line, end=\"\")"
   ]
  },
  {
   "cell_type": "code",
   "execution_count": 383,
   "id": "ad8ddf06-a2b7-4a3f-a257-af3db5e29429",
   "metadata": {},
   "outputs": [
    {
     "name": "stdout",
     "output_type": "stream",
     "text": [
      "2 * 1 = 2\n",
      "2 * 2 = 4\n",
      "2 * 3 = 6\n",
      "2 * 4 = 8\n",
      "2 * 5 = 10\n"
     ]
    }
   ],
   "source": [
    "f = open(\"two_times_table.txt\")\n",
    "for line in f.readlines():\n",
    "    print(line, end=\"\")\n",
    "    f.close()"
   ]
  },
  {
   "cell_type": "code",
   "execution_count": 385,
   "id": "956c1d9e-8c88-4910-a779-4b2f781d6e74",
   "metadata": {},
   "outputs": [
    {
     "name": "stdout",
     "output_type": "stream",
     "text": [
      "2 * 1 = 2\n",
      "2 * 2 = 4\n",
      "2 * 3 = 6\n",
      "2 * 4 = 8\n",
      "2 * 5 = 10\n"
     ]
    }
   ],
   "source": [
    "f = open(\"two_times_table.txt\")\n",
    "for line in f:\n",
    "    print(line, end=\"\")\n",
    "f.close()\n"
   ]
  },
  {
   "cell_type": "code",
   "execution_count": 387,
   "id": "7f90aa82-f627-4d09-b82c-404e46a55064",
   "metadata": {},
   "outputs": [],
   "source": [
    "f = open('myTextFile.txt','w')\n",
    "f.write('File write/read test.')\n",
    "f.close()\n"
   ]
  },
  {
   "cell_type": "code",
   "execution_count": 389,
   "id": "ba1edb3d-450a-40c1-b789-cb6205f74ba9",
   "metadata": {},
   "outputs": [
    {
     "name": "stdout",
     "output_type": "stream",
     "text": [
      "File write/read test.\n"
     ]
    }
   ],
   "source": [
    "f = open('myTextFile.txt','r')\n",
    "test = f.read()\n",
    "f.close()\n",
    "print(test)"
   ]
  },
  {
   "cell_type": "code",
   "execution_count": 391,
   "id": "a23597e1-b980-4d41-a579-6c3bb605ddc6",
   "metadata": {},
   "outputs": [],
   "source": [
    "with open('C:/Users/user1/git/BOOK_PYTHON_DATA/myTextFile2.txt','w') as f:\n",
    "    f.write('File read/write test2: line1\\n')\n",
    "    f.write('File read/write test2: line2\\n')\n",
    "    f.write('File read/write test2: line3\\n')\n"
   ]
  },
  {
   "cell_type": "code",
   "execution_count": 393,
   "id": "f5a1b6cb-89ab-43cb-813f-6377456debfd",
   "metadata": {},
   "outputs": [
    {
     "name": "stdout",
     "output_type": "stream",
     "text": [
      "File read/write test2: line1\n",
      "File read/write test2: line2\n",
      "File read/write test2: line3\n",
      "\n"
     ]
    }
   ],
   "source": [
    "with open('C:/Users/user1/git/BOOK_PYTHON_DATA/myTextFile2.txt') as f:\n",
    "    file_string = f.read()\n",
    "    print(file_string)"
   ]
  },
  {
   "cell_type": "code",
   "execution_count": 395,
   "id": "d7f25151-4dc6-48cf-9947-45e98fd57cb0",
   "metadata": {},
   "outputs": [],
   "source": [
    "with open('C:/Users/user1/git/BOOK_PYTHON_DATA/myTextFile2.txt','w') as f:\n",
    "    for num in range(1,6):\n",
    "        format_string = \"3 * {0} = {1}\\n\".format(num,3*num)\n",
    "        f.write(format_string)\n",
    "        "
   ]
  },
  {
   "cell_type": "code",
   "execution_count": 397,
   "id": "04ac848a-abda-4fec-9884-b94a832e33ea",
   "metadata": {},
   "outputs": [
    {
     "name": "stdout",
     "output_type": "stream",
     "text": [
      "3 * 1 = 3\n",
      "3 * 2 = 6\n",
      "3 * 3 = 9\n",
      "3 * 4 = 12\n",
      "3 * 5 = 15\n"
     ]
    }
   ],
   "source": [
    "with open('C:/Users/user1/git/BOOK_PYTHON_DATA/myTextFile2.txt','r') as f:\n",
    "    for line in f:\n",
    "        print(line, end=\"\")"
   ]
  },
  {
   "cell_type": "code",
   "execution_count": 399,
   "id": "825447c7-454b-435f-8565-8e013bd1dfa5",
   "metadata": {},
   "outputs": [],
   "source": [
    "def my_func():\n",
    "    print(\"My first function!\")\n",
    "    print(\"This is a function.\")"
   ]
  },
  {
   "cell_type": "code",
   "execution_count": 401,
   "id": "4474359c-9324-4999-986e-bb11dab40a4b",
   "metadata": {},
   "outputs": [
    {
     "name": "stdout",
     "output_type": "stream",
     "text": [
      "My first function!\n",
      "This is a function.\n"
     ]
    }
   ],
   "source": [
    "my_func()"
   ]
  },
  {
   "cell_type": "code",
   "execution_count": 403,
   "id": "889f0f73-f82a-4f3e-9975-252bd7392e76",
   "metadata": {},
   "outputs": [],
   "source": [
    "def my_friend(friendName):\n",
    "    print(\"{}는 나의 친구입니다.\".format(friendName))"
   ]
  },
  {
   "cell_type": "code",
   "execution_count": 405,
   "id": "92bde5ee-dad0-4ea9-b0c5-8be9c60f3829",
   "metadata": {},
   "outputs": [
    {
     "name": "stdout",
     "output_type": "stream",
     "text": [
      "철수는 나의 친구입니다.\n",
      "영미는 나의 친구입니다.\n"
     ]
    }
   ],
   "source": [
    "my_friend(\"철수\")\n",
    "my_friend(\"영미\")"
   ]
  },
  {
   "cell_type": "code",
   "execution_count": 409,
   "id": "159c4077-789a-4173-87bc-e207af4a096e",
   "metadata": {},
   "outputs": [],
   "source": [
    "def my_student_info(name, school_ID, phoneNumber):\n",
    "    print(\"--------------------\")\n",
    "    print(\"-학생이름:\",name)\n",
    "    print(\"-학급번호:\", school_ID)\n",
    "    print(\"-전화번호:\", phoneNumber)"
   ]
  },
  {
   "cell_type": "code",
   "execution_count": 411,
   "id": "b458819b-81e7-462e-90dd-074c43a6f32e",
   "metadata": {},
   "outputs": [
    {
     "name": "stdout",
     "output_type": "stream",
     "text": [
      "--------------------\n",
      "-학생이름: 현아\n",
      "-학급번호: 01\n",
      "-전화번호: 01-235-6789\n",
      "--------------------\n",
      "-학생이름: 진수\n",
      "-학급번호: 02\n",
      "-전화번호: 01-987-6543\n"
     ]
    }
   ],
   "source": [
    "my_student_info(\"현아\",\"01\",\"01-235-6789\")\n",
    "my_student_info(\"진수\",\"02\",\"01-987-6543\")"
   ]
  },
  {
   "cell_type": "code",
   "execution_count": 413,
   "id": "c2e10c4c-6ae4-4234-b54f-6fad5cae7849",
   "metadata": {},
   "outputs": [],
   "source": [
    "def my_student_info(name, school_ID, phoneNumber):\n",
    "    print(\"****************\")\n",
    "    print(\"*학생이름:\",name)\n",
    "    print(\"*학급번호:\", school_ID)\n",
    "    print(\"*전화번호:\",phoneNumber)\n",
    "    "
   ]
  },
  {
   "cell_type": "code",
   "execution_count": 417,
   "id": "30875b95-3895-48fa-bbe9-076fe370fbc7",
   "metadata": {},
   "outputs": [
    {
     "name": "stdout",
     "output_type": "stream",
     "text": [
      "****************\n",
      "*학생이름: 현아\n",
      "*학급번호: 01\n",
      "*전화번호: 01-235-6789\n",
      "****************\n",
      "*학생이름: 진수\n",
      "*학급번호: 02\n",
      "*전화번호: 01-987-6543\n"
     ]
    }
   ],
   "source": [
    "my_student_info(\"현아\",\"01\",\"01-235-6789\")\n",
    "my_student_info(\"진수\",\"02\",\"01-987-6543\")"
   ]
  },
  {
   "cell_type": "code",
   "execution_count": 421,
   "id": "13d34bfe-2781-4307-b861-320ac7e9b98e",
   "metadata": {},
   "outputs": [],
   "source": [
    "def my_calc(x,y):\n",
    "    z = x*y\n",
    "    return z\n",
    "    "
   ]
  },
  {
   "cell_type": "code",
   "execution_count": 423,
   "id": "1470711e-e583-4131-878a-15508b1bd83c",
   "metadata": {},
   "outputs": [
    {
     "data": {
      "text/plain": [
       "12"
      ]
     },
     "execution_count": 423,
     "metadata": {},
     "output_type": "execute_result"
    }
   ],
   "source": [
    "my_calc(3,4)"
   ]
  },
  {
   "cell_type": "code",
   "execution_count": 437,
   "id": "b2fe6973-0d64-4322-91a1-8bf5653ca7f3",
   "metadata": {},
   "outputs": [],
   "source": [
    "def my_student_info_list(student_info):\n",
    "    print(\"**************\")\n",
    "    print(\"*학생이름:\",student_info[0])\n",
    "    print(\"*학급번호:\",student_info[1])\n",
    "    print(\"*전화번호:\",student_info[2])\n",
    "    print(\"**************\")\n",
    "    "
   ]
  },
  {
   "cell_type": "code",
   "execution_count": 439,
   "id": "de327f8a-bd3e-45df-9763-1d8178558da0",
   "metadata": {},
   "outputs": [
    {
     "name": "stdout",
     "output_type": "stream",
     "text": [
      "**************\n",
      "*학생이름: 현아\n",
      "*학급번호: 01\n",
      "*전화번호: 01-235-6789\n",
      "**************\n"
     ]
    }
   ],
   "source": [
    "student1_info = [\"현아\",\"01\",\"01-235-6789\"]\n",
    "my_student_info_list(student1_info)"
   ]
  },
  {
   "cell_type": "code",
   "execution_count": 441,
   "id": "a4789d2c-77c1-41cf-9ef7-8b2b7ec1d747",
   "metadata": {},
   "outputs": [
    {
     "name": "stdout",
     "output_type": "stream",
     "text": [
      "**************\n",
      "*학생이름: 진수\n",
      "*학급번호: 02\n",
      "*전화번호: 01-987-6543\n",
      "**************\n"
     ]
    }
   ],
   "source": [
    "my_student_info_list([\"진수\",\"02\",\"01-987-6543\"])"
   ]
  },
  {
   "cell_type": "code",
   "execution_count": 455,
   "id": "7123865c-36a5-4862-9c66-95861bafb51d",
   "metadata": {},
   "outputs": [],
   "source": [
    "a = 5\n",
    "def func1():\n",
    "    a = 1\n",
    "    print(\"[func1] 지역변수 a =\",a)"
   ]
  },
  {
   "cell_type": "code",
   "execution_count": 445,
   "id": "f83510fc-46e3-41c5-aee1-0ebe3dfc6907",
   "metadata": {},
   "outputs": [],
   "source": [
    "def func2():\n",
    "    a = 2\n",
    "    print(\"[func2] 지역변수 a= \",a)\n",
    "    "
   ]
  },
  {
   "cell_type": "code",
   "execution_count": 447,
   "id": "c3086518-b968-4fb4-a777-43bcccaa21cd",
   "metadata": {},
   "outputs": [],
   "source": [
    "def func3():\n",
    "    print(\"[func3] 전역변수 a = \", a)\n",
    "    "
   ]
  },
  {
   "cell_type": "code",
   "execution_count": 449,
   "id": "f5c762f1-9682-4984-bd21-38f6a9561296",
   "metadata": {},
   "outputs": [],
   "source": [
    "def func4():\n",
    "    global a \n",
    "    a = 4\n",
    "    print(\"[func4] 전역변수 a = \",a)\n",
    "    "
   ]
  },
  {
   "cell_type": "code",
   "execution_count": 457,
   "id": "4ece3d51-02ff-4458-b6b8-af49ff0b60b5",
   "metadata": {},
   "outputs": [
    {
     "name": "stdout",
     "output_type": "stream",
     "text": [
      "[func1] 지역변수 a = 1\n",
      "[func2] 지역변수 a=  2\n",
      "전역변수 a =  5\n"
     ]
    }
   ],
   "source": [
    "func1()\n",
    "func2()\n",
    "print(\"전역변수 a = \" , a)"
   ]
  },
  {
   "cell_type": "code",
   "execution_count": 459,
   "id": "fab3cea0-9686-4d18-956d-6a588422b701",
   "metadata": {},
   "outputs": [
    {
     "name": "stdout",
     "output_type": "stream",
     "text": [
      "[func3] 전역변수 a =  5\n",
      "[func4] 전역변수 a =  4\n",
      "[func3] 전역변수 a =  4\n"
     ]
    }
   ],
   "source": [
    "func3()\n",
    "func4()\n",
    "func3()"
   ]
  },
  {
   "cell_type": "code",
   "execution_count": 461,
   "id": "96cace6e-bec6-4b13-bf46-be113ba589aa",
   "metadata": {},
   "outputs": [
    {
     "data": {
      "text/plain": [
       "9"
      ]
     },
     "execution_count": 461,
     "metadata": {},
     "output_type": "execute_result"
    }
   ],
   "source": [
    "(lambda x : x**2) (3)"
   ]
  },
  {
   "cell_type": "code",
   "execution_count": 463,
   "id": "9900fcf7-c31e-4584-bd20-edd091d67c27",
   "metadata": {},
   "outputs": [
    {
     "data": {
      "text/plain": [
       "4"
      ]
     },
     "execution_count": 463,
     "metadata": {},
     "output_type": "execute_result"
    }
   ],
   "source": [
    "mySquare = lambda x  : x**2\n",
    "mySquare(2)"
   ]
  },
  {
   "cell_type": "code",
   "execution_count": 465,
   "id": "7ca70e01-27fc-43d5-a03f-16e20dd5d64f",
   "metadata": {},
   "outputs": [
    {
     "data": {
      "text/plain": [
       "25"
      ]
     },
     "execution_count": 465,
     "metadata": {},
     "output_type": "execute_result"
    }
   ],
   "source": [
    "mySquare(5)"
   ]
  },
  {
   "cell_type": "code",
   "execution_count": 467,
   "id": "dcff6887-3abf-4809-a786-c6cdc68886b9",
   "metadata": {},
   "outputs": [
    {
     "data": {
      "text/plain": [
       "11"
      ]
     },
     "execution_count": 467,
     "metadata": {},
     "output_type": "execute_result"
    }
   ],
   "source": [
    "mySimpleFunc = lambda x,y,z : 2*x + 3*y + z\n",
    "mySimpleFunc(1,2,3)"
   ]
  },
  {
   "cell_type": "code",
   "execution_count": 469,
   "id": "ccb83390-9bd1-47a3-a92e-2fe52836bba9",
   "metadata": {},
   "outputs": [
    {
     "data": {
      "text/plain": [
       "[0, 3, -1]"
      ]
     },
     "execution_count": 469,
     "metadata": {},
     "output_type": "execute_result"
    }
   ],
   "source": [
    "[int(0.123), int(3.5123456), int(-1.312367)]"
   ]
  },
  {
   "cell_type": "code",
   "execution_count": 471,
   "id": "6c3101d2-939c-4c1d-9a9c-e16b064e5e43",
   "metadata": {},
   "outputs": [
    {
     "data": {
      "text/plain": [
       "[123, 5678, -9012]"
      ]
     },
     "execution_count": 471,
     "metadata": {},
     "output_type": "execute_result"
    }
   ],
   "source": [
    "[int('123'), int('5678'),int('-9012')]"
   ]
  },
  {
   "cell_type": "code",
   "execution_count": 473,
   "id": "28802873-1305-429a-9260-87e6c619fcf3",
   "metadata": {},
   "outputs": [
    {
     "data": {
      "text/plain": [
       "[0.0, 123.0, -567.0]"
      ]
     },
     "execution_count": 473,
     "metadata": {},
     "output_type": "execute_result"
    }
   ],
   "source": [
    "[float(0), float(123), float(-567)]"
   ]
  },
  {
   "cell_type": "code",
   "execution_count": 475,
   "id": "c3d0cb0b-4135-496f-af87-67350a9ea873",
   "metadata": {},
   "outputs": [
    {
     "data": {
      "text/plain": [
       "[10.0, 0.123, -567.89]"
      ]
     },
     "execution_count": 475,
     "metadata": {},
     "output_type": "execute_result"
    }
   ],
   "source": [
    "[float('10'), float('0.123'),float('-567.89')]"
   ]
  },
  {
   "cell_type": "code",
   "execution_count": 477,
   "id": "7704da7d-6193-40fe-a146-13d3e2165558",
   "metadata": {},
   "outputs": [
    {
     "data": {
      "text/plain": [
       "['123', '459678', '-987']"
      ]
     },
     "execution_count": 477,
     "metadata": {},
     "output_type": "execute_result"
    }
   ],
   "source": [
    "[str(123),str(459678),str(-987)]"
   ]
  },
  {
   "cell_type": "code",
   "execution_count": 479,
   "id": "f8fe2e9e-66bb-40b8-b46e-08a9c4cc002b",
   "metadata": {},
   "outputs": [
    {
     "data": {
      "text/plain": [
       "['0.213', '345.678', '-5.987']"
      ]
     },
     "execution_count": 479,
     "metadata": {},
     "output_type": "execute_result"
    }
   ],
   "source": [
    "[str(0.213), str(345.678),str(-5.987)]"
   ]
  },
  {
   "cell_type": "code",
   "execution_count": 481,
   "id": "824d7721-0482-42dc-95ee-f35c9b7bd99e",
   "metadata": {},
   "outputs": [],
   "source": [
    "list_data = ['abc',1,2,'def']"
   ]
  },
  {
   "cell_type": "code",
   "execution_count": 485,
   "id": "87f61b0d-791e-4d5d-8cf0-e7f6bdceb64b",
   "metadata": {},
   "outputs": [],
   "source": [
    "tuple_data=('abc',1,2,'def')\n",
    "set_data = {'abc',1,2,'def'}\n"
   ]
  },
  {
   "cell_type": "code",
   "execution_count": 487,
   "id": "afa9fc7c-57c7-4a69-86cc-30aba64eac96",
   "metadata": {},
   "outputs": [
    {
     "data": {
      "text/plain": [
       "[list, tuple, set]"
      ]
     },
     "execution_count": 487,
     "metadata": {},
     "output_type": "execute_result"
    }
   ],
   "source": [
    "[type(list_data),type(tuple_data), type(set_data)]"
   ]
  },
  {
   "cell_type": "code",
   "execution_count": 489,
   "id": "640723eb-d9c9-4d9f-836e-b0b660d798b4",
   "metadata": {},
   "outputs": [
    {
     "name": "stdout",
     "output_type": "stream",
     "text": [
      "리스트 변환: ['abc', 1, 2, 'def'] ['def', 1, 2, 'abc']\n"
     ]
    }
   ],
   "source": [
    "print(\"리스트 변환:\" , list(tuple_data), list(set_data))"
   ]
  },
  {
   "cell_type": "code",
   "execution_count": 493,
   "id": "575c190b-2054-49f0-abe4-fd512f959879",
   "metadata": {},
   "outputs": [
    {
     "name": "stdout",
     "output_type": "stream",
     "text": [
      "튜플로 변환 : ('abc', 1, 2, 'def') ('def', 1, 2, 'abc')\n"
     ]
    }
   ],
   "source": [
    "print(\"튜플로 변환 :\", tuple(list_data), tuple(set_data))"
   ]
  },
  {
   "cell_type": "code",
   "execution_count": 495,
   "id": "2bcf1dfb-ed9b-4269-b6ab-d607e3b3d177",
   "metadata": {},
   "outputs": [
    {
     "name": "stdout",
     "output_type": "stream",
     "text": [
      "세트로 변환: {'def', 1, 2, 'abc'} {'def', 1, 2, 'abc'}\n"
     ]
    }
   ],
   "source": [
    "print(\"세트로 변환:\", set(list_data), set(tuple_data))"
   ]
  },
  {
   "cell_type": "code",
   "execution_count": 497,
   "id": "2a60839e-8ef5-4073-b253-8674bfb38a37",
   "metadata": {},
   "outputs": [
    {
     "data": {
      "text/plain": [
       "True"
      ]
     },
     "execution_count": 497,
     "metadata": {},
     "output_type": "execute_result"
    }
   ],
   "source": [
    "bool('a')"
   ]
  },
  {
   "cell_type": "code",
   "execution_count": 499,
   "id": "b1afdc8a-4faa-41be-a5cf-89e82afebc6e",
   "metadata": {},
   "outputs": [
    {
     "data": {
      "text/plain": [
       "False"
      ]
     },
     "execution_count": 499,
     "metadata": {},
     "output_type": "execute_result"
    }
   ],
   "source": [
    "bool('')"
   ]
  },
  {
   "cell_type": "code",
   "execution_count": 501,
   "id": "f3937d39-a848-4e0c-87a2-9b96c9f9c3df",
   "metadata": {},
   "outputs": [
    {
     "data": {
      "text/plain": [
       "False"
      ]
     },
     "execution_count": 501,
     "metadata": {},
     "output_type": "execute_result"
    }
   ],
   "source": [
    "bool(None)"
   ]
  },
  {
   "cell_type": "code",
   "execution_count": 503,
   "id": "1e4d8743-5bf1-4af0-a8c0-a6c9d797349f",
   "metadata": {},
   "outputs": [
    {
     "data": {
      "text/plain": [
       "True"
      ]
     },
     "execution_count": 503,
     "metadata": {},
     "output_type": "execute_result"
    }
   ],
   "source": [
    "bool(1)\n"
   ]
  },
  {
   "cell_type": "code",
   "execution_count": 505,
   "id": "bd1ab324-6efe-4f1c-af47-cbd693ecd300",
   "metadata": {},
   "outputs": [],
   "source": [
    "myFriends =[]"
   ]
  },
  {
   "cell_type": "code",
   "execution_count": 507,
   "id": "0852d26b-413c-4524-9f9b-1f40496a62be",
   "metadata": {},
   "outputs": [
    {
     "data": {
      "text/plain": [
       "False"
      ]
     },
     "execution_count": 507,
     "metadata": {},
     "output_type": "execute_result"
    }
   ],
   "source": [
    "bool(myFriends)"
   ]
  },
  {
   "cell_type": "code",
   "execution_count": 509,
   "id": "dccd62c3-d0e1-40b4-b3f5-5bf3d6ed591e",
   "metadata": {},
   "outputs": [
    {
     "data": {
      "text/plain": [
       "True"
      ]
     },
     "execution_count": 509,
     "metadata": {},
     "output_type": "execute_result"
    }
   ],
   "source": [
    "myFriends = ['James','Robert','Lisa','Mary']\n",
    "bool(myFriends)"
   ]
  },
  {
   "cell_type": "code",
   "execution_count": 511,
   "id": "2be0dab8-ea68-46d6-abff-5db5b1199915",
   "metadata": {},
   "outputs": [
    {
     "data": {
      "text/plain": [
       "False"
      ]
     },
     "execution_count": 511,
     "metadata": {},
     "output_type": "execute_result"
    }
   ],
   "source": [
    "myNum=()\n",
    "bool(myNum)"
   ]
  },
  {
   "cell_type": "code",
   "execution_count": 513,
   "id": "81e65c19-73d4-44ab-985f-efea0fa9aec9",
   "metadata": {},
   "outputs": [
    {
     "data": {
      "text/plain": [
       "True"
      ]
     },
     "execution_count": 513,
     "metadata": {},
     "output_type": "execute_result"
    }
   ],
   "source": [
    "myNum =(1,2,3)\n",
    "bool(myNum)"
   ]
  },
  {
   "cell_type": "code",
   "execution_count": 515,
   "id": "50913c61-360b-43ce-b3fa-6b23110b5432",
   "metadata": {},
   "outputs": [
    {
     "data": {
      "text/plain": [
       "False"
      ]
     },
     "execution_count": 515,
     "metadata": {},
     "output_type": "execute_result"
    }
   ],
   "source": [
    "mySetA ={}\n",
    "bool(mySetA)"
   ]
  },
  {
   "cell_type": "code",
   "execution_count": 517,
   "id": "2b7a01ed-ccb5-4546-9d89-90dee21ea3f6",
   "metadata": {},
   "outputs": [
    {
     "data": {
      "text/plain": [
       "True"
      ]
     },
     "execution_count": 517,
     "metadata": {},
     "output_type": "execute_result"
    }
   ],
   "source": [
    "mySetA = {10,20,30}\n",
    "bool(mySetA)"
   ]
  },
  {
   "cell_type": "code",
   "execution_count": 521,
   "id": "08130835-1c3b-4e79-a138-62f7a7122b37",
   "metadata": {},
   "outputs": [],
   "source": [
    "def print_name(name):\n",
    "    if bool(name):\n",
    "        print(\"입력된 이름 : \", name)\n",
    "    else : \n",
    "        print(\"입력된 이름이 없습니다.\")"
   ]
  },
  {
   "cell_type": "code",
   "execution_count": 523,
   "id": "b9767b27-0882-4c89-a7bd-b1727e61f1a9",
   "metadata": {},
   "outputs": [
    {
     "name": "stdout",
     "output_type": "stream",
     "text": [
      "입력된 이름 :  James\n"
     ]
    }
   ],
   "source": [
    "print_name(\"James\")"
   ]
  },
  {
   "cell_type": "code",
   "execution_count": 525,
   "id": "fab89105-73f8-4269-90f6-fab831952fb2",
   "metadata": {},
   "outputs": [
    {
     "name": "stdout",
     "output_type": "stream",
     "text": [
      "입력된 이름이 없습니다.\n"
     ]
    }
   ],
   "source": [
    "print_name(\"\")"
   ]
  },
  {
   "cell_type": "code",
   "execution_count": 529,
   "id": "40a34eec-995c-4020-bbee-17b3253b3cad",
   "metadata": {},
   "outputs": [],
   "source": [
    "myNum = [10,5,12,0,3.5,99.5,42]"
   ]
  },
  {
   "cell_type": "code",
   "execution_count": 531,
   "id": "2b89e0c5-e2d4-4faf-a76d-31d91ca4daef",
   "metadata": {},
   "outputs": [
    {
     "data": {
      "text/plain": [
       "[0, 99.5]"
      ]
     },
     "execution_count": 531,
     "metadata": {},
     "output_type": "execute_result"
    }
   ],
   "source": [
    "[min(myNum),max(myNum)]"
   ]
  },
  {
   "cell_type": "code",
   "execution_count": 533,
   "id": "7eccb42b-819d-436f-a2de-bf330e50d58f",
   "metadata": {},
   "outputs": [
    {
     "data": {
      "text/plain": [
       "['a', 'z']"
      ]
     },
     "execution_count": 533,
     "metadata": {},
     "output_type": "execute_result"
    }
   ],
   "source": [
    "myStr = 'zxyabc'\n",
    "[min(myStr),max(myStr)]"
   ]
  },
  {
   "cell_type": "code",
   "execution_count": 535,
   "id": "db453705-8f0b-4cf0-82b4-ad2d87b0de8d",
   "metadata": {},
   "outputs": [
    {
     "data": {
      "text/plain": [
       "[0, 99.5]"
      ]
     },
     "execution_count": 535,
     "metadata": {},
     "output_type": "execute_result"
    }
   ],
   "source": [
    "myNum = (10,5,12,0,3.5, 99.5,42)\n",
    "[min(myNum),max(myNum)]"
   ]
  },
  {
   "cell_type": "code",
   "execution_count": 537,
   "id": "2f96af03-37b1-429e-8956-7252d5a095ea",
   "metadata": {},
   "outputs": [
    {
     "data": {
      "text/plain": [
       "['Abc', 'efg']"
      ]
     },
     "execution_count": 537,
     "metadata": {},
     "output_type": "execute_result"
    }
   ],
   "source": [
    "myNum = {\"Abc\",\"abc\",\"bcd\",\"efg\"}\n",
    "[min(myNum), max(myNum)]"
   ]
  },
  {
   "cell_type": "code",
   "execution_count": 541,
   "id": "b8adfbb7-d9f3-4dd3-ad93-7a8069ed22f2",
   "metadata": {},
   "outputs": [
    {
     "data": {
      "text/plain": [
       "[10, 10]"
      ]
     },
     "execution_count": 541,
     "metadata": {},
     "output_type": "execute_result"
    }
   ],
   "source": [
    "[abs(10), abs(-10)]"
   ]
  },
  {
   "cell_type": "code",
   "execution_count": 543,
   "id": "401dad93-39d4-4c3b-af56-afe3932d6718",
   "metadata": {},
   "outputs": [
    {
     "data": {
      "text/plain": [
       "[2.45, 2.45]"
      ]
     },
     "execution_count": 543,
     "metadata": {},
     "output_type": "execute_result"
    }
   ],
   "source": [
    "[abs(2.45), abs(-2.45)]"
   ]
  },
  {
   "cell_type": "code",
   "execution_count": 551,
   "id": "ab16db9c-a840-40b0-9e4c-dff03baa2d75",
   "metadata": {},
   "outputs": [
    {
     "data": {
      "text/plain": [
       "55"
      ]
     },
     "execution_count": 551,
     "metadata": {},
     "output_type": "execute_result"
    }
   ],
   "source": [
    "del sum\n",
    "sumList = [1, 2, 3, 4, 5, 6, 7, 8, 9, 10]\n",
    "sum(sumList)"
   ]
  },
  {
   "cell_type": "code",
   "execution_count": 553,
   "id": "b628ae9b-fdf9-483f-a416-7bb296e0de7e",
   "metadata": {},
   "outputs": [
    {
     "data": {
      "text/plain": [
       "5"
      ]
     },
     "execution_count": 553,
     "metadata": {},
     "output_type": "execute_result"
    }
   ],
   "source": [
    "len(\"ab cd\")\n"
   ]
  },
  {
   "cell_type": "code",
   "execution_count": 555,
   "id": "9722299e-012a-4e37-a46a-3eed9d31b8e1",
   "metadata": {},
   "outputs": [
    {
     "data": {
      "text/plain": [
       "8"
      ]
     },
     "execution_count": 555,
     "metadata": {},
     "output_type": "execute_result"
    }
   ],
   "source": [
    "len([1,2,3,4,5,6,7,8])"
   ]
  },
  {
   "cell_type": "code",
   "execution_count": 557,
   "id": "1c2f58ca-b22d-4fc8-8ffc-29101b93a496",
   "metadata": {},
   "outputs": [
    {
     "data": {
      "text/plain": [
       "5"
      ]
     },
     "execution_count": 557,
     "metadata": {},
     "output_type": "execute_result"
    }
   ],
   "source": [
    "len((1,2,3,4,5))"
   ]
  },
  {
   "cell_type": "code",
   "execution_count": 559,
   "id": "3f7f72d2-85e8-4e43-9283-4c57526a84f7",
   "metadata": {},
   "outputs": [
    {
     "data": {
      "text/plain": [
       "4"
      ]
     },
     "execution_count": 559,
     "metadata": {},
     "output_type": "execute_result"
    }
   ],
   "source": [
    "len({'a','b','c','d'})"
   ]
  },
  {
   "cell_type": "code",
   "execution_count": 561,
   "id": "d0c2255c-9c81-42da-9f75-6549579be278",
   "metadata": {},
   "outputs": [
    {
     "data": {
      "text/plain": [
       "3"
      ]
     },
     "execution_count": 561,
     "metadata": {},
     "output_type": "execute_result"
    }
   ],
   "source": [
    "len({1:\"Thomas\",2:\"Edward\", 3:\"Henry\"})"
   ]
  },
  {
   "cell_type": "code",
   "execution_count": 563,
   "id": "ffcae512-ccc6-44b9-bb89-2b0d5ac433d9",
   "metadata": {},
   "outputs": [],
   "source": [
    "scores = [90,80,95,85]"
   ]
  },
  {
   "cell_type": "code",
   "execution_count": 565,
   "id": "7e1e2d53-f7aa-4ac9-abe7-2b528202c40a",
   "metadata": {},
   "outputs": [
    {
     "name": "stdout",
     "output_type": "stream",
     "text": [
      "총점 : 350, 평균:87.5\n"
     ]
    }
   ],
   "source": [
    "score_sum = 0\n",
    "subject_num = 0\n",
    "for score in scores:\n",
    "    score_sum = score_sum +score\n",
    "    subject_num = subject_num +1 \n",
    "average = score_sum / subject_num \n",
    "print(\"총점 : {0}, 평균:{1}\".format(score_sum, average))\n"
   ]
  },
  {
   "cell_type": "code",
   "execution_count": 571,
   "id": "3be15f94-72f6-46ff-9ac1-2af337b8fae5",
   "metadata": {},
   "outputs": [
    {
     "name": "stdout",
     "output_type": "stream",
     "text": [
      "총점 :350, 평균:87.5\n"
     ]
    }
   ],
   "source": [
    "scores = [90,80,95,85]\n",
    "print(\"총점 :{0}, 평균:{1}\".format(sum(scores), sum(scores)/len(scores)))"
   ]
  },
  {
   "cell_type": "code",
   "execution_count": 573,
   "id": "91c86fee-7c7e-4730-926e-47fca8d01027",
   "metadata": {},
   "outputs": [
    {
     "name": "stdout",
     "output_type": "stream",
     "text": [
      "최하 점스 : 80, 최고 점수 :95\n"
     ]
    }
   ],
   "source": [
    "print(\"최하 점스 : {0}, 최고 점수 :{1}\".format(min(scores), max(scores)))"
   ]
  },
  {
   "cell_type": "code",
   "execution_count": 36,
   "id": "3c0f6403-2fa5-4425-8a9b-371a2e88b8a6",
   "metadata": {},
   "outputs": [],
   "source": [
    "class Bicycle():\n",
    "    def __init__(self, wheel_size, color):\n",
    "        self.wheel_size = wheel_size\n",
    "        self.color = color\n",
    "        \n",
    "    def move(self, speed):\n",
    "        print(\"자전거: 시속 {0}킬로미터로 전진\".format(speed))\n",
    "\n",
    "    def turn(self, direction):\n",
    "        print(\"자전거 : {0}회전\".format(direction))\n",
    "\n",
    "    def stop(self):\n",
    "        print(\"자전거{0},{1}): 정지\".format(self.wheel_size, self.color))"
   ]
  },
  {
   "cell_type": "code",
   "execution_count": 4,
   "id": "78e55b09-c2db-4bcb-8194-cd3a6fe19e6b",
   "metadata": {},
   "outputs": [],
   "source": [
    "my_bicycle = Bicycle()"
   ]
  },
  {
   "cell_type": "code",
   "execution_count": 6,
   "id": "58ede02f-c107-456e-a059-7942b78cb350",
   "metadata": {},
   "outputs": [
    {
     "data": {
      "text/plain": [
       "<__main__.Bicycle at 0x28fe70e6d80>"
      ]
     },
     "execution_count": 6,
     "metadata": {},
     "output_type": "execute_result"
    }
   ],
   "source": [
    "my_bicycle"
   ]
  },
  {
   "cell_type": "code",
   "execution_count": 38,
   "id": "e9abff43-ea46-4973-970a-4e1d817849cc",
   "metadata": {},
   "outputs": [
    {
     "name": "stdout",
     "output_type": "stream",
     "text": [
      "자전거: 시속 30킬로미터로 전진\n",
      "자전거 : 좌회전\n",
      "자전거26,black): 정지\n"
     ]
    }
   ],
   "source": [
    "my_bicycle = Bicycle(26, 'black')\n",
    "\n",
    "my_bicycle.move(30)\n",
    "my_bicycle.turn('좌')\n",
    "my_bicycle.stop()\n"
   ]
  },
  {
   "cell_type": "code",
   "execution_count": 10,
   "id": "7b84202e-4038-4fcb-9836-d4a3aa3b2b72",
   "metadata": {},
   "outputs": [
    {
     "name": "stdout",
     "output_type": "stream",
     "text": [
      "바퀴 크기: 26\n",
      "색상: black\n"
     ]
    }
   ],
   "source": [
    "print(\"바퀴 크기:\", my_bicycle.wheel_size)\n",
    "print(\"색상:\", my_bicycle.color)"
   ]
  },
  {
   "cell_type": "code",
   "execution_count": 32,
   "id": "abe6737d-ca80-4e2f-b78a-52e39a454085",
   "metadata": {},
   "outputs": [
    {
     "name": "stdout",
     "output_type": "stream",
     "text": [
      "자전거: 시속 20킬로미터로 전진\n",
      "자전거 : 좌회전\n",
      "자전거27,red): 정지\n"
     ]
    }
   ],
   "source": [
    "bicycle1 = Bicycle()\n",
    "\n",
    "bicycle1.wheel_size = 27\n",
    "bicycle1.color = 'red'\n",
    "bicycle1.move(20)\n",
    "bicycle1.turn('좌')\n",
    "bicycle1.stop()"
   ]
  },
  {
   "cell_type": "code",
   "execution_count": 34,
   "id": "3fcac6e3-2baf-43f1-b146-b647ce23e4df",
   "metadata": {},
   "outputs": [
    {
     "name": "stdout",
     "output_type": "stream",
     "text": [
      "자전거: 시속 15킬로미터로 전진\n",
      "자전거 : 우회전\n",
      "자전거24,blue): 정지\n"
     ]
    }
   ],
   "source": [
    "bicycle2 = Bicycle()\n",
    "bicycle2.wheel_size = 24\n",
    "bicycle2.color = 'blue'\n",
    "bicycle2.move(15)\n",
    "bicycle2.turn('우')\n",
    "bicycle2.stop()"
   ]
  },
  {
   "cell_type": "code",
   "execution_count": 42,
   "id": "e962b0a4-07cb-46ae-899b-e5f68c6887ab",
   "metadata": {},
   "outputs": [],
   "source": [
    "class Car():\n",
    "    instance_count = 0 # 공통으로 사용\n",
    "    def __init__(self, size, color):\n",
    "        self.size = size\n",
    "        self.color = color\n",
    "        Car.instance_count = Car.instance_count +1\n",
    "        print(\"자동차 객체의 수 : {0}\".format(Car.instance_count))\n",
    "    def move(self):\n",
    "            print(\"자동차({0}&{1})가 움직입니다.\".format(self.size, self.color))"
   ]
  },
  {
   "cell_type": "code",
   "execution_count": 44,
   "id": "b9f3f2c0-5af7-4988-89a4-c538db2a07ed",
   "metadata": {},
   "outputs": [
    {
     "name": "stdout",
     "output_type": "stream",
     "text": [
      "자동차 객체의 수 : 1\n",
      "자동차 객체의 수 : 2\n"
     ]
    }
   ],
   "source": [
    "car1 = Car('smal','white')\n",
    "car2 = Car('big','black')"
   ]
  },
  {
   "cell_type": "code",
   "execution_count": 46,
   "id": "d04ab85a-94a0-4923-8f3f-b881e5721f85",
   "metadata": {},
   "outputs": [
    {
     "name": "stdout",
     "output_type": "stream",
     "text": [
      "Car 클래스의 총 인스턴스 개수 :2\n"
     ]
    }
   ],
   "source": [
    "print(\"Car 클래스의 총 인스턴스 개수 :{}\".format(Car.instance_count))"
   ]
  },
  {
   "cell_type": "code",
   "execution_count": 48,
   "id": "7a198029-fd21-4333-b1a9-9b5d0a1c06f5",
   "metadata": {},
   "outputs": [
    {
     "name": "stdout",
     "output_type": "stream",
     "text": [
      "Car 클래스의 총 인스턴스 개수:2\n",
      "Car 클래스의 총 인스턴스 개수 :2\n"
     ]
    }
   ],
   "source": [
    "print(\"Car 클래스의 총 인스턴스 개수:{}\".format(car1.instance_count))\n",
    "print(\"Car 클래스의 총 인스턴스 개수 :{}\".format(car2.instance_count))"
   ]
  },
  {
   "cell_type": "code",
   "execution_count": 50,
   "id": "0ec39717-66f2-41b9-bbfb-ead23039e0a4",
   "metadata": {},
   "outputs": [
    {
     "name": "stdout",
     "output_type": "stream",
     "text": [
      "자동차(smal&white)가 움직입니다.\n",
      "자동차(big&black)가 움직입니다.\n"
     ]
    }
   ],
   "source": [
    "car1.move()\n",
    "car2.move()"
   ]
  },
  {
   "cell_type": "code",
   "execution_count": 54,
   "id": "901d42b6-0da9-4e01-b493-809a117c7d98",
   "metadata": {},
   "outputs": [],
   "source": [
    "class Car2():\n",
    "    count = 0\n",
    "\n",
    "    def __init__(self, size, num):\n",
    "        self.size = size\n",
    "        self.count = num\n",
    "        Car2.count = Car2.count +1\n",
    "        print(\"자동차 객체의 수 : Car2.count ={0}\".format(Car2.count))\n",
    "        print(\"인스턴스 변수 초기화 : self.count = {0}\".format(self.count))\n",
    "\n",
    "    def move(self):\n",
    "        print(\"자동차({0} & {1}가 움직입니다.\".format(self.size, self.count))"
   ]
  },
  {
   "cell_type": "code",
   "execution_count": 56,
   "id": "f6dfd66c-0d1c-47cd-8110-4fe6884ce73b",
   "metadata": {},
   "outputs": [
    {
     "name": "stdout",
     "output_type": "stream",
     "text": [
      "자동차 객체의 수 : Car2.count =1\n",
      "인스턴스 변수 초기화 : self.count = 20\n",
      "자동차 객체의 수 : Car2.count =2\n",
      "인스턴스 변수 초기화 : self.count = 30\n"
     ]
    }
   ],
   "source": [
    "car1 = Car2(\"big\",20)\n",
    "car2 = Car2(\"small\",30)"
   ]
  },
  {
   "cell_type": "code",
   "execution_count": 58,
   "id": "5f02789d-26d9-4240-9734-c81113b59143",
   "metadata": {},
   "outputs": [],
   "source": [
    "# 인스턴스 메서드는 각 객체에서 개별적으로 동작하는 함수를 만들고자 할때 사용하는 함수\n",
    "class Car():\n",
    "    instance_count = 0\n",
    "    def __init__(self,size, color):\n",
    "        self.size =size\n",
    "        self.color = color\n",
    "        Car.instance_count = Car.instance_count +1 \n",
    "        print(\"자동차 객체의 수 :{0}\".format(Car.instance_count))\n",
    "    def move(self, speed):\n",
    "        self.speed = speed\n",
    "        print(\"자동차({0} & {1})가 \".format(self.size, self.color),end='')\n",
    "        print(\"시속 {0}킬로미터로 전진\".format(self.speed))\n",
    "    def auto_cruise(self):\n",
    "        print(\"자율 주행 모드\")\n",
    "        self.move(self.speed)"
   ]
  },
  {
   "cell_type": "code",
   "execution_count": 60,
   "id": "820dac37-17e0-40d5-881b-c2e2bf83431c",
   "metadata": {},
   "outputs": [
    {
     "name": "stdout",
     "output_type": "stream",
     "text": [
      "자동차 객체의 수 :1\n",
      "자동차 객체의 수 :2\n",
      "자동차(small & red)가 시속 80킬로미터로 전진\n",
      "자동차(big & green)가 시속 100킬로미터로 전진\n",
      "자율 주행 모드\n",
      "자동차(small & red)가 시속 80킬로미터로 전진\n",
      "자율 주행 모드\n",
      "자동차(big & green)가 시속 100킬로미터로 전진\n"
     ]
    }
   ],
   "source": [
    "car1 = Car(\"small\",\"red\")\n",
    "car2 = Car(\"big\",\"green\")\n",
    "car1.move(80)\n",
    "car2.move(100)\n",
    "car1.auto_cruise()\n",
    "car2.auto_cruise()"
   ]
  },
  {
   "cell_type": "code",
   "execution_count": 65,
   "id": "b7be876d-c1a2-47f8-87b4-ff043d59650a",
   "metadata": {},
   "outputs": [],
   "source": [
    "# 정적 메서드는 클래스와 관련이 있어서 클래스 안에 두기는 하지만 클래스나 클래스의 인스턴스(객체)와는 무관하게 독립적으로 동작하는 함수를 만들고 싶을 때 이용하는 함수입니다.\n",
    "# @staticmethod를 선언해 정적 메서드임을 표시합니다.\n",
    "class Car():\n",
    "    instance_count = 0\n",
    "    def __init__(self,size, color):\n",
    "        self.size =size\n",
    "        self.color = color\n",
    "        Car.instance_count = Car.instance_count +1 \n",
    "        print(\"자동차 객체의 수 :{0}\".format(Car.instance_count))\n",
    "        \n",
    "    def move(self, speed):\n",
    "        self.speed = speed\n",
    "        print(\"자동차({0} & {1})가 \".format(self.size, self.color),end='')\n",
    "        print(\"시속 {0}킬로미터로 전진\".format(self.speed))\n",
    "    def auto_cruise(self):\n",
    "        print(\"자율 주행 모드\")\n",
    "        self.move(self.speed)\n",
    "    @staticmethod\n",
    "    def check_type(model_code):\n",
    "        if(model_code >=20):\n",
    "            print(\"이 자동차는 전기차입니다.\")\n",
    "        elif(10<=model_code<20):\n",
    "            print(\"이 자동차는 가솔린차입니다.\")\n",
    "        else:\n",
    "            print(\"이 자동차는 디젤차입니다.\")\n",
    "            "
   ]
  },
  {
   "cell_type": "code",
   "execution_count": 67,
   "id": "558bb928-ed98-4466-978f-9cd91bb2b410",
   "metadata": {},
   "outputs": [
    {
     "name": "stdout",
     "output_type": "stream",
     "text": [
      "이 자동차는 전기차입니다.\n",
      "이 자동차는 디젤차입니다.\n"
     ]
    }
   ],
   "source": [
    "Car.check_type(25)\n",
    "Car.check_type(2)"
   ]
  },
  {
   "cell_type": "code",
   "execution_count": 69,
   "id": "5f671457-0856-406a-b93a-820bab0bc10d",
   "metadata": {},
   "outputs": [],
   "source": [
    "# 클래스 메서드는 클래스 변스를 사용하기 위한 함수 @classmethod를 지정해야함\n",
    "class Car():\n",
    "    instance_count = 0\n",
    "    def __init__(self,size, color):\n",
    "        self.size =size\n",
    "        self.color = color\n",
    "        Car.instance_count = Car.instance_count +1 \n",
    "       \n",
    "        \n",
    "    def move(self, speed):\n",
    "        self.speed = speed\n",
    "        print(\"자동차({0} & {1})가 \".format(self.size, self.color),end='')\n",
    "        print(\"시속 {0}킬로미터로 전진\".format(self.speed))\n",
    "    def auto_cruise(self):\n",
    "        print(\"자율 주행 모드\")\n",
    "        self.move(self.speed)\n",
    "    @staticmethod\n",
    "    def check_type(model_code):\n",
    "        if(model_code >=20):\n",
    "            print(\"이 자동차는 전기차입니다.\")\n",
    "        elif(10<=model_code<20):\n",
    "            print(\"이 자동차는 가솔린차입니다.\")\n",
    "        else:\n",
    "            print(\"이 자동차는 디젤차입니다.\")\n",
    "    @classmethod\n",
    "    def count_instance(cls):\n",
    "        print(\"자동차 객체의 개수 : {0}\".format(cls.instance_count))"
   ]
  },
  {
   "cell_type": "code",
   "execution_count": 71,
   "id": "81037e09-b56c-4292-b687-3d9d1a54a128",
   "metadata": {},
   "outputs": [
    {
     "name": "stdout",
     "output_type": "stream",
     "text": [
      "자동차 객체의 개수 : 0\n",
      "자동차 객체의 개수 : 1\n",
      "자동차 객체의 개수 : 2\n"
     ]
    }
   ],
   "source": [
    "Car.count_instance()\n",
    "\n",
    "car1 = Car(\"small:\",\"red\")\n",
    "Car.count_instance()\n",
    "car2 = Car(\"big\",\"green\")\n",
    "Car.count_instance()\n"
   ]
  },
  {
   "cell_type": "code",
   "execution_count": 79,
   "id": "d36c72b1-ad12-419f-8216-bcce0faf481d",
   "metadata": {},
   "outputs": [],
   "source": [
    "robot1_name = 'R1'\n",
    "robot1_pos = 0\n",
    "\n",
    "def robot1_move():\n",
    "    global robot_pos\n",
    "    robot_pos = robot_pos +1\n",
    "    print(\"{0} position:{1}\".format(robot_name, robot_pos))\n",
    "    \n",
    "robot2_name = 'R2'\n",
    "robot2_pos = 10\n",
    "\n",
    "def robot2_move():\n",
    "    global robot2_pos\n",
    "    robot2_pos = robot2_pos +1\n",
    "    print(\"{0} position: {1}\".format(robot2_name, robot2_pos))"
   ]
  },
  {
   "cell_type": "code",
   "execution_count": 81,
   "id": "6b541b93-eb7b-4b5d-9e64-d3e1225f09f1",
   "metadata": {},
   "outputs": [
    {
     "name": "stdout",
     "output_type": "stream",
     "text": [
      "R1 position:1\n",
      "R2 position: 11\n"
     ]
    }
   ],
   "source": [
    "robot1_move()\n",
    "robot2_move()"
   ]
  },
  {
   "cell_type": "code",
   "execution_count": 83,
   "id": "78a0433e-f0ef-48ba-a399-51749f553d57",
   "metadata": {},
   "outputs": [],
   "source": [
    "class Robot():\n",
    "    def __init__(self, name, pos):\n",
    "        self.name = name\n",
    "        self.pos = pos\n",
    "    def move(self):\n",
    "        self.pos = self.pos+1\n",
    "        print(\"{0} position:{1}\".format(self.name, self.pos))"
   ]
  },
  {
   "cell_type": "code",
   "execution_count": 85,
   "id": "86072c8c-a542-4736-aa59-6f6d0bcf0514",
   "metadata": {},
   "outputs": [],
   "source": [
    "robot1 = Robot('R1',0)\n",
    "robot2 = Robot('R2',10)\n"
   ]
  },
  {
   "cell_type": "code",
   "execution_count": 87,
   "id": "33c21356-7fbd-4bad-b035-cb3a0350ed51",
   "metadata": {},
   "outputs": [
    {
     "name": "stdout",
     "output_type": "stream",
     "text": [
      "R1 position:1\n",
      "R2 position:11\n"
     ]
    }
   ],
   "source": [
    "robot1.move()\n",
    "robot2.move()"
   ]
  },
  {
   "cell_type": "code",
   "execution_count": 89,
   "id": "0b30773e-0c18-4634-ab21-63ec2c24e1d0",
   "metadata": {},
   "outputs": [
    {
     "name": "stdout",
     "output_type": "stream",
     "text": [
      "R3 position:31\n",
      "R4 position:41\n"
     ]
    }
   ],
   "source": [
    "myRobot3 = Robot('R3',30)\n",
    "myRobot4 = Robot('R4',40)\n",
    "myRobot3.move()\n",
    "myRobot4.move()"
   ]
  },
  {
   "cell_type": "code",
   "execution_count": 91,
   "id": "369a646b-8c16-4685-b480-78203436ef87",
   "metadata": {},
   "outputs": [],
   "source": [
    "class Bicycle():\n",
    "    def __init__(self, wheel_size, color):\n",
    "        self.wheel_size = wheel_size\n",
    "        self.color = color\n",
    "    def move(self, speed):\n",
    "        print(\"자전거: 시속 {0}킬로미터로 전진\".format(speed))\n",
    "    def turn (self, direction):\n",
    "        print(\"자전거: {0}회전\".format(direction))\n",
    "    def stop(self):\n",
    "        print(\"자전거({0},{1}): 정지 \".format(self.wheel_size, self.color))\n",
    "        "
   ]
  },
  {
   "cell_type": "code",
   "execution_count": 97,
   "id": "151944d2-4944-4630-ad78-30c3f6ab16bc",
   "metadata": {},
   "outputs": [],
   "source": [
    "class FoldingBicycle(Bicycle):\n",
    "    def __init__(self, wheel_size, color, state):\n",
    "        Bicycle.__init__(self, wheel_size, color)\n",
    "        #super().__init__(wheel_size, color) # super()도 사용 가능\n",
    "        self.state = state\n",
    "    def fold(self):\n",
    "        self.state = 'folding'\n",
    "        print(\"자전거: 접기, state ={0}\".format(self.state))\n",
    "    def unfold(self):\n",
    "        self.state = 'unfolding'\n",
    "        print(\"자전거: 펴기, state = {0}\".format(self.state))"
   ]
  },
  {
   "cell_type": "code",
   "execution_count": 99,
   "id": "0a91f7bb-8092-476a-a5f8-c97a78da3cf2",
   "metadata": {},
   "outputs": [
    {
     "name": "stdout",
     "output_type": "stream",
     "text": [
      "자전거: 시속 20킬로미터로 전진\n",
      "자전거: 접기, state =folding\n",
      "자전거: 펴기, state = unfolding\n"
     ]
    }
   ],
   "source": [
    "folding_bicycle = FoldingBicycle(27, 'white','unfolding')\n",
    "folding_bicycle.move(20)\n",
    "folding_bicycle.fold()\n",
    "folding_bicycle.unfold()"
   ]
  },
  {
   "cell_type": "code",
   "execution_count": 101,
   "id": "df6c67cc-c91d-4680-837c-b1d801fcea34",
   "metadata": {},
   "outputs": [
    {
     "data": {
      "text/plain": [
       "['에스프레소', '아메리카노', '카페라떼', '카푸치노']"
      ]
     },
     "execution_count": 101,
     "metadata": {},
     "output_type": "execute_result"
    }
   ],
   "source": [
    "coffee_menu_str = \"에스프레소,아메리카노,카페라떼,카푸치노\"\n",
    "coffee_menu_str.split(',')"
   ]
  },
  {
   "cell_type": "code",
   "execution_count": 103,
   "id": "ae70e3bd-3139-4be6-b880-9d7834025b19",
   "metadata": {},
   "outputs": [
    {
     "data": {
      "text/plain": [
       "['에스프레소', '아메리카노', '카페라테', '카푸치노']"
      ]
     },
     "execution_count": 103,
     "metadata": {},
     "output_type": "execute_result"
    }
   ],
   "source": [
    "\"에스프레소,아메리카노,카페라테,카푸치노\".split(',')"
   ]
  },
  {
   "cell_type": "code",
   "execution_count": 105,
   "id": "95fea351-8eb9-463c-8a2e-653916416e2f",
   "metadata": {},
   "outputs": [
    {
     "data": {
      "text/plain": [
       "['에스프레소', '아메리카노', '카페라떼', '카푸치노']"
      ]
     },
     "execution_count": 105,
     "metadata": {},
     "output_type": "execute_result"
    }
   ],
   "source": [
    "\"에스프레소 아메리카노 카페라떼 카푸치노\".split(' ')"
   ]
  },
  {
   "cell_type": "code",
   "execution_count": 107,
   "id": "8fd62d03-0f64-48d7-b170-c49c7291d172",
   "metadata": {},
   "outputs": [
    {
     "data": {
      "text/plain": [
       "['에스프레소', '아메리카노', '카페라떼', '카푸치노']"
      ]
     },
     "execution_count": 107,
     "metadata": {},
     "output_type": "execute_result"
    }
   ],
   "source": [
    "\"에스프레소 아메리카노 카페라떼 카푸치노\".split()"
   ]
  },
  {
   "cell_type": "code",
   "execution_count": 109,
   "id": "b87fca0c-5d1a-4b1a-81b7-194b9b5f0a71",
   "metadata": {},
   "outputs": [
    {
     "data": {
      "text/plain": [
       "['에스프레소', '아메리카노', '카페라떼', '카푸치노']"
      ]
     },
     "execution_count": 109,
     "metadata": {},
     "output_type": "execute_result"
    }
   ],
   "source": [
    "\"  에스프레소 \\n\\n 아메리카노 \\n 카페라떼 카푸치노 \\n\\n\".split()"
   ]
  },
  {
   "cell_type": "code",
   "execution_count": 111,
   "id": "83b246b4-6497-4768-a4ae-796d48b95804",
   "metadata": {},
   "outputs": [
    {
     "data": {
      "text/plain": [
       "['에스프레소', '아메리카노', '카페라떼 카푸치노']"
      ]
     },
     "execution_count": 111,
     "metadata": {},
     "output_type": "execute_result"
    }
   ],
   "source": [
    "\"에스프레소 아메리카노 카페라떼 카푸치노\".split(maxsplit=2)"
   ]
  },
  {
   "cell_type": "code",
   "execution_count": 113,
   "id": "42ca36a0-d214-4146-89d0-e20b8f4a2432",
   "metadata": {},
   "outputs": [],
   "source": [
    "phone_number = \"+82-01-2345-6789\""
   ]
  },
  {
   "cell_type": "code",
   "execution_count": 115,
   "id": "f10e31e6-a20f-47d6-b870-cc3207369b88",
   "metadata": {},
   "outputs": [],
   "source": [
    "split_num = phone_number.split(\"-\",1)"
   ]
  },
  {
   "cell_type": "code",
   "execution_count": 117,
   "id": "aa468bdc-729d-45d5-a925-8bfe71859754",
   "metadata": {},
   "outputs": [
    {
     "name": "stdout",
     "output_type": "stream",
     "text": [
      "['+82', '01-2345-6789']\n",
      "국내전화번호: 01-2345-6789\n"
     ]
    }
   ],
   "source": [
    "print(split_num)\n",
    "print(\"국내전화번호: {0}\".format(split_num[1]))"
   ]
  },
  {
   "cell_type": "code",
   "execution_count": 119,
   "id": "e3195b5d-ce14-4bf1-9fbe-57aa24443dc9",
   "metadata": {},
   "outputs": [
    {
     "data": {
      "text/plain": [
       "'Python'"
      ]
     },
     "execution_count": 119,
     "metadata": {},
     "output_type": "execute_result"
    }
   ],
   "source": [
    "\"aaaaPythonaaaa\".strip('a')"
   ]
  },
  {
   "cell_type": "code",
   "execution_count": 121,
   "id": "16b7ca41-0d4c-4f42-b16a-6fbd507c755a",
   "metadata": {},
   "outputs": [
    {
     "data": {
      "text/plain": [
       "'bbPythonbbbb'"
      ]
     },
     "execution_count": 121,
     "metadata": {},
     "output_type": "execute_result"
    }
   ],
   "source": [
    "test_str =\"aaabbPythonbbbbaaa\"\n",
    "temp1 = test_str.strip('a')\n",
    "temp1"
   ]
  },
  {
   "cell_type": "code",
   "execution_count": 123,
   "id": "d563955f-1a1e-443f-86fc-6defec8ce3a2",
   "metadata": {},
   "outputs": [
    {
     "data": {
      "text/plain": [
       "'Python'"
      ]
     },
     "execution_count": 123,
     "metadata": {},
     "output_type": "execute_result"
    }
   ],
   "source": [
    "temp1.strip('b')"
   ]
  },
  {
   "cell_type": "code",
   "execution_count": 125,
   "id": "6ae9f98f-6f91-4a63-94ae-20409b6b30fe",
   "metadata": {},
   "outputs": [
    {
     "data": {
      "text/plain": [
       "'Python'"
      ]
     },
     "execution_count": 125,
     "metadata": {},
     "output_type": "execute_result"
    }
   ],
   "source": [
    "test_str.strip('ab')"
   ]
  },
  {
   "cell_type": "code",
   "execution_count": 127,
   "id": "8883f911-aeab-46ae-8baa-841e5119e277",
   "metadata": {},
   "outputs": [
    {
     "data": {
      "text/plain": [
       "'Python'"
      ]
     },
     "execution_count": 127,
     "metadata": {},
     "output_type": "execute_result"
    }
   ],
   "source": [
    "test_str.strip('ba')"
   ]
  },
  {
   "cell_type": "code",
   "execution_count": 144,
   "id": "4dceb1ed-a8e2-40bf-924c-47f1755c64a6",
   "metadata": {},
   "outputs": [
    {
     "data": {
      "text/plain": [
       "' Python is powerful..!!!...%%!#.. '"
      ]
     },
     "execution_count": 144,
     "metadata": {},
     "output_type": "execute_result"
    }
   ],
   "source": [
    "test_str_multi = \"##***!!!##.... Python is powerful..!!!...%%!#.. \"\n",
    "test_str_multi.strip('*.#!%')"
   ]
  },
  {
   "cell_type": "code",
   "execution_count": 146,
   "id": "1ec8685e-586f-4dc5-bb37-f3876a4d5115",
   "metadata": {},
   "outputs": [
    {
     "data": {
      "text/plain": [
       "' Python is powerful..!!!...%%!#.. '"
      ]
     },
     "execution_count": 146,
     "metadata": {},
     "output_type": "execute_result"
    }
   ],
   "source": [
    "test_str_multi.strip('%*!#.')"
   ]
  },
  {
   "cell_type": "code",
   "execution_count": 148,
   "id": "5805f701-4675-4364-b7ae-bea1a3731cef",
   "metadata": {},
   "outputs": [],
   "source": [
    "str_lr = \"000Python is easy to learn.000\""
   ]
  },
  {
   "cell_type": "code",
   "execution_count": 152,
   "id": "b35c0c02-154e-4916-a4d5-403699f56123",
   "metadata": {},
   "outputs": [
    {
     "name": "stdout",
     "output_type": "stream",
     "text": [
      "Python is easy to learn.\n",
      "Python is easy to learn.000\n",
      "000Python is easy to learn.\n"
     ]
    }
   ],
   "source": [
    "print(str_lr.strip('0'))\n",
    "print(str_lr.lstrip('0'))\n",
    "print(str_lr.rstrip('0'))"
   ]
  },
  {
   "cell_type": "code",
   "execution_count": 156,
   "id": "0c682e5d-ead3-41f7-84cf-5319e6021e62",
   "metadata": {},
   "outputs": [
    {
     "data": {
      "text/plain": [
       "[' 에스프레소', ' 아메리카노', ' 카페라테', '   카푸치노 ']"
      ]
     },
     "execution_count": 156,
     "metadata": {},
     "output_type": "execute_result"
    }
   ],
   "source": [
    "coffee_menu = \" 에스프레소, 아메리카노, 카페라테,   카푸치노 \"\n",
    "coffee_menu_list = coffee_menu.split(',')\n",
    "coffee_menu_list"
   ]
  },
  {
   "cell_type": "code",
   "execution_count": 158,
   "id": "a0c8caf1-ee3b-4207-a9ed-e55924b2702e",
   "metadata": {},
   "outputs": [
    {
     "name": "stdout",
     "output_type": "stream",
     "text": [
      "['에스프레소', '아메리카노', '카페라테', '카푸치노']\n"
     ]
    }
   ],
   "source": [
    "coffee_list = []\n",
    "for coffee in coffee_menu_list:\n",
    "    temp = coffee.strip()\n",
    "    coffee_list.append(temp)\n",
    "print(coffee_list)"
   ]
  },
  {
   "cell_type": "code",
   "execution_count": 160,
   "id": "7ab5af68-431c-4c48-b220-630f3c476265",
   "metadata": {},
   "outputs": [
    {
     "name": "stdout",
     "output_type": "stream",
     "text": [
      "철수님, 주소와 전화 번호를 입력해주세요\n",
      "영미님, 주소와 전화 번호를 입력해주세요\n"
     ]
    }
   ],
   "source": [
    "name1 =\"철수\"\n",
    "name2 = \"영미\"\n",
    "hello = \"님, 주소와 전화 번호를 입력해주세요\"\n",
    "print(name1 + hello)\n",
    "print(name2 + hello)"
   ]
  },
  {
   "cell_type": "code",
   "execution_count": null,
   "id": "adaef0c9-4744-4aab-b93a-7c9ad28af569",
   "metadata": {},
   "outputs": [],
   "source": [
    "address_list=[\"서울시\",\"서초구\",\"반포대로\",\"201(반포동)\"]\n",
    "addre"
   ]
  }
 ],
 "metadata": {
  "kernelspec": {
   "display_name": "Python [conda env:base] *",
   "language": "python",
   "name": "conda-base-py"
  },
  "language_info": {
   "codemirror_mode": {
    "name": "ipython",
    "version": 3
   },
   "file_extension": ".py",
   "mimetype": "text/x-python",
   "name": "python",
   "nbconvert_exporter": "python",
   "pygments_lexer": "ipython3",
   "version": "3.12.4"
  }
 },
 "nbformat": 4,
 "nbformat_minor": 5
}
