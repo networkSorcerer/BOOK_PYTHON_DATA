{
 "cells": [
  {
   "cell_type": "code",
   "execution_count": 1,
   "id": "e56e8e0a-40b9-47a9-af80-07ca3273725f",
   "metadata": {},
   "outputs": [
    {
     "name": "stdout",
     "output_type": "stream",
     "text": [
      "Hello Jupyter Notebook!\n"
     ]
    }
   ],
   "source": [
    "print('Hello Jupyter Notebook!')"
   ]
  },
  {
   "cell_type": "code",
   "execution_count": 3,
   "id": "ae60cde8-8b67-4975-9851-d276ef0156a6",
   "metadata": {},
   "outputs": [
    {
     "data": {
      "text/plain": [
       "2"
      ]
     },
     "execution_count": 3,
     "metadata": {},
     "output_type": "execute_result"
    }
   ],
   "source": [
    "1+1"
   ]
  },
  {
   "cell_type": "code",
   "execution_count": 5,
   "id": "f6a0c504-057c-49a3-b383-b52920f94442",
   "metadata": {},
   "outputs": [
    {
     "data": {
      "text/plain": [
       "1000000000000000.0"
      ]
     },
     "execution_count": 5,
     "metadata": {},
     "output_type": "execute_result"
    }
   ],
   "source": [
    "1e15"
   ]
  },
  {
   "cell_type": "code",
   "execution_count": 7,
   "id": "f642bb4f-0de2-4764-b16b-c5c9a81083a2",
   "metadata": {},
   "outputs": [
    {
     "data": {
      "text/plain": [
       "1e-05"
      ]
     },
     "execution_count": 7,
     "metadata": {},
     "output_type": "execute_result"
    }
   ],
   "source": [
    "1e-5"
   ]
  },
  {
   "cell_type": "code",
   "execution_count": 9,
   "id": "758c95c2-e33f-4dee-819b-af8acb9503d1",
   "metadata": {},
   "outputs": [
    {
     "data": {
      "text/plain": [
       "17"
      ]
     },
     "execution_count": 9,
     "metadata": {},
     "output_type": "execute_result"
    }
   ],
   "source": [
    "17"
   ]
  },
  {
   "cell_type": "code",
   "execution_count": 11,
   "id": "c4e47c75-54cf-41f6-9ed0-df453bbf3ffe",
   "metadata": {},
   "outputs": [
    {
     "data": {
      "text/plain": [
       "17"
      ]
     },
     "execution_count": 11,
     "metadata": {},
     "output_type": "execute_result"
    }
   ],
   "source": [
    "0b10001"
   ]
  },
  {
   "cell_type": "code",
   "execution_count": 13,
   "id": "e50ac2bf-9059-4d60-a04c-88a3a107bb76",
   "metadata": {},
   "outputs": [
    {
     "data": {
      "text/plain": [
       "17"
      ]
     },
     "execution_count": 13,
     "metadata": {},
     "output_type": "execute_result"
    }
   ],
   "source": [
    "0o21"
   ]
  },
  {
   "cell_type": "code",
   "execution_count": 15,
   "id": "3845c665-c749-43fe-9550-9f4c28f9a5fc",
   "metadata": {},
   "outputs": [
    {
     "data": {
      "text/plain": [
       "17"
      ]
     },
     "execution_count": 15,
     "metadata": {},
     "output_type": "execute_result"
    }
   ],
   "source": [
    "0x11"
   ]
  },
  {
   "cell_type": "code",
   "execution_count": 17,
   "id": "13642041-b842-458a-82a5-f1384f989712",
   "metadata": {},
   "outputs": [
    {
     "data": {
      "text/plain": [
       "'0b10001'"
      ]
     },
     "execution_count": 17,
     "metadata": {},
     "output_type": "execute_result"
    }
   ],
   "source": [
    "bin(17)"
   ]
  },
  {
   "cell_type": "code",
   "execution_count": 19,
   "id": "d892d43e-0006-4b59-937a-056bcd29bb0a",
   "metadata": {},
   "outputs": [
    {
     "data": {
      "text/plain": [
       "'0o21'"
      ]
     },
     "execution_count": 19,
     "metadata": {},
     "output_type": "execute_result"
    }
   ],
   "source": [
    "oct(17)"
   ]
  },
  {
   "cell_type": "code",
   "execution_count": 21,
   "id": "0a1c2639-d159-4b44-ab11-3fb46c24236e",
   "metadata": {},
   "outputs": [
    {
     "data": {
      "text/plain": [
       "'0x11'"
      ]
     },
     "execution_count": 21,
     "metadata": {},
     "output_type": "execute_result"
    }
   ],
   "source": [
    "hex(17)"
   ]
  },
  {
   "cell_type": "code",
   "execution_count": 23,
   "id": "662fb953-2bdd-4177-81f4-2cd24a9b1baf",
   "metadata": {},
   "outputs": [
    {
     "data": {
      "text/plain": [
       "22"
      ]
     },
     "execution_count": 23,
     "metadata": {},
     "output_type": "execute_result"
    }
   ],
   "source": [
    "0b10*0o10+0x10-10"
   ]
  },
  {
   "cell_type": "code",
   "execution_count": 27,
   "id": "481016e8-0123-4549-9b5e-a7db63ac1bbb",
   "metadata": {},
   "outputs": [
    {
     "data": {
      "text/plain": [
       "'0b10110'"
      ]
     },
     "execution_count": 27,
     "metadata": {},
     "output_type": "execute_result"
    }
   ],
   "source": [
    "bin(0b10*0o10+0x10-10)"
   ]
  },
  {
   "cell_type": "code",
   "execution_count": 29,
   "id": "75d75fa4-7a8c-4388-814b-98d05f8a0510",
   "metadata": {},
   "outputs": [
    {
     "data": {
      "text/plain": [
       "'0o26'"
      ]
     },
     "execution_count": 29,
     "metadata": {},
     "output_type": "execute_result"
    }
   ],
   "source": [
    "oct(0b10*0o10+0x10-10)"
   ]
  },
  {
   "cell_type": "code",
   "execution_count": 31,
   "id": "276fc45b-c9f1-487b-8d20-4edac0f6508c",
   "metadata": {},
   "outputs": [
    {
     "data": {
      "text/plain": [
       "'0x16'"
      ]
     },
     "execution_count": 31,
     "metadata": {},
     "output_type": "execute_result"
    }
   ],
   "source": [
    "hex(0b10*0o10+0x10-10)"
   ]
  },
  {
   "cell_type": "code",
   "execution_count": 33,
   "id": "0a1e495c-bf28-41da-9466-e10d032f8101",
   "metadata": {},
   "outputs": [
    {
     "name": "stdout",
     "output_type": "stream",
     "text": [
      "True\n"
     ]
    }
   ],
   "source": [
    "print(True)"
   ]
  },
  {
   "cell_type": "code",
   "execution_count": 35,
   "id": "b3b26251-d2f8-480a-adf6-092a84814df1",
   "metadata": {},
   "outputs": [
    {
     "data": {
      "text/plain": [
       "bool"
      ]
     },
     "execution_count": 35,
     "metadata": {},
     "output_type": "execute_result"
    }
   ],
   "source": [
    "type(True)"
   ]
  },
  {
   "cell_type": "code",
   "execution_count": 37,
   "id": "d2d0c797-ba27-430f-960c-dcb8b7372f5c",
   "metadata": {},
   "outputs": [
    {
     "name": "stdout",
     "output_type": "stream",
     "text": [
      "False\n"
     ]
    }
   ],
   "source": [
    "print(True and False)"
   ]
  },
  {
   "cell_type": "code",
   "execution_count": 39,
   "id": "9fe07222-6add-4416-91be-49201d2d4f60",
   "metadata": {},
   "outputs": [
    {
     "name": "stdout",
     "output_type": "stream",
     "text": [
      "True\n",
      "False\n"
     ]
    }
   ],
   "source": [
    "print(True or False)\n",
    "print(not True)"
   ]
  },
  {
   "cell_type": "code",
   "execution_count": 43,
   "id": "d7f2246f-9016-4591-8f63-94b8d46f20d9",
   "metadata": {},
   "outputs": [
    {
     "name": "stdout",
     "output_type": "stream",
     "text": [
      "False\n",
      "True\n",
      "False\n",
      "True\n",
      "False\n",
      "True\n"
     ]
    }
   ],
   "source": [
    "print(5 ==3)\n",
    "print(5!=3)\n",
    "print(5<3)\n",
    "print(5>3)\n",
    "print(5<=3)\n",
    "print(5>=3)"
   ]
  },
  {
   "cell_type": "code",
   "execution_count": 45,
   "id": "351bb3b2-712e-4b42-86e0-f63c6b674076",
   "metadata": {},
   "outputs": [
    {
     "name": "stdout",
     "output_type": "stream",
     "text": [
      "True\n"
     ]
    }
   ],
   "source": [
    "print(1>0 and -2 <0)"
   ]
  },
  {
   "cell_type": "code",
   "execution_count": 47,
   "id": "c075bdcc-a2c4-4196-a2e2-b36cc10e1994",
   "metadata": {},
   "outputs": [
    {
     "data": {
      "text/plain": [
       "6170.0"
      ]
     },
     "execution_count": 47,
     "metadata": {},
     "output_type": "execute_result"
    }
   ],
   "source": [
    "12340*1/2"
   ]
  },
  {
   "cell_type": "code",
   "execution_count": 49,
   "id": "e8a9ec94-72c9-4d73-b928-f09123ebbba7",
   "metadata": {},
   "outputs": [
    {
     "data": {
      "text/plain": [
       "3085.0"
      ]
     },
     "execution_count": 49,
     "metadata": {},
     "output_type": "execute_result"
    }
   ],
   "source": [
    "12340*1/4"
   ]
  },
  {
   "cell_type": "code",
   "execution_count": 51,
   "id": "2ca9f28a-991e-4355-b832-597a60e3b095",
   "metadata": {},
   "outputs": [
    {
     "data": {
      "text/plain": [
       "2468.0"
      ]
     },
     "execution_count": 51,
     "metadata": {},
     "output_type": "execute_result"
    }
   ],
   "source": [
    "12340*1/5"
   ]
  },
  {
   "cell_type": "code",
   "execution_count": 53,
   "id": "82127617-047b-49b4-88e2-ff93e6b63e78",
   "metadata": {},
   "outputs": [
    {
     "name": "stdout",
     "output_type": "stream",
     "text": [
      "12340\n"
     ]
    }
   ],
   "source": [
    "abc = 12340\n",
    "print(abc)"
   ]
  },
  {
   "cell_type": "code",
   "execution_count": 55,
   "id": "f888f298-75e7-4f74-bbc7-e1cf84d93756",
   "metadata": {},
   "outputs": [
    {
     "data": {
      "text/plain": [
       "12340"
      ]
     },
     "execution_count": 55,
     "metadata": {},
     "output_type": "execute_result"
    }
   ],
   "source": [
    "abc"
   ]
  },
  {
   "cell_type": "code",
   "execution_count": 57,
   "id": "39ef01c6-b118-4d5d-980c-7490ea56deef",
   "metadata": {},
   "outputs": [
    {
     "name": "stdout",
     "output_type": "stream",
     "text": [
      "6170.0\n"
     ]
    }
   ],
   "source": [
    "print(abc*1/2)"
   ]
  },
  {
   "cell_type": "code",
   "execution_count": 59,
   "id": "467a3eec-7551-445c-8467-5cdc3f0ba958",
   "metadata": {},
   "outputs": [
    {
     "name": "stdout",
     "output_type": "stream",
     "text": [
      "String Test\n"
     ]
    }
   ],
   "source": [
    "print(\"String Test\")"
   ]
  },
  {
   "cell_type": "code",
   "execution_count": 61,
   "id": "98347571-fc17-4b44-8388-57f11d7fec5b",
   "metadata": {},
   "outputs": [],
   "source": [
    "string1 = \"String Test 1\" "
   ]
  },
  {
   "cell_type": "code",
   "execution_count": 63,
   "id": "d48a3cf4-f77d-4fd9-a359-683ea3d67c70",
   "metadata": {},
   "outputs": [
    {
     "name": "stdout",
     "output_type": "stream",
     "text": [
      "String Test 1\n"
     ]
    }
   ],
   "source": [
    "print(string1)"
   ]
  },
  {
   "cell_type": "code",
   "execution_count": 65,
   "id": "7f7fd023-4607-49ae-806c-5cfc39ceaf14",
   "metadata": {},
   "outputs": [
    {
     "name": "stdout",
     "output_type": "stream",
     "text": [
      " String Test 2 \n"
     ]
    }
   ],
   "source": [
    "string2 =' String Test 2 '\n",
    "print(string2)"
   ]
  },
  {
   "cell_type": "code",
   "execution_count": 67,
   "id": "0a10def8-fe9e-4b64-9007-946e6efdd139",
   "metadata": {},
   "outputs": [
    {
     "data": {
      "text/plain": [
       "str"
      ]
     },
     "execution_count": 67,
     "metadata": {},
     "output_type": "execute_result"
    }
   ],
   "source": [
    "type(string1)"
   ]
  },
  {
   "cell_type": "code",
   "execution_count": 69,
   "id": "7cc03698-679e-426d-8f60-ca1bc4ce4b23",
   "metadata": {},
   "outputs": [
    {
     "name": "stdout",
     "output_type": "stream",
     "text": [
      "This is a \"double\" quotation test\n"
     ]
    }
   ],
   "source": [
    "string3 = 'This is a \"double\" quotation test'\n",
    "print(string3)"
   ]
  },
  {
   "cell_type": "code",
   "execution_count": 71,
   "id": "dda89f93-df01-4885-950e-ab913af32ad0",
   "metadata": {},
   "outputs": [
    {
     "name": "stdout",
     "output_type": "stream",
     "text": [
      "Enjoy python!\n"
     ]
    }
   ],
   "source": [
    "a = 'Enjoy '\n",
    "b = 'python!'\n",
    "c = a+b\n",
    "print(c)"
   ]
  },
  {
   "cell_type": "code",
   "execution_count": 73,
   "id": "7a57305c-0a87-4660-8dac-240f2af6c692",
   "metadata": {},
   "outputs": [
    {
     "name": "stdout",
     "output_type": "stream",
     "text": [
      "Enjoy Enjoy Enjoy \n"
     ]
    }
   ],
   "source": [
    "print(a *3)"
   ]
  },
  {
   "cell_type": "code",
   "execution_count": 75,
   "id": "408aa934-222a-454a-813e-cdd2c234e83c",
   "metadata": {},
   "outputs": [],
   "source": [
    "student = [90,95,85,80]"
   ]
  },
  {
   "cell_type": "code",
   "execution_count": 77,
   "id": "b5eff35f-8420-4f11-af17-78c08d9b6d09",
   "metadata": {},
   "outputs": [
    {
     "data": {
      "text/plain": [
       "[90, 95, 85, 80]"
      ]
     },
     "execution_count": 77,
     "metadata": {},
     "output_type": "execute_result"
    }
   ],
   "source": [
    "student"
   ]
  },
  {
   "cell_type": "code",
   "execution_count": 79,
   "id": "ba6ce0e0-4b83-4b65-9ef1-0af359a23425",
   "metadata": {},
   "outputs": [
    {
     "data": {
      "text/plain": [
       "list"
      ]
     },
     "execution_count": 79,
     "metadata": {},
     "output_type": "execute_result"
    }
   ],
   "source": [
    "type(student)"
   ]
  },
  {
   "cell_type": "code",
   "execution_count": 83,
   "id": "b07742b9-dd33-4a42-9dd7-870b5a01ef38",
   "metadata": {},
   "outputs": [
    {
     "data": {
      "text/plain": [
       "90"
      ]
     },
     "execution_count": 83,
     "metadata": {},
     "output_type": "execute_result"
    }
   ],
   "source": [
    "student[0]"
   ]
  },
  {
   "cell_type": "code",
   "execution_count": 85,
   "id": "f49340b4-8f54-4f1a-9db1-41c3712f915d",
   "metadata": {},
   "outputs": [
    {
     "data": {
      "text/plain": [
       "80"
      ]
     },
     "execution_count": 85,
     "metadata": {},
     "output_type": "execute_result"
    }
   ],
   "source": [
    "student[-1]"
   ]
  },
  {
   "cell_type": "code",
   "execution_count": 87,
   "id": "21860cdc-eee8-4eff-8646-23163732cd5f",
   "metadata": {},
   "outputs": [],
   "source": [
    "student[1] = 100"
   ]
  },
  {
   "cell_type": "code",
   "execution_count": 89,
   "id": "591cc8c0-7c8d-4aa8-a527-aa96cc6173d6",
   "metadata": {},
   "outputs": [
    {
     "data": {
      "text/plain": [
       "[90, 100, 85, 80]"
      ]
     },
     "execution_count": 89,
     "metadata": {},
     "output_type": "execute_result"
    }
   ],
   "source": [
    "student"
   ]
  },
  {
   "cell_type": "code",
   "execution_count": 91,
   "id": "7c60467c-3c9a-49cd-8021-d3141d08d0ac",
   "metadata": {},
   "outputs": [],
   "source": [
    "myFriends = ['Jamees',' Robert','Lisa','Mary']"
   ]
  },
  {
   "cell_type": "code",
   "execution_count": 93,
   "id": "f0637cdc-ad1f-4202-9ddd-5215c9442c28",
   "metadata": {},
   "outputs": [
    {
     "data": {
      "text/plain": [
       "['Jamees', ' Robert', 'Lisa', 'Mary']"
      ]
     },
     "execution_count": 93,
     "metadata": {},
     "output_type": "execute_result"
    }
   ],
   "source": [
    "myFriends"
   ]
  },
  {
   "cell_type": "code",
   "execution_count": 95,
   "id": "bf3a8ff2-4742-4e59-8ccb-14925b655f31",
   "metadata": {},
   "outputs": [
    {
     "data": {
      "text/plain": [
       "'Lisa'"
      ]
     },
     "execution_count": 95,
     "metadata": {},
     "output_type": "execute_result"
    }
   ],
   "source": [
    "myFriends[2]"
   ]
  },
  {
   "cell_type": "code",
   "execution_count": 97,
   "id": "b976434a-f10a-4d6f-9e27-46a7f55ab695",
   "metadata": {},
   "outputs": [
    {
     "data": {
      "text/plain": [
       "[0, 2, 3.14, 'python', 'program', True, ['Jamees', ' Robert', 'Lisa', 'Mary']]"
      ]
     },
     "execution_count": 97,
     "metadata": {},
     "output_type": "execute_result"
    }
   ],
   "source": [
    "mixedList = [0,2,3.14,'python','program',True, myFriends]\n",
    "mixedList"
   ]
  },
  {
   "cell_type": "code",
   "execution_count": 99,
   "id": "f73a0b9a-bab0-41f2-be38-f86b14029407",
   "metadata": {},
   "outputs": [],
   "source": [
    "list_con1 = [1,2,3,4]\n",
    "list_con2 = [5,6,7,8]\n",
    "list_con = list_con1 + list_con2"
   ]
  },
  {
   "cell_type": "code",
   "execution_count": 101,
   "id": "8f397d74-5016-4db7-bac2-4b2c07a680e9",
   "metadata": {},
   "outputs": [
    {
     "name": "stdout",
     "output_type": "stream",
     "text": [
      "[1, 2, 3, 4, 5, 6, 7, 8]\n"
     ]
    }
   ],
   "source": [
    "print(list_con)"
   ]
  },
  {
   "cell_type": "code",
   "execution_count": 105,
   "id": "3d78e824-5135-4a26-901e-2d9d0c9a12c0",
   "metadata": {},
   "outputs": [],
   "source": [
    "list_con = list_con*3"
   ]
  },
  {
   "cell_type": "code",
   "execution_count": 107,
   "id": "ead66394-aad7-4182-b912-560e0ffb8a9f",
   "metadata": {},
   "outputs": [
    {
     "name": "stdout",
     "output_type": "stream",
     "text": [
      "[1, 2, 3, 4, 5, 6, 7, 8, 1, 2, 3, 4, 5, 6, 7, 8, 1, 2, 3, 4, 5, 6, 7, 8]\n"
     ]
    }
   ],
   "source": [
    "print(list_con)"
   ]
  },
  {
   "cell_type": "code",
   "execution_count": 109,
   "id": "888c3708-7cc6-43df-bfbd-c5932a363627",
   "metadata": {},
   "outputs": [],
   "source": [
    "list_data = [0,1,2,3,4,5,6,7,8,9]"
   ]
  },
  {
   "cell_type": "code",
   "execution_count": 111,
   "id": "e72cd772-9ea8-4d7a-82f2-004c5bc80a30",
   "metadata": {},
   "outputs": [
    {
     "name": "stdout",
     "output_type": "stream",
     "text": [
      "[0, 1, 2, 3, 4, 5, 6, 7, 8, 9]\n"
     ]
    }
   ],
   "source": [
    "print(list_data)"
   ]
  },
  {
   "cell_type": "code",
   "execution_count": 113,
   "id": "f8792a7c-7560-48a7-885f-bbc816d0de94",
   "metadata": {},
   "outputs": [
    {
     "name": "stdout",
     "output_type": "stream",
     "text": [
      "[0, 1, 2]\n"
     ]
    }
   ],
   "source": [
    "print(list_data[0:3])"
   ]
  },
  {
   "cell_type": "code",
   "execution_count": 115,
   "id": "8592379a-0266-462a-aec2-257cdcceceea",
   "metadata": {},
   "outputs": [
    {
     "name": "stdout",
     "output_type": "stream",
     "text": [
      "[4, 5, 6, 7]\n"
     ]
    }
   ],
   "source": [
    "print(list_data[4:8])"
   ]
  },
  {
   "cell_type": "code",
   "execution_count": 117,
   "id": "a69ace11-9b2b-41c2-b7c8-6f6faf3a7ebf",
   "metadata": {},
   "outputs": [
    {
     "name": "stdout",
     "output_type": "stream",
     "text": [
      "[0, 1, 2]\n"
     ]
    }
   ],
   "source": [
    "print(list_data[:3])"
   ]
  },
  {
   "cell_type": "code",
   "execution_count": 121,
   "id": "0262dbba-3e47-4289-999c-ef9c4c4a7bdd",
   "metadata": {},
   "outputs": [
    {
     "name": "stdout",
     "output_type": "stream",
     "text": [
      "[7, 8, 9]\n"
     ]
    }
   ],
   "source": [
    "print(list_data[7:])"
   ]
  },
  {
   "cell_type": "raw",
   "id": "2c74f145-e40f-42a2-9360-475f8b60d03f",
   "metadata": {},
   "source": [
    "list_data = [0,1,2,3,4,5,6,7,8,9]"
   ]
  },
  {
   "cell_type": "code",
   "execution_count": 123,
   "id": "0cbd92f2-0859-4002-bc6b-322cf41df3de",
   "metadata": {},
   "outputs": [
    {
     "name": "stdout",
     "output_type": "stream",
     "text": [
      "[0, 1, 2, 3, 4, 5, 6, 7, 8, 9]\n"
     ]
    }
   ],
   "source": [
    "print(list_data)"
   ]
  },
  {
   "cell_type": "code",
   "execution_count": 125,
   "id": "cd110e5c-ec49-47c9-baf5-f131c17a3273",
   "metadata": {},
   "outputs": [],
   "source": [
    "del list_data[6]"
   ]
  },
  {
   "cell_type": "code",
   "execution_count": 127,
   "id": "31c2b35d-0b51-4a74-b77a-c8cf089f2b12",
   "metadata": {},
   "outputs": [
    {
     "name": "stdout",
     "output_type": "stream",
     "text": [
      "[0, 1, 2, 3, 4, 5, 7, 8, 9]\n"
     ]
    }
   ],
   "source": [
    "print(list_data)"
   ]
  },
  {
   "cell_type": "code",
   "execution_count": 129,
   "id": "0ce4c532-eb5b-4b85-9613-fd0b8787daed",
   "metadata": {},
   "outputs": [
    {
     "name": "stdout",
     "output_type": "stream",
     "text": [
      "True\n",
      "False\n"
     ]
    }
   ],
   "source": [
    "list_data1 = [1,2,3,4,5]\n",
    "print(5 in list_data1)\n",
    "print(6 in list_data1)"
   ]
  },
  {
   "cell_type": "code",
   "execution_count": 135,
   "id": "d1968818-0b4b-49a3-bb97-45ad55a7750d",
   "metadata": {},
   "outputs": [
    {
     "name": "stdout",
     "output_type": "stream",
     "text": [
      "['James', 'Robert', 'Lisa', 'Mary']\n"
     ]
    }
   ],
   "source": [
    "myFriends = ['James','Robert','Lisa','Mary']\n",
    "print(myFriends)"
   ]
  },
  {
   "cell_type": "code",
   "execution_count": 137,
   "id": "160ab62a-3ce4-4d14-8390-69d7c4df197e",
   "metadata": {},
   "outputs": [],
   "source": [
    "myFriends.append('Thomas')"
   ]
  },
  {
   "cell_type": "code",
   "execution_count": 139,
   "id": "53f09589-a101-424b-a2f2-2de401975ecc",
   "metadata": {},
   "outputs": [
    {
     "name": "stdout",
     "output_type": "stream",
     "text": [
      "['James', 'Robert', 'Lisa', 'Mary', 'Thomas']\n"
     ]
    }
   ],
   "source": [
    "print(myFriends)"
   ]
  },
  {
   "cell_type": "code",
   "execution_count": 141,
   "id": "4494cd55-6b59-4be1-9fbb-41ce634da36d",
   "metadata": {},
   "outputs": [
    {
     "name": "stdout",
     "output_type": "stream",
     "text": [
      "['James', 'Paul', 'Robert', 'Lisa', 'Mary', 'Thomas']\n"
     ]
    }
   ],
   "source": [
    "myFriends.insert(1,'Paul')\n",
    "print(myFriends)"
   ]
  },
  {
   "cell_type": "code",
   "execution_count": 145,
   "id": "7ab798c7-60e3-4cda-b58a-7025e963c4c4",
   "metadata": {},
   "outputs": [
    {
     "name": "stdout",
     "output_type": "stream",
     "text": [
      "['James', 'Paul', 'Robert', 'Lisa', 'Mary', 'Thomas', 'Laura', 'Betty']\n"
     ]
    }
   ],
   "source": [
    "myFriends.extend(['Laura','Betty'])\n",
    "print(myFriends)"
   ]
  },
  {
   "cell_type": "code",
   "execution_count": 147,
   "id": "301aca1a-b9d0-40f3-a4cd-f91c11416a07",
   "metadata": {},
   "outputs": [
    {
     "data": {
      "text/plain": [
       "tuple"
      ]
     },
     "execution_count": 147,
     "metadata": {},
     "output_type": "execute_result"
    }
   ],
   "source": [
    "tuple1 = (1,2,3,4)\n",
    "tuple"
   ]
  },
  {
   "cell_type": "code",
   "execution_count": 149,
   "id": "023133d3-62b2-4539-829e-ca46c871c453",
   "metadata": {},
   "outputs": [
    {
     "data": {
      "text/plain": [
       "(1, 2, 3, 4)"
      ]
     },
     "execution_count": 149,
     "metadata": {},
     "output_type": "execute_result"
    }
   ],
   "source": [
    "tuple1"
   ]
  },
  {
   "cell_type": "code",
   "execution_count": 153,
   "id": "70adc19b-1886-4b6b-9cae-f30e62ce6ebf",
   "metadata": {},
   "outputs": [
    {
     "data": {
      "text/plain": [
       "tuple"
      ]
     },
     "execution_count": 153,
     "metadata": {},
     "output_type": "execute_result"
    }
   ],
   "source": [
    "type(tuple1)"
   ]
  },
  {
   "cell_type": "code",
   "execution_count": 155,
   "id": "f3517d70-333c-4a72-b871-3d00dfdc9468",
   "metadata": {},
   "outputs": [
    {
     "data": {
      "text/plain": [
       "2"
      ]
     },
     "execution_count": 155,
     "metadata": {},
     "output_type": "execute_result"
    }
   ],
   "source": [
    "tuple1[1]"
   ]
  },
  {
   "cell_type": "code",
   "execution_count": 157,
   "id": "79fd6a7f-3e31-4d67-8f64-8a222b155613",
   "metadata": {},
   "outputs": [
    {
     "name": "stdout",
     "output_type": "stream",
     "text": [
      "(5, 6, 7, 8)\n"
     ]
    }
   ],
   "source": [
    "tuple2 = 5,6,7,8\n",
    "print(tuple2)"
   ]
  },
  {
   "cell_type": "code",
   "execution_count": 159,
   "id": "ced2655c-aac6-42a5-89ec-e4d884f58e60",
   "metadata": {},
   "outputs": [
    {
     "data": {
      "text/plain": [
       "tuple"
      ]
     },
     "execution_count": 159,
     "metadata": {},
     "output_type": "execute_result"
    }
   ],
   "source": [
    "type(tuple2)"
   ]
  },
  {
   "cell_type": "code",
   "execution_count": 161,
   "id": "c594ff90-c9cb-423d-b9df-be1874acc305",
   "metadata": {},
   "outputs": [
    {
     "name": "stdout",
     "output_type": "stream",
     "text": [
      "(9,)\n",
      "(10,)\n"
     ]
    }
   ],
   "source": [
    "tuple3 = (9,)\n",
    "tuple4 = 10,\n",
    "print(tuple3)\n",
    "print(tuple4)\n"
   ]
  },
  {
   "cell_type": "code",
   "execution_count": 163,
   "id": "a8cb3d5c-24da-4bd0-9684-defb594f8b54",
   "metadata": {},
   "outputs": [
    {
     "data": {
      "text/plain": [
       "2"
      ]
     },
     "execution_count": 163,
     "metadata": {},
     "output_type": "execute_result"
    }
   ],
   "source": [
    "tuple6=('a','b','c','d','e','f')\n",
    "tuple6.index('c')"
   ]
  },
  {
   "cell_type": "code",
   "execution_count": 165,
   "id": "fe4e0b6b-0c8e-4d8d-864d-1313e2160555",
   "metadata": {},
   "outputs": [
    {
     "data": {
      "text/plain": [
       "4"
      ]
     },
     "execution_count": 165,
     "metadata": {},
     "output_type": "execute_result"
    }
   ],
   "source": [
    "tuple7 = ('a','a','a','a','b','b','b','c','c','c')\n",
    "tuple7.count('a')"
   ]
  },
  {
   "cell_type": "code",
   "execution_count": 167,
   "id": "147bbc1c-9e48-40c6-a867-a46055d64f03",
   "metadata": {},
   "outputs": [
    {
     "name": "stdout",
     "output_type": "stream",
     "text": [
      "{1, 2, 3}\n",
      "{1, 2, 3}\n"
     ]
    }
   ],
   "source": [
    "set1 = {1,2,3}\n",
    "set1a = {1,2,3,3}\n",
    "print(set1)\n",
    "print(set1a)"
   ]
  },
  {
   "cell_type": "code",
   "execution_count": 169,
   "id": "8f61c2f5-d854-4bb7-a47f-2f6905092ffa",
   "metadata": {},
   "outputs": [
    {
     "data": {
      "text/plain": [
       "set"
      ]
     },
     "execution_count": 169,
     "metadata": {},
     "output_type": "execute_result"
    }
   ],
   "source": [
    "type(set1)"
   ]
  },
  {
   "cell_type": "code",
   "execution_count": 171,
   "id": "e518c34b-cbea-46aa-b533-768538a78ec2",
   "metadata": {},
   "outputs": [
    {
     "data": {
      "text/plain": [
       "{4, 5}"
      ]
     },
     "execution_count": 171,
     "metadata": {},
     "output_type": "execute_result"
    }
   ],
   "source": [
    "A = {1,2,3,4,5}\n",
    "B = {4,5,6,7,8,9,10}\n",
    "A.intersection(B)"
   ]
  },
  {
   "cell_type": "code",
   "execution_count": 173,
   "id": "877e08ab-c819-408d-ac5d-4f2f6bb0eaa5",
   "metadata": {},
   "outputs": [
    {
     "data": {
      "text/plain": [
       "{1, 2, 3, 4, 5, 6, 7, 8, 9, 10}"
      ]
     },
     "execution_count": 173,
     "metadata": {},
     "output_type": "execute_result"
    }
   ],
   "source": [
    "A.union(B)"
   ]
  },
  {
   "cell_type": "code",
   "execution_count": 175,
   "id": "37d9d2f0-ddbd-4648-867c-fb250226f52f",
   "metadata": {},
   "outputs": [
    {
     "data": {
      "text/plain": [
       "{1, 2, 3}"
      ]
     },
     "execution_count": 175,
     "metadata": {},
     "output_type": "execute_result"
    }
   ],
   "source": [
    "A.difference(B)"
   ]
  },
  {
   "cell_type": "code",
   "execution_count": 177,
   "id": "3476b371-9bed-4530-95c1-e525c0e08913",
   "metadata": {},
   "outputs": [
    {
     "data": {
      "text/plain": [
       "{4, 5}"
      ]
     },
     "execution_count": 177,
     "metadata": {},
     "output_type": "execute_result"
    }
   ],
   "source": [
    "A & B"
   ]
  },
  {
   "cell_type": "code",
   "execution_count": 179,
   "id": "ed71aced-e3a9-4b64-828a-a145d9fd9e94",
   "metadata": {},
   "outputs": [
    {
     "data": {
      "text/plain": [
       "{1, 2, 3, 4, 5, 6, 7, 8, 9, 10}"
      ]
     },
     "execution_count": 179,
     "metadata": {},
     "output_type": "execute_result"
    }
   ],
   "source": [
    "A | B"
   ]
  },
  {
   "cell_type": "code",
   "execution_count": 181,
   "id": "a6628a3a-533f-418f-b946-1002d9c4bee4",
   "metadata": {},
   "outputs": [
    {
     "data": {
      "text/plain": [
       "{1, 2, 3}"
      ]
     },
     "execution_count": 181,
     "metadata": {},
     "output_type": "execute_result"
    }
   ],
   "source": [
    "A -B "
   ]
  },
  {
   "cell_type": "code",
   "execution_count": 185,
   "id": "9db36cd7-2f8c-48de-90e6-43d8c9d15a47",
   "metadata": {},
   "outputs": [
    {
     "data": {
      "text/plain": [
       "list"
      ]
     },
     "execution_count": 185,
     "metadata": {},
     "output_type": "execute_result"
    }
   ],
   "source": [
    "a =[1,2,3,4,5]\n",
    "type(a)"
   ]
  },
  {
   "cell_type": "code",
   "execution_count": 187,
   "id": "cc489682-de52-4450-8d9c-808dec8d64b3",
   "metadata": {},
   "outputs": [
    {
     "data": {
      "text/plain": [
       "(1, 2, 3, 4, 5)"
      ]
     },
     "execution_count": 187,
     "metadata": {},
     "output_type": "execute_result"
    }
   ],
   "source": [
    "b= tuple(a)\n",
    "b"
   ]
  },
  {
   "cell_type": "code",
   "execution_count": 189,
   "id": "bc003709-a30a-4a43-86e6-08736f613d77",
   "metadata": {},
   "outputs": [
    {
     "data": {
      "text/plain": [
       "tuple"
      ]
     },
     "execution_count": 189,
     "metadata": {},
     "output_type": "execute_result"
    }
   ],
   "source": [
    "type(b)"
   ]
  },
  {
   "cell_type": "code",
   "execution_count": 191,
   "id": "38f1f0c9-63c5-47d3-9484-1e7b413e31d1",
   "metadata": {},
   "outputs": [
    {
     "data": {
      "text/plain": [
       "{1, 2, 3, 4, 5}"
      ]
     },
     "execution_count": 191,
     "metadata": {},
     "output_type": "execute_result"
    }
   ],
   "source": [
    "c = set(a)\n",
    "c"
   ]
  },
  {
   "cell_type": "code",
   "execution_count": 193,
   "id": "437358fa-ec4e-47c1-afe0-7b803f3dd587",
   "metadata": {},
   "outputs": [
    {
     "data": {
      "text/plain": [
       "set"
      ]
     },
     "execution_count": 193,
     "metadata": {},
     "output_type": "execute_result"
    }
   ],
   "source": [
    "type(c)"
   ]
  },
  {
   "cell_type": "code",
   "execution_count": 195,
   "id": "ed1416d5-f37f-4e3f-be60-fb29513e2726",
   "metadata": {},
   "outputs": [
    {
     "data": {
      "text/plain": [
       "[1, 2, 3, 4, 5]"
      ]
     },
     "execution_count": 195,
     "metadata": {},
     "output_type": "execute_result"
    }
   ],
   "source": [
    "list(b)"
   ]
  },
  {
   "cell_type": "code",
   "execution_count": 199,
   "id": "bb1eeeae-54d8-4c98-8a50-0c88b6556acc",
   "metadata": {},
   "outputs": [
    {
     "data": {
      "text/plain": [
       "{'영국': '런던', '프랑스': '파리', '스위스': '베른', '호주': '멜버른', '덴마크': '코펜하겐'}"
      ]
     },
     "execution_count": 199,
     "metadata": {},
     "output_type": "execute_result"
    }
   ],
   "source": [
    "country_capital = {\"영국\":\"런던\", \"프랑스\":\"파리\",\"스위스\":\"베른\",\"호주\":\"멜버른\",\"덴마크\":\"코펜하겐\"}\n",
    "country_capital"
   ]
  },
  {
   "cell_type": "code",
   "execution_count": 201,
   "id": "a0f4ec37-f853-4c29-b0a5-bba9117e8df5",
   "metadata": {},
   "outputs": [
    {
     "data": {
      "text/plain": [
       "dict"
      ]
     },
     "execution_count": 201,
     "metadata": {},
     "output_type": "execute_result"
    }
   ],
   "source": [
    "type(country_capital)"
   ]
  },
  {
   "cell_type": "code",
   "execution_count": 203,
   "id": "ac5e54af-53d7-490e-82fb-4fb028aa14cd",
   "metadata": {},
   "outputs": [
    {
     "data": {
      "text/plain": [
       "'런던'"
      ]
     },
     "execution_count": 203,
     "metadata": {},
     "output_type": "execute_result"
    }
   ],
   "source": [
    "country_capital[\"영국\"]"
   ]
  },
  {
   "cell_type": "code",
   "execution_count": 207,
   "id": "f523fb90-6cd3-4ca0-962e-a4c02e1e94ba",
   "metadata": {},
   "outputs": [
    {
     "data": {
      "text/plain": [
       "{1: '버스', 3: '비행기', 4: '택시', 5: '자전거'}"
      ]
     },
     "execution_count": 207,
     "metadata": {},
     "output_type": "execute_result"
    }
   ],
   "source": [
    "dict_data1 = {1:\"버스\",3:\"비행기\",4:\"택시\",5:\"자전거\"}\n",
    "dict_data1"
   ]
  },
  {
   "cell_type": "code",
   "execution_count": 209,
   "id": "d366a55b-9c6c-440d-a866-afacd00eb7d7",
   "metadata": {},
   "outputs": [
    {
     "data": {
      "text/plain": [
       "'비행기'"
      ]
     },
     "execution_count": 209,
     "metadata": {},
     "output_type": "execute_result"
    }
   ],
   "source": [
    "dict_data1[3]"
   ]
  },
  {
   "cell_type": "code",
   "execution_count": 211,
   "id": "f2c7e025-88b5-4b97-bfab-b76444197aaf",
   "metadata": {},
   "outputs": [
    {
     "name": "stdout",
     "output_type": "stream",
     "text": [
      "{1: 10, 2: 20, 3: 30, 4: 40, 5: 50}\n",
      "40\n"
     ]
    }
   ],
   "source": [
    "dict_data2 = {1:10, 2:20, 3:30, 4:40, 5:50}\n",
    "print(dict_data2)\n",
    "print(dict_data2[4])"
   ]
  },
  {
   "cell_type": "code",
   "execution_count": 215,
   "id": "ca241e83-673d-45f0-9c2d-30191e8bc1d9",
   "metadata": {},
   "outputs": [
    {
     "name": "stdout",
     "output_type": "stream",
     "text": [
      "{'list_data1': [11, 12, 13], 'list_data2': [21, 22, 23]}\n",
      "[21, 22, 23]\n"
     ]
    }
   ],
   "source": [
    "dict_data3 = {\"list_data1\":[11,12,13],\"list_data2\":[21,22,23]}\n",
    "print(dict_data3)\n",
    "print(dict_data3[\"list_data2\"])"
   ]
  },
  {
   "cell_type": "code",
   "execution_count": 217,
   "id": "d822de85-2798-483d-b15c-08b27c7414d9",
   "metadata": {},
   "outputs": [
    {
     "data": {
      "text/plain": [
       "{1: 10,\n",
       " 'dict_num': {1: 10, 2: 20},\n",
       " 'dict_list_tuple': {'A': [11, 12, 13], 'B': (21, 22, 23)},\n",
       " 'dict_string': '이것은 책입니다.'}"
      ]
     },
     "execution_count": 217,
     "metadata": {},
     "output_type": "execute_result"
    }
   ],
   "source": [
    "mixed_dict = {1:10, 'dict_num':{1:10,2:20},\"dict_list_tuple\":{\"A\":[11,12,13],\"B\":(21,22,23)}, \"dict_string\":\"이것은 책입니다.\"}\n",
    "mixed_dict"
   ]
  },
  {
   "cell_type": "code",
   "execution_count": 219,
   "id": "24400efe-cf02-41f4-b618-55b6f9dba246",
   "metadata": {},
   "outputs": [
    {
     "data": {
      "text/plain": [
       "{'영국': '런던', '프랑스': '파리', '스위스': '베른', '호주': '멜버른', '덴마크': '코펜하겐', '독일': '베를린'}"
      ]
     },
     "execution_count": 219,
     "metadata": {},
     "output_type": "execute_result"
    }
   ],
   "source": [
    "country_capital[\"독일\"]=\"베를린\"\n",
    "country_capital"
   ]
  },
  {
   "cell_type": "code",
   "execution_count": 221,
   "id": "4b6b85d9-ddcd-413a-a70f-e9e868e0c6a0",
   "metadata": {},
   "outputs": [
    {
     "data": {
      "text/plain": [
       "{'영국': '런던', '프랑스': '파리', '스위스': '베른', '호주': '캔버라', '덴마크': '코펜하겐', '독일': '베를린'}"
      ]
     },
     "execution_count": 221,
     "metadata": {},
     "output_type": "execute_result"
    }
   ],
   "source": [
    "country_capital[\"호주\"]=\"캔버라\"\n",
    "country_capital"
   ]
  },
  {
   "cell_type": "code",
   "execution_count": 223,
   "id": "edf2d20e-9422-4dc5-aad5-67d56d37dab3",
   "metadata": {},
   "outputs": [
    {
     "data": {
      "text/plain": [
       "{'영국': '런던', '프랑스': '파리', '스위스': '베른', '호주': '캔버라', '독일': '베를린'}"
      ]
     },
     "execution_count": 223,
     "metadata": {},
     "output_type": "execute_result"
    }
   ],
   "source": [
    "del country_capital[\"덴마크\"]\n",
    "country_capital"
   ]
  },
  {
   "cell_type": "code",
   "execution_count": 225,
   "id": "433fad06-736d-4159-b359-b797b8777791",
   "metadata": {},
   "outputs": [
    {
     "name": "stdout",
     "output_type": "stream",
     "text": [
      "dict_keys(['사과', '배', '딸기', '포도', '바나나'])\n"
     ]
    }
   ],
   "source": [
    "fruit_code = {\"사과\":101, \"배\":102,\"딸기\":103,\"포도\":104,\"바나나\":105}\n",
    "print(fruit_code.keys())"
   ]
  },
  {
   "cell_type": "code",
   "execution_count": 227,
   "id": "01906f99-a97e-483e-ad37-8b478a6d1e52",
   "metadata": {},
   "outputs": [
    {
     "name": "stdout",
     "output_type": "stream",
     "text": [
      "dict_values([101, 102, 103, 104, 105])\n"
     ]
    }
   ],
   "source": [
    "print(fruit_code.values())"
   ]
  },
  {
   "cell_type": "code",
   "execution_count": 229,
   "id": "585db42d-db19-49f5-9900-4a53dffd0ade",
   "metadata": {},
   "outputs": [
    {
     "name": "stdout",
     "output_type": "stream",
     "text": [
      "dict_items([('사과', 101), ('배', 102), ('딸기', 103), ('포도', 104), ('바나나', 105)])\n"
     ]
    }
   ],
   "source": [
    "print(fruit_code.items())"
   ]
  },
  {
   "cell_type": "code",
   "execution_count": 231,
   "id": "923a07c2-0afa-422b-8cd1-9ce1666fec9a",
   "metadata": {},
   "outputs": [
    {
     "data": {
      "text/plain": [
       "['사과', '배', '딸기', '포도', '바나나']"
      ]
     },
     "execution_count": 231,
     "metadata": {},
     "output_type": "execute_result"
    }
   ],
   "source": [
    "list(fruit_code.keys())"
   ]
  },
  {
   "cell_type": "code",
   "execution_count": 233,
   "id": "4a1d1a7a-8606-4123-b285-1dc004be0ddf",
   "metadata": {},
   "outputs": [
    {
     "data": {
      "text/plain": [
       "[101, 102, 103, 104, 105]"
      ]
     },
     "execution_count": 233,
     "metadata": {},
     "output_type": "execute_result"
    }
   ],
   "source": [
    "list(fruit_code.values())"
   ]
  },
  {
   "cell_type": "code",
   "execution_count": 235,
   "id": "8e0a9286-09ef-4653-835d-421009b3b05c",
   "metadata": {},
   "outputs": [
    {
     "data": {
      "text/plain": [
       "[('사과', 101), ('배', 102), ('딸기', 103), ('포도', 104), ('바나나', 105)]"
      ]
     },
     "execution_count": 235,
     "metadata": {},
     "output_type": "execute_result"
    }
   ],
   "source": [
    "list(fruit_code.items())"
   ]
  },
  {
   "cell_type": "code",
   "execution_count": 237,
   "id": "16e972a2-4da6-49c8-a3cd-a0bed5e9bfc0",
   "metadata": {},
   "outputs": [],
   "source": [
    "fruit_code2={\"오렌지\":106,\"수박\":107}"
   ]
  },
  {
   "cell_type": "code",
   "execution_count": 239,
   "id": "a7dd8d85-c638-4baa-9abc-00332570b095",
   "metadata": {},
   "outputs": [],
   "source": [
    "fruit_code.update(fruit_code2)"
   ]
  },
  {
   "cell_type": "code",
   "execution_count": 241,
   "id": "b0714dd4-6616-431c-b166-9341a5444612",
   "metadata": {},
   "outputs": [
    {
     "data": {
      "text/plain": [
       "{'사과': 101, '배': 102, '딸기': 103, '포도': 104, '바나나': 105, '오렌지': 106, '수박': 107}"
      ]
     },
     "execution_count": 241,
     "metadata": {},
     "output_type": "execute_result"
    }
   ],
   "source": [
    "fruit_code"
   ]
  },
  {
   "cell_type": "code",
   "execution_count": 243,
   "id": "f4c77f70-89a1-4a49-a027-4861c6fb64e6",
   "metadata": {},
   "outputs": [
    {
     "name": "stdout",
     "output_type": "stream",
     "text": [
      "{}\n"
     ]
    },
    {
     "data": {
      "text/plain": [
       "dict"
      ]
     },
     "execution_count": 243,
     "metadata": {},
     "output_type": "execute_result"
    }
   ],
   "source": [
    "fruit_code2.clear()\n",
    "print(fruit_code2)\n",
    "type(fruit_code2)"
   ]
  },
  {
   "cell_type": "code",
   "execution_count": 245,
   "id": "e5036acf-4385-466c-914e-f09e8f1f6a60",
   "metadata": {},
   "outputs": [
    {
     "name": "stdout",
     "output_type": "stream",
     "text": [
      "Pass\n"
     ]
    }
   ],
   "source": [
    "x = 95\n",
    "if x > 90:\n",
    "    print(\"Pass\")"
   ]
  },
  {
   "cell_type": "code",
   "execution_count": 247,
   "id": "97cbcc92-18f6-4793-ab31-ed0f7c73f666",
   "metadata": {},
   "outputs": [
    {
     "name": "stdout",
     "output_type": "stream",
     "text": [
      "Fail\n"
     ]
    }
   ],
   "source": [
    "x = 75 \n",
    "if x >= 90:\n",
    "    print(\"Pass\")\n",
    "else:\n",
    "    print(\"Fail\")"
   ]
  },
  {
   "cell_type": "code",
   "execution_count": 249,
   "id": "7c02249d-8625-4356-b805-6c18e0de2b1d",
   "metadata": {},
   "outputs": [
    {
     "name": "stdout",
     "output_type": "stream",
     "text": [
      "Perfect\n"
     ]
    }
   ],
   "source": [
    "x = 100\n",
    "if x >= 90 : \n",
    "    if x == 100 : \n",
    "        print(\"Perfect\")\n",
    "    else: \n",
    "        print(\"Very Good\")\n",
    "elif(x>= 80) and (x < 90):\n",
    "    print(\"GOOD\")\n",
    "else:\n",
    "    print(\"BAD\")\n",
    "    "
   ]
  },
  {
   "cell_type": "code",
   "execution_count": 253,
   "id": "6c1bf1c6-b4d1-4153-bfd6-60cb4f014d53",
   "metadata": {},
   "outputs": [
    {
     "name": "stdout",
     "output_type": "stream",
     "text": [
      "0\n",
      "1\n",
      "2\n",
      "3\n",
      "4\n",
      "5\n"
     ]
    }
   ],
   "source": [
    "for a in [0,1,2,3,4,5]:\n",
    "    print(a)"
   ]
  },
  {
   "cell_type": "code",
   "execution_count": 255,
   "id": "6463127f-5c36-442f-baa4-6922ce4c8b6c",
   "metadata": {},
   "outputs": [
    {
     "name": "stdout",
     "output_type": "stream",
     "text": [
      "James\n",
      "Robert\n",
      "Lisa\n",
      "Mary\n"
     ]
    }
   ],
   "source": [
    "myFriends = ['James','Robert','Lisa','Mary']\n",
    "for myFriend in myFriends:\n",
    "    print(myFriend)"
   ]
  },
  {
   "cell_type": "code",
   "execution_count": 259,
   "id": "3f0d19ef-15ee-46cc-bb0f-9f614c1c5d88",
   "metadata": {},
   "outputs": [
    {
     "name": "stdout",
     "output_type": "stream",
     "text": [
      "range(0, 10)\n"
     ]
    }
   ],
   "source": [
    "print(range(0,10,1))"
   ]
  },
  {
   "cell_type": "code",
   "execution_count": 261,
   "id": "d1d7340d-23c2-4029-ae53-ec8fed03386c",
   "metadata": {},
   "outputs": [
    {
     "name": "stdout",
     "output_type": "stream",
     "text": [
      "[0, 1, 2, 3, 4, 5, 6, 7, 8, 9]\n"
     ]
    }
   ],
   "source": [
    "print(list(range(0,10,1)))"
   ]
  },
  {
   "cell_type": "code",
   "execution_count": 263,
   "id": "284db234-7963-4cd8-82db-3becf0bf7ec2",
   "metadata": {},
   "outputs": [
    {
     "name": "stdout",
     "output_type": "stream",
     "text": [
      "0\n",
      "1\n",
      "2\n",
      "3\n",
      "4\n",
      "5\n"
     ]
    }
   ],
   "source": [
    "for a in range(0,6,1):\n",
    "    print(a)"
   ]
  },
  {
   "cell_type": "code",
   "execution_count": 265,
   "id": "20454db7-a887-4b74-a386-3a40e6029909",
   "metadata": {},
   "outputs": [
    {
     "name": "stdout",
     "output_type": "stream",
     "text": [
      "0\n",
      "2\n",
      "4\n"
     ]
    }
   ],
   "source": [
    "for a in range(0,6,2):\n",
    "    print(a)"
   ]
  },
  {
   "cell_type": "code",
   "execution_count": 267,
   "id": "357e7c71-97ad-4783-aa0f-964125259e3e",
   "metadata": {},
   "outputs": [
    {
     "name": "stdout",
     "output_type": "stream",
     "text": [
      "[0, 1, 2, 3, 4, 5, 6, 7, 8, 9]\n",
      "[0, 1, 2, 3, 4, 5, 6, 7, 8, 9]\n",
      "[0, 1, 2, 3, 4, 5, 6, 7, 8, 9]\n"
     ]
    }
   ],
   "source": [
    "print(list(range(0,10,1)))\n",
    "print(list(range(0,10)))\n",
    "print(list(range(10)))"
   ]
  },
  {
   "cell_type": "code",
   "execution_count": 271,
   "id": "52d85829-9be3-4eb2-9efe-d567489d4362",
   "metadata": {},
   "outputs": [
    {
     "name": "stdout",
     "output_type": "stream",
     "text": [
      "[0, 5, 10, 15]\n",
      "[-10, -8, -6, -4, -2]\n",
      "[3, 0, -3, -6, -9]\n",
      "[]\n"
     ]
    }
   ],
   "source": [
    "print(list(range(0,20,5)))\n",
    "print(list(range(-10,0,2)))\n",
    "print(list(range(3,-10,-3)))\n",
    "print(list(range(0,-5,1)))\n"
   ]
  },
  {
   "cell_type": "code",
   "execution_count": 273,
   "id": "5b36c912-5e3f-4e13-a3f7-ddc74e184590",
   "metadata": {},
   "outputs": [
    {
     "name": "stdout",
     "output_type": "stream",
     "text": [
      "x y\n",
      "x1 y1\n",
      "x1 y2\n",
      "x2 y1\n",
      "x2 y2\n"
     ]
    }
   ],
   "source": [
    "x_list=['x1','x2']\n",
    "y_list=['y1','y2']\n",
    "print(\"x y\")\n",
    "for x in x_list:\n",
    "    for y in y_list:\n",
    "        print(x,y)"
   ]
  },
  {
   "cell_type": "code",
   "execution_count": 277,
   "id": "374beced-7fb5-4675-93eb-bf7b14542914",
   "metadata": {},
   "outputs": [
    {
     "name": "stdout",
     "output_type": "stream",
     "text": [
      "James 95\n",
      "Robert 96\n",
      "Lisa 97\n",
      "Mary 94\n"
     ]
    }
   ],
   "source": [
    "names = ['James','Robert','Lisa','Mary']\n",
    "scores = [95,96,97,94]\n",
    "\n",
    "for k in range(len(names)):\n",
    "    print(names[k],scores[k])"
   ]
  },
  {
   "cell_type": "code",
   "execution_count": 279,
   "id": "1280cb50-52fb-4bef-80bd-811bf48485cb",
   "metadata": {},
   "outputs": [
    {
     "name": "stdout",
     "output_type": "stream",
     "text": [
      "James 95\n",
      "Robert 96\n",
      "Lisa 97\n",
      "Mary 94\n"
     ]
    }
   ],
   "source": [
    "for name, score in zip(names, scores):\n",
    "    print(name, score)"
   ]
  },
  {
   "cell_type": "code",
   "execution_count": 281,
   "id": "2c78fcec-d7a0-4e3f-84be-5e765480370b",
   "metadata": {},
   "outputs": [
    {
     "name": "stdout",
     "output_type": "stream",
     "text": [
      "i sum\n",
      "1 1\n",
      "2 3\n",
      "3 6\n",
      "4 10\n",
      "5 15\n",
      "6 21\n"
     ]
    }
   ],
   "source": [
    "i=0\n",
    "sum=0\n",
    "print(\"i sum\")\n",
    "while (sum < 20):\n",
    "    i = i + 1 \n",
    "    sum = sum + i\n",
    "    print(i, sum)"
   ]
  },
  {
   "cell_type": "code",
   "execution_count": 283,
   "id": "a24138b4-4f90-4ae2-8bda-fdd970c02b0e",
   "metadata": {},
   "outputs": [
    {
     "name": "stdout",
     "output_type": "stream",
     "text": [
      "1\n",
      "2\n",
      "3\n"
     ]
    }
   ],
   "source": [
    "k = 0\n",
    "while True : \n",
    "    k = k +1 \n",
    "    if(k > 3 ) :\n",
    "        break\n",
    "    print(k)"
   ]
  },
  {
   "cell_type": "code",
   "execution_count": 285,
   "id": "0d6c915b-ec42-4f67-9e29-6f37a6c99122",
   "metadata": {},
   "outputs": [
    {
     "name": "stdout",
     "output_type": "stream",
     "text": [
      "0\n",
      "1\n",
      "2\n"
     ]
    }
   ],
   "source": [
    "for k in range(10):\n",
    "    if(k > 2):\n",
    "        break\n",
    "    print(k)"
   ]
  },
  {
   "cell_type": "code",
   "execution_count": 287,
   "id": "9efe0278-e4a6-4ce1-a9ae-fa3848789450",
   "metadata": {},
   "outputs": [
    {
     "name": "stdout",
     "output_type": "stream",
     "text": [
      "0\n",
      "1\n",
      "3\n",
      "4\n"
     ]
    }
   ],
   "source": [
    "for k in range(5):\n",
    "    if(k==2):\n",
    "        continue\n",
    "    print(k)"
   ]
  },
  {
   "cell_type": "code",
   "execution_count": 289,
   "id": "0988ccd3-c050-4207-8bb8-9fdf07e27eb0",
   "metadata": {},
   "outputs": [
    {
     "name": "stdout",
     "output_type": "stream",
     "text": [
      "1\n",
      "continue next\n",
      "3\n",
      "4\n"
     ]
    }
   ],
   "source": [
    "k = 0\n",
    "while True:\n",
    "    k = k+1\n",
    "    if(k==2):\n",
    "        print(\"continue next\")\n",
    "        continue\n",
    "    if(k>4):\n",
    "        break\n",
    "    print(k)\n",
    "    "
   ]
  },
  {
   "cell_type": "code",
   "execution_count": 291,
   "id": "72d5ceb5-0145-487e-b8f6-fd2d182bf724",
   "metadata": {},
   "outputs": [
    {
     "name": "stdout",
     "output_type": "stream",
     "text": [
      "[1, 4, 9, 16, 25]\n"
     ]
    }
   ],
   "source": [
    "numbers = [1,2,3,4,5]\n",
    "square = []\n",
    "\n",
    "for i in numbers : \n",
    "    square.append(i**2)\n",
    "print(square)\n"
   ]
  },
  {
   "cell_type": "code",
   "execution_count": 293,
   "id": "9acc09df-2630-4ab3-906f-e0ca9a03f0bb",
   "metadata": {},
   "outputs": [
    {
     "name": "stdout",
     "output_type": "stream",
     "text": [
      "[1, 4, 9, 16, 25]\n"
     ]
    }
   ],
   "source": [
    "numbers = [1,2,3,4,5]\n",
    "square = [i**2 for i in numbers]\n",
    "print(square)\n"
   ]
  },
  {
   "cell_type": "code",
   "execution_count": 299,
   "id": "59dc4cfa-9782-4b48-911d-61a2bbe13610",
   "metadata": {},
   "outputs": [
    {
     "name": "stdout",
     "output_type": "stream",
     "text": [
      "[9, 16, 25]\n"
     ]
    }
   ],
   "source": [
    "numbers = [1,2,3,4,5]\n",
    "square = []\n",
    "for i in numbers : \n",
    "    if i >= 3:\n",
    "        square.append(i**2)\n",
    "print(square)\n",
    "    "
   ]
  },
  {
   "cell_type": "code",
   "execution_count": 301,
   "id": "f142a1f9-b712-4ee2-a644-316de8ea19f2",
   "metadata": {},
   "outputs": [
    {
     "name": "stdout",
     "output_type": "stream",
     "text": [
      "[9, 16, 25]\n"
     ]
    }
   ],
   "source": [
    "numbers = [1,2,3,4,5]\n",
    "square = [i**2 for i in numbers if i >=3]\n",
    "print(square)"
   ]
  },
  {
   "cell_type": "code",
   "execution_count": 305,
   "id": "6773e6d8-c4b8-4985-a695-4e8e91a14f1e",
   "metadata": {},
   "outputs": [
    {
     "name": "stdout",
     "output_type": "stream",
     "text": [
      "Hello Python!!\n"
     ]
    }
   ],
   "source": [
    "print(\"Hello Python!!\")"
   ]
  },
  {
   "cell_type": "code",
   "execution_count": 307,
   "id": "491d7868-0197-4b24-991c-98b26ff3dc91",
   "metadata": {},
   "outputs": [
    {
     "name": "stdout",
     "output_type": "stream",
     "text": [
      "Best python book\n"
     ]
    }
   ],
   "source": [
    "print(\"Best\", \"python\",\"book\")"
   ]
  },
  {
   "cell_type": "code",
   "execution_count": 309,
   "id": "35c25d26-94a4-4d62-8cae-83bcd3db1921",
   "metadata": {},
   "outputs": [
    {
     "name": "stdout",
     "output_type": "stream",
     "text": [
      "Best-:*:-python-:*:-book\n"
     ]
    }
   ],
   "source": [
    "print(\"Best\",\"python\",\"book\", sep=\"-:*:-\")"
   ]
  },
  {
   "cell_type": "code",
   "execution_count": 311,
   "id": "7cf99c84-3dce-4438-b8cc-8e12e145255b",
   "metadata": {},
   "outputs": [
    {
     "name": "stdout",
     "output_type": "stream",
     "text": [
      "abcdefg\n"
     ]
    }
   ],
   "source": [
    "print(\"abcd\"+\"efg\")"
   ]
  },
  {
   "cell_type": "code",
   "execution_count": 313,
   "id": "6336b37b-c2e1-4cc0-8398-0428c18bdee7",
   "metadata": {},
   "outputs": [
    {
     "name": "stdout",
     "output_type": "stream",
     "text": [
      "Best python book: this book\n"
     ]
    }
   ],
   "source": [
    "print(\"Best\",\"python\",\"book\"+\":\",\"this book\")"
   ]
  },
  {
   "cell_type": "code",
   "execution_count": 315,
   "id": "1e1f4804-2079-4662-97da-80aa2e6f5204",
   "metadata": {},
   "outputs": [
    {
     "name": "stdout",
     "output_type": "stream",
     "text": [
      "10\n"
     ]
    }
   ],
   "source": [
    "x = 10\n",
    "print(x)"
   ]
  },
  {
   "cell_type": "code",
   "execution_count": 317,
   "id": "429d15b2-f410-415b-a561-b11338d645bf",
   "metadata": {},
   "outputs": [
    {
     "name": "stdout",
     "output_type": "stream",
     "text": [
      "Name: james, ID Number: 789\n"
     ]
    }
   ],
   "source": [
    "name = \"james\"\n",
    "ID_num = 789\n",
    "print(\"Name:\", name + \",\",\"ID Number:\", ID_num)"
   ]
  },
  {
   "cell_type": "code",
   "execution_count": 319,
   "id": "64d05650-fd18-424d-9c72-cddb254a9214",
   "metadata": {},
   "outputs": [
    {
     "name": "stdout",
     "output_type": "stream",
     "text": [
      "James is my friend. \n",
      "He is Korean.\n"
     ]
    }
   ],
   "source": [
    "print(\"James is my friend. \\nHe is Korean.\")"
   ]
  },
  {
   "cell_type": "code",
   "execution_count": 321,
   "id": "3a5f6602-83d2-4e42-a3b7-7c809da662f7",
   "metadata": {},
   "outputs": [
    {
     "name": "stdout",
     "output_type": "stream",
     "text": [
      "Welcome to \n"
     ]
    }
   ],
   "source": [
    "print(\"Welcome to \" )"
   ]
  },
  {
   "cell_type": "code",
   "execution_count": 323,
   "id": "c960a18e-98ca-40aa-b4b6-e4e427dba4c7",
   "metadata": {},
   "outputs": [
    {
     "name": "stdout",
     "output_type": "stream",
     "text": [
      "python\n"
     ]
    }
   ],
   "source": [
    "print(\"python\")"
   ]
  },
  {
   "cell_type": "code",
   "execution_count": 325,
   "id": "2ed8c77a-f036-4441-b3c3-aebedc63a8a3",
   "metadata": {},
   "outputs": [
    {
     "name": "stdout",
     "output_type": "stream",
     "text": [
      "Welcome to python\n"
     ]
    }
   ],
   "source": [
    "print(\"Welcome to \" , end = \"\")\n",
    "print(\"python\")"
   ]
  },
  {
   "cell_type": "code",
   "execution_count": 327,
   "id": "ea8dd339-3ae8-4641-864f-004d6573bf93",
   "metadata": {},
   "outputs": [
    {
     "name": "stdout",
     "output_type": "stream",
     "text": [
      "광재는 나의 친구입니다.\n"
     ]
    }
   ],
   "source": [
    "name = \"광재\"\n",
    "print(\"%s는 나의 친구입니다.\" % name)"
   ]
  },
  {
   "cell_type": "code",
   "execution_count": 329,
   "id": "7cfdb81f-bebf-46c4-930c-cd822b842313",
   "metadata": {},
   "outputs": [
    {
     "name": "stdout",
     "output_type": "stream",
     "text": [
      "반지름 : 3, 원주율: 3.141593\n"
     ]
    }
   ],
   "source": [
    "r = 3\n",
    "PI = 3.14159265358979\n",
    "print(\"반지름 : %d, 원주율: %f\" % (r, PI)) "
   ]
  },
  {
   "cell_type": "code",
   "execution_count": 331,
   "id": "8bcccfba-7527-4fa3-8ea6-75965aac9355",
   "metadata": {},
   "outputs": [
    {
     "name": "stdout",
     "output_type": "stream",
     "text": [
      "Animal: cat\n",
      "Animal: cat,dog,fox\n"
     ]
    }
   ],
   "source": [
    "animal_0 = \"cat\"\n",
    "animal_1 = \"dog\"\n",
    "animal_2 = \"fox\"\n",
    "print(\"Animal: {0}\".format(animal_0))\n",
    "print(\"Animal: {0},{1},{2}\".format(animal_0, animal_1, animal_2))"
   ]
  },
  {
   "cell_type": "code",
   "execution_count": 333,
   "id": "8330ae5d-26eb-4771-a8a5-92cb13b9b99b",
   "metadata": {},
   "outputs": [
    {
     "name": "stdout",
     "output_type": "stream",
     "text": [
      "Animal : dog,fox,cat\n"
     ]
    }
   ],
   "source": [
    "print(\"Animal : {1},{2},{0}\".format(animal_0, animal_1, animal_2))"
   ]
  },
  {
   "cell_type": "code",
   "execution_count": 335,
   "id": "ecb0b1cf-bafe-4012-a6de-7d8769922bf8",
   "metadata": {},
   "outputs": [
    {
     "name": "stdout",
     "output_type": "stream",
     "text": [
      "Animal: cat,fox\n"
     ]
    }
   ],
   "source": [
    "print(\"Animal: {0},{2}\".format(animal_0, animal_1, animal_2))"
   ]
  },
  {
   "cell_type": "code",
   "execution_count": 337,
   "id": "8bf8e16b-d8a9-456e-8347-b0263ba6872b",
   "metadata": {},
   "outputs": [
    {
     "name": "stdout",
     "output_type": "stream",
     "text": [
      "Animal:cat,dog,fox\n"
     ]
    }
   ],
   "source": [
    "print(\"Animal:{},{},{}\".format(animal_0, animal_1, animal_2))"
   ]
  },
  {
   "cell_type": "code",
   "execution_count": 339,
   "id": "31fad3ec-7bcb-43ef-b9a6-6c62aa6dce8d",
   "metadata": {},
   "outputs": [
    {
     "name": "stdout",
     "output_type": "stream",
     "text": [
      "String : Tomas. Integer Number:10.Floating Number:0.12345678901234568\n"
     ]
    }
   ],
   "source": [
    "name=\"Tomas\"\n",
    "age =10\n",
    "a = 0.1234567890123456789\n",
    "fmt_string = \"String : {0}. Integer Number:{1}.Floating Number:{2}\"\n",
    "print(fmt_string.format(name,age, a))"
   ]
  },
  {
   "cell_type": "code",
   "execution_count": 341,
   "id": "8fad5694-1c48-4873-b636-1c8cce9bc8e3",
   "metadata": {},
   "outputs": [
    {
     "name": "stdout",
     "output_type": "stream",
     "text": [
      "0.12,0.12346\n"
     ]
    }
   ],
   "source": [
    "a = 0.1234567890123456789\n",
    "print(\"{0:.2f},{0:.5f}\".format(a))"
   ]
  },
  {
   "cell_type": "code",
   "execution_count": 343,
   "id": "0e568bec-5c86-434a-a7c7-a2d765aa5a10",
   "metadata": {},
   "outputs": [
    {
     "name": "stdin",
     "output_type": "stream",
     "text": [
      "문자열 안녕하신가? \n"
     ]
    }
   ],
   "source": [
    "data = input(\"문자열\")"
   ]
  },
  {
   "cell_type": "code",
   "execution_count": 345,
   "id": "3d9f5385-76ac-4d3f-8fc7-04dd98d18933",
   "metadata": {},
   "outputs": [
    {
     "name": "stdin",
     "output_type": "stream",
     "text": [
      "당신의 이름은? 김요한\n"
     ]
    },
    {
     "name": "stdout",
     "output_type": "stream",
     "text": [
      "당신은 김요한이군요.\n"
     ]
    }
   ],
   "source": [
    "yourName = input(\"당신의 이름은?\")\n",
    "print(\"당신은 {}이군요.\".format(yourName))"
   ]
  },
  {
   "cell_type": "code",
   "execution_count": 347,
   "id": "5089bb79-8dc2-4cf2-8a2b-dae64bf8c066",
   "metadata": {},
   "outputs": [
    {
     "name": "stdin",
     "output_type": "stream",
     "text": [
      "숫자를 입력하세요 :  12\n"
     ]
    },
    {
     "name": "stdout",
     "output_type": "stream",
     "text": [
      "당신이 입력한 숫자는 12입니다.\n"
     ]
    }
   ],
   "source": [
    "num = input(\"숫자를 입력하세요 : \")\n",
    "print(\"당신이 입력한 숫자는 {}입니다.\".format(num))"
   ]
  },
  {
   "cell_type": "code",
   "execution_count": 349,
   "id": "1a77eaec-4429-4154-ab3d-cb62b1abe18c",
   "metadata": {},
   "outputs": [
    {
     "name": "stdin",
     "output_type": "stream",
     "text": [
      "정사각형 한변의 길이는?: 12\n"
     ]
    },
    {
     "name": "stdout",
     "output_type": "stream",
     "text": [
      "정사각형의 넓이 : 144\n"
     ]
    }
   ],
   "source": [
    "a = input(\"정사각형 한변의 길이는?:\")\n",
    "area = int(a)**2\n",
    "print(\"정사각형의 넓이 : {}\".format(area))"
   ]
  },
  {
   "cell_type": "code",
   "execution_count": 351,
   "id": "822d8e3c-97f3-44ce-a284-3ede2ec277e4",
   "metadata": {},
   "outputs": [
    {
     "name": "stdin",
     "output_type": "stream",
     "text": [
      "정사각형 한변의 길이는 ?: 12\n"
     ]
    },
    {
     "name": "stdout",
     "output_type": "stream",
     "text": [
      "정사각형의 넓이 : 144.0\n"
     ]
    }
   ],
   "source": [
    "b = input(\"정사각형 한변의 길이는 ?:\")\n",
    "area = float(b)**2\n",
    "print(\"정사각형의 넓이 : {}\".format(area))"
   ]
  },
  {
   "cell_type": "code",
   "execution_count": 353,
   "id": "818798b8-23b3-4485-97a1-9ab648e9765c",
   "metadata": {},
   "outputs": [
    {
     "name": "stdin",
     "output_type": "stream",
     "text": [
      "정사각형 한변의 길이는?: 3\n"
     ]
    },
    {
     "name": "stdout",
     "output_type": "stream",
     "text": [
      "정사각형의 넓이 : 9.0\n"
     ]
    }
   ],
   "source": [
    "c = input(\"정사각형 한변의 길이는?:\")\n",
    "area = float(c)**2\n",
    "print(\"정사각형의 넓이 : {}\".format(area))"
   ]
  },
  {
   "cell_type": "code",
   "execution_count": 359,
   "id": "ca5369fe-f348-460b-9578-83eed1070ef6",
   "metadata": {},
   "outputs": [],
   "source": [
    "\n",
    "f = open('myFile.txt','w')\n",
    "f.write('This is my first file.')\n",
    "f.close()"
   ]
  },
  {
   "cell_type": "code",
   "execution_count": 361,
   "id": "52477dba-086b-40b7-b2bf-ffa3955f666d",
   "metadata": {},
   "outputs": [
    {
     "name": "stdout",
     "output_type": "stream",
     "text": [
      "This is my first file.\n"
     ]
    }
   ],
   "source": [
    "!type myFile.txt"
   ]
  },
  {
   "cell_type": "code",
   "execution_count": 367,
   "id": "bf057db1-0366-4448-a0bf-904892f1a1e5",
   "metadata": {},
   "outputs": [
    {
     "name": "stdout",
     "output_type": "stream",
     "text": [
      "This is my first file.\n"
     ]
    }
   ],
   "source": [
    "f = open('myFile.txt','r') \n",
    "file_text = f.read()\n",
    "f.close()\n",
    "\n",
    "print(file_text)"
   ]
  },
  {
   "cell_type": "code",
   "execution_count": 369,
   "id": "109cf49b-143c-4598-92f5-64042df1a732",
   "metadata": {},
   "outputs": [],
   "source": [
    "f = open('two_times_table.txt','w')\n",
    "for num in range(1,6):\n",
    "    format_string = \"2 * {0} = {1}\\n\".format(num,2*num)\n",
    "    f.write(format_string)\n",
    "f.close()"
   ]
  },
  {
   "cell_type": "code",
   "execution_count": 371,
   "id": "56f0c285-3663-4b7d-af97-c5569691c47e",
   "metadata": {},
   "outputs": [
    {
     "name": "stdout",
     "output_type": "stream",
     "text": [
      "2 * 1 = 2\n",
      "2 * 2 = 4\n",
      "2 * 3 = 6\n",
      "2 * 4 = 8\n",
      "2 * 5 = 10\n"
     ]
    }
   ],
   "source": [
    "!type two_times_table.txt"
   ]
  },
  {
   "cell_type": "code",
   "execution_count": 373,
   "id": "a0fae223-1d0e-46ae-b0fd-b387b04a2e15",
   "metadata": {},
   "outputs": [
    {
     "name": "stdout",
     "output_type": "stream",
     "text": [
      "2 * 1 = 2\n",
      "2 * 2 = 4\n"
     ]
    }
   ],
   "source": [
    "f = open(\"two_times_table.txt\")\n",
    "line1 = f.readline()\n",
    "line2 = f.readline()\n",
    "f.close()\n",
    "print(line1, end=\"\")\n",
    "print(line2, end=\"\")\n"
   ]
  },
  {
   "cell_type": "code",
   "execution_count": 375,
   "id": "94b8d475-f6f9-476d-833a-4b80804bd50b",
   "metadata": {},
   "outputs": [
    {
     "name": "stdout",
     "output_type": "stream",
     "text": [
      "2 * 1 = 2\n",
      "2 * 2 = 4\n",
      "2 * 3 = 6\n",
      "2 * 4 = 8\n",
      "2 * 5 = 10\n"
     ]
    }
   ],
   "source": [
    "f = open(\"two_times_table.txt\")\n",
    "line = f.readline()\n",
    "while line : \n",
    "    print(line, end = \"\")\n",
    "    line = f.readline()\n",
    "f.close()"
   ]
  },
  {
   "cell_type": "code",
   "execution_count": 377,
   "id": "67147ef2-824a-43c0-aa0e-424afc7f1fcc",
   "metadata": {},
   "outputs": [
    {
     "name": "stdout",
     "output_type": "stream",
     "text": [
      "['2 * 1 = 2\\n', '2 * 2 = 4\\n', '2 * 3 = 6\\n', '2 * 4 = 8\\n', '2 * 5 = 10\\n']\n"
     ]
    }
   ],
   "source": [
    "f = open(\"two_times_table.txt\")\n",
    "lines = f.readlines()\n",
    "f.close()\n",
    "print(lines)"
   ]
  },
  {
   "cell_type": "code",
   "execution_count": 379,
   "id": "ab7badf8-4b29-42d3-ac2b-9858212b1b3a",
   "metadata": {},
   "outputs": [
    {
     "name": "stdout",
     "output_type": "stream",
     "text": [
      "['2 * 1 = 2\\n', '2 * 2 = 4\\n', '2 * 3 = 6\\n', '2 * 4 = 8\\n', '2 * 5 = 10\\n']\n"
     ]
    }
   ],
   "source": [
    "f = open(\"two_times_table.txt\")\n",
    "lines = f.readlines()\n",
    "f.close()\n",
    "print(lines)"
   ]
  },
  {
   "cell_type": "code",
   "execution_count": 381,
   "id": "2713d873-7ad7-4289-832a-4f6a713474ef",
   "metadata": {},
   "outputs": [
    {
     "name": "stdout",
     "output_type": "stream",
     "text": [
      "2 * 1 = 2\n",
      "2 * 2 = 4\n",
      "2 * 3 = 6\n",
      "2 * 4 = 8\n",
      "2 * 5 = 10\n"
     ]
    }
   ],
   "source": [
    "f = open(\"two_times_table.txt\")\n",
    "lines = f.readlines()\n",
    "f.close()\n",
    "for line in lines:\n",
    "    print(line, end=\"\")"
   ]
  },
  {
   "cell_type": "code",
   "execution_count": 383,
   "id": "ad8ddf06-a2b7-4a3f-a257-af3db5e29429",
   "metadata": {},
   "outputs": [
    {
     "name": "stdout",
     "output_type": "stream",
     "text": [
      "2 * 1 = 2\n",
      "2 * 2 = 4\n",
      "2 * 3 = 6\n",
      "2 * 4 = 8\n",
      "2 * 5 = 10\n"
     ]
    }
   ],
   "source": [
    "f = open(\"two_times_table.txt\")\n",
    "for line in f.readlines():\n",
    "    print(line, end=\"\")\n",
    "    f.close()"
   ]
  },
  {
   "cell_type": "code",
   "execution_count": 385,
   "id": "956c1d9e-8c88-4910-a779-4b2f781d6e74",
   "metadata": {},
   "outputs": [
    {
     "name": "stdout",
     "output_type": "stream",
     "text": [
      "2 * 1 = 2\n",
      "2 * 2 = 4\n",
      "2 * 3 = 6\n",
      "2 * 4 = 8\n",
      "2 * 5 = 10\n"
     ]
    }
   ],
   "source": [
    "f = open(\"two_times_table.txt\")\n",
    "for line in f:\n",
    "    print(line, end=\"\")\n",
    "f.close()\n"
   ]
  },
  {
   "cell_type": "code",
   "execution_count": 387,
   "id": "7f90aa82-f627-4d09-b82c-404e46a55064",
   "metadata": {},
   "outputs": [],
   "source": [
    "f = open('myTextFile.txt','w')\n",
    "f.write('File write/read test.')\n",
    "f.close()\n"
   ]
  },
  {
   "cell_type": "code",
   "execution_count": 389,
   "id": "ba1edb3d-450a-40c1-b789-cb6205f74ba9",
   "metadata": {},
   "outputs": [
    {
     "name": "stdout",
     "output_type": "stream",
     "text": [
      "File write/read test.\n"
     ]
    }
   ],
   "source": [
    "f = open('myTextFile.txt','r')\n",
    "test = f.read()\n",
    "f.close()\n",
    "print(test)"
   ]
  },
  {
   "cell_type": "code",
   "execution_count": 391,
   "id": "a23597e1-b980-4d41-a579-6c3bb605ddc6",
   "metadata": {},
   "outputs": [],
   "source": [
    "with open('C:/Users/user1/git/BOOK_PYTHON_DATA/myTextFile2.txt','w') as f:\n",
    "    f.write('File read/write test2: line1\\n')\n",
    "    f.write('File read/write test2: line2\\n')\n",
    "    f.write('File read/write test2: line3\\n')\n"
   ]
  },
  {
   "cell_type": "code",
   "execution_count": 393,
   "id": "f5a1b6cb-89ab-43cb-813f-6377456debfd",
   "metadata": {},
   "outputs": [
    {
     "name": "stdout",
     "output_type": "stream",
     "text": [
      "File read/write test2: line1\n",
      "File read/write test2: line2\n",
      "File read/write test2: line3\n",
      "\n"
     ]
    }
   ],
   "source": [
    "with open('C:/Users/user1/git/BOOK_PYTHON_DATA/myTextFile2.txt') as f:\n",
    "    file_string = f.read()\n",
    "    print(file_string)"
   ]
  },
  {
   "cell_type": "code",
   "execution_count": 395,
   "id": "d7f25151-4dc6-48cf-9947-45e98fd57cb0",
   "metadata": {},
   "outputs": [],
   "source": [
    "with open('C:/Users/user1/git/BOOK_PYTHON_DATA/myTextFile2.txt','w') as f:\n",
    "    for num in range(1,6):\n",
    "        format_string = \"3 * {0} = {1}\\n\".format(num,3*num)\n",
    "        f.write(format_string)\n",
    "        "
   ]
  },
  {
   "cell_type": "code",
   "execution_count": 397,
   "id": "04ac848a-abda-4fec-9884-b94a832e33ea",
   "metadata": {},
   "outputs": [
    {
     "name": "stdout",
     "output_type": "stream",
     "text": [
      "3 * 1 = 3\n",
      "3 * 2 = 6\n",
      "3 * 3 = 9\n",
      "3 * 4 = 12\n",
      "3 * 5 = 15\n"
     ]
    }
   ],
   "source": [
    "with open('C:/Users/user1/git/BOOK_PYTHON_DATA/myTextFile2.txt','r') as f:\n",
    "    for line in f:\n",
    "        print(line, end=\"\")"
   ]
  },
  {
   "cell_type": "code",
   "execution_count": 399,
   "id": "825447c7-454b-435f-8565-8e013bd1dfa5",
   "metadata": {},
   "outputs": [],
   "source": [
    "def my_func():\n",
    "    print(\"My first function!\")\n",
    "    print(\"This is a function.\")"
   ]
  },
  {
   "cell_type": "code",
   "execution_count": 401,
   "id": "4474359c-9324-4999-986e-bb11dab40a4b",
   "metadata": {},
   "outputs": [
    {
     "name": "stdout",
     "output_type": "stream",
     "text": [
      "My first function!\n",
      "This is a function.\n"
     ]
    }
   ],
   "source": [
    "my_func()"
   ]
  },
  {
   "cell_type": "code",
   "execution_count": 403,
   "id": "889f0f73-f82a-4f3e-9975-252bd7392e76",
   "metadata": {},
   "outputs": [],
   "source": [
    "def my_friend(friendName):\n",
    "    print(\"{}는 나의 친구입니다.\".format(friendName))"
   ]
  },
  {
   "cell_type": "code",
   "execution_count": 405,
   "id": "92bde5ee-dad0-4ea9-b0c5-8be9c60f3829",
   "metadata": {},
   "outputs": [
    {
     "name": "stdout",
     "output_type": "stream",
     "text": [
      "철수는 나의 친구입니다.\n",
      "영미는 나의 친구입니다.\n"
     ]
    }
   ],
   "source": [
    "my_friend(\"철수\")\n",
    "my_friend(\"영미\")"
   ]
  },
  {
   "cell_type": "code",
   "execution_count": 409,
   "id": "159c4077-789a-4173-87bc-e207af4a096e",
   "metadata": {},
   "outputs": [],
   "source": [
    "def my_student_info(name, school_ID, phoneNumber):\n",
    "    print(\"--------------------\")\n",
    "    print(\"-학생이름:\",name)\n",
    "    print(\"-학급번호:\", school_ID)\n",
    "    print(\"-전화번호:\", phoneNumber)"
   ]
  },
  {
   "cell_type": "code",
   "execution_count": 411,
   "id": "b458819b-81e7-462e-90dd-074c43a6f32e",
   "metadata": {},
   "outputs": [
    {
     "name": "stdout",
     "output_type": "stream",
     "text": [
      "--------------------\n",
      "-학생이름: 현아\n",
      "-학급번호: 01\n",
      "-전화번호: 01-235-6789\n",
      "--------------------\n",
      "-학생이름: 진수\n",
      "-학급번호: 02\n",
      "-전화번호: 01-987-6543\n"
     ]
    }
   ],
   "source": [
    "my_student_info(\"현아\",\"01\",\"01-235-6789\")\n",
    "my_student_info(\"진수\",\"02\",\"01-987-6543\")"
   ]
  },
  {
   "cell_type": "code",
   "execution_count": 413,
   "id": "c2e10c4c-6ae4-4234-b54f-6fad5cae7849",
   "metadata": {},
   "outputs": [],
   "source": [
    "def my_student_info(name, school_ID, phoneNumber):\n",
    "    print(\"****************\")\n",
    "    print(\"*학생이름:\",name)\n",
    "    print(\"*학급번호:\", school_ID)\n",
    "    print(\"*전화번호:\",phoneNumber)\n",
    "    "
   ]
  },
  {
   "cell_type": "code",
   "execution_count": 417,
   "id": "30875b95-3895-48fa-bbe9-076fe370fbc7",
   "metadata": {},
   "outputs": [
    {
     "name": "stdout",
     "output_type": "stream",
     "text": [
      "****************\n",
      "*학생이름: 현아\n",
      "*학급번호: 01\n",
      "*전화번호: 01-235-6789\n",
      "****************\n",
      "*학생이름: 진수\n",
      "*학급번호: 02\n",
      "*전화번호: 01-987-6543\n"
     ]
    }
   ],
   "source": [
    "my_student_info(\"현아\",\"01\",\"01-235-6789\")\n",
    "my_student_info(\"진수\",\"02\",\"01-987-6543\")"
   ]
  },
  {
   "cell_type": "code",
   "execution_count": 421,
   "id": "13d34bfe-2781-4307-b861-320ac7e9b98e",
   "metadata": {},
   "outputs": [],
   "source": [
    "def my_calc(x,y):\n",
    "    z = x*y\n",
    "    return z\n",
    "    "
   ]
  },
  {
   "cell_type": "code",
   "execution_count": 423,
   "id": "1470711e-e583-4131-878a-15508b1bd83c",
   "metadata": {},
   "outputs": [
    {
     "data": {
      "text/plain": [
       "12"
      ]
     },
     "execution_count": 423,
     "metadata": {},
     "output_type": "execute_result"
    }
   ],
   "source": [
    "my_calc(3,4)"
   ]
  },
  {
   "cell_type": "code",
   "execution_count": 437,
   "id": "b2fe6973-0d64-4322-91a1-8bf5653ca7f3",
   "metadata": {},
   "outputs": [],
   "source": [
    "def my_student_info_list(student_info):\n",
    "    print(\"**************\")\n",
    "    print(\"*학생이름:\",student_info[0])\n",
    "    print(\"*학급번호:\",student_info[1])\n",
    "    print(\"*전화번호:\",student_info[2])\n",
    "    print(\"**************\")\n",
    "    "
   ]
  },
  {
   "cell_type": "code",
   "execution_count": 439,
   "id": "de327f8a-bd3e-45df-9763-1d8178558da0",
   "metadata": {},
   "outputs": [
    {
     "name": "stdout",
     "output_type": "stream",
     "text": [
      "**************\n",
      "*학생이름: 현아\n",
      "*학급번호: 01\n",
      "*전화번호: 01-235-6789\n",
      "**************\n"
     ]
    }
   ],
   "source": [
    "student1_info = [\"현아\",\"01\",\"01-235-6789\"]\n",
    "my_student_info_list(student1_info)"
   ]
  },
  {
   "cell_type": "code",
   "execution_count": 441,
   "id": "a4789d2c-77c1-41cf-9ef7-8b2b7ec1d747",
   "metadata": {},
   "outputs": [
    {
     "name": "stdout",
     "output_type": "stream",
     "text": [
      "**************\n",
      "*학생이름: 진수\n",
      "*학급번호: 02\n",
      "*전화번호: 01-987-6543\n",
      "**************\n"
     ]
    }
   ],
   "source": [
    "my_student_info_list([\"진수\",\"02\",\"01-987-6543\"])"
   ]
  },
  {
   "cell_type": "code",
   "execution_count": 455,
   "id": "7123865c-36a5-4862-9c66-95861bafb51d",
   "metadata": {},
   "outputs": [],
   "source": [
    "a = 5\n",
    "def func1():\n",
    "    a = 1\n",
    "    print(\"[func1] 지역변수 a =\",a)"
   ]
  },
  {
   "cell_type": "code",
   "execution_count": 445,
   "id": "f83510fc-46e3-41c5-aee1-0ebe3dfc6907",
   "metadata": {},
   "outputs": [],
   "source": [
    "def func2():\n",
    "    a = 2\n",
    "    print(\"[func2] 지역변수 a= \",a)\n",
    "    "
   ]
  },
  {
   "cell_type": "code",
   "execution_count": 447,
   "id": "c3086518-b968-4fb4-a777-43bcccaa21cd",
   "metadata": {},
   "outputs": [],
   "source": [
    "def func3():\n",
    "    print(\"[func3] 전역변수 a = \", a)\n",
    "    "
   ]
  },
  {
   "cell_type": "code",
   "execution_count": 449,
   "id": "f5c762f1-9682-4984-bd21-38f6a9561296",
   "metadata": {},
   "outputs": [],
   "source": [
    "def func4():\n",
    "    global a \n",
    "    a = 4\n",
    "    print(\"[func4] 전역변수 a = \",a)\n",
    "    "
   ]
  },
  {
   "cell_type": "code",
   "execution_count": 457,
   "id": "4ece3d51-02ff-4458-b6b8-af49ff0b60b5",
   "metadata": {},
   "outputs": [
    {
     "name": "stdout",
     "output_type": "stream",
     "text": [
      "[func1] 지역변수 a = 1\n",
      "[func2] 지역변수 a=  2\n",
      "전역변수 a =  5\n"
     ]
    }
   ],
   "source": [
    "func1()\n",
    "func2()\n",
    "print(\"전역변수 a = \" , a)"
   ]
  },
  {
   "cell_type": "code",
   "execution_count": 459,
   "id": "fab3cea0-9686-4d18-956d-6a588422b701",
   "metadata": {},
   "outputs": [
    {
     "name": "stdout",
     "output_type": "stream",
     "text": [
      "[func3] 전역변수 a =  5\n",
      "[func4] 전역변수 a =  4\n",
      "[func3] 전역변수 a =  4\n"
     ]
    }
   ],
   "source": [
    "func3()\n",
    "func4()\n",
    "func3()"
   ]
  },
  {
   "cell_type": "code",
   "execution_count": 461,
   "id": "96cace6e-bec6-4b13-bf46-be113ba589aa",
   "metadata": {},
   "outputs": [
    {
     "data": {
      "text/plain": [
       "9"
      ]
     },
     "execution_count": 461,
     "metadata": {},
     "output_type": "execute_result"
    }
   ],
   "source": [
    "(lambda x : x**2) (3)"
   ]
  },
  {
   "cell_type": "code",
   "execution_count": 463,
   "id": "9900fcf7-c31e-4584-bd20-edd091d67c27",
   "metadata": {},
   "outputs": [
    {
     "data": {
      "text/plain": [
       "4"
      ]
     },
     "execution_count": 463,
     "metadata": {},
     "output_type": "execute_result"
    }
   ],
   "source": [
    "mySquare = lambda x  : x**2\n",
    "mySquare(2)"
   ]
  },
  {
   "cell_type": "code",
   "execution_count": 465,
   "id": "7ca70e01-27fc-43d5-a03f-16e20dd5d64f",
   "metadata": {},
   "outputs": [
    {
     "data": {
      "text/plain": [
       "25"
      ]
     },
     "execution_count": 465,
     "metadata": {},
     "output_type": "execute_result"
    }
   ],
   "source": [
    "mySquare(5)"
   ]
  },
  {
   "cell_type": "code",
   "execution_count": 467,
   "id": "dcff6887-3abf-4809-a786-c6cdc68886b9",
   "metadata": {},
   "outputs": [
    {
     "data": {
      "text/plain": [
       "11"
      ]
     },
     "execution_count": 467,
     "metadata": {},
     "output_type": "execute_result"
    }
   ],
   "source": [
    "mySimpleFunc = lambda x,y,z : 2*x + 3*y + z\n",
    "mySimpleFunc(1,2,3)"
   ]
  },
  {
   "cell_type": "code",
   "execution_count": 469,
   "id": "ccb83390-9bd1-47a3-a92e-2fe52836bba9",
   "metadata": {},
   "outputs": [
    {
     "data": {
      "text/plain": [
       "[0, 3, -1]"
      ]
     },
     "execution_count": 469,
     "metadata": {},
     "output_type": "execute_result"
    }
   ],
   "source": [
    "[int(0.123), int(3.5123456), int(-1.312367)]"
   ]
  },
  {
   "cell_type": "code",
   "execution_count": 471,
   "id": "6c3101d2-939c-4c1d-9a9c-e16b064e5e43",
   "metadata": {},
   "outputs": [
    {
     "data": {
      "text/plain": [
       "[123, 5678, -9012]"
      ]
     },
     "execution_count": 471,
     "metadata": {},
     "output_type": "execute_result"
    }
   ],
   "source": [
    "[int('123'), int('5678'),int('-9012')]"
   ]
  },
  {
   "cell_type": "code",
   "execution_count": 473,
   "id": "28802873-1305-429a-9260-87e6c619fcf3",
   "metadata": {},
   "outputs": [
    {
     "data": {
      "text/plain": [
       "[0.0, 123.0, -567.0]"
      ]
     },
     "execution_count": 473,
     "metadata": {},
     "output_type": "execute_result"
    }
   ],
   "source": [
    "[float(0), float(123), float(-567)]"
   ]
  },
  {
   "cell_type": "code",
   "execution_count": 475,
   "id": "c3d0cb0b-4135-496f-af87-67350a9ea873",
   "metadata": {},
   "outputs": [
    {
     "data": {
      "text/plain": [
       "[10.0, 0.123, -567.89]"
      ]
     },
     "execution_count": 475,
     "metadata": {},
     "output_type": "execute_result"
    }
   ],
   "source": [
    "[float('10'), float('0.123'),float('-567.89')]"
   ]
  },
  {
   "cell_type": "code",
   "execution_count": 477,
   "id": "7704da7d-6193-40fe-a146-13d3e2165558",
   "metadata": {},
   "outputs": [
    {
     "data": {
      "text/plain": [
       "['123', '459678', '-987']"
      ]
     },
     "execution_count": 477,
     "metadata": {},
     "output_type": "execute_result"
    }
   ],
   "source": [
    "[str(123),str(459678),str(-987)]"
   ]
  },
  {
   "cell_type": "code",
   "execution_count": 479,
   "id": "f8fe2e9e-66bb-40b8-b46e-08a9c4cc002b",
   "metadata": {},
   "outputs": [
    {
     "data": {
      "text/plain": [
       "['0.213', '345.678', '-5.987']"
      ]
     },
     "execution_count": 479,
     "metadata": {},
     "output_type": "execute_result"
    }
   ],
   "source": [
    "[str(0.213), str(345.678),str(-5.987)]"
   ]
  },
  {
   "cell_type": "code",
   "execution_count": 481,
   "id": "824d7721-0482-42dc-95ee-f35c9b7bd99e",
   "metadata": {},
   "outputs": [],
   "source": [
    "list_data = ['abc',1,2,'def']"
   ]
  },
  {
   "cell_type": "code",
   "execution_count": 485,
   "id": "87f61b0d-791e-4d5d-8cf0-e7f6bdceb64b",
   "metadata": {},
   "outputs": [],
   "source": [
    "tuple_data=('abc',1,2,'def')\n",
    "set_data = {'abc',1,2,'def'}\n"
   ]
  },
  {
   "cell_type": "code",
   "execution_count": 487,
   "id": "afa9fc7c-57c7-4a69-86cc-30aba64eac96",
   "metadata": {},
   "outputs": [
    {
     "data": {
      "text/plain": [
       "[list, tuple, set]"
      ]
     },
     "execution_count": 487,
     "metadata": {},
     "output_type": "execute_result"
    }
   ],
   "source": [
    "[type(list_data),type(tuple_data), type(set_data)]"
   ]
  },
  {
   "cell_type": "code",
   "execution_count": 489,
   "id": "640723eb-d9c9-4d9f-836e-b0b660d798b4",
   "metadata": {},
   "outputs": [
    {
     "name": "stdout",
     "output_type": "stream",
     "text": [
      "리스트 변환: ['abc', 1, 2, 'def'] ['def', 1, 2, 'abc']\n"
     ]
    }
   ],
   "source": [
    "print(\"리스트 변환:\" , list(tuple_data), list(set_data))"
   ]
  },
  {
   "cell_type": "code",
   "execution_count": 493,
   "id": "575c190b-2054-49f0-abe4-fd512f959879",
   "metadata": {},
   "outputs": [
    {
     "name": "stdout",
     "output_type": "stream",
     "text": [
      "튜플로 변환 : ('abc', 1, 2, 'def') ('def', 1, 2, 'abc')\n"
     ]
    }
   ],
   "source": [
    "print(\"튜플로 변환 :\", tuple(list_data), tuple(set_data))"
   ]
  },
  {
   "cell_type": "code",
   "execution_count": 495,
   "id": "2bcf1dfb-ed9b-4269-b6ab-d607e3b3d177",
   "metadata": {},
   "outputs": [
    {
     "name": "stdout",
     "output_type": "stream",
     "text": [
      "세트로 변환: {'def', 1, 2, 'abc'} {'def', 1, 2, 'abc'}\n"
     ]
    }
   ],
   "source": [
    "print(\"세트로 변환:\", set(list_data), set(tuple_data))"
   ]
  },
  {
   "cell_type": "code",
   "execution_count": 497,
   "id": "2a60839e-8ef5-4073-b253-8674bfb38a37",
   "metadata": {},
   "outputs": [
    {
     "data": {
      "text/plain": [
       "True"
      ]
     },
     "execution_count": 497,
     "metadata": {},
     "output_type": "execute_result"
    }
   ],
   "source": [
    "bool('a')"
   ]
  },
  {
   "cell_type": "code",
   "execution_count": 499,
   "id": "b1afdc8a-4faa-41be-a5cf-89e82afebc6e",
   "metadata": {},
   "outputs": [
    {
     "data": {
      "text/plain": [
       "False"
      ]
     },
     "execution_count": 499,
     "metadata": {},
     "output_type": "execute_result"
    }
   ],
   "source": [
    "bool('')"
   ]
  },
  {
   "cell_type": "code",
   "execution_count": 501,
   "id": "f3937d39-a848-4e0c-87a2-9b96c9f9c3df",
   "metadata": {},
   "outputs": [
    {
     "data": {
      "text/plain": [
       "False"
      ]
     },
     "execution_count": 501,
     "metadata": {},
     "output_type": "execute_result"
    }
   ],
   "source": [
    "bool(None)"
   ]
  },
  {
   "cell_type": "code",
   "execution_count": 503,
   "id": "1e4d8743-5bf1-4af0-a8c0-a6c9d797349f",
   "metadata": {},
   "outputs": [
    {
     "data": {
      "text/plain": [
       "True"
      ]
     },
     "execution_count": 503,
     "metadata": {},
     "output_type": "execute_result"
    }
   ],
   "source": [
    "bool(1)\n"
   ]
  },
  {
   "cell_type": "code",
   "execution_count": 505,
   "id": "bd1ab324-6efe-4f1c-af47-cbd693ecd300",
   "metadata": {},
   "outputs": [],
   "source": [
    "myFriends =[]"
   ]
  },
  {
   "cell_type": "code",
   "execution_count": 507,
   "id": "0852d26b-413c-4524-9f9b-1f40496a62be",
   "metadata": {},
   "outputs": [
    {
     "data": {
      "text/plain": [
       "False"
      ]
     },
     "execution_count": 507,
     "metadata": {},
     "output_type": "execute_result"
    }
   ],
   "source": [
    "bool(myFriends)"
   ]
  },
  {
   "cell_type": "code",
   "execution_count": 509,
   "id": "dccd62c3-d0e1-40b4-b3f5-5bf3d6ed591e",
   "metadata": {},
   "outputs": [
    {
     "data": {
      "text/plain": [
       "True"
      ]
     },
     "execution_count": 509,
     "metadata": {},
     "output_type": "execute_result"
    }
   ],
   "source": [
    "myFriends = ['James','Robert','Lisa','Mary']\n",
    "bool(myFriends)"
   ]
  },
  {
   "cell_type": "code",
   "execution_count": 511,
   "id": "2be0dab8-ea68-46d6-abff-5db5b1199915",
   "metadata": {},
   "outputs": [
    {
     "data": {
      "text/plain": [
       "False"
      ]
     },
     "execution_count": 511,
     "metadata": {},
     "output_type": "execute_result"
    }
   ],
   "source": [
    "myNum=()\n",
    "bool(myNum)"
   ]
  },
  {
   "cell_type": "code",
   "execution_count": 513,
   "id": "81e65c19-73d4-44ab-985f-efea0fa9aec9",
   "metadata": {},
   "outputs": [
    {
     "data": {
      "text/plain": [
       "True"
      ]
     },
     "execution_count": 513,
     "metadata": {},
     "output_type": "execute_result"
    }
   ],
   "source": [
    "myNum =(1,2,3)\n",
    "bool(myNum)"
   ]
  },
  {
   "cell_type": "code",
   "execution_count": 515,
   "id": "50913c61-360b-43ce-b3fa-6b23110b5432",
   "metadata": {},
   "outputs": [
    {
     "data": {
      "text/plain": [
       "False"
      ]
     },
     "execution_count": 515,
     "metadata": {},
     "output_type": "execute_result"
    }
   ],
   "source": [
    "mySetA ={}\n",
    "bool(mySetA)"
   ]
  },
  {
   "cell_type": "code",
   "execution_count": 517,
   "id": "2b7a01ed-ccb5-4546-9d89-90dee21ea3f6",
   "metadata": {},
   "outputs": [
    {
     "data": {
      "text/plain": [
       "True"
      ]
     },
     "execution_count": 517,
     "metadata": {},
     "output_type": "execute_result"
    }
   ],
   "source": [
    "mySetA = {10,20,30}\n",
    "bool(mySetA)"
   ]
  },
  {
   "cell_type": "code",
   "execution_count": 521,
   "id": "08130835-1c3b-4e79-a138-62f7a7122b37",
   "metadata": {},
   "outputs": [],
   "source": [
    "def print_name(name):\n",
    "    if bool(name):\n",
    "        print(\"입력된 이름 : \", name)\n",
    "    else : \n",
    "        print(\"입력된 이름이 없습니다.\")"
   ]
  },
  {
   "cell_type": "code",
   "execution_count": 523,
   "id": "b9767b27-0882-4c89-a7bd-b1727e61f1a9",
   "metadata": {},
   "outputs": [
    {
     "name": "stdout",
     "output_type": "stream",
     "text": [
      "입력된 이름 :  James\n"
     ]
    }
   ],
   "source": [
    "print_name(\"James\")"
   ]
  },
  {
   "cell_type": "code",
   "execution_count": 525,
   "id": "fab89105-73f8-4269-90f6-fab831952fb2",
   "metadata": {},
   "outputs": [
    {
     "name": "stdout",
     "output_type": "stream",
     "text": [
      "입력된 이름이 없습니다.\n"
     ]
    }
   ],
   "source": [
    "print_name(\"\")"
   ]
  },
  {
   "cell_type": "code",
   "execution_count": 529,
   "id": "40a34eec-995c-4020-bbee-17b3253b3cad",
   "metadata": {},
   "outputs": [],
   "source": [
    "myNum = [10,5,12,0,3.5,99.5,42]"
   ]
  },
  {
   "cell_type": "code",
   "execution_count": 531,
   "id": "2b89e0c5-e2d4-4faf-a76d-31d91ca4daef",
   "metadata": {},
   "outputs": [
    {
     "data": {
      "text/plain": [
       "[0, 99.5]"
      ]
     },
     "execution_count": 531,
     "metadata": {},
     "output_type": "execute_result"
    }
   ],
   "source": [
    "[min(myNum),max(myNum)]"
   ]
  },
  {
   "cell_type": "code",
   "execution_count": 533,
   "id": "7eccb42b-819d-436f-a2de-bf330e50d58f",
   "metadata": {},
   "outputs": [
    {
     "data": {
      "text/plain": [
       "['a', 'z']"
      ]
     },
     "execution_count": 533,
     "metadata": {},
     "output_type": "execute_result"
    }
   ],
   "source": [
    "myStr = 'zxyabc'\n",
    "[min(myStr),max(myStr)]"
   ]
  },
  {
   "cell_type": "code",
   "execution_count": 535,
   "id": "db453705-8f0b-4cf0-82b4-ad2d87b0de8d",
   "metadata": {},
   "outputs": [
    {
     "data": {
      "text/plain": [
       "[0, 99.5]"
      ]
     },
     "execution_count": 535,
     "metadata": {},
     "output_type": "execute_result"
    }
   ],
   "source": [
    "myNum = (10,5,12,0,3.5, 99.5,42)\n",
    "[min(myNum),max(myNum)]"
   ]
  },
  {
   "cell_type": "code",
   "execution_count": 537,
   "id": "2f96af03-37b1-429e-8956-7252d5a095ea",
   "metadata": {},
   "outputs": [
    {
     "data": {
      "text/plain": [
       "['Abc', 'efg']"
      ]
     },
     "execution_count": 537,
     "metadata": {},
     "output_type": "execute_result"
    }
   ],
   "source": [
    "myNum = {\"Abc\",\"abc\",\"bcd\",\"efg\"}\n",
    "[min(myNum), max(myNum)]"
   ]
  },
  {
   "cell_type": "code",
   "execution_count": 541,
   "id": "b8adfbb7-d9f3-4dd3-ad93-7a8069ed22f2",
   "metadata": {},
   "outputs": [
    {
     "data": {
      "text/plain": [
       "[10, 10]"
      ]
     },
     "execution_count": 541,
     "metadata": {},
     "output_type": "execute_result"
    }
   ],
   "source": [
    "[abs(10), abs(-10)]"
   ]
  },
  {
   "cell_type": "code",
   "execution_count": 543,
   "id": "401dad93-39d4-4c3b-af56-afe3932d6718",
   "metadata": {},
   "outputs": [
    {
     "data": {
      "text/plain": [
       "[2.45, 2.45]"
      ]
     },
     "execution_count": 543,
     "metadata": {},
     "output_type": "execute_result"
    }
   ],
   "source": [
    "[abs(2.45), abs(-2.45)]"
   ]
  },
  {
   "cell_type": "code",
   "execution_count": 551,
   "id": "ab16db9c-a840-40b0-9e4c-dff03baa2d75",
   "metadata": {},
   "outputs": [
    {
     "data": {
      "text/plain": [
       "55"
      ]
     },
     "execution_count": 551,
     "metadata": {},
     "output_type": "execute_result"
    }
   ],
   "source": [
    "del sum\n",
    "sumList = [1, 2, 3, 4, 5, 6, 7, 8, 9, 10]\n",
    "sum(sumList)"
   ]
  },
  {
   "cell_type": "code",
   "execution_count": 553,
   "id": "b628ae9b-fdf9-483f-a416-7bb296e0de7e",
   "metadata": {},
   "outputs": [
    {
     "data": {
      "text/plain": [
       "5"
      ]
     },
     "execution_count": 553,
     "metadata": {},
     "output_type": "execute_result"
    }
   ],
   "source": [
    "len(\"ab cd\")\n"
   ]
  },
  {
   "cell_type": "code",
   "execution_count": 555,
   "id": "9722299e-012a-4e37-a46a-3eed9d31b8e1",
   "metadata": {},
   "outputs": [
    {
     "data": {
      "text/plain": [
       "8"
      ]
     },
     "execution_count": 555,
     "metadata": {},
     "output_type": "execute_result"
    }
   ],
   "source": [
    "len([1,2,3,4,5,6,7,8])"
   ]
  },
  {
   "cell_type": "code",
   "execution_count": 557,
   "id": "1c2f58ca-b22d-4fc8-8ffc-29101b93a496",
   "metadata": {},
   "outputs": [
    {
     "data": {
      "text/plain": [
       "5"
      ]
     },
     "execution_count": 557,
     "metadata": {},
     "output_type": "execute_result"
    }
   ],
   "source": [
    "len((1,2,3,4,5))"
   ]
  },
  {
   "cell_type": "code",
   "execution_count": 559,
   "id": "3f7f72d2-85e8-4e43-9283-4c57526a84f7",
   "metadata": {},
   "outputs": [
    {
     "data": {
      "text/plain": [
       "4"
      ]
     },
     "execution_count": 559,
     "metadata": {},
     "output_type": "execute_result"
    }
   ],
   "source": [
    "len({'a','b','c','d'})"
   ]
  },
  {
   "cell_type": "code",
   "execution_count": 561,
   "id": "d0c2255c-9c81-42da-9f75-6549579be278",
   "metadata": {},
   "outputs": [
    {
     "data": {
      "text/plain": [
       "3"
      ]
     },
     "execution_count": 561,
     "metadata": {},
     "output_type": "execute_result"
    }
   ],
   "source": [
    "len({1:\"Thomas\",2:\"Edward\", 3:\"Henry\"})"
   ]
  },
  {
   "cell_type": "code",
   "execution_count": 563,
   "id": "ffcae512-ccc6-44b9-bb89-2b0d5ac433d9",
   "metadata": {},
   "outputs": [],
   "source": [
    "scores = [90,80,95,85]"
   ]
  },
  {
   "cell_type": "code",
   "execution_count": 565,
   "id": "7e1e2d53-f7aa-4ac9-abe7-2b528202c40a",
   "metadata": {},
   "outputs": [
    {
     "name": "stdout",
     "output_type": "stream",
     "text": [
      "총점 : 350, 평균:87.5\n"
     ]
    }
   ],
   "source": [
    "score_sum = 0\n",
    "subject_num = 0\n",
    "for score in scores:\n",
    "    score_sum = score_sum +score\n",
    "    subject_num = subject_num +1 \n",
    "average = score_sum / subject_num \n",
    "print(\"총점 : {0}, 평균:{1}\".format(score_sum, average))\n"
   ]
  },
  {
   "cell_type": "code",
   "execution_count": 571,
   "id": "3be15f94-72f6-46ff-9ac1-2af337b8fae5",
   "metadata": {},
   "outputs": [
    {
     "name": "stdout",
     "output_type": "stream",
     "text": [
      "총점 :350, 평균:87.5\n"
     ]
    }
   ],
   "source": [
    "scores = [90,80,95,85]\n",
    "print(\"총점 :{0}, 평균:{1}\".format(sum(scores), sum(scores)/len(scores)))"
   ]
  },
  {
   "cell_type": "code",
   "execution_count": 573,
   "id": "91c86fee-7c7e-4730-926e-47fca8d01027",
   "metadata": {},
   "outputs": [
    {
     "name": "stdout",
     "output_type": "stream",
     "text": [
      "최하 점스 : 80, 최고 점수 :95\n"
     ]
    }
   ],
   "source": [
    "print(\"최하 점스 : {0}, 최고 점수 :{1}\".format(min(scores), max(scores)))"
   ]
  },
  {
   "cell_type": "code",
   "execution_count": 36,
   "id": "3c0f6403-2fa5-4425-8a9b-371a2e88b8a6",
   "metadata": {},
   "outputs": [],
   "source": [
    "class Bicycle():\n",
    "    def __init__(self, wheel_size, color):\n",
    "        self.wheel_size = wheel_size\n",
    "        self.color = color\n",
    "        \n",
    "    def move(self, speed):\n",
    "        print(\"자전거: 시속 {0}킬로미터로 전진\".format(speed))\n",
    "\n",
    "    def turn(self, direction):\n",
    "        print(\"자전거 : {0}회전\".format(direction))\n",
    "\n",
    "    def stop(self):\n",
    "        print(\"자전거{0},{1}): 정지\".format(self.wheel_size, self.color))"
   ]
  },
  {
   "cell_type": "code",
   "execution_count": 4,
   "id": "78e55b09-c2db-4bcb-8194-cd3a6fe19e6b",
   "metadata": {},
   "outputs": [],
   "source": [
    "my_bicycle = Bicycle()"
   ]
  },
  {
   "cell_type": "code",
   "execution_count": 6,
   "id": "58ede02f-c107-456e-a059-7942b78cb350",
   "metadata": {},
   "outputs": [
    {
     "data": {
      "text/plain": [
       "<__main__.Bicycle at 0x28fe70e6d80>"
      ]
     },
     "execution_count": 6,
     "metadata": {},
     "output_type": "execute_result"
    }
   ],
   "source": [
    "my_bicycle"
   ]
  },
  {
   "cell_type": "code",
   "execution_count": 38,
   "id": "e9abff43-ea46-4973-970a-4e1d817849cc",
   "metadata": {},
   "outputs": [
    {
     "name": "stdout",
     "output_type": "stream",
     "text": [
      "자전거: 시속 30킬로미터로 전진\n",
      "자전거 : 좌회전\n",
      "자전거26,black): 정지\n"
     ]
    }
   ],
   "source": [
    "my_bicycle = Bicycle(26, 'black')\n",
    "\n",
    "my_bicycle.move(30)\n",
    "my_bicycle.turn('좌')\n",
    "my_bicycle.stop()\n"
   ]
  },
  {
   "cell_type": "code",
   "execution_count": 10,
   "id": "7b84202e-4038-4fcb-9836-d4a3aa3b2b72",
   "metadata": {},
   "outputs": [
    {
     "name": "stdout",
     "output_type": "stream",
     "text": [
      "바퀴 크기: 26\n",
      "색상: black\n"
     ]
    }
   ],
   "source": [
    "print(\"바퀴 크기:\", my_bicycle.wheel_size)\n",
    "print(\"색상:\", my_bicycle.color)"
   ]
  },
  {
   "cell_type": "code",
   "execution_count": 32,
   "id": "abe6737d-ca80-4e2f-b78a-52e39a454085",
   "metadata": {},
   "outputs": [
    {
     "name": "stdout",
     "output_type": "stream",
     "text": [
      "자전거: 시속 20킬로미터로 전진\n",
      "자전거 : 좌회전\n",
      "자전거27,red): 정지\n"
     ]
    }
   ],
   "source": [
    "bicycle1 = Bicycle()\n",
    "\n",
    "bicycle1.wheel_size = 27\n",
    "bicycle1.color = 'red'\n",
    "bicycle1.move(20)\n",
    "bicycle1.turn('좌')\n",
    "bicycle1.stop()"
   ]
  },
  {
   "cell_type": "code",
   "execution_count": 34,
   "id": "3fcac6e3-2baf-43f1-b146-b647ce23e4df",
   "metadata": {},
   "outputs": [
    {
     "name": "stdout",
     "output_type": "stream",
     "text": [
      "자전거: 시속 15킬로미터로 전진\n",
      "자전거 : 우회전\n",
      "자전거24,blue): 정지\n"
     ]
    }
   ],
   "source": [
    "bicycle2 = Bicycle()\n",
    "bicycle2.wheel_size = 24\n",
    "bicycle2.color = 'blue'\n",
    "bicycle2.move(15)\n",
    "bicycle2.turn('우')\n",
    "bicycle2.stop()"
   ]
  },
  {
   "cell_type": "code",
   "execution_count": 42,
   "id": "e962b0a4-07cb-46ae-899b-e5f68c6887ab",
   "metadata": {},
   "outputs": [],
   "source": [
    "class Car():\n",
    "    instance_count = 0 # 공통으로 사용\n",
    "    def __init__(self, size, color):\n",
    "        self.size = size\n",
    "        self.color = color\n",
    "        Car.instance_count = Car.instance_count +1\n",
    "        print(\"자동차 객체의 수 : {0}\".format(Car.instance_count))\n",
    "    def move(self):\n",
    "            print(\"자동차({0}&{1})가 움직입니다.\".format(self.size, self.color))"
   ]
  },
  {
   "cell_type": "code",
   "execution_count": 44,
   "id": "b9f3f2c0-5af7-4988-89a4-c538db2a07ed",
   "metadata": {},
   "outputs": [
    {
     "name": "stdout",
     "output_type": "stream",
     "text": [
      "자동차 객체의 수 : 1\n",
      "자동차 객체의 수 : 2\n"
     ]
    }
   ],
   "source": [
    "car1 = Car('smal','white')\n",
    "car2 = Car('big','black')"
   ]
  },
  {
   "cell_type": "code",
   "execution_count": 46,
   "id": "d04ab85a-94a0-4923-8f3f-b881e5721f85",
   "metadata": {},
   "outputs": [
    {
     "name": "stdout",
     "output_type": "stream",
     "text": [
      "Car 클래스의 총 인스턴스 개수 :2\n"
     ]
    }
   ],
   "source": [
    "print(\"Car 클래스의 총 인스턴스 개수 :{}\".format(Car.instance_count))"
   ]
  },
  {
   "cell_type": "code",
   "execution_count": 48,
   "id": "7a198029-fd21-4333-b1a9-9b5d0a1c06f5",
   "metadata": {},
   "outputs": [
    {
     "name": "stdout",
     "output_type": "stream",
     "text": [
      "Car 클래스의 총 인스턴스 개수:2\n",
      "Car 클래스의 총 인스턴스 개수 :2\n"
     ]
    }
   ],
   "source": [
    "print(\"Car 클래스의 총 인스턴스 개수:{}\".format(car1.instance_count))\n",
    "print(\"Car 클래스의 총 인스턴스 개수 :{}\".format(car2.instance_count))"
   ]
  },
  {
   "cell_type": "code",
   "execution_count": 50,
   "id": "0ec39717-66f2-41b9-bbfb-ead23039e0a4",
   "metadata": {},
   "outputs": [
    {
     "name": "stdout",
     "output_type": "stream",
     "text": [
      "자동차(smal&white)가 움직입니다.\n",
      "자동차(big&black)가 움직입니다.\n"
     ]
    }
   ],
   "source": [
    "car1.move()\n",
    "car2.move()"
   ]
  },
  {
   "cell_type": "code",
   "execution_count": 54,
   "id": "901d42b6-0da9-4e01-b493-809a117c7d98",
   "metadata": {},
   "outputs": [],
   "source": [
    "class Car2():\n",
    "    count = 0\n",
    "\n",
    "    def __init__(self, size, num):\n",
    "        self.size = size\n",
    "        self.count = num\n",
    "        Car2.count = Car2.count +1\n",
    "        print(\"자동차 객체의 수 : Car2.count ={0}\".format(Car2.count))\n",
    "        print(\"인스턴스 변수 초기화 : self.count = {0}\".format(self.count))\n",
    "\n",
    "    def move(self):\n",
    "        print(\"자동차({0} & {1}가 움직입니다.\".format(self.size, self.count))"
   ]
  },
  {
   "cell_type": "code",
   "execution_count": 56,
   "id": "f6dfd66c-0d1c-47cd-8110-4fe6884ce73b",
   "metadata": {},
   "outputs": [
    {
     "name": "stdout",
     "output_type": "stream",
     "text": [
      "자동차 객체의 수 : Car2.count =1\n",
      "인스턴스 변수 초기화 : self.count = 20\n",
      "자동차 객체의 수 : Car2.count =2\n",
      "인스턴스 변수 초기화 : self.count = 30\n"
     ]
    }
   ],
   "source": [
    "car1 = Car2(\"big\",20)\n",
    "car2 = Car2(\"small\",30)"
   ]
  },
  {
   "cell_type": "code",
   "execution_count": 58,
   "id": "5f02789d-26d9-4240-9734-c81113b59143",
   "metadata": {},
   "outputs": [],
   "source": [
    "# 인스턴스 메서드는 각 객체에서 개별적으로 동작하는 함수를 만들고자 할때 사용하는 함수\n",
    "class Car():\n",
    "    instance_count = 0\n",
    "    def __init__(self,size, color):\n",
    "        self.size =size\n",
    "        self.color = color\n",
    "        Car.instance_count = Car.instance_count +1 \n",
    "        print(\"자동차 객체의 수 :{0}\".format(Car.instance_count))\n",
    "    def move(self, speed):\n",
    "        self.speed = speed\n",
    "        print(\"자동차({0} & {1})가 \".format(self.size, self.color),end='')\n",
    "        print(\"시속 {0}킬로미터로 전진\".format(self.speed))\n",
    "    def auto_cruise(self):\n",
    "        print(\"자율 주행 모드\")\n",
    "        self.move(self.speed)"
   ]
  },
  {
   "cell_type": "code",
   "execution_count": 60,
   "id": "820dac37-17e0-40d5-881b-c2e2bf83431c",
   "metadata": {},
   "outputs": [
    {
     "name": "stdout",
     "output_type": "stream",
     "text": [
      "자동차 객체의 수 :1\n",
      "자동차 객체의 수 :2\n",
      "자동차(small & red)가 시속 80킬로미터로 전진\n",
      "자동차(big & green)가 시속 100킬로미터로 전진\n",
      "자율 주행 모드\n",
      "자동차(small & red)가 시속 80킬로미터로 전진\n",
      "자율 주행 모드\n",
      "자동차(big & green)가 시속 100킬로미터로 전진\n"
     ]
    }
   ],
   "source": [
    "car1 = Car(\"small\",\"red\")\n",
    "car2 = Car(\"big\",\"green\")\n",
    "car1.move(80)\n",
    "car2.move(100)\n",
    "car1.auto_cruise()\n",
    "car2.auto_cruise()"
   ]
  },
  {
   "cell_type": "code",
   "execution_count": 65,
   "id": "b7be876d-c1a2-47f8-87b4-ff043d59650a",
   "metadata": {},
   "outputs": [],
   "source": [
    "# 정적 메서드는 클래스와 관련이 있어서 클래스 안에 두기는 하지만 클래스나 클래스의 인스턴스(객체)와는 무관하게 독립적으로 동작하는 함수를 만들고 싶을 때 이용하는 함수입니다.\n",
    "# @staticmethod를 선언해 정적 메서드임을 표시합니다.\n",
    "class Car():\n",
    "    instance_count = 0\n",
    "    def __init__(self,size, color):\n",
    "        self.size =size\n",
    "        self.color = color\n",
    "        Car.instance_count = Car.instance_count +1 \n",
    "        print(\"자동차 객체의 수 :{0}\".format(Car.instance_count))\n",
    "        \n",
    "    def move(self, speed):\n",
    "        self.speed = speed\n",
    "        print(\"자동차({0} & {1})가 \".format(self.size, self.color),end='')\n",
    "        print(\"시속 {0}킬로미터로 전진\".format(self.speed))\n",
    "    def auto_cruise(self):\n",
    "        print(\"자율 주행 모드\")\n",
    "        self.move(self.speed)\n",
    "    @staticmethod\n",
    "    def check_type(model_code):\n",
    "        if(model_code >=20):\n",
    "            print(\"이 자동차는 전기차입니다.\")\n",
    "        elif(10<=model_code<20):\n",
    "            print(\"이 자동차는 가솔린차입니다.\")\n",
    "        else:\n",
    "            print(\"이 자동차는 디젤차입니다.\")\n",
    "            "
   ]
  },
  {
   "cell_type": "code",
   "execution_count": 67,
   "id": "558bb928-ed98-4466-978f-9cd91bb2b410",
   "metadata": {},
   "outputs": [
    {
     "name": "stdout",
     "output_type": "stream",
     "text": [
      "이 자동차는 전기차입니다.\n",
      "이 자동차는 디젤차입니다.\n"
     ]
    }
   ],
   "source": [
    "Car.check_type(25)\n",
    "Car.check_type(2)"
   ]
  },
  {
   "cell_type": "code",
   "execution_count": 69,
   "id": "5f671457-0856-406a-b93a-820bab0bc10d",
   "metadata": {},
   "outputs": [],
   "source": [
    "# 클래스 메서드는 클래스 변스를 사용하기 위한 함수 @classmethod를 지정해야함\n",
    "class Car():\n",
    "    instance_count = 0\n",
    "    def __init__(self,size, color):\n",
    "        self.size =size\n",
    "        self.color = color\n",
    "        Car.instance_count = Car.instance_count +1 \n",
    "       \n",
    "        \n",
    "    def move(self, speed):\n",
    "        self.speed = speed\n",
    "        print(\"자동차({0} & {1})가 \".format(self.size, self.color),end='')\n",
    "        print(\"시속 {0}킬로미터로 전진\".format(self.speed))\n",
    "    def auto_cruise(self):\n",
    "        print(\"자율 주행 모드\")\n",
    "        self.move(self.speed)\n",
    "    @staticmethod\n",
    "    def check_type(model_code):\n",
    "        if(model_code >=20):\n",
    "            print(\"이 자동차는 전기차입니다.\")\n",
    "        elif(10<=model_code<20):\n",
    "            print(\"이 자동차는 가솔린차입니다.\")\n",
    "        else:\n",
    "            print(\"이 자동차는 디젤차입니다.\")\n",
    "    @classmethod\n",
    "    def count_instance(cls):\n",
    "        print(\"자동차 객체의 개수 : {0}\".format(cls.instance_count))"
   ]
  },
  {
   "cell_type": "code",
   "execution_count": 71,
   "id": "81037e09-b56c-4292-b687-3d9d1a54a128",
   "metadata": {},
   "outputs": [
    {
     "name": "stdout",
     "output_type": "stream",
     "text": [
      "자동차 객체의 개수 : 0\n",
      "자동차 객체의 개수 : 1\n",
      "자동차 객체의 개수 : 2\n"
     ]
    }
   ],
   "source": [
    "Car.count_instance()\n",
    "\n",
    "car1 = Car(\"small:\",\"red\")\n",
    "Car.count_instance()\n",
    "car2 = Car(\"big\",\"green\")\n",
    "Car.count_instance()\n"
   ]
  },
  {
   "cell_type": "code",
   "execution_count": 79,
   "id": "d36c72b1-ad12-419f-8216-bcce0faf481d",
   "metadata": {},
   "outputs": [],
   "source": [
    "robot1_name = 'R1'\n",
    "robot1_pos = 0\n",
    "\n",
    "def robot1_move():\n",
    "    global robot_pos\n",
    "    robot_pos = robot_pos +1\n",
    "    print(\"{0} position:{1}\".format(robot_name, robot_pos))\n",
    "    \n",
    "robot2_name = 'R2'\n",
    "robot2_pos = 10\n",
    "\n",
    "def robot2_move():\n",
    "    global robot2_pos\n",
    "    robot2_pos = robot2_pos +1\n",
    "    print(\"{0} position: {1}\".format(robot2_name, robot2_pos))"
   ]
  },
  {
   "cell_type": "code",
   "execution_count": 81,
   "id": "6b541b93-eb7b-4b5d-9e64-d3e1225f09f1",
   "metadata": {},
   "outputs": [
    {
     "name": "stdout",
     "output_type": "stream",
     "text": [
      "R1 position:1\n",
      "R2 position: 11\n"
     ]
    }
   ],
   "source": [
    "robot1_move()\n",
    "robot2_move()"
   ]
  },
  {
   "cell_type": "code",
   "execution_count": 83,
   "id": "78a0433e-f0ef-48ba-a399-51749f553d57",
   "metadata": {},
   "outputs": [],
   "source": [
    "class Robot():\n",
    "    def __init__(self, name, pos):\n",
    "        self.name = name\n",
    "        self.pos = pos\n",
    "    def move(self):\n",
    "        self.pos = self.pos+1\n",
    "        print(\"{0} position:{1}\".format(self.name, self.pos))"
   ]
  },
  {
   "cell_type": "code",
   "execution_count": 85,
   "id": "86072c8c-a542-4736-aa59-6f6d0bcf0514",
   "metadata": {},
   "outputs": [],
   "source": [
    "robot1 = Robot('R1',0)\n",
    "robot2 = Robot('R2',10)\n"
   ]
  },
  {
   "cell_type": "code",
   "execution_count": 87,
   "id": "33c21356-7fbd-4bad-b035-cb3a0350ed51",
   "metadata": {},
   "outputs": [
    {
     "name": "stdout",
     "output_type": "stream",
     "text": [
      "R1 position:1\n",
      "R2 position:11\n"
     ]
    }
   ],
   "source": [
    "robot1.move()\n",
    "robot2.move()"
   ]
  },
  {
   "cell_type": "code",
   "execution_count": 89,
   "id": "0b30773e-0c18-4634-ab21-63ec2c24e1d0",
   "metadata": {},
   "outputs": [
    {
     "name": "stdout",
     "output_type": "stream",
     "text": [
      "R3 position:31\n",
      "R4 position:41\n"
     ]
    }
   ],
   "source": [
    "myRobot3 = Robot('R3',30)\n",
    "myRobot4 = Robot('R4',40)\n",
    "myRobot3.move()\n",
    "myRobot4.move()"
   ]
  },
  {
   "cell_type": "code",
   "execution_count": 91,
   "id": "369a646b-8c16-4685-b480-78203436ef87",
   "metadata": {},
   "outputs": [],
   "source": [
    "class Bicycle():\n",
    "    def __init__(self, wheel_size, color):\n",
    "        self.wheel_size = wheel_size\n",
    "        self.color = color\n",
    "    def move(self, speed):\n",
    "        print(\"자전거: 시속 {0}킬로미터로 전진\".format(speed))\n",
    "    def turn (self, direction):\n",
    "        print(\"자전거: {0}회전\".format(direction))\n",
    "    def stop(self):\n",
    "        print(\"자전거({0},{1}): 정지 \".format(self.wheel_size, self.color))\n",
    "        "
   ]
  },
  {
   "cell_type": "code",
   "execution_count": 97,
   "id": "151944d2-4944-4630-ad78-30c3f6ab16bc",
   "metadata": {},
   "outputs": [],
   "source": [
    "class FoldingBicycle(Bicycle):\n",
    "    def __init__(self, wheel_size, color, state):\n",
    "        Bicycle.__init__(self, wheel_size, color)\n",
    "        #super().__init__(wheel_size, color) # super()도 사용 가능\n",
    "        self.state = state\n",
    "    def fold(self):\n",
    "        self.state = 'folding'\n",
    "        print(\"자전거: 접기, state ={0}\".format(self.state))\n",
    "    def unfold(self):\n",
    "        self.state = 'unfolding'\n",
    "        print(\"자전거: 펴기, state = {0}\".format(self.state))"
   ]
  },
  {
   "cell_type": "code",
   "execution_count": 99,
   "id": "0a91f7bb-8092-476a-a5f8-c97a78da3cf2",
   "metadata": {},
   "outputs": [
    {
     "name": "stdout",
     "output_type": "stream",
     "text": [
      "자전거: 시속 20킬로미터로 전진\n",
      "자전거: 접기, state =folding\n",
      "자전거: 펴기, state = unfolding\n"
     ]
    }
   ],
   "source": [
    "folding_bicycle = FoldingBicycle(27, 'white','unfolding')\n",
    "folding_bicycle.move(20)\n",
    "folding_bicycle.fold()\n",
    "folding_bicycle.unfold()"
   ]
  },
  {
   "cell_type": "code",
   "execution_count": 101,
   "id": "df6c67cc-c91d-4680-837c-b1d801fcea34",
   "metadata": {},
   "outputs": [
    {
     "data": {
      "text/plain": [
       "['에스프레소', '아메리카노', '카페라떼', '카푸치노']"
      ]
     },
     "execution_count": 101,
     "metadata": {},
     "output_type": "execute_result"
    }
   ],
   "source": [
    "coffee_menu_str = \"에스프레소,아메리카노,카페라떼,카푸치노\"\n",
    "coffee_menu_str.split(',')"
   ]
  },
  {
   "cell_type": "code",
   "execution_count": 103,
   "id": "ae70e3bd-3139-4be6-b880-9d7834025b19",
   "metadata": {},
   "outputs": [
    {
     "data": {
      "text/plain": [
       "['에스프레소', '아메리카노', '카페라테', '카푸치노']"
      ]
     },
     "execution_count": 103,
     "metadata": {},
     "output_type": "execute_result"
    }
   ],
   "source": [
    "\"에스프레소,아메리카노,카페라테,카푸치노\".split(',')"
   ]
  },
  {
   "cell_type": "code",
   "execution_count": 105,
   "id": "95fea351-8eb9-463c-8a2e-653916416e2f",
   "metadata": {},
   "outputs": [
    {
     "data": {
      "text/plain": [
       "['에스프레소', '아메리카노', '카페라떼', '카푸치노']"
      ]
     },
     "execution_count": 105,
     "metadata": {},
     "output_type": "execute_result"
    }
   ],
   "source": [
    "\"에스프레소 아메리카노 카페라떼 카푸치노\".split(' ')"
   ]
  },
  {
   "cell_type": "code",
   "execution_count": 107,
   "id": "8fd62d03-0f64-48d7-b170-c49c7291d172",
   "metadata": {},
   "outputs": [
    {
     "data": {
      "text/plain": [
       "['에스프레소', '아메리카노', '카페라떼', '카푸치노']"
      ]
     },
     "execution_count": 107,
     "metadata": {},
     "output_type": "execute_result"
    }
   ],
   "source": [
    "\"에스프레소 아메리카노 카페라떼 카푸치노\".split()"
   ]
  },
  {
   "cell_type": "code",
   "execution_count": 109,
   "id": "b87fca0c-5d1a-4b1a-81b7-194b9b5f0a71",
   "metadata": {},
   "outputs": [
    {
     "data": {
      "text/plain": [
       "['에스프레소', '아메리카노', '카페라떼', '카푸치노']"
      ]
     },
     "execution_count": 109,
     "metadata": {},
     "output_type": "execute_result"
    }
   ],
   "source": [
    "\"  에스프레소 \\n\\n 아메리카노 \\n 카페라떼 카푸치노 \\n\\n\".split()"
   ]
  },
  {
   "cell_type": "code",
   "execution_count": 111,
   "id": "83b246b4-6497-4768-a4ae-796d48b95804",
   "metadata": {},
   "outputs": [
    {
     "data": {
      "text/plain": [
       "['에스프레소', '아메리카노', '카페라떼 카푸치노']"
      ]
     },
     "execution_count": 111,
     "metadata": {},
     "output_type": "execute_result"
    }
   ],
   "source": [
    "\"에스프레소 아메리카노 카페라떼 카푸치노\".split(maxsplit=2)"
   ]
  },
  {
   "cell_type": "code",
   "execution_count": 113,
   "id": "42ca36a0-d214-4146-89d0-e20b8f4a2432",
   "metadata": {},
   "outputs": [],
   "source": [
    "phone_number = \"+82-01-2345-6789\""
   ]
  },
  {
   "cell_type": "code",
   "execution_count": 115,
   "id": "f10e31e6-a20f-47d6-b870-cc3207369b88",
   "metadata": {},
   "outputs": [],
   "source": [
    "split_num = phone_number.split(\"-\",1)"
   ]
  },
  {
   "cell_type": "code",
   "execution_count": 117,
   "id": "aa468bdc-729d-45d5-a925-8bfe71859754",
   "metadata": {},
   "outputs": [
    {
     "name": "stdout",
     "output_type": "stream",
     "text": [
      "['+82', '01-2345-6789']\n",
      "국내전화번호: 01-2345-6789\n"
     ]
    }
   ],
   "source": [
    "print(split_num)\n",
    "print(\"국내전화번호: {0}\".format(split_num[1]))"
   ]
  },
  {
   "cell_type": "code",
   "execution_count": 119,
   "id": "e3195b5d-ce14-4bf1-9fbe-57aa24443dc9",
   "metadata": {},
   "outputs": [
    {
     "data": {
      "text/plain": [
       "'Python'"
      ]
     },
     "execution_count": 119,
     "metadata": {},
     "output_type": "execute_result"
    }
   ],
   "source": [
    "\"aaaaPythonaaaa\".strip('a')"
   ]
  },
  {
   "cell_type": "code",
   "execution_count": 121,
   "id": "16b7ca41-0d4c-4f42-b16a-6fbd507c755a",
   "metadata": {},
   "outputs": [
    {
     "data": {
      "text/plain": [
       "'bbPythonbbbb'"
      ]
     },
     "execution_count": 121,
     "metadata": {},
     "output_type": "execute_result"
    }
   ],
   "source": [
    "test_str =\"aaabbPythonbbbbaaa\"\n",
    "temp1 = test_str.strip('a')\n",
    "temp1"
   ]
  },
  {
   "cell_type": "code",
   "execution_count": 123,
   "id": "d563955f-1a1e-443f-86fc-6defec8ce3a2",
   "metadata": {},
   "outputs": [
    {
     "data": {
      "text/plain": [
       "'Python'"
      ]
     },
     "execution_count": 123,
     "metadata": {},
     "output_type": "execute_result"
    }
   ],
   "source": [
    "temp1.strip('b')"
   ]
  },
  {
   "cell_type": "code",
   "execution_count": 125,
   "id": "6ae9f98f-6f91-4a63-94ae-20409b6b30fe",
   "metadata": {},
   "outputs": [
    {
     "data": {
      "text/plain": [
       "'Python'"
      ]
     },
     "execution_count": 125,
     "metadata": {},
     "output_type": "execute_result"
    }
   ],
   "source": [
    "test_str.strip('ab')"
   ]
  },
  {
   "cell_type": "code",
   "execution_count": 127,
   "id": "8883f911-aeab-46ae-8baa-841e5119e277",
   "metadata": {},
   "outputs": [
    {
     "data": {
      "text/plain": [
       "'Python'"
      ]
     },
     "execution_count": 127,
     "metadata": {},
     "output_type": "execute_result"
    }
   ],
   "source": [
    "test_str.strip('ba')"
   ]
  },
  {
   "cell_type": "code",
   "execution_count": 144,
   "id": "4dceb1ed-a8e2-40bf-924c-47f1755c64a6",
   "metadata": {},
   "outputs": [
    {
     "data": {
      "text/plain": [
       "' Python is powerful..!!!...%%!#.. '"
      ]
     },
     "execution_count": 144,
     "metadata": {},
     "output_type": "execute_result"
    }
   ],
   "source": [
    "test_str_multi = \"##***!!!##.... Python is powerful..!!!...%%!#.. \"\n",
    "test_str_multi.strip('*.#!%')"
   ]
  },
  {
   "cell_type": "code",
   "execution_count": 146,
   "id": "1ec8685e-586f-4dc5-bb37-f3876a4d5115",
   "metadata": {},
   "outputs": [
    {
     "data": {
      "text/plain": [
       "' Python is powerful..!!!...%%!#.. '"
      ]
     },
     "execution_count": 146,
     "metadata": {},
     "output_type": "execute_result"
    }
   ],
   "source": [
    "test_str_multi.strip('%*!#.')"
   ]
  },
  {
   "cell_type": "code",
   "execution_count": 148,
   "id": "5805f701-4675-4364-b7ae-bea1a3731cef",
   "metadata": {},
   "outputs": [],
   "source": [
    "str_lr = \"000Python is easy to learn.000\""
   ]
  },
  {
   "cell_type": "code",
   "execution_count": 152,
   "id": "b35c0c02-154e-4916-a4d5-403699f56123",
   "metadata": {},
   "outputs": [
    {
     "name": "stdout",
     "output_type": "stream",
     "text": [
      "Python is easy to learn.\n",
      "Python is easy to learn.000\n",
      "000Python is easy to learn.\n"
     ]
    }
   ],
   "source": [
    "print(str_lr.strip('0'))\n",
    "print(str_lr.lstrip('0'))\n",
    "print(str_lr.rstrip('0'))"
   ]
  },
  {
   "cell_type": "code",
   "execution_count": 156,
   "id": "0c682e5d-ead3-41f7-84cf-5319e6021e62",
   "metadata": {},
   "outputs": [
    {
     "data": {
      "text/plain": [
       "[' 에스프레소', ' 아메리카노', ' 카페라테', '   카푸치노 ']"
      ]
     },
     "execution_count": 156,
     "metadata": {},
     "output_type": "execute_result"
    }
   ],
   "source": [
    "coffee_menu = \" 에스프레소, 아메리카노, 카페라테,   카푸치노 \"\n",
    "coffee_menu_list = coffee_menu.split(',')\n",
    "coffee_menu_list"
   ]
  },
  {
   "cell_type": "code",
   "execution_count": 158,
   "id": "a0c8caf1-ee3b-4207-a9ed-e55924b2702e",
   "metadata": {},
   "outputs": [
    {
     "name": "stdout",
     "output_type": "stream",
     "text": [
      "['에스프레소', '아메리카노', '카페라테', '카푸치노']\n"
     ]
    }
   ],
   "source": [
    "coffee_list = []\n",
    "for coffee in coffee_menu_list:\n",
    "    temp = coffee.strip()\n",
    "    coffee_list.append(temp)\n",
    "print(coffee_list)"
   ]
  },
  {
   "cell_type": "code",
   "execution_count": 160,
   "id": "7ab5af68-431c-4c48-b220-630f3c476265",
   "metadata": {},
   "outputs": [
    {
     "name": "stdout",
     "output_type": "stream",
     "text": [
      "철수님, 주소와 전화 번호를 입력해주세요\n",
      "영미님, 주소와 전화 번호를 입력해주세요\n"
     ]
    }
   ],
   "source": [
    "name1 =\"철수\"\n",
    "name2 = \"영미\"\n",
    "hello = \"님, 주소와 전화 번호를 입력해주세요\"\n",
    "print(name1 + hello)\n",
    "print(name2 + hello)"
   ]
  },
  {
   "cell_type": "code",
   "execution_count": 162,
   "id": "adaef0c9-4744-4aab-b93a-7c9ad28af569",
   "metadata": {},
   "outputs": [
    {
     "data": {
      "text/plain": [
       "'서울시 서초구 반포대로 201(반포동)'"
      ]
     },
     "execution_count": 162,
     "metadata": {},
     "output_type": "execute_result"
    }
   ],
   "source": [
    "address_list=[\"서울시\",\"서초구\",\"반포대로\",\"201(반포동)\"]\n",
    "address_list\n",
    "a=\" \"\n",
    "a.join(address_list)"
   ]
  },
  {
   "cell_type": "code",
   "execution_count": 164,
   "id": "8d8475b7-d4b2-4738-b491-60deab5b561c",
   "metadata": {},
   "outputs": [
    {
     "data": {
      "text/plain": [
       "'서울시 서초구 반포대로 201(반포동)'"
      ]
     },
     "execution_count": 164,
     "metadata": {},
     "output_type": "execute_result"
    }
   ],
   "source": [
    "\" \".join(address_list)"
   ]
  },
  {
   "cell_type": "code",
   "execution_count": 166,
   "id": "570780cb-45dc-484f-99ce-7e7c822ec14a",
   "metadata": {},
   "outputs": [
    {
     "data": {
      "text/plain": [
       "'서울시*^^*서초구*^^*반포대로*^^*201(반포동)'"
      ]
     },
     "execution_count": 166,
     "metadata": {},
     "output_type": "execute_result"
    }
   ],
   "source": [
    "\"*^^*\".join(address_list)"
   ]
  },
  {
   "cell_type": "code",
   "execution_count": 170,
   "id": "2273a48d-02a8-4572-8a80-a60cb572b551",
   "metadata": {},
   "outputs": [
    {
     "name": "stdout",
     "output_type": "stream",
     "text": [
      "찾는 문자열의 위치: 0\n",
      "찾는 문자열의 위치: 7\n",
      "찾는 문자열의 위치: 5\n",
      "찾는 문자열의 위치: -1\n"
     ]
    }
   ],
   "source": [
    "str_f = \"Python code.\"\n",
    "print(\"찾는 문자열의 위치:\",str_f.find(\"Python\"))\n",
    "print(\"찾는 문자열의 위치:\",str_f.find(\"code\"))\n",
    "print(\"찾는 문자열의 위치:\",str_f.find(\"n\"))\n",
    "print(\"찾는 문자열의 위치:\",str_f.find(\"easy\"))"
   ]
  },
  {
   "cell_type": "code",
   "execution_count": 172,
   "id": "f0182ed3-a776-4b9f-82f8-5ff8f8b142ee",
   "metadata": {},
   "outputs": [
    {
     "name": "stdout",
     "output_type": "stream",
     "text": [
      "20\n",
      "-1\n"
     ]
    }
   ],
   "source": [
    "str_f_se = \"Python is powerful. Python is easy to learn\"\n",
    "print(str_f_se.find(\"Python\", 10, 30))\n",
    "print(str_f_se.find(\"Python\",35))"
   ]
  },
  {
   "cell_type": "code",
   "execution_count": 176,
   "id": "e4303084-d572-4286-aa7d-fbdb9c38f5e6",
   "metadata": {},
   "outputs": [
    {
     "name": "stdout",
     "output_type": "stream",
     "text": [
      "Python의 개수는 ?:  3\n",
      "powerful의 개수는 ? : 1\n",
      "IPython의 개수는 ? : 0\n"
     ]
    }
   ],
   "source": [
    "str_c = \"Python is powerful. Python is easy to learn. Python is open.\"\n",
    "\n",
    "print(\"Python의 개수는 ?: \" , str_c.count(\"Python\"))\n",
    "print(\"powerful의 개수는 ? :\" , str_c.count(\"powerful\"))\n",
    "print(\"IPython의 개수는 ? :\", str_c.count(\"IPython\"))"
   ]
  },
  {
   "cell_type": "code",
   "execution_count": 182,
   "id": "17b3472d-68f9-4d06-be39-b7e4b22f5967",
   "metadata": {},
   "outputs": [
    {
     "name": "stdout",
     "output_type": "stream",
     "text": [
      "Python으로 시작? : True\n",
      "is로 시작? :  False\n",
      ".로 끝?: True\n",
      "learn으로 끝?: False\n"
     ]
    }
   ],
   "source": [
    "str_se = \"Python is powerful. Python is easy to learn.\"\n",
    "print(\"Python으로 시작? :\", str_se.startswith(\"Python\"))\n",
    "print(\"is로 시작? : \",str_se.startswith(\"is\"))\n",
    "print(\".로 끝?:\", str_se.endswith(\".\"))\n",
    "print(\"learn으로 끝?:\", str_se.endswith(\"learn\"))\n"
   ]
  },
  {
   "cell_type": "code",
   "execution_count": 184,
   "id": "a4f78b67-4531-4146-a3b7-d429345dd0ef",
   "metadata": {},
   "outputs": [
    {
     "name": "stdout",
     "output_type": "stream",
     "text": [
      "IPython is fast. IPython is friendly. IPython is open.\n",
      "IPython is fast. IPython is friendly. Python is open.\n"
     ]
    }
   ],
   "source": [
    "str_a = 'Python is fast. Python is friendly. Python is open.'\n",
    "print(str_a.replace('Python', 'IPython'))\n",
    "print(str_a.replace('Python','IPython',2))"
   ]
  },
  {
   "cell_type": "code",
   "execution_count": 188,
   "id": "9680f795-4653-45ff-abb0-3683295a880f",
   "metadata": {},
   "outputs": [
    {
     "name": "stdout",
     "output_type": "stream",
     "text": [
      "[Python][is][fast]\n",
      "Python]is]fast]\n",
      "Pythonisfast\n"
     ]
    }
   ],
   "source": [
    "str_b = '[Python][is][fast]'\n",
    "str_b1 = str_b.replace('[','')\n",
    "str_b2 = str_b1.replace(']','')\n",
    "print(str_b)\n",
    "print(str_b1)\n",
    "print(str_b2)"
   ]
  },
  {
   "cell_type": "code",
   "execution_count": 190,
   "id": "bc1970a5-5eb1-43ae-9a4b-807747939a2c",
   "metadata": {},
   "outputs": [
    {
     "name": "stdout",
     "output_type": "stream",
     "text": [
      "True\n"
     ]
    }
   ],
   "source": [
    "print('Python'.isalpha())"
   ]
  },
  {
   "cell_type": "code",
   "execution_count": 192,
   "id": "603e4e29-5873-41d1-9ce4-cba383e98bfa",
   "metadata": {},
   "outputs": [
    {
     "name": "stdout",
     "output_type": "stream",
     "text": [
      "False\n"
     ]
    }
   ],
   "source": [
    "print('Ver. 3.x'.isalpha())"
   ]
  },
  {
   "cell_type": "code",
   "execution_count": 194,
   "id": "1e4b83db-a812-4bd5-8a4e-96ea99c4144c",
   "metadata": {},
   "outputs": [
    {
     "name": "stdout",
     "output_type": "stream",
     "text": [
      "True\n"
     ]
    }
   ],
   "source": [
    "print('12345'.isdigit())"
   ]
  },
  {
   "cell_type": "code",
   "execution_count": 198,
   "id": "7c81eaa1-e1bd-40ed-9ebd-8805ead0c5b5",
   "metadata": {},
   "outputs": [
    {
     "name": "stdout",
     "output_type": "stream",
     "text": [
      "False\n"
     ]
    }
   ],
   "source": [
    "print('12345abc'.isdigit())"
   ]
  },
  {
   "cell_type": "code",
   "execution_count": 200,
   "id": "68a548e6-855b-4bb2-938a-2aaaa9bec6eb",
   "metadata": {},
   "outputs": [
    {
     "name": "stdout",
     "output_type": "stream",
     "text": [
      "True\n"
     ]
    }
   ],
   "source": [
    "print('abc1234'.isalnum())"
   ]
  },
  {
   "cell_type": "code",
   "execution_count": 202,
   "id": "7183dbb0-5ea8-4069-9204-b382bad0ca88",
   "metadata": {},
   "outputs": [
    {
     "name": "stdout",
     "output_type": "stream",
     "text": [
      "False\n"
     ]
    }
   ],
   "source": [
    "print('   abc1234'.isalnum())"
   ]
  },
  {
   "cell_type": "code",
   "execution_count": 204,
   "id": "3d8bf8bb-f9da-4438-b6a9-0f80f50e62c0",
   "metadata": {},
   "outputs": [
    {
     "name": "stdout",
     "output_type": "stream",
     "text": [
      "True\n"
     ]
    }
   ],
   "source": [
    "print(' '.isspace())"
   ]
  },
  {
   "cell_type": "code",
   "execution_count": 206,
   "id": "839bf27f-94dd-4e2c-ac80-a8bcf4d39461",
   "metadata": {},
   "outputs": [
    {
     "name": "stdout",
     "output_type": "stream",
     "text": [
      "False\n"
     ]
    }
   ],
   "source": [
    "print(' 1'.isspace())"
   ]
  },
  {
   "cell_type": "code",
   "execution_count": 210,
   "id": "2ba44b90-eaff-4ef3-a982-73f46b498454",
   "metadata": {},
   "outputs": [
    {
     "name": "stdout",
     "output_type": "stream",
     "text": [
      "True\n",
      "False\n",
      "True\n",
      "False\n"
     ]
    }
   ],
   "source": [
    "print('PYTHON'.isupper())\n",
    "print('Python'.isupper())\n",
    "print('python'.islower())\n",
    "print('Python'.islower())"
   ]
  },
  {
   "cell_type": "code",
   "execution_count": 214,
   "id": "d46b4ba9-154c-4f34-b070-f6ec3ac1c404",
   "metadata": {},
   "outputs": [
    {
     "name": "stdout",
     "output_type": "stream",
     "text": [
      "python is powerful. python is easy to learn.\n",
      "PYTHON IS POWERFUL. PYTHON IS EASY TO LEARN.\n"
     ]
    }
   ],
   "source": [
    "string1 = 'Python is powerful. PYTHON IS EASY TO LEARN.'\n",
    "print(string1.lower())\n",
    "print(string1.upper())"
   ]
  },
  {
   "cell_type": "code",
   "execution_count": 216,
   "id": "d2416996-937c-4f63-b5e5-9ba3be0d1c9a",
   "metadata": {},
   "outputs": [
    {
     "data": {
      "text/plain": [
       "False"
      ]
     },
     "execution_count": 216,
     "metadata": {},
     "output_type": "execute_result"
    }
   ],
   "source": [
    "'Python' == 'python'"
   ]
  },
  {
   "cell_type": "code",
   "execution_count": 218,
   "id": "94b9a3e2-21ba-4273-afe1-47a43365ae1f",
   "metadata": {},
   "outputs": [
    {
     "name": "stdout",
     "output_type": "stream",
     "text": [
      "True\n",
      "True\n"
     ]
    }
   ],
   "source": [
    "print('Python'.lower() =='python'.lower())\n",
    "print('Python'.upper() =='python'.upper())"
   ]
  },
  {
   "cell_type": "code",
   "execution_count": 238,
   "id": "84dfb14a-9b0a-4978-923e-6aedd7d441b9",
   "metadata": {},
   "outputs": [],
   "source": [
    "with open('C:/Users/user1/git/BOOK_PYTHON_DATA/coffeeShopSales.txt','w',encoding='utf-8')as file:\n",
    "    file.write('날짜 에스프레소 아메리카노 카페라테 카푸치노\\n')\n",
    "    file.write('10.15 10 50 45 20\\n')\n",
    "    file.write('10.16 12 45 41 18\\n')\n",
    "    file.write('10.17 11 53 32 25\\n')\n",
    "    file.write('10.18 15 49 38 22\\n')\n"
   ]
  },
  {
   "cell_type": "code",
   "execution_count": 240,
   "id": "f7d258db-1128-433a-b582-ef0177c0783f",
   "metadata": {},
   "outputs": [
    {
     "name": "stdout",
     "output_type": "stream",
     "text": [
      "날짜 에스프레소 아메리카노 카페라테 카푸치노\n",
      "10.15 10 50 45 20\n",
      "10.16 12 45 41 18\n",
      "10.17 11 53 32 25\n",
      "10.18 15 49 38 22\n",
      "\n"
     ]
    }
   ],
   "source": [
    "# 파일을 읽고 내용을 출력하기\n",
    "with open('C:/Users/user1/git/BOOK_PYTHON_DATA/coffeeShopSales.txt', 'r', encoding='utf-8') as file:\n",
    "    content = file.read()\n",
    "    print(content)\n"
   ]
  },
  {
   "cell_type": "code",
   "execution_count": 244,
   "id": "3c360d92-9c85-44a1-883a-07d6734415a2",
   "metadata": {},
   "outputs": [
    {
     "name": "stdout",
     "output_type": "stream",
     "text": [
      "날짜 에스프레소 아메리카노 카페라테 카푸치노\n",
      "10.15 10 50 45 20\n",
      "10.16 12 45 41 18\n",
      "10.17 11 53 32 25\n",
      "10.18 15 49 38 22\n"
     ]
    }
   ],
   "source": [
    "file_name = 'C:/Users/user1/git/BOOK_PYTHON_DATA/coffeeShopSales.txt'\n",
    "with open(file_name, 'r', encoding='utf-8')as f:\n",
    "    \n",
    "    for line in f:\n",
    "        print(line, end='')\n",
    "    f.close()\n",
    "    "
   ]
  },
  {
   "cell_type": "code",
   "execution_count": 248,
   "id": "d052c9cb-aba7-4ad7-8ee9-5467f2cdf0d5",
   "metadata": {},
   "outputs": [
    {
     "data": {
      "text/plain": [
       "'날짜 에스프레소 아메리카노 카페라테 카푸치노\\n'"
      ]
     },
     "execution_count": 248,
     "metadata": {},
     "output_type": "execute_result"
    }
   ],
   "source": [
    "f = open(file_name, encoding='utf-8')\n",
    "header = f.readline()\n",
    "f.close()\n",
    "header"
   ]
  },
  {
   "cell_type": "code",
   "execution_count": 250,
   "id": "ce383d05-98bb-491f-a194-1fdc1297a254",
   "metadata": {},
   "outputs": [],
   "source": [
    "header_list = header.split()"
   ]
  },
  {
   "cell_type": "code",
   "execution_count": 252,
   "id": "256b9b3d-b396-4ca2-83f5-2b4ef615d3a5",
   "metadata": {},
   "outputs": [
    {
     "data": {
      "text/plain": [
       "['날짜', '에스프레소', '아메리카노', '카페라테', '카푸치노']"
      ]
     },
     "execution_count": 252,
     "metadata": {},
     "output_type": "execute_result"
    }
   ],
   "source": [
    "header_list"
   ]
  },
  {
   "cell_type": "code",
   "execution_count": 254,
   "id": "84895745-bc99-4467-a635-512d46c4110e",
   "metadata": {},
   "outputs": [
    {
     "name": "stdout",
     "output_type": "stream",
     "text": [
      "['10.15', '10', '50', '45', '20']\n",
      "['10.16', '12', '45', '41', '18']\n",
      "['10.17', '11', '53', '32', '25']\n",
      "['10.18', '15', '49', '38', '22']\n"
     ]
    }
   ],
   "source": [
    "f = open(file_name, encoding='utf-8')\n",
    "header = f.readline() #f.readline()을 호출하면 첫 번째 줄을 읽은 뒤, 파일의 파일 포인터가 두 번째 줄로 이동합니다.\n",
    "header_list = header.split()\n",
    "for line in f: \n",
    "    data_list = line.split() \n",
    "    print(data_list)\n",
    "f.close()"
   ]
  },
  {
   "cell_type": "code",
   "execution_count": 262,
   "id": "1396a5e0-3339-4df9-b0ad-d1e4ac960997",
   "metadata": {},
   "outputs": [
    {
     "name": "stdout",
     "output_type": "stream",
     "text": [
      "에스프레소: [10, 12, 11, 15]\n",
      "아메리카노: [50, 45, 53, 49]\n",
      "카페라테: [45, 41, 32, 38]\n",
      "카푸치노: [20, 18, 25, 22]\n"
     ]
    }
   ],
   "source": [
    "f = open(file_name, encoding='utf-8')\n",
    "header = f.readline()\n",
    "headerList = header.split()\n",
    "\n",
    "espresso = []\n",
    "americano = []\n",
    "cafelatte = []\n",
    "cappucino = []\n",
    "\n",
    "for line in f : \n",
    "    dataList = line.split()\n",
    "\n",
    "    espresso.append(int(dataList[1]))\n",
    "    americano.append(int(dataList[2]))\n",
    "    cafelatte.append(int(dataList[3]))\n",
    "    cappucino.append(int(dataList[4]))\n",
    "f.close()\n",
    "\n",
    "print(\"{0}: {1}\".format(headerList[1], espresso))\n",
    "print(\"{0}: {1}\".format(headerList[2], americano))\n",
    "print(\"{0}: {1}\".format(headerList[3], cafelatte))\n",
    "print(\"{0}: {1}\".format(headerList[4], cappucino))"
   ]
  },
  {
   "cell_type": "code",
   "execution_count": 264,
   "id": "ed4963c0-300e-43fd-b0f6-1c9eb95daea6",
   "metadata": {},
   "outputs": [
    {
     "name": "stdout",
     "output_type": "stream",
     "text": [
      "[에스프레소] 판매량\n",
      "-나흘 전체 : 48, 하루 평균 : 12.0\n",
      "[아메리카노] 판매량\n",
      "-나흘 전체 : 197, 하루 평균 : 49.25\n",
      "[카페라테] 판매량\n",
      "-나흘 전체 : 156, 하루 평균 : 39.0\n",
      "[카푸치노] 판매량\n",
      "-나흘 전체 : 85, 하루 평균 : 21.25\n"
     ]
    }
   ],
   "source": [
    "total_sum =[sum(espresso), sum(americano),sum(cafelatte), sum(cappucino)]\n",
    "total_mean = [sum(espresso)/len(espresso), sum(americano)/len(americano), sum(cafelatte)/len(cafelatte), sum(cappucino)/len(cappucino)]\n",
    "for k in range(len(total_sum)):\n",
    "    print('[{0}] 판매량'.format(headerList[k+1]))\n",
    "    print('-나흘 전체 : {0}, 하루 평균 : {1}'.format(total_sum[k], total_mean[k]))"
   ]
  },
  {
   "cell_type": "code",
   "execution_count": 266,
   "id": "ca2c8480-21dd-4525-938a-810bfd042ffe",
   "metadata": {},
   "outputs": [
    {
     "name": "stdout",
     "output_type": "stream",
     "text": [
      "Writing C:\\Users\\user1\\git\\BOOK_PYTHON_DATA\\my_first_module.py\n"
     ]
    }
   ],
   "source": [
    "%%writefile C:\\Users\\user1\\git\\BOOK_PYTHON_DATA\\modules\\my_first_module.py\n",
    "def my_function():\n",
    "    print(\"This is my first module.\")"
   ]
  },
  {
   "cell_type": "code",
   "execution_count": 286,
   "id": "fa9d225c-66d0-4dda-ac0f-11b1cde71453",
   "metadata": {},
   "outputs": [
    {
     "name": "stdout",
     "output_type": "stream",
     "text": [
      "def my_function():\n",
      "    print(\"This is my first module.\")\n"
     ]
    }
   ],
   "source": [
    "!type C:\\Users\\user1\\git\\BOOK_PYTHON_DATA\\modules\\my_first_module.py"
   ]
  },
  {
   "cell_type": "code",
   "execution_count": 290,
   "id": "f6f6e745-276f-4afe-bfc8-6571b2b83cfa",
   "metadata": {},
   "outputs": [
    {
     "name": "stdout",
     "output_type": "stream",
     "text": [
      "C:\\Users\\user1\\git\\BOOK_PYTHON_DATA\\modules\n"
     ]
    }
   ],
   "source": [
    "cd C:\\Users\\user1\\git\\BOOK_PYTHON_DATA\\modules"
   ]
  },
  {
   "cell_type": "raw",
   "id": "8ced1862-34f0-456b-82ba-46a5e306921e",
   "metadata": {},
   "source": [
    "import my_first_module\n",
    "my_first_module.my_function()"
   ]
  },
  {
   "cell_type": "code",
   "execution_count": 5,
   "id": "87903871-ebd4-45bc-a8fb-1f39e6040145",
   "metadata": {},
   "outputs": [
    {
     "name": "stdout",
     "output_type": "stream",
     "text": [
      "C:\\Users\\user1\\git\\BOOK_PYTHON_DATA\\modules;C:\\Users\\user1\\git\\BOOK_PYTHON_DATA\\packages\n"
     ]
    }
   ],
   "source": [
    "!echo %PYTHONPATH%"
   ]
  },
  {
   "cell_type": "code",
   "execution_count": 296,
   "id": "f6bfaa00-249c-4f5b-b7eb-be7b83f1b07e",
   "metadata": {},
   "outputs": [
    {
     "name": "stdout",
     "output_type": "stream",
     "text": [
      "Writing C:\\Users\\user1\\git\\BOOK_PYTHON_DATA\\modules\\my_area.py\n"
     ]
    }
   ],
   "source": [
    "%%writefile C:\\Users\\user1\\git\\BOOK_PYTHON_DATA\\modules\\my_area.py\n",
    "\n",
    "PI = 3.14\n",
    "def square_area(a):\n",
    "    return a ** 2\n",
    "def circle_area(r):\n",
    "    return PI*r**2"
   ]
  },
  {
   "cell_type": "code",
   "execution_count": 298,
   "id": "c66e812e-5e6f-449a-9bc2-f4288c8fa774",
   "metadata": {},
   "outputs": [
    {
     "name": "stdout",
     "output_type": "stream",
     "text": [
      "C:\\Users\\user1\\git\\BOOK_PYTHON_DATA\n"
     ]
    }
   ],
   "source": [
    "cd C:\\Users\\user1\\git\\BOOK_PYTHON_DATA"
   ]
  },
  {
   "cell_type": "code",
   "execution_count": 7,
   "id": "61682e99-ca6a-4c9a-bd84-43108e364e49",
   "metadata": {},
   "outputs": [
    {
     "name": "stdout",
     "output_type": "stream",
     "text": [
      "pi = 3.14\n",
      "square area = 25\n",
      "circle area = 12.56\n"
     ]
    }
   ],
   "source": [
    "import my_area\n",
    "\n",
    "print('pi =', my_area.PI)\n",
    "print('square area =', my_area.square_area(5))\n",
    "print('circle area =', my_area.circle_area(2))"
   ]
  },
  {
   "cell_type": "code",
   "execution_count": 9,
   "id": "74f07da6-3167-4094-af19-ccd5e23e92fe",
   "metadata": {},
   "outputs": [
    {
     "data": {
      "text/plain": [
       "['PI',\n",
       " '__builtins__',\n",
       " '__cached__',\n",
       " '__doc__',\n",
       " '__file__',\n",
       " '__loader__',\n",
       " '__name__',\n",
       " '__package__',\n",
       " '__spec__',\n",
       " 'circle_area',\n",
       " 'square_area']"
      ]
     },
     "execution_count": 9,
     "metadata": {},
     "output_type": "execute_result"
    }
   ],
   "source": [
    "dir(my_area)"
   ]
  },
  {
   "cell_type": "code",
   "execution_count": 11,
   "id": "318089c6-3d16-433e-9cd9-09ca0b18dc57",
   "metadata": {},
   "outputs": [
    {
     "name": "stdout",
     "output_type": "stream",
     "text": [
      "pi= 3.14\n"
     ]
    }
   ],
   "source": [
    "from my_area import PI\n",
    "print('pi=', PI)"
   ]
  },
  {
   "cell_type": "code",
   "execution_count": 13,
   "id": "6978ab7d-dcc1-4a43-8b2a-b6bb8c1bc920",
   "metadata": {},
   "outputs": [
    {
     "name": "stdout",
     "output_type": "stream",
     "text": [
      "square area= 25\n",
      "circle area= 12.56\n"
     ]
    }
   ],
   "source": [
    "from my_area import square_area\n",
    "from my_area import circle_area\n",
    "\n",
    "print('square area=', square_area(5))\n",
    "print('circle area=', circle_area(2))"
   ]
  },
  {
   "cell_type": "code",
   "execution_count": 17,
   "id": "5feeed89-4bf4-4dc6-bad1-32583aec06ea",
   "metadata": {},
   "outputs": [
    {
     "name": "stdout",
     "output_type": "stream",
     "text": [
      "pi= 3.14\n",
      "square area= 25\n",
      "circle area= 12.56\n"
     ]
    }
   ],
   "source": [
    "from my_area import PI, square_area, circle_area\n",
    "\n",
    "print('pi=', PI)\n",
    "print('square area=', square_area(5))\n",
    "print('circle area=', circle_area(2))"
   ]
  },
  {
   "cell_type": "code",
   "execution_count": 19,
   "id": "3595432d-c8c0-47ce-8370-732d87be77c1",
   "metadata": {},
   "outputs": [
    {
     "name": "stdout",
     "output_type": "stream",
     "text": [
      "Writing C:\\Users\\user1\\git\\BOOK_PYTHON_DATA\\modules\\my_module1.py\n"
     ]
    }
   ],
   "source": [
    "%%writefile C:\\Users\\user1\\git\\BOOK_PYTHON_DATA\\modules\\my_module1.py\n",
    "\n",
    "def func1():\n",
    "    print(\"func1 in my_module1\")\n",
    "def func2():\n",
    "    print(\"func2 in my_module1\")"
   ]
  },
  {
   "cell_type": "code",
   "execution_count": 21,
   "id": "dccf772c-9f07-438d-812e-29032a3daab1",
   "metadata": {},
   "outputs": [
    {
     "name": "stdout",
     "output_type": "stream",
     "text": [
      "Writing C:\\Users\\user1\\git\\BOOK_PYTHON_DATA\\modules\\my_module2.py\n"
     ]
    }
   ],
   "source": [
    "%%writefile C:\\Users\\user1\\git\\BOOK_PYTHON_DATA\\modules\\my_module2.py\n",
    "\n",
    "def func2():\n",
    "    print(\"func2 in my_module2\")\n",
    "def func3():\n",
    "    print(\"func3 in my_module2\")"
   ]
  },
  {
   "cell_type": "code",
   "execution_count": 23,
   "id": "0a892bce-3b31-4495-bbed-70baee2cde50",
   "metadata": {},
   "outputs": [
    {
     "name": "stdout",
     "output_type": "stream",
     "text": [
      "func1 in my_module1\n",
      "func2 in my_module2\n",
      "func3 in my_module2\n"
     ]
    }
   ],
   "source": [
    "from my_module1 import *\n",
    "from my_module2 import *\n",
    "\n",
    "func1()\n",
    "func2()\n",
    "func3()"
   ]
  },
  {
   "cell_type": "code",
   "execution_count": 27,
   "id": "a600f937-39c1-4482-af0b-73a5096f333e",
   "metadata": {},
   "outputs": [
    {
     "name": "stdout",
     "output_type": "stream",
     "text": [
      "func1 in my_module1\n",
      "func2 in my_module1\n",
      "func3 in my_module2\n"
     ]
    }
   ],
   "source": [
    "from my_module2 import *\n",
    "from my_module1 import *\n",
    "\n",
    "func1()\n",
    "func2()\n",
    "func3()"
   ]
  },
  {
   "cell_type": "code",
   "execution_count": 29,
   "id": "8fc281f4-6aa2-4525-931a-26721a827145",
   "metadata": {},
   "outputs": [
    {
     "name": "stdout",
     "output_type": "stream",
     "text": [
      "pi= 3.14\n",
      "square area= 25\n",
      "circle area= 12.56\n"
     ]
    }
   ],
   "source": [
    "import my_area as area\n",
    "\n",
    "print('pi=', area.PI)\n",
    "print('square area=', area.square_area(5))\n",
    "print('circle area=',area.circle_area(2))\n"
   ]
  },
  {
   "cell_type": "code",
   "execution_count": 31,
   "id": "25dbfd76-8a5b-4ccf-956a-959344fa04f7",
   "metadata": {},
   "outputs": [
    {
     "name": "stdout",
     "output_type": "stream",
     "text": [
      "pi= 3.14\n",
      "square area = 25\n",
      "circle area = 12.56\n"
     ]
    }
   ],
   "source": [
    "from my_area import PI as pi\n",
    "from my_area import square_area as square\n",
    "from my_area import circle_area as circle\n",
    "\n",
    "print('pi=', pi)\n",
    "print('square area =', square(5))\n",
    "print('circle area =', circle(2))"
   ]
  },
  {
   "cell_type": "code",
   "execution_count": 33,
   "id": "e94ea209-2a84-4a28-99df-0110b1450248",
   "metadata": {},
   "outputs": [
    {
     "name": "stdout",
     "output_type": "stream",
     "text": [
      "Writing C:\\Users\\user1\\git\\BOOK_PYTHON_DATA\\modules\\my_module_test1.py\n"
     ]
    }
   ],
   "source": [
    "%%writefile C:\\Users\\user1\\git\\BOOK_PYTHON_DATA\\modules\\my_module_test1.py\n",
    "\n",
    "def func(a):\n",
    "    print(\"입력 숫자:\",a)\n",
    "func(3)"
   ]
  },
  {
   "cell_type": "code",
   "execution_count": 35,
   "id": "13478d99-74d2-4213-a46d-e1ff0d72ca26",
   "metadata": {},
   "outputs": [
    {
     "name": "stdout",
     "output_type": "stream",
     "text": [
      "입력 숫자: 3\n"
     ]
    }
   ],
   "source": [
    "%run C:\\Users\\user1\\git\\BOOK_PYTHON_DATA\\modules\\my_module_test1.py"
   ]
  },
  {
   "cell_type": "code",
   "execution_count": 37,
   "id": "cdfad0e4-e6a4-4de1-b0b4-092544f41b06",
   "metadata": {},
   "outputs": [
    {
     "name": "stdout",
     "output_type": "stream",
     "text": [
      "입력 숫자: 3\n"
     ]
    }
   ],
   "source": [
    "import my_module_test1"
   ]
  },
  {
   "cell_type": "code",
   "execution_count": 43,
   "id": "e51abca6-158f-425d-bf99-9208f344a26b",
   "metadata": {},
   "outputs": [
    {
     "name": "stdout",
     "output_type": "stream",
     "text": [
      "Overwriting C:\\Users\\user1\\git\\BOOK_PYTHON_DATA\\modules\\my_module_test2.py\n"
     ]
    }
   ],
   "source": [
    "%%writefile C:\\Users\\user1\\git\\BOOK_PYTHON_DATA\\modules\\my_module_test2.py\n",
    "\n",
    "def func(a):\n",
    "    print(\"입력 숫자 : \", a)\n",
    "if __name__ == \"__main__\":\n",
    "    print(\"모듈을 직접 실행\")\n",
    "    func(3)\n",
    "    func(4)"
   ]
  },
  {
   "cell_type": "code",
   "execution_count": 45,
   "id": "59bf60b2-69fd-4d79-97d5-863b36bb029d",
   "metadata": {},
   "outputs": [
    {
     "name": "stdout",
     "output_type": "stream",
     "text": [
      "모듈을 직접 실행\n",
      "입력 숫자 :  3\n",
      "입력 숫자 :  4\n"
     ]
    }
   ],
   "source": [
    "%run C:\\Users\\user1\\git\\BOOK_PYTHON_DATA\\modules\\my_module_test2.py"
   ]
  },
  {
   "cell_type": "code",
   "execution_count": 47,
   "id": "1afdc358-33f4-4d32-b0da-3c57a3f138fd",
   "metadata": {},
   "outputs": [],
   "source": [
    "import my_module_test2"
   ]
  },
  {
   "cell_type": "code",
   "execution_count": 49,
   "id": "0fe8125b-58d4-44b5-a710-57b3a840dab4",
   "metadata": {},
   "outputs": [
    {
     "name": "stdout",
     "output_type": "stream",
     "text": [
      "Writing C:\\Users\\user1\\git\\BOOK_PYTHON_DATA\\modules\\my_module_test3.py\n"
     ]
    }
   ],
   "source": [
    "%%writefile C:\\Users\\user1\\git\\BOOK_PYTHON_DATA\\modules\\my_module_test3.py\n",
    "\n",
    "def func(a):\n",
    "    print(\"입력숫자:\",a)\n",
    "\n",
    "if __name__ == \"__main__\":\n",
    "    print(\"모듈을 직접 실행\")\n",
    "    func(3)\n",
    "    func(4)\n",
    "else:\n",
    "    print(\"모듈을 임포트해서 실행\")\n",
    "    "
   ]
  },
  {
   "cell_type": "code",
   "execution_count": 51,
   "id": "7ebbfceb-4fa0-4418-9720-bf57edd18998",
   "metadata": {},
   "outputs": [
    {
     "name": "stdout",
     "output_type": "stream",
     "text": [
      "모듈을 직접 실행\n",
      "입력숫자: 3\n",
      "입력숫자: 4\n"
     ]
    }
   ],
   "source": [
    "%run C:\\Users\\user1\\git\\BOOK_PYTHON_DATA\\modules\\my_module_test3.py"
   ]
  },
  {
   "cell_type": "code",
   "execution_count": 53,
   "id": "31111754-cf28-42f4-adb1-b19a3eb130d7",
   "metadata": {},
   "outputs": [
    {
     "name": "stdout",
     "output_type": "stream",
     "text": [
      "모듈을 임포트해서 실행\n"
     ]
    }
   ],
   "source": [
    "import my_module_test3"
   ]
  },
  {
   "cell_type": "code",
   "execution_count": 55,
   "id": "15f67cf0-36cf-41fa-9dc4-e16abb76517f",
   "metadata": {},
   "outputs": [
    {
     "data": {
      "text/plain": [
       "0.7733319019176494"
      ]
     },
     "execution_count": 55,
     "metadata": {},
     "output_type": "execute_result"
    }
   ],
   "source": [
    "import random\n",
    "random.random()"
   ]
  },
  {
   "cell_type": "code",
   "execution_count": 63,
   "id": "74b6f9e4-22b3-40b8-9bbe-3971f07291db",
   "metadata": {},
   "outputs": [
    {
     "name": "stdout",
     "output_type": "stream",
     "text": [
      "주사위 두개의 숫자 : 4, 2\n"
     ]
    }
   ],
   "source": [
    "import random\n",
    "\n",
    "dice1 = random.randint(1,6)\n",
    "dice2 = random.randint(1,6)\n",
    "\n",
    "print('주사위 두개의 숫자 : {0}, {1}'.format(dice1, dice2))"
   ]
  },
  {
   "cell_type": "code",
   "execution_count": 65,
   "id": "fd4c9ee1-b7b9-4868-9a6c-d358f0213dcd",
   "metadata": {},
   "outputs": [
    {
     "data": {
      "text/plain": [
       "10"
      ]
     },
     "execution_count": 65,
     "metadata": {},
     "output_type": "execute_result"
    }
   ],
   "source": [
    "import random\n",
    "\n",
    "random.randrange(0,11,2)"
   ]
  },
  {
   "cell_type": "code",
   "execution_count": 67,
   "id": "82da94fe-e99f-4087-ba03-30799f929769",
   "metadata": {},
   "outputs": [
    {
     "name": "stdout",
     "output_type": "stream",
     "text": [
      "num1: 7, num2: 50\n"
     ]
    }
   ],
   "source": [
    "import random\n",
    "\n",
    "num1 = random.randrange(1,10,2)\n",
    "num2 = random.randrange(0,100,10)\n",
    "print('num1: {0}, num2: {1}'.format(num1,num2))"
   ]
  },
  {
   "cell_type": "code",
   "execution_count": 69,
   "id": "9b7658c6-d507-4bcf-bccc-cf39e08e748e",
   "metadata": {},
   "outputs": [
    {
     "data": {
      "text/plain": [
       "'비빔밥'"
      ]
     },
     "execution_count": 69,
     "metadata": {},
     "output_type": "execute_result"
    }
   ],
   "source": [
    "import random\n",
    "\n",
    "menu = ['비빔밥','된장찌개','볶음밥','불고기','스파게티','피자','탕수육']\n",
    "random.choice(menu)"
   ]
  },
  {
   "cell_type": "code",
   "execution_count": 71,
   "id": "f834bc61-f1d5-4506-9801-7fa7ff7914d6",
   "metadata": {},
   "outputs": [
    {
     "data": {
      "text/plain": [
       "[4, 1]"
      ]
     },
     "execution_count": 71,
     "metadata": {},
     "output_type": "execute_result"
    }
   ],
   "source": [
    "import random\n",
    "random.sample([1,2,3,4,5],2)"
   ]
  },
  {
   "cell_type": "code",
   "execution_count": 73,
   "id": "77a558bb-c10b-4568-bf88-045e1ca9c094",
   "metadata": {},
   "outputs": [
    {
     "name": "stdout",
     "output_type": "stream",
     "text": [
      "2019-03-01\n"
     ]
    }
   ],
   "source": [
    "import datetime\n",
    "\n",
    "set_day = datetime.date(2019,3,1)\n",
    "print(set_day)"
   ]
  },
  {
   "cell_type": "code",
   "execution_count": 75,
   "id": "61da4169-158e-46a8-90f1-35720542c524",
   "metadata": {},
   "outputs": [
    {
     "name": "stdout",
     "output_type": "stream",
     "text": [
      "2019/3/1\n"
     ]
    }
   ],
   "source": [
    "print('{0}/{1}/{2}'.format(set_day.year, set_day.month, set_day.day))"
   ]
  },
  {
   "cell_type": "code",
   "execution_count": 77,
   "id": "32dce305-e4a4-40ae-961c-6c7b8027a042",
   "metadata": {},
   "outputs": [],
   "source": [
    "import datetime\n",
    "\n",
    "day1 = datetime.date(2019,4,1)\n",
    "day2 = datetime.date(2019,7,10)"
   ]
  },
  {
   "cell_type": "code",
   "execution_count": 79,
   "id": "743f288a-aa8c-4079-a589-bff6ceebfec8",
   "metadata": {},
   "outputs": [
    {
     "name": "stdout",
     "output_type": "stream",
     "text": [
      "100 days, 0:00:00\n"
     ]
    }
   ],
   "source": [
    "diff_day = day2 - day1\n",
    "print(diff_day)"
   ]
  },
  {
   "cell_type": "code",
   "execution_count": 81,
   "id": "a7e67389-99a1-4ca8-987d-beb06f5b9aa0",
   "metadata": {},
   "outputs": [
    {
     "data": {
      "text/plain": [
       "datetime.date"
      ]
     },
     "execution_count": 81,
     "metadata": {},
     "output_type": "execute_result"
    }
   ],
   "source": [
    "type(day1)"
   ]
  },
  {
   "cell_type": "code",
   "execution_count": 85,
   "id": "d9675c13-e99b-4984-a955-61aca0a686a6",
   "metadata": {},
   "outputs": [
    {
     "data": {
      "text/plain": [
       "datetime.timedelta"
      ]
     },
     "execution_count": 85,
     "metadata": {},
     "output_type": "execute_result"
    }
   ],
   "source": [
    "type(diff_day)"
   ]
  },
  {
   "cell_type": "code",
   "execution_count": 87,
   "id": "16cf3e32-9ead-4003-a6d1-6253013f6544",
   "metadata": {},
   "outputs": [
    {
     "name": "stdout",
     "output_type": "stream",
     "text": [
      "** 지정된 두 날짜의 차이는 100일입니다. **\n"
     ]
    }
   ],
   "source": [
    "print(\"** 지정된 두 날짜의 차이는 {}일입니다. **\".format(diff_day.days))"
   ]
  },
  {
   "cell_type": "code",
   "execution_count": 89,
   "id": "412001f7-9db7-41d5-8e24-9af39c2b626e",
   "metadata": {},
   "outputs": [
    {
     "name": "stdout",
     "output_type": "stream",
     "text": [
      "2025-03-06\n"
     ]
    }
   ],
   "source": [
    "import datetime\n",
    "\n",
    "print(datetime.date.today())"
   ]
  },
  {
   "cell_type": "code",
   "execution_count": 93,
   "id": "67e83aa3-ef9c-4b7b-8490-7847f77c7973",
   "metadata": {},
   "outputs": [
    {
     "name": "stdout",
     "output_type": "stream",
     "text": [
      "300 days, 0:00:00\n"
     ]
    }
   ],
   "source": [
    "import datetime\n",
    "\n",
    "today = datetime.date.today()\n",
    "special_day = datetime.date(2025,12,31)\n",
    "print(special_day - today)"
   ]
  },
  {
   "cell_type": "code",
   "execution_count": 95,
   "id": "1c79643d-a7f4-452c-be31-88580c2052a3",
   "metadata": {},
   "outputs": [
    {
     "name": "stdout",
     "output_type": "stream",
     "text": [
      "15:30:45\n"
     ]
    }
   ],
   "source": [
    "import datetime\n",
    "\n",
    "set_time = datetime.time(15,30,45)\n",
    "print(set_time)"
   ]
  },
  {
   "cell_type": "code",
   "execution_count": 97,
   "id": "74a0c785-e9f8-4dd9-bd53-b8eb777f4545",
   "metadata": {},
   "outputs": [
    {
     "name": "stdout",
     "output_type": "stream",
     "text": [
      "15:30:45\n"
     ]
    }
   ],
   "source": [
    "print('{0}:{1}:{2}'.format(set_time.hour, set_time.minute,set_time.second))"
   ]
  },
  {
   "cell_type": "code",
   "execution_count": 99,
   "id": "94a40516-9c86-4d58-92ae-577091f8648d",
   "metadata": {},
   "outputs": [
    {
     "name": "stdout",
     "output_type": "stream",
     "text": [
      "2018-10-09 10:20:00\n"
     ]
    }
   ],
   "source": [
    "import datetime\n",
    "\n",
    "set_dt = datetime.datetime(2018,10,9,10,20,0)\n",
    "print(set_dt)"
   ]
  },
  {
   "cell_type": "code",
   "execution_count": 103,
   "id": "58a50eb3-d7c4-4040-9a40-4a4c484a9f18",
   "metadata": {},
   "outputs": [
    {
     "name": "stdout",
     "output_type": "stream",
     "text": [
      "날짜 2018/10/9\n",
      "시각 10:20:0\n"
     ]
    }
   ],
   "source": [
    "print('날짜 {0}/{1}/{2}'.format(set_dt.year, set_dt.month, set_dt.day))\n",
    "print('시각 {0}:{1}:{2}'.format(set_dt.hour, set_dt.minute, set_dt.second))"
   ]
  },
  {
   "cell_type": "code",
   "execution_count": 105,
   "id": "587e8c2f-575f-4762-af06-4e962b7d9a31",
   "metadata": {},
   "outputs": [
    {
     "name": "stdout",
     "output_type": "stream",
     "text": [
      "2025-03-06 15:36:19.171934\n"
     ]
    }
   ],
   "source": [
    "import datetime\n",
    "\n",
    "now = datetime.datetime.now()\n",
    "print(now)"
   ]
  },
  {
   "cell_type": "code",
   "execution_count": 107,
   "id": "26f7e7e8-8029-445a-a50d-d415af7634a5",
   "metadata": {},
   "outputs": [
    {
     "name": "stdout",
     "output_type": "stream",
     "text": [
      "Date & Time: 2025-03-06, 15:36:19\n"
     ]
    }
   ],
   "source": [
    "print(\"Date & Time: {:%Y-%m-%d, %H:%M:%S}\".format(now))"
   ]
  },
  {
   "cell_type": "code",
   "execution_count": 109,
   "id": "f9e10911-f4a3-4b23-ad6d-bf346f3480a2",
   "metadata": {},
   "outputs": [
    {
     "name": "stdout",
     "output_type": "stream",
     "text": [
      "                                  2025\n",
      "\n",
      "      January                   February                   March\n",
      "Mo Tu We Th Fr Sa Su      Mo Tu We Th Fr Sa Su      Mo Tu We Th Fr Sa Su\n",
      "       1  2  3  4  5                      1  2                      1  2\n",
      " 6  7  8  9 10 11 12       3  4  5  6  7  8  9       3  4  5  6  7  8  9\n",
      "13 14 15 16 17 18 19      10 11 12 13 14 15 16      10 11 12 13 14 15 16\n",
      "20 21 22 23 24 25 26      17 18 19 20 21 22 23      17 18 19 20 21 22 23\n",
      "27 28 29 30 31            24 25 26 27 28            24 25 26 27 28 29 30\n",
      "                                                    31\n",
      "\n",
      "       April                      May                       June\n",
      "Mo Tu We Th Fr Sa Su      Mo Tu We Th Fr Sa Su      Mo Tu We Th Fr Sa Su\n",
      "    1  2  3  4  5  6                1  2  3  4                         1\n",
      " 7  8  9 10 11 12 13       5  6  7  8  9 10 11       2  3  4  5  6  7  8\n",
      "14 15 16 17 18 19 20      12 13 14 15 16 17 18       9 10 11 12 13 14 15\n",
      "21 22 23 24 25 26 27      19 20 21 22 23 24 25      16 17 18 19 20 21 22\n",
      "28 29 30                  26 27 28 29 30 31         23 24 25 26 27 28 29\n",
      "                                                    30\n",
      "\n",
      "        July                     August                  September\n",
      "Mo Tu We Th Fr Sa Su      Mo Tu We Th Fr Sa Su      Mo Tu We Th Fr Sa Su\n",
      "    1  2  3  4  5  6                   1  2  3       1  2  3  4  5  6  7\n",
      " 7  8  9 10 11 12 13       4  5  6  7  8  9 10       8  9 10 11 12 13 14\n",
      "14 15 16 17 18 19 20      11 12 13 14 15 16 17      15 16 17 18 19 20 21\n",
      "21 22 23 24 25 26 27      18 19 20 21 22 23 24      22 23 24 25 26 27 28\n",
      "28 29 30 31               25 26 27 28 29 30 31      29 30\n",
      "\n",
      "      October                   November                  December\n",
      "Mo Tu We Th Fr Sa Su      Mo Tu We Th Fr Sa Su      Mo Tu We Th Fr Sa Su\n",
      "       1  2  3  4  5                      1  2       1  2  3  4  5  6  7\n",
      " 6  7  8  9 10 11 12       3  4  5  6  7  8  9       8  9 10 11 12 13 14\n",
      "13 14 15 16 17 18 19      10 11 12 13 14 15 16      15 16 17 18 19 20 21\n",
      "20 21 22 23 24 25 26      17 18 19 20 21 22 23      22 23 24 25 26 27 28\n",
      "27 28 29 30 31            24 25 26 27 28 29 30      29 30 31\n",
      "\n"
     ]
    }
   ],
   "source": [
    "import calendar\n",
    "\n",
    "print(calendar.calendar(2025))"
   ]
  },
  {
   "cell_type": "code",
   "execution_count": 111,
   "id": "76f22456-de1c-45ee-b722-17843a79e711",
   "metadata": {},
   "outputs": [
    {
     "name": "stdout",
     "output_type": "stream",
     "text": [
      "     March 2025\n",
      "Mo Tu We Th Fr Sa Su\n",
      "                1  2\n",
      " 3  4  5  6  7  8  9\n",
      "10 11 12 13 14 15 16\n",
      "17 18 19 20 21 22 23\n",
      "24 25 26 27 28 29 30\n",
      "31\n",
      "\n"
     ]
    }
   ],
   "source": [
    "print(calendar.month(2025,3))"
   ]
  },
  {
   "cell_type": "code",
   "execution_count": 113,
   "id": "f0b3c559-5c2d-4f9b-b879-f8c5e4adb9b7",
   "metadata": {},
   "outputs": [
    {
     "data": {
      "text/plain": [
       "(calendar.SATURDAY, 31)"
      ]
     },
     "execution_count": 113,
     "metadata": {},
     "output_type": "execute_result"
    }
   ],
   "source": [
    "calendar.monthrange(2025,3)"
   ]
  },
  {
   "cell_type": "code",
   "execution_count": 115,
   "id": "0b5f7ef3-75a1-4449-ac77-ae5109a5e5ce",
   "metadata": {},
   "outputs": [
    {
     "name": "stdout",
     "output_type": "stream",
     "text": [
      "     March 2025\n",
      "Su Mo Tu We Th Fr Sa\n",
      "                   1\n",
      " 2  3  4  5  6  7  8\n",
      " 9 10 11 12 13 14 15\n",
      "16 17 18 19 20 21 22\n",
      "23 24 25 26 27 28 29\n",
      "30 31\n",
      "\n"
     ]
    }
   ],
   "source": [
    "calendar.setfirstweekday(calendar.SUNDAY)\n",
    "print(calendar.month(2025,3))"
   ]
  },
  {
   "cell_type": "code",
   "execution_count": 117,
   "id": "73b30236-5164-447c-8223-33ab7e03c7ce",
   "metadata": {},
   "outputs": [
    {
     "name": "stdout",
     "output_type": "stream",
     "text": [
      "3\n"
     ]
    }
   ],
   "source": [
    "print(calendar.weekday(2025,3,6))\n"
   ]
  },
  {
   "cell_type": "code",
   "execution_count": 119,
   "id": "8fe8894d-f902-4448-a6a9-9e95ffce7da6",
   "metadata": {},
   "outputs": [
    {
     "name": "stdout",
     "output_type": "stream",
     "text": [
      "False\n"
     ]
    }
   ],
   "source": [
    "print(calendar.isleap(2025))"
   ]
  },
  {
   "cell_type": "code",
   "execution_count": 123,
   "id": "9e4ec755-7894-4dff-bc40-eac4fc14af3e",
   "metadata": {},
   "outputs": [
    {
     "name": "stdout",
     "output_type": "stream",
     "text": [
      "True\n"
     ]
    }
   ],
   "source": [
    "print(calendar.isleap(2024))"
   ]
  },
  {
   "cell_type": "code",
   "execution_count": 127,
   "id": "f210ae1b-1dde-400c-906b-7da6397c3c3f",
   "metadata": {},
   "outputs": [],
   "source": [
    "mkdir C:\\Users\\user1\\git\\BOOK_PYTHON_DATA\\packages\\image; C:\\Users\\user1\\git\\BOOK_PYTHON_DATA\\packages\\image\\io_file"
   ]
  },
  {
   "cell_type": "code",
   "execution_count": 129,
   "id": "ea6042bd-3a24-476e-b5a9-714cdbc96743",
   "metadata": {},
   "outputs": [
    {
     "name": "stdout",
     "output_type": "stream",
     "text": [
      "Writing C:\\Users\\user1\\git\\BOOK_PYTHON_DATA\\packages\\image\\__init__.py\n"
     ]
    }
   ],
   "source": [
    "%%writefile C:\\Users\\user1\\git\\BOOK_PYTHON_DATA\\packages\\image\\__init__.py\n",
    "# File name : __init__.py"
   ]
  },
  {
   "cell_type": "code",
   "execution_count": 133,
   "id": "b9bcb875-3e7e-471e-b087-cef8d7069923",
   "metadata": {},
   "outputs": [
    {
     "name": "stdout",
     "output_type": "stream",
     "text": [
      "Writing C:\\Users\\user1\\git\\BOOK_PYTHON_DATA\\packages\\image\\io_file\\__init__.py\n"
     ]
    }
   ],
   "source": [
    "%%writefile C:\\Users\\user1\\git\\BOOK_PYTHON_DATA\\packages\\image\\io_file\\__init__.py\n",
    "# File name : __init__.py"
   ]
  },
  {
   "cell_type": "code",
   "execution_count": 186,
   "id": "11ce2a5e-d094-4676-889a-71ed0cf26791",
   "metadata": {},
   "outputs": [
    {
     "name": "stdout",
     "output_type": "stream",
     "text": [
      "Writing C:\\Users\\user1\\git\\BOOK_PYTHON_DATA\\packages\\image\\io_file\\imgread.py\n"
     ]
    }
   ],
   "source": [
    "%%writefile C:\\Users\\user1\\git\\BOOK_PYTHON_DATA\\packages\\image\\io_file\\imgread.py\n",
    "# File name : imgread.py\n",
    "\n",
    "def pngread():\n",
    "    print(\"pngread in ingread module\")\n",
    "\n",
    "def jpgread():\n",
    "    print(\"jpgread in imgread module\")"
   ]
  },
  {
   "cell_type": "code",
   "execution_count": 3,
   "id": "eec6c982-40c1-4ce4-b3f6-95d3d71fb443",
   "metadata": {},
   "outputs": [
    {
     "name": "stdout",
     "output_type": "stream",
     "text": [
      "OS 볼륨에 대한 폴더 경로의 목록입니다.\n",
      "볼륨 일련 번호가 000000CE 7EBF:7429입니다.\n",
      "C:\\USERS\\USER1\\GIT\\BOOK_PYTHON_DATA\\PACKAGES\n",
      "└─image\n",
      "    │  __init__.py\n",
      "    │  \n",
      "    ├─io_file\n",
      "    │  │  imgread.py\n",
      "    │  │  __init__.py\n",
      "    │  │  \n",
      "    │  ├─.ipynb_checkpoints\n",
      "    │  └─__pycache__\n",
      "    │          imgread.cpython-312.pyc\n",
      "    │          __init__.cpython-312.pyc\n",
      "    │          \n",
      "    └─__pycache__\n",
      "            __init__.cpython-312.pyc\n",
      "            \n"
     ]
    }
   ],
   "source": [
    "!tree /F C:\\Users\\user1\\git\\BOOK_PYTHON_DATA\\packages"
   ]
  },
  {
   "cell_type": "code",
   "execution_count": 1,
   "id": "b64d6636-8a16-4766-9469-2bdccf2d112f",
   "metadata": {},
   "outputs": [
    {
     "name": "stdout",
     "output_type": "stream",
     "text": [
      "pngread in ingread module\n",
      "jpgread in imgread module\n"
     ]
    }
   ],
   "source": [
    "import image.io_file.imgread\n",
    "image.io_file.imgread.pngread()\n",
    "image.io_file.imgread.jpgread()"
   ]
  },
  {
   "cell_type": "code",
   "execution_count": 5,
   "id": "59096f03-479e-4279-9e03-a70e3c034b1f",
   "metadata": {},
   "outputs": [
    {
     "name": "stdout",
     "output_type": "stream",
     "text": [
      "pngread in ingread module\n",
      "jpgread in imgread module\n"
     ]
    }
   ],
   "source": [
    "from image.io_file import imgread\n",
    "\n",
    "imgread.pngread()\n",
    "imgread.jpgread()"
   ]
  },
  {
   "cell_type": "code",
   "execution_count": 9,
   "id": "5c59b465-15f5-467a-8017-41d9d530b7c4",
   "metadata": {},
   "outputs": [
    {
     "name": "stdout",
     "output_type": "stream",
     "text": [
      "pngread in ingread module\n"
     ]
    }
   ],
   "source": [
    "from image.io_file.imgread import pngread\n",
    "\n",
    "pngread()"
   ]
  },
  {
   "cell_type": "code",
   "execution_count": 11,
   "id": "c78c4cd5-951f-45c9-af88-284c490ba7ac",
   "metadata": {},
   "outputs": [
    {
     "name": "stdout",
     "output_type": "stream",
     "text": [
      "pngread in ingread module\n",
      "jpgread in imgread module\n"
     ]
    }
   ],
   "source": [
    "from image.io_file.imgread import *\n",
    "\n",
    "pngread()\n",
    "jpgread()"
   ]
  },
  {
   "cell_type": "code",
   "execution_count": 13,
   "id": "dd4a42d6-55fb-4cb1-9994-30d7e89c5cf4",
   "metadata": {},
   "outputs": [
    {
     "data": {
      "text/plain": [
       "array([0, 1, 2, 3, 4, 5])"
      ]
     },
     "execution_count": 13,
     "metadata": {},
     "output_type": "execute_result"
    }
   ],
   "source": [
    "import numpy as np \n",
    "data1 = [0,1,2,3,4,5]\n",
    "a1 = np.array(data1)\n",
    "a1"
   ]
  },
  {
   "cell_type": "code",
   "execution_count": 15,
   "id": "8f0d0bc5-1a26-42cb-92f5-410ba20ac61d",
   "metadata": {},
   "outputs": [
    {
     "data": {
      "text/plain": [
       "array([ 0.1,  5. ,  4. , 12. ,  0.5])"
      ]
     },
     "execution_count": 15,
     "metadata": {},
     "output_type": "execute_result"
    }
   ],
   "source": [
    "data2 = [0.1,5,4,12,0.5]\n",
    "a2 = np.array(data2)\n",
    "a2"
   ]
  },
  {
   "cell_type": "code",
   "execution_count": 17,
   "id": "66dd96f1-2903-41a3-9426-7ade5179229d",
   "metadata": {},
   "outputs": [
    {
     "data": {
      "text/plain": [
       "dtype('int64')"
      ]
     },
     "execution_count": 17,
     "metadata": {},
     "output_type": "execute_result"
    }
   ],
   "source": [
    "a1.dtype"
   ]
  },
  {
   "cell_type": "code",
   "execution_count": 19,
   "id": "d1b28ef5-c3ec-4b56-bc50-2c9051a11376",
   "metadata": {},
   "outputs": [
    {
     "data": {
      "text/plain": [
       "dtype('float64')"
      ]
     },
     "execution_count": 19,
     "metadata": {},
     "output_type": "execute_result"
    }
   ],
   "source": [
    "a2.dtype"
   ]
  },
  {
   "cell_type": "code",
   "execution_count": 21,
   "id": "f0c89d8d-0f19-465f-8f34-22884b61db64",
   "metadata": {},
   "outputs": [
    {
     "data": {
      "text/plain": [
       "array([0.5 , 2.  , 0.01, 8.  ])"
      ]
     },
     "execution_count": 21,
     "metadata": {},
     "output_type": "execute_result"
    }
   ],
   "source": [
    "np.array([0.5,2,0.01,8])"
   ]
  },
  {
   "cell_type": "code",
   "execution_count": 23,
   "id": "11f4daa4-24e0-472b-aa3d-08c1173f2808",
   "metadata": {},
   "outputs": [
    {
     "data": {
      "text/plain": [
       "array([[1, 2, 3],\n",
       "       [4, 5, 6],\n",
       "       [7, 8, 9]])"
      ]
     },
     "execution_count": 23,
     "metadata": {},
     "output_type": "execute_result"
    }
   ],
   "source": [
    "np.array([[1,2,3],[4,5,6],[7,8,9]])"
   ]
  },
  {
   "cell_type": "code",
   "execution_count": 27,
   "id": "c4ad153a-5cf2-449c-b5d3-42aaa8b54d55",
   "metadata": {},
   "outputs": [
    {
     "data": {
      "text/plain": [
       "array([0, 2, 4, 6, 8])"
      ]
     },
     "execution_count": 27,
     "metadata": {},
     "output_type": "execute_result"
    }
   ],
   "source": [
    "np.arange(0,10,2)\n"
   ]
  },
  {
   "cell_type": "code",
   "execution_count": 29,
   "id": "7316bb41-a584-435d-8c7e-59c06d2743c1",
   "metadata": {},
   "outputs": [
    {
     "data": {
      "text/plain": [
       "array([1, 2, 3, 4, 5, 6, 7, 8, 9])"
      ]
     },
     "execution_count": 29,
     "metadata": {},
     "output_type": "execute_result"
    }
   ],
   "source": [
    "np.arange(1,10)\n"
   ]
  },
  {
   "cell_type": "code",
   "execution_count": 31,
   "id": "4c100787-5d5b-4fb0-bac8-8ebd1cb6cff1",
   "metadata": {},
   "outputs": [
    {
     "data": {
      "text/plain": [
       "array([0, 1, 2, 3, 4])"
      ]
     },
     "execution_count": 31,
     "metadata": {},
     "output_type": "execute_result"
    }
   ],
   "source": [
    "np.arange(5)"
   ]
  },
  {
   "cell_type": "code",
   "execution_count": 33,
   "id": "011b983c-6102-42d2-a3ef-a90aa15daa20",
   "metadata": {},
   "outputs": [
    {
     "data": {
      "text/plain": [
       "array([[ 0,  1,  2],\n",
       "       [ 3,  4,  5],\n",
       "       [ 6,  7,  8],\n",
       "       [ 9, 10, 11]])"
      ]
     },
     "execution_count": 33,
     "metadata": {},
     "output_type": "execute_result"
    }
   ],
   "source": [
    "np.arange(12).reshape(4,3)"
   ]
  },
  {
   "cell_type": "code",
   "execution_count": 35,
   "id": "4594f1ba-9ed9-4afa-8acd-d8b199e943f7",
   "metadata": {},
   "outputs": [
    {
     "data": {
      "text/plain": [
       "(4, 3)"
      ]
     },
     "execution_count": 35,
     "metadata": {},
     "output_type": "execute_result"
    }
   ],
   "source": [
    "b1 = np.arange(12).reshape(4,3)\n",
    "b1.shape"
   ]
  },
  {
   "cell_type": "code",
   "execution_count": 37,
   "id": "9e4c8fe9-50f2-49f1-840e-da01fb6362ab",
   "metadata": {},
   "outputs": [
    {
     "data": {
      "text/plain": [
       "(5,)"
      ]
     },
     "execution_count": 37,
     "metadata": {},
     "output_type": "execute_result"
    }
   ],
   "source": [
    "b2 = np.arange(5)\n",
    "b2.shape"
   ]
  },
  {
   "cell_type": "code",
   "execution_count": 39,
   "id": "c7976985-072e-4d8a-bca0-a58662509a6a",
   "metadata": {},
   "outputs": [
    {
     "data": {
      "text/plain": [
       "array([ 1.,  2.,  3.,  4.,  5.,  6.,  7.,  8.,  9., 10.])"
      ]
     },
     "execution_count": 39,
     "metadata": {},
     "output_type": "execute_result"
    }
   ],
   "source": [
    "np.linspace(1,10,10)"
   ]
  },
  {
   "cell_type": "code",
   "execution_count": 41,
   "id": "b37828d3-f1cd-4411-958f-cfc51b6969e7",
   "metadata": {},
   "outputs": [
    {
     "data": {
      "text/plain": [
       "array([0.        , 0.16534698, 0.33069396, 0.49604095, 0.66138793,\n",
       "       0.82673491, 0.99208189, 1.15742887, 1.32277585, 1.48812284,\n",
       "       1.65346982, 1.8188168 , 1.98416378, 2.14951076, 2.31485774,\n",
       "       2.48020473, 2.64555171, 2.81089869, 2.97624567, 3.14159265])"
      ]
     },
     "execution_count": 41,
     "metadata": {},
     "output_type": "execute_result"
    }
   ],
   "source": [
    "np.linspace(0, np.pi, 20)"
   ]
  },
  {
   "cell_type": "code",
   "execution_count": 43,
   "id": "8cffed6c-a189-4e05-a1fe-5ded936f350e",
   "metadata": {},
   "outputs": [
    {
     "data": {
      "text/plain": [
       "array([0., 0., 0., 0., 0., 0., 0., 0., 0., 0.])"
      ]
     },
     "execution_count": 43,
     "metadata": {},
     "output_type": "execute_result"
    }
   ],
   "source": [
    "np.zeros(10)"
   ]
  },
  {
   "cell_type": "code",
   "execution_count": 45,
   "id": "d6488858-1ef5-45ba-b23c-d0591cb27ca4",
   "metadata": {},
   "outputs": [
    {
     "data": {
      "text/plain": [
       "array([[0., 0., 0., 0.],\n",
       "       [0., 0., 0., 0.],\n",
       "       [0., 0., 0., 0.]])"
      ]
     },
     "execution_count": 45,
     "metadata": {},
     "output_type": "execute_result"
    }
   ],
   "source": [
    "np.zeros((3,4))"
   ]
  },
  {
   "cell_type": "code",
   "execution_count": 47,
   "id": "fe4a9725-7996-4782-830d-e7851ac55dfd",
   "metadata": {},
   "outputs": [
    {
     "data": {
      "text/plain": [
       "array([1., 1., 1., 1., 1.])"
      ]
     },
     "execution_count": 47,
     "metadata": {},
     "output_type": "execute_result"
    }
   ],
   "source": [
    "np.ones(5)"
   ]
  },
  {
   "cell_type": "code",
   "execution_count": 49,
   "id": "69b412e0-63a2-4649-ac7b-b7a6fa604ca2",
   "metadata": {},
   "outputs": [
    {
     "data": {
      "text/plain": [
       "array([[1., 1., 1., 1., 1.],\n",
       "       [1., 1., 1., 1., 1.],\n",
       "       [1., 1., 1., 1., 1.]])"
      ]
     },
     "execution_count": 49,
     "metadata": {},
     "output_type": "execute_result"
    }
   ],
   "source": [
    "np.ones((3,5))"
   ]
  },
  {
   "cell_type": "code",
   "execution_count": 51,
   "id": "8ddd7f7e-c0a6-4254-ad6f-e97329c436e8",
   "metadata": {},
   "outputs": [
    {
     "data": {
      "text/plain": [
       "array([[1., 0., 0.],\n",
       "       [0., 1., 0.],\n",
       "       [0., 0., 1.]])"
      ]
     },
     "execution_count": 51,
     "metadata": {},
     "output_type": "execute_result"
    }
   ],
   "source": [
    "np.eye(3)"
   ]
  },
  {
   "cell_type": "code",
   "execution_count": 53,
   "id": "55995e33-333e-42c9-b5ae-81b30cf7b5a0",
   "metadata": {},
   "outputs": [
    {
     "data": {
      "text/plain": [
       "array(['1.5', '0.62', '2', '3.14', '3.141595'], dtype='<U8')"
      ]
     },
     "execution_count": 53,
     "metadata": {},
     "output_type": "execute_result"
    }
   ],
   "source": [
    "np.array(['1.5','0.62','2','3.14','3.141595'])"
   ]
  },
  {
   "cell_type": "code",
   "execution_count": 55,
   "id": "10f08d44-9f93-4185-9ae3-4d99e684405a",
   "metadata": {},
   "outputs": [],
   "source": [
    "str_a1 = np.array(['1.567','0.123','5.123','9','8'])"
   ]
  },
  {
   "cell_type": "code",
   "execution_count": 57,
   "id": "583ac3fa-8afc-488e-aff9-f2995e4b2c32",
   "metadata": {},
   "outputs": [
    {
     "data": {
      "text/plain": [
       "array([1.567, 0.123, 5.123, 9.   , 8.   ])"
      ]
     },
     "execution_count": 57,
     "metadata": {},
     "output_type": "execute_result"
    }
   ],
   "source": [
    "num_a1 = str_a1.astype(float)\n",
    "num_a1"
   ]
  },
  {
   "cell_type": "code",
   "execution_count": 59,
   "id": "1b04cf71-6c77-45bb-86bb-b03b8d919026",
   "metadata": {},
   "outputs": [
    {
     "data": {
      "text/plain": [
       "dtype('<U5')"
      ]
     },
     "execution_count": 59,
     "metadata": {},
     "output_type": "execute_result"
    }
   ],
   "source": [
    "str_a1.dtype"
   ]
  },
  {
   "cell_type": "code",
   "execution_count": 61,
   "id": "80458f52-fcf4-45f5-9427-b3890940c245",
   "metadata": {},
   "outputs": [
    {
     "data": {
      "text/plain": [
       "dtype('float64')"
      ]
     },
     "execution_count": 61,
     "metadata": {},
     "output_type": "execute_result"
    }
   ],
   "source": [
    "num_a1.dtype"
   ]
  },
  {
   "cell_type": "code",
   "execution_count": 63,
   "id": "6e0174df-f415-49ba-ae03-63f08954e24c",
   "metadata": {},
   "outputs": [],
   "source": [
    "str_a2 = np.array(['1','3','5','7','9'])"
   ]
  },
  {
   "cell_type": "code",
   "execution_count": 65,
   "id": "d9740fb5-40f2-4096-a681-52e9368e2b05",
   "metadata": {},
   "outputs": [],
   "source": [
    "num_a2 = str_a2.astype(int)"
   ]
  },
  {
   "cell_type": "code",
   "execution_count": 67,
   "id": "bda910a8-ad96-4afc-8563-5ad61279f711",
   "metadata": {},
   "outputs": [
    {
     "data": {
      "text/plain": [
       "array([1, 3, 5, 7, 9])"
      ]
     },
     "execution_count": 67,
     "metadata": {},
     "output_type": "execute_result"
    }
   ],
   "source": [
    "num_a2"
   ]
  },
  {
   "cell_type": "code",
   "execution_count": 69,
   "id": "d3378a57-7f23-4733-a13c-b91b862da91e",
   "metadata": {},
   "outputs": [
    {
     "data": {
      "text/plain": [
       "dtype('<U1')"
      ]
     },
     "execution_count": 69,
     "metadata": {},
     "output_type": "execute_result"
    }
   ],
   "source": [
    "str_a2.dtype"
   ]
  },
  {
   "cell_type": "code",
   "execution_count": 71,
   "id": "71a136aa-054e-4e79-ac18-3c2d971fa4da",
   "metadata": {},
   "outputs": [
    {
     "data": {
      "text/plain": [
       "dtype('int64')"
      ]
     },
     "execution_count": 71,
     "metadata": {},
     "output_type": "execute_result"
    }
   ],
   "source": [
    "num_a2.dtype"
   ]
  },
  {
   "cell_type": "code",
   "execution_count": 73,
   "id": "6507cde6-066e-41ff-9e6d-5b5f0daab281",
   "metadata": {},
   "outputs": [],
   "source": [
    "num_f1 = np.array([10,21,0.549,4.75,5.98])"
   ]
  },
  {
   "cell_type": "code",
   "execution_count": 75,
   "id": "0c591d77-47dd-4d8b-81a4-1a0c06fbe586",
   "metadata": {},
   "outputs": [],
   "source": [
    "num_i1 = num_f1.astype(int)"
   ]
  },
  {
   "cell_type": "code",
   "execution_count": 77,
   "id": "aeff2d75-bba0-4ccb-ba5d-def033e62717",
   "metadata": {},
   "outputs": [
    {
     "data": {
      "text/plain": [
       "array([10, 21,  0,  4,  5])"
      ]
     },
     "execution_count": 77,
     "metadata": {},
     "output_type": "execute_result"
    }
   ],
   "source": [
    "num_i1"
   ]
  },
  {
   "cell_type": "code",
   "execution_count": 79,
   "id": "3d8a5669-ee3a-44f9-9172-6e307ecce9fe",
   "metadata": {},
   "outputs": [
    {
     "data": {
      "text/plain": [
       "dtype('float64')"
      ]
     },
     "execution_count": 79,
     "metadata": {},
     "output_type": "execute_result"
    }
   ],
   "source": [
    "num_f1.dtype"
   ]
  },
  {
   "cell_type": "code",
   "execution_count": 81,
   "id": "23b9f01d-35ff-4b7a-b61f-9d8798b4332b",
   "metadata": {},
   "outputs": [
    {
     "data": {
      "text/plain": [
       "dtype('int64')"
      ]
     },
     "execution_count": 81,
     "metadata": {},
     "output_type": "execute_result"
    }
   ],
   "source": [
    "num_i1.dtype"
   ]
  },
  {
   "cell_type": "code",
   "execution_count": 83,
   "id": "dc42d89b-1603-4a2e-b74f-66e994c657fc",
   "metadata": {},
   "outputs": [
    {
     "data": {
      "text/plain": [
       "array([[0.50566135, 0.97686717, 0.66388549],\n",
       "       [0.32912493, 0.60185871, 0.71885161]])"
      ]
     },
     "execution_count": 83,
     "metadata": {},
     "output_type": "execute_result"
    }
   ],
   "source": [
    "np.random.rand(2,3)"
   ]
  },
  {
   "cell_type": "code",
   "execution_count": 85,
   "id": "692e3fb3-042f-4f20-8893-cc9df233da60",
   "metadata": {},
   "outputs": [
    {
     "data": {
      "text/plain": [
       "0.2969878588049817"
      ]
     },
     "execution_count": 85,
     "metadata": {},
     "output_type": "execute_result"
    }
   ],
   "source": [
    "np.random.rand()"
   ]
  },
  {
   "cell_type": "code",
   "execution_count": 87,
   "id": "37b18b64-9bad-46c2-8d56-fae591facbea",
   "metadata": {},
   "outputs": [
    {
     "data": {
      "text/plain": [
       "array([[[0.44284277, 0.57749633, 0.17502357, 0.52820778],\n",
       "        [0.8457516 , 0.27615544, 0.54821865, 0.574553  ],\n",
       "        [0.15273973, 0.74736009, 0.60385266, 0.50439651]],\n",
       "\n",
       "       [[0.65747047, 0.72965088, 0.97630498, 0.49665181],\n",
       "        [0.15323619, 0.48522123, 0.02601388, 0.64037322],\n",
       "        [0.04557065, 0.16881605, 0.71802295, 0.24420823]]])"
      ]
     },
     "execution_count": 87,
     "metadata": {},
     "output_type": "execute_result"
    }
   ],
   "source": [
    "np.random.rand(2,3,4)"
   ]
  },
  {
   "cell_type": "code",
   "execution_count": 89,
   "id": "5808a23e-14b4-4648-8128-464a4fe66bd4",
   "metadata": {},
   "outputs": [
    {
     "data": {
      "text/plain": [
       "array([[8, 7, 6, 8],\n",
       "       [5, 0, 5, 8],\n",
       "       [0, 2, 2, 8]], dtype=int32)"
      ]
     },
     "execution_count": 89,
     "metadata": {},
     "output_type": "execute_result"
    }
   ],
   "source": [
    "np.random.randint(10, size=(3,4))"
   ]
  },
  {
   "cell_type": "code",
   "execution_count": 91,
   "id": "c3f1b95c-8400-49c5-9b87-e4a92ad9118a",
   "metadata": {},
   "outputs": [
    {
     "data": {
      "text/plain": [
       "1"
      ]
     },
     "execution_count": 91,
     "metadata": {},
     "output_type": "execute_result"
    }
   ],
   "source": [
    "np.random.randint(1,30)"
   ]
  },
  {
   "cell_type": "code",
   "execution_count": 93,
   "id": "cc810bcf-cd9a-44f8-a619-47f1c1a4d68f",
   "metadata": {},
   "outputs": [],
   "source": [
    "arr1 = np.array([10,20,30,40])"
   ]
  },
  {
   "cell_type": "code",
   "execution_count": 95,
   "id": "1c8e63d4-1716-44c4-a272-13495a316461",
   "metadata": {},
   "outputs": [],
   "source": [
    "arr2 = np.array([1,2,3,4])"
   ]
  },
  {
   "cell_type": "code",
   "execution_count": 97,
   "id": "bf8dcf77-e7a3-4ab9-9d2d-079863ed90ad",
   "metadata": {},
   "outputs": [
    {
     "data": {
      "text/plain": [
       "array([11, 22, 33, 44])"
      ]
     },
     "execution_count": 97,
     "metadata": {},
     "output_type": "execute_result"
    }
   ],
   "source": [
    "arr1 + arr2"
   ]
  },
  {
   "cell_type": "code",
   "execution_count": 99,
   "id": "ce8a5ab0-59f7-4991-9892-d1e5f7b8cc3d",
   "metadata": {},
   "outputs": [
    {
     "data": {
      "text/plain": [
       "array([ 9, 18, 27, 36])"
      ]
     },
     "execution_count": 99,
     "metadata": {},
     "output_type": "execute_result"
    }
   ],
   "source": [
    "arr1 - arr2"
   ]
  },
  {
   "cell_type": "code",
   "execution_count": 101,
   "id": "14fea39d-f933-4406-8179-c30339970f80",
   "metadata": {},
   "outputs": [
    {
     "data": {
      "text/plain": [
       "array([2, 4, 6, 8])"
      ]
     },
     "execution_count": 101,
     "metadata": {},
     "output_type": "execute_result"
    }
   ],
   "source": [
    "arr2 * 2"
   ]
  },
  {
   "cell_type": "code",
   "execution_count": 103,
   "id": "ffe801c9-6a24-458f-a740-f297ed88c3db",
   "metadata": {},
   "outputs": [
    {
     "data": {
      "text/plain": [
       "array([ 1,  4,  9, 16])"
      ]
     },
     "execution_count": 103,
     "metadata": {},
     "output_type": "execute_result"
    }
   ],
   "source": [
    "arr2 **2"
   ]
  },
  {
   "cell_type": "code",
   "execution_count": 105,
   "id": "d3169647-6370-4b2d-878e-59372bd1b438",
   "metadata": {},
   "outputs": [
    {
     "data": {
      "text/plain": [
       "array([ 10,  40,  90, 160])"
      ]
     },
     "execution_count": 105,
     "metadata": {},
     "output_type": "execute_result"
    }
   ],
   "source": [
    "arr1 * arr2"
   ]
  },
  {
   "cell_type": "code",
   "execution_count": 107,
   "id": "7a06986e-d9fd-46b6-b21f-f119890ed364",
   "metadata": {},
   "outputs": [
    {
     "data": {
      "text/plain": [
       "array([10., 10., 10., 10.])"
      ]
     },
     "execution_count": 107,
     "metadata": {},
     "output_type": "execute_result"
    }
   ],
   "source": [
    "arr1 / arr2"
   ]
  },
  {
   "cell_type": "code",
   "execution_count": 109,
   "id": "216e7bf5-77a8-406a-82ac-e29a53c2af96",
   "metadata": {},
   "outputs": [
    {
     "data": {
      "text/plain": [
       "array([10.        ,  5.        ,  3.33333333,  2.5       ])"
      ]
     },
     "execution_count": 109,
     "metadata": {},
     "output_type": "execute_result"
    }
   ],
   "source": [
    "arr1 / (arr2**2)"
   ]
  },
  {
   "cell_type": "code",
   "execution_count": 111,
   "id": "fb3b953c-72fc-4a0f-a3ee-bcc226af7e8d",
   "metadata": {},
   "outputs": [
    {
     "data": {
      "text/plain": [
       "array([False, False,  True,  True])"
      ]
     },
     "execution_count": 111,
     "metadata": {},
     "output_type": "execute_result"
    }
   ],
   "source": [
    "arr1 > 20"
   ]
  },
  {
   "cell_type": "code",
   "execution_count": 113,
   "id": "dc2cc34d-1f5a-47c2-b129-51f79c8de84a",
   "metadata": {},
   "outputs": [
    {
     "data": {
      "text/plain": [
       "array([0, 1, 2, 3, 4])"
      ]
     },
     "execution_count": 113,
     "metadata": {},
     "output_type": "execute_result"
    }
   ],
   "source": [
    "arr3 = np.arange(5)\n",
    "arr3"
   ]
  },
  {
   "cell_type": "code",
   "execution_count": 115,
   "id": "857368c7-516f-4e88-9026-bfa7a59aaf53",
   "metadata": {},
   "outputs": [
    {
     "data": {
      "text/plain": [
       "(np.int64(10), np.float64(2.0))"
      ]
     },
     "execution_count": 115,
     "metadata": {},
     "output_type": "execute_result"
    }
   ],
   "source": [
    "arr3.sum(), arr3.mean()"
   ]
  },
  {
   "cell_type": "code",
   "execution_count": 117,
   "id": "dcb7d8c8-447d-43b7-9280-f42b0268cc54",
   "metadata": {},
   "outputs": [
    {
     "data": {
      "text/plain": [
       "[np.float64(1.4142135623730951), np.float64(2.0)]"
      ]
     },
     "execution_count": 117,
     "metadata": {},
     "output_type": "execute_result"
    }
   ],
   "source": [
    "[arr3.std(), arr3.var()]"
   ]
  },
  {
   "cell_type": "code",
   "execution_count": 119,
   "id": "119d0f02-d491-4079-8837-d61ea03f0f5b",
   "metadata": {},
   "outputs": [
    {
     "data": {
      "text/plain": [
       "[np.int64(0), np.int64(4)]"
      ]
     },
     "execution_count": 119,
     "metadata": {},
     "output_type": "execute_result"
    }
   ],
   "source": [
    "[arr3.min(), arr3.max()]"
   ]
  },
  {
   "cell_type": "code",
   "execution_count": 121,
   "id": "5807eca0-0e62-4900-a256-7ac852e6f052",
   "metadata": {},
   "outputs": [
    {
     "data": {
      "text/plain": [
       "array([1, 2, 3, 4])"
      ]
     },
     "execution_count": 121,
     "metadata": {},
     "output_type": "execute_result"
    }
   ],
   "source": [
    "arr4 = np.arange(1,5)\n",
    "arr4"
   ]
  },
  {
   "cell_type": "code",
   "execution_count": 123,
   "id": "35ec3a6e-0511-4bda-9689-fe7b30e0a4bf",
   "metadata": {},
   "outputs": [
    {
     "data": {
      "text/plain": [
       "array([ 1,  3,  6, 10])"
      ]
     },
     "execution_count": 123,
     "metadata": {},
     "output_type": "execute_result"
    }
   ],
   "source": [
    "arr4.cumsum()"
   ]
  },
  {
   "cell_type": "code",
   "execution_count": 125,
   "id": "6743a429-6f63-4ba3-bc1e-f7ce9049bbd3",
   "metadata": {},
   "outputs": [
    {
     "data": {
      "text/plain": [
       "array([ 1,  2,  6, 24])"
      ]
     },
     "execution_count": 125,
     "metadata": {},
     "output_type": "execute_result"
    }
   ],
   "source": [
    "arr4.cumprod()"
   ]
  },
  {
   "cell_type": "code",
   "execution_count": 127,
   "id": "8fa96c92-9b2a-4184-b6e3-dbd033a65f68",
   "metadata": {},
   "outputs": [],
   "source": [
    "A = np.array([0,1,2,3]).reshape(2,2)"
   ]
  },
  {
   "cell_type": "code",
   "execution_count": 129,
   "id": "e6317945-8b30-4a69-bd37-91078f4b41b6",
   "metadata": {},
   "outputs": [
    {
     "data": {
      "text/plain": [
       "array([[0, 1],\n",
       "       [2, 3]])"
      ]
     },
     "execution_count": 129,
     "metadata": {},
     "output_type": "execute_result"
    }
   ],
   "source": [
    "A"
   ]
  },
  {
   "cell_type": "code",
   "execution_count": 131,
   "id": "e7f959e9-87d8-4438-af52-4ed01741228a",
   "metadata": {},
   "outputs": [],
   "source": [
    "B = np.array([3,2,0,1]).reshape(2,2)"
   ]
  },
  {
   "cell_type": "code",
   "execution_count": 133,
   "id": "75711593-4299-4fea-8c3c-cacfbe8e58e8",
   "metadata": {},
   "outputs": [
    {
     "data": {
      "text/plain": [
       "array([[3, 2],\n",
       "       [0, 1]])"
      ]
     },
     "execution_count": 133,
     "metadata": {},
     "output_type": "execute_result"
    }
   ],
   "source": [
    "B"
   ]
  },
  {
   "cell_type": "code",
   "execution_count": 135,
   "id": "105d7e50-6e91-4135-80c0-683ecaacda09",
   "metadata": {},
   "outputs": [
    {
     "data": {
      "text/plain": [
       "array([[0, 1],\n",
       "       [6, 7]])"
      ]
     },
     "execution_count": 135,
     "metadata": {},
     "output_type": "execute_result"
    }
   ],
   "source": [
    "A.dot(B)"
   ]
  },
  {
   "cell_type": "code",
   "execution_count": 137,
   "id": "d5101fd8-cfdd-4ba6-acc9-a352f6b830c5",
   "metadata": {},
   "outputs": [
    {
     "data": {
      "text/plain": [
       "array([[0, 1],\n",
       "       [6, 7]])"
      ]
     },
     "execution_count": 137,
     "metadata": {},
     "output_type": "execute_result"
    }
   ],
   "source": [
    "np.dot(A,B)"
   ]
  },
  {
   "cell_type": "code",
   "execution_count": 139,
   "id": "1c184d1e-6f19-46d8-8baf-a9aa10530e90",
   "metadata": {},
   "outputs": [
    {
     "data": {
      "text/plain": [
       "array([[0, 2],\n",
       "       [1, 3]])"
      ]
     },
     "execution_count": 139,
     "metadata": {},
     "output_type": "execute_result"
    }
   ],
   "source": [
    "np.transpose(A)"
   ]
  },
  {
   "cell_type": "code",
   "execution_count": 141,
   "id": "feb9a38c-a454-40d2-bd8e-ee8e0266f94a",
   "metadata": {},
   "outputs": [
    {
     "data": {
      "text/plain": [
       "array([[0, 2],\n",
       "       [1, 3]])"
      ]
     },
     "execution_count": 141,
     "metadata": {},
     "output_type": "execute_result"
    }
   ],
   "source": [
    "A.transpose()"
   ]
  },
  {
   "cell_type": "code",
   "execution_count": 145,
   "id": "5d53cbbb-65ca-44e1-bfdb-4c50bca0093b",
   "metadata": {},
   "outputs": [
    {
     "data": {
      "text/plain": [
       "array([[0, 2],\n",
       "       [1, 3]])"
      ]
     },
     "execution_count": 145,
     "metadata": {},
     "output_type": "execute_result"
    }
   ],
   "source": [
    "A.transpose()"
   ]
  },
  {
   "cell_type": "code",
   "execution_count": 147,
   "id": "5a170380-11a6-4dc8-a33a-d3fc102dc25a",
   "metadata": {},
   "outputs": [
    {
     "data": {
      "text/plain": [
       "array([[-1.5,  0.5],\n",
       "       [ 1. ,  0. ]])"
      ]
     },
     "execution_count": 147,
     "metadata": {},
     "output_type": "execute_result"
    }
   ],
   "source": [
    "np.linalg.inv(A)"
   ]
  },
  {
   "cell_type": "code",
   "execution_count": 149,
   "id": "40bfe294-70a3-45b6-bb12-5dce971b542d",
   "metadata": {},
   "outputs": [
    {
     "data": {
      "text/plain": [
       "np.float64(-2.0)"
      ]
     },
     "execution_count": 149,
     "metadata": {},
     "output_type": "execute_result"
    }
   ],
   "source": [
    "np.linalg.det(A)"
   ]
  },
  {
   "cell_type": "code",
   "execution_count": 151,
   "id": "3b9825ac-f443-415c-b1a5-75ebbf70894b",
   "metadata": {},
   "outputs": [],
   "source": [
    "a1 = np.array([0,10,20,30,40,50])"
   ]
  },
  {
   "cell_type": "code",
   "execution_count": 153,
   "id": "ce7ed399-7fba-414f-9810-0395c2d4599b",
   "metadata": {},
   "outputs": [
    {
     "data": {
      "text/plain": [
       "array([ 0, 10, 20, 30, 40, 50])"
      ]
     },
     "execution_count": 153,
     "metadata": {},
     "output_type": "execute_result"
    }
   ],
   "source": [
    "a1"
   ]
  },
  {
   "cell_type": "code",
   "execution_count": 155,
   "id": "9191a51b-55cd-4448-93e2-64849869fb82",
   "metadata": {},
   "outputs": [
    {
     "data": {
      "text/plain": [
       "np.int64(0)"
      ]
     },
     "execution_count": 155,
     "metadata": {},
     "output_type": "execute_result"
    }
   ],
   "source": [
    "a1[0]"
   ]
  },
  {
   "cell_type": "code",
   "execution_count": 157,
   "id": "9b54ac5c-b4ad-4b93-830a-6b53d465e65b",
   "metadata": {},
   "outputs": [
    {
     "data": {
      "text/plain": [
       "np.int64(40)"
      ]
     },
     "execution_count": 157,
     "metadata": {},
     "output_type": "execute_result"
    }
   ],
   "source": [
    "a1[4]"
   ]
  },
  {
   "cell_type": "code",
   "execution_count": 159,
   "id": "fde3bd77-0950-4892-b6d7-52b99beac2d2",
   "metadata": {},
   "outputs": [],
   "source": [
    "a1[5] = 70"
   ]
  },
  {
   "cell_type": "code",
   "execution_count": 161,
   "id": "e06f6177-3d9a-4314-ae90-8b38a56461c8",
   "metadata": {},
   "outputs": [
    {
     "data": {
      "text/plain": [
       "array([ 0, 10, 20, 30, 40, 70])"
      ]
     },
     "execution_count": 161,
     "metadata": {},
     "output_type": "execute_result"
    }
   ],
   "source": [
    "a1"
   ]
  },
  {
   "cell_type": "code",
   "execution_count": 163,
   "id": "c5af3753-304e-4e6e-9688-bbbe7118c8ce",
   "metadata": {},
   "outputs": [
    {
     "data": {
      "text/plain": [
       "array([10, 30, 40])"
      ]
     },
     "execution_count": 163,
     "metadata": {},
     "output_type": "execute_result"
    }
   ],
   "source": [
    "a1[[1,3,4]]"
   ]
  },
  {
   "cell_type": "code",
   "execution_count": 165,
   "id": "9f805a1b-0618-4dff-9271-130d45891cc7",
   "metadata": {},
   "outputs": [],
   "source": [
    "a2 = np.arange(10,100,10).reshape(3,3)"
   ]
  },
  {
   "cell_type": "code",
   "execution_count": 167,
   "id": "dfe3a83d-f063-4d72-bfc0-24e1bfb1b986",
   "metadata": {},
   "outputs": [
    {
     "data": {
      "text/plain": [
       "array([[10, 20, 30],\n",
       "       [40, 50, 60],\n",
       "       [70, 80, 90]])"
      ]
     },
     "execution_count": 167,
     "metadata": {},
     "output_type": "execute_result"
    }
   ],
   "source": [
    "a2"
   ]
  },
  {
   "cell_type": "code",
   "execution_count": 169,
   "id": "aa3455f5-40f0-4d1e-aacc-d9aeca60b82e",
   "metadata": {},
   "outputs": [
    {
     "data": {
      "text/plain": [
       "np.int64(30)"
      ]
     },
     "execution_count": 169,
     "metadata": {},
     "output_type": "execute_result"
    }
   ],
   "source": [
    "a2[0,2]"
   ]
  },
  {
   "cell_type": "code",
   "execution_count": 171,
   "id": "3040cdfe-db52-4c00-8734-6b3ad12b0ff2",
   "metadata": {},
   "outputs": [
    {
     "data": {
      "text/plain": [
       "array([[10, 20, 30],\n",
       "       [40, 50, 60],\n",
       "       [70, 80, 95]])"
      ]
     },
     "execution_count": 171,
     "metadata": {},
     "output_type": "execute_result"
    }
   ],
   "source": [
    "a2[2,2] = 95\n",
    "a2"
   ]
  },
  {
   "cell_type": "code",
   "execution_count": 173,
   "id": "c1e7c742-3c19-4d95-a57f-1b2dd5181ead",
   "metadata": {},
   "outputs": [
    {
     "data": {
      "text/plain": [
       "array([40, 50, 60])"
      ]
     },
     "execution_count": 173,
     "metadata": {},
     "output_type": "execute_result"
    }
   ],
   "source": [
    "a2[1]"
   ]
  },
  {
   "cell_type": "code",
   "execution_count": 175,
   "id": "85c76d79-a286-47a6-a086-3656c9564278",
   "metadata": {},
   "outputs": [
    {
     "data": {
      "text/plain": [
       "array([[10, 20, 30],\n",
       "       [45, 55, 65],\n",
       "       [70, 80, 95]])"
      ]
     },
     "execution_count": 175,
     "metadata": {},
     "output_type": "execute_result"
    }
   ],
   "source": [
    "a2[1] = np.array([45,55,65])\n",
    "a2"
   ]
  },
  {
   "cell_type": "code",
   "execution_count": 177,
   "id": "a38e198a-4946-48c2-b8ea-f429c4fc4b03",
   "metadata": {},
   "outputs": [
    {
     "data": {
      "text/plain": [
       "array([[10, 20, 30],\n",
       "       [47, 57, 67],\n",
       "       [70, 80, 95]])"
      ]
     },
     "execution_count": 177,
     "metadata": {},
     "output_type": "execute_result"
    }
   ],
   "source": [
    "a2[1] = [47,57,67]\n",
    "a2"
   ]
  },
  {
   "cell_type": "code",
   "execution_count": 179,
   "id": "a127e30b-dcd6-4be8-ab7a-fd5decfa3663",
   "metadata": {},
   "outputs": [
    {
     "data": {
      "text/plain": [
       "array([10, 80])"
      ]
     },
     "execution_count": 179,
     "metadata": {},
     "output_type": "execute_result"
    }
   ],
   "source": [
    "a2[[0,2],[0,1]]"
   ]
  },
  {
   "cell_type": "code",
   "execution_count": 181,
   "id": "1a5327cf-ba7a-477d-867f-c21cc2be9591",
   "metadata": {},
   "outputs": [],
   "source": [
    "a = np.array([1,2,3,4,5,6])"
   ]
  },
  {
   "cell_type": "code",
   "execution_count": 183,
   "id": "473435b3-eaaf-4dd8-872d-beff2dc29d76",
   "metadata": {},
   "outputs": [
    {
     "data": {
      "text/plain": [
       "array([4, 5, 6])"
      ]
     },
     "execution_count": 183,
     "metadata": {},
     "output_type": "execute_result"
    }
   ],
   "source": [
    "a[a>3]"
   ]
  },
  {
   "cell_type": "code",
   "execution_count": 185,
   "id": "b6e11f18-e415-45f4-8ac6-7a2bf536cb62",
   "metadata": {},
   "outputs": [
    {
     "data": {
      "text/plain": [
       "array([2, 4, 6])"
      ]
     },
     "execution_count": 185,
     "metadata": {},
     "output_type": "execute_result"
    }
   ],
   "source": [
    "a[(a%2)==0]"
   ]
  },
  {
   "cell_type": "code",
   "execution_count": 187,
   "id": "94ba2cd9-921d-416a-9cbd-84cc9cc7d6bd",
   "metadata": {},
   "outputs": [
    {
     "data": {
      "text/plain": [
       "array([10, 20, 30])"
      ]
     },
     "execution_count": 187,
     "metadata": {},
     "output_type": "execute_result"
    }
   ],
   "source": [
    "b1 = np.array([0,10,20,30,40,50])\n",
    "b1[1:4]"
   ]
  },
  {
   "cell_type": "code",
   "execution_count": 189,
   "id": "b89db5d7-cfee-41f5-8e8a-22a0175f3b94",
   "metadata": {},
   "outputs": [
    {
     "data": {
      "text/plain": [
       "array([ 0, 10, 20])"
      ]
     },
     "execution_count": 189,
     "metadata": {},
     "output_type": "execute_result"
    }
   ],
   "source": [
    "b1[:3]"
   ]
  },
  {
   "cell_type": "code",
   "execution_count": 191,
   "id": "c2df765f-7694-4128-8e5a-24119bc617e1",
   "metadata": {},
   "outputs": [
    {
     "data": {
      "text/plain": [
       "array([20, 30, 40, 50])"
      ]
     },
     "execution_count": 191,
     "metadata": {},
     "output_type": "execute_result"
    }
   ],
   "source": [
    "b1[2:]"
   ]
  },
  {
   "cell_type": "code",
   "execution_count": 193,
   "id": "039b932b-3759-4f4c-9d63-b7fd5bcaf690",
   "metadata": {},
   "outputs": [
    {
     "data": {
      "text/plain": [
       "array([ 0, 10, 25, 35, 45, 50])"
      ]
     },
     "execution_count": 193,
     "metadata": {},
     "output_type": "execute_result"
    }
   ],
   "source": [
    "b1[2:5] = np.array([25,35,45])\n",
    "b1"
   ]
  },
  {
   "cell_type": "code",
   "execution_count": 195,
   "id": "9e7d0ae2-4721-44e1-894f-a883097e2915",
   "metadata": {},
   "outputs": [
    {
     "data": {
      "text/plain": [
       "array([ 0, 10, 25, 60, 60, 60])"
      ]
     },
     "execution_count": 195,
     "metadata": {},
     "output_type": "execute_result"
    }
   ],
   "source": [
    "b1[3:6] = 60\n",
    "b1"
   ]
  },
  {
   "cell_type": "code",
   "execution_count": 197,
   "id": "05fcc950-c3a3-4cf3-80a2-ca045d4a4fef",
   "metadata": {},
   "outputs": [],
   "source": [
    "b2 = np.arange(10, 100, 10).reshape(3,3)"
   ]
  },
  {
   "cell_type": "code",
   "execution_count": 199,
   "id": "40fd4559-5099-4825-9158-556118b09e50",
   "metadata": {},
   "outputs": [
    {
     "data": {
      "text/plain": [
       "array([[10, 20, 30],\n",
       "       [40, 50, 60],\n",
       "       [70, 80, 90]])"
      ]
     },
     "execution_count": 199,
     "metadata": {},
     "output_type": "execute_result"
    }
   ],
   "source": [
    "b2"
   ]
  },
  {
   "cell_type": "code",
   "execution_count": 201,
   "id": "8fd6b48e-1ba7-413f-83ec-150eb6230bfe",
   "metadata": {},
   "outputs": [
    {
     "data": {
      "text/plain": [
       "array([[50, 60],\n",
       "       [80, 90]])"
      ]
     },
     "execution_count": 201,
     "metadata": {},
     "output_type": "execute_result"
    }
   ],
   "source": [
    "b2[1:3, 1:3]"
   ]
  },
  {
   "cell_type": "code",
   "execution_count": 203,
   "id": "66fa841d-c1d8-4957-a101-3c4ac655c19c",
   "metadata": {},
   "outputs": [
    {
     "data": {
      "text/plain": [
       "array([[20, 30],\n",
       "       [50, 60],\n",
       "       [80, 90]])"
      ]
     },
     "execution_count": 203,
     "metadata": {},
     "output_type": "execute_result"
    }
   ],
   "source": [
    "b2[:3,1:]"
   ]
  },
  {
   "cell_type": "code",
   "execution_count": 205,
   "id": "446633dc-30da-4681-88da-581915ad7546",
   "metadata": {},
   "outputs": [
    {
     "data": {
      "text/plain": [
       "array([40, 50])"
      ]
     },
     "execution_count": 205,
     "metadata": {},
     "output_type": "execute_result"
    }
   ],
   "source": [
    "b2[1][0:2]"
   ]
  },
  {
   "cell_type": "code",
   "execution_count": 211,
   "id": "b0daabcf-7f32-4388-a066-fe2ccb1334ce",
   "metadata": {},
   "outputs": [
    {
     "data": {
      "text/plain": [
       "array([[10, 25, 35],\n",
       "       [40, 55, 65],\n",
       "       [70, 80, 90]])"
      ]
     },
     "execution_count": 211,
     "metadata": {},
     "output_type": "execute_result"
    }
   ],
   "source": [
    "b2[0:2, 1:3] = np.array([[25,35],[55,65]])\n",
    "b2"
   ]
  },
  {
   "cell_type": "code",
   "execution_count": 7,
   "id": "172888db-3ca5-4dab-bb4b-14b7d26d2c08",
   "metadata": {},
   "outputs": [],
   "source": [
    "import pandas as pd"
   ]
  },
  {
   "cell_type": "code",
   "execution_count": 9,
   "id": "90593461-5e04-4c2b-927c-5f8e4f4063b4",
   "metadata": {},
   "outputs": [
    {
     "data": {
      "text/plain": [
       "0    10\n",
       "1    20\n",
       "2    30\n",
       "3    40\n",
       "4    50\n",
       "dtype: int64"
      ]
     },
     "execution_count": 9,
     "metadata": {},
     "output_type": "execute_result"
    }
   ],
   "source": [
    "s1 = pd.Series([10,20,30,40,50])\n",
    "s1"
   ]
  },
  {
   "cell_type": "code",
   "execution_count": 11,
   "id": "c14f2835-e9ef-47d6-8240-c2ddba99198c",
   "metadata": {},
   "outputs": [
    {
     "name": "stdout",
     "output_type": "stream",
     "text": [
      "RangeIndex(start=0, stop=5, step=1)\n"
     ]
    }
   ],
   "source": [
    "s1.index\n",
    "print(s1.index)"
   ]
  },
  {
   "cell_type": "code",
   "execution_count": 13,
   "id": "3fbf58a5-8588-4c50-b2b8-960b7f67654f",
   "metadata": {},
   "outputs": [
    {
     "data": {
      "text/plain": [
       "array([10, 20, 30, 40, 50])"
      ]
     },
     "execution_count": 13,
     "metadata": {},
     "output_type": "execute_result"
    }
   ],
   "source": [
    "s1.values"
   ]
  },
  {
   "cell_type": "code",
   "execution_count": 15,
   "id": "1d3d1de0-3fb6-4e48-8735-68b005e6ff0b",
   "metadata": {},
   "outputs": [
    {
     "data": {
      "text/plain": [
       "0    a\n",
       "1    b\n",
       "2    c\n",
       "3    1\n",
       "4    2\n",
       "5    3\n",
       "dtype: object"
      ]
     },
     "execution_count": 15,
     "metadata": {},
     "output_type": "execute_result"
    }
   ],
   "source": [
    "s2 = pd.Series(['a','b','c',1,2,3])\n",
    "s2"
   ]
  },
  {
   "cell_type": "code",
   "execution_count": 17,
   "id": "34e11645-18c7-402a-a4a0-5142a762bf81",
   "metadata": {},
   "outputs": [],
   "source": [
    "import numpy as np"
   ]
  },
  {
   "cell_type": "code",
   "execution_count": 19,
   "id": "9e24724d-c9b2-488c-8337-badecdee5208",
   "metadata": {},
   "outputs": [
    {
     "data": {
      "text/plain": [
       "0     NaN\n",
       "1    10.0\n",
       "2    30.0\n",
       "dtype: float64"
      ]
     },
     "execution_count": 19,
     "metadata": {},
     "output_type": "execute_result"
    }
   ],
   "source": [
    "s3 = pd.Series([np.nan, 10, 30])\n",
    "s3"
   ]
  },
  {
   "cell_type": "code",
   "execution_count": 25,
   "id": "adb8d40c-2862-4523-8c86-943f1085ffda",
   "metadata": {},
   "outputs": [
    {
     "data": {
      "text/plain": [
       "2018-10-07    200.0\n",
       "2018-10-08    195.0\n",
       "2018-10-09      NaN\n",
       "2018-10-10    205.0\n",
       "dtype: float64"
      ]
     },
     "execution_count": 25,
     "metadata": {},
     "output_type": "execute_result"
    }
   ],
   "source": [
    "index_date = ['2018-10-07','2018-10-08','2018-10-09','2018-10-10']\n",
    "s4 = pd.Series([200,195,np.nan, 205], index = index_date)\n",
    "s4"
   ]
  },
  {
   "cell_type": "code",
   "execution_count": 27,
   "id": "d1097edb-7ba4-486a-93e8-959e2cb44b84",
   "metadata": {},
   "outputs": [
    {
     "data": {
      "text/plain": [
       "국어    100\n",
       "영어     95\n",
       "수학     90\n",
       "dtype: int64"
      ]
     },
     "execution_count": 27,
     "metadata": {},
     "output_type": "execute_result"
    }
   ],
   "source": [
    "s5 = pd.Series({'국어':100,'영어':95,'수학':90})\n",
    "s5"
   ]
  },
  {
   "cell_type": "code",
   "execution_count": 31,
   "id": "45b4fd53-8b0b-42a3-966c-a5ce7d9ffe19",
   "metadata": {},
   "outputs": [
    {
     "data": {
      "text/plain": [
       "DatetimeIndex(['2019-01-01', '2019-01-02', '2019-01-03', '2019-01-04',\n",
       "               '2019-01-05', '2019-01-06', '2019-01-07'],\n",
       "              dtype='datetime64[ns]', freq='D')"
      ]
     },
     "execution_count": 31,
     "metadata": {},
     "output_type": "execute_result"
    }
   ],
   "source": [
    "import pandas as pd \n",
    "pd.date_range(start='2019-01-01',end='2019-01-07')"
   ]
  },
  {
   "cell_type": "code",
   "execution_count": 33,
   "id": "b41d4140-de8b-432f-b2c4-6f6b5798b1fa",
   "metadata": {},
   "outputs": [
    {
     "data": {
      "text/plain": [
       "DatetimeIndex(['2019-01-01', '2019-01-02', '2019-01-03', '2019-01-04',\n",
       "               '2019-01-05', '2019-01-06', '2019-01-07'],\n",
       "              dtype='datetime64[ns]', freq='D')"
      ]
     },
     "execution_count": 33,
     "metadata": {},
     "output_type": "execute_result"
    }
   ],
   "source": [
    "pd.date_range(start='2019/01/01',end='2019.01.07')"
   ]
  },
  {
   "cell_type": "code",
   "execution_count": 35,
   "id": "d2642323-6232-45af-a1e7-b05f3ac045f5",
   "metadata": {},
   "outputs": [
    {
     "data": {
      "text/plain": [
       "DatetimeIndex(['2019-01-01', '2019-01-02', '2019-01-03', '2019-01-04',\n",
       "               '2019-01-05', '2019-01-06', '2019-01-07'],\n",
       "              dtype='datetime64[ns]', freq='D')"
      ]
     },
     "execution_count": 35,
     "metadata": {},
     "output_type": "execute_result"
    }
   ],
   "source": [
    "pd.date_range(start='01-01-2019',end='01/07/2019')"
   ]
  },
  {
   "cell_type": "code",
   "execution_count": 39,
   "id": "ef0b481a-a2a5-47e6-a8bd-b7f66d4c4a8f",
   "metadata": {},
   "outputs": [
    {
     "data": {
      "text/plain": [
       "DatetimeIndex(['2019-01-01', '2019-01-02', '2019-01-03', '2019-01-04',\n",
       "               '2019-01-05', '2019-01-06', '2019-01-07'],\n",
       "              dtype='datetime64[ns]', freq='D')"
      ]
     },
     "execution_count": 39,
     "metadata": {},
     "output_type": "execute_result"
    }
   ],
   "source": [
    "pd.date_range(start='2019-01-01',periods=7)"
   ]
  },
  {
   "cell_type": "code",
   "execution_count": 41,
   "id": "508888b5-dacb-45ab-939e-cf005590532a",
   "metadata": {},
   "outputs": [
    {
     "data": {
      "text/plain": [
       "DatetimeIndex(['2019-01-01', '2019-01-03', '2019-01-05', '2019-01-07'], dtype='datetime64[ns]', freq='2D')"
      ]
     },
     "execution_count": 41,
     "metadata": {},
     "output_type": "execute_result"
    }
   ],
   "source": [
    "pd.date_range(start='2019-01-01',periods = 4, freq = '2D')"
   ]
  },
  {
   "cell_type": "code",
   "execution_count": 43,
   "id": "d2b64d6b-a4ed-41f9-8044-284eed98f252",
   "metadata": {},
   "outputs": [
    {
     "data": {
      "text/plain": [
       "DatetimeIndex(['2019-01-06', '2019-01-13', '2019-01-20', '2019-01-27'], dtype='datetime64[ns]', freq='W-SUN')"
      ]
     },
     "execution_count": 43,
     "metadata": {},
     "output_type": "execute_result"
    }
   ],
   "source": [
    "pd.date_range(start='2019-01-01',periods = 4, freq = 'W')"
   ]
  },
  {
   "cell_type": "code",
   "execution_count": 45,
   "id": "f1f8925a-cfb4-4d9b-830e-7fd7b5b034b0",
   "metadata": {},
   "outputs": [
    {
     "name": "stderr",
     "output_type": "stream",
     "text": [
      "C:\\Users\\user1\\AppData\\Local\\Temp\\ipykernel_12032\\824770337.py:1: FutureWarning: 'BM' is deprecated and will be removed in a future version, please use 'BME' instead.\n",
      "  pd.date_range(start='2019-01-01',periods = 12, freq = '2BM')\n"
     ]
    },
    {
     "data": {
      "text/plain": [
       "DatetimeIndex(['2019-01-31', '2019-03-29', '2019-05-31', '2019-07-31',\n",
       "               '2019-09-30', '2019-11-29', '2020-01-31', '2020-03-31',\n",
       "               '2020-05-29', '2020-07-31', '2020-09-30', '2020-11-30'],\n",
       "              dtype='datetime64[ns]', freq='2BME')"
      ]
     },
     "execution_count": 45,
     "metadata": {},
     "output_type": "execute_result"
    }
   ],
   "source": [
    "pd.date_range(start='2019-01-01',periods = 12, freq = '2BM')"
   ]
  },
  {
   "cell_type": "code",
   "execution_count": 47,
   "id": "474453f2-6ce1-4ca6-818b-5bf54fde6ffe",
   "metadata": {},
   "outputs": [
    {
     "data": {
      "text/plain": [
       "DatetimeIndex(['2019-01-01', '2019-04-01', '2019-07-01', '2019-10-01'], dtype='datetime64[ns]', freq='QS-JAN')"
      ]
     },
     "execution_count": 47,
     "metadata": {},
     "output_type": "execute_result"
    }
   ],
   "source": [
    "pd.date_range(start='2019-01-01',periods = 4 , freq = 'QS')"
   ]
  },
  {
   "cell_type": "code",
   "execution_count": 49,
   "id": "e99c03d7-0d49-46c2-8cdd-b1c5110c0a13",
   "metadata": {},
   "outputs": [
    {
     "name": "stderr",
     "output_type": "stream",
     "text": [
      "C:\\Users\\user1\\AppData\\Local\\Temp\\ipykernel_12032\\3748707511.py:1: FutureWarning: 'AS' is deprecated and will be removed in a future version, please use 'YS' instead.\n",
      "  pd.date_range(start='2019-01-01',periods = 3, freq = 'AS')\n"
     ]
    },
    {
     "data": {
      "text/plain": [
       "DatetimeIndex(['2019-01-01', '2020-01-01', '2021-01-01'], dtype='datetime64[ns]', freq='YS-JAN')"
      ]
     },
     "execution_count": 49,
     "metadata": {},
     "output_type": "execute_result"
    }
   ],
   "source": [
    "pd.date_range(start='2019-01-01',periods = 3, freq = 'AS')"
   ]
  },
  {
   "cell_type": "code",
   "execution_count": 51,
   "id": "45ee019c-459b-418a-9c1d-64c8c27c4920",
   "metadata": {},
   "outputs": [
    {
     "name": "stderr",
     "output_type": "stream",
     "text": [
      "C:\\Users\\user1\\AppData\\Local\\Temp\\ipykernel_12032\\1190856521.py:1: FutureWarning: 'H' is deprecated and will be removed in a future version, please use 'h' instead.\n",
      "  pd.date_range(start = '2019-01-01 08:00',periods = 10, freq = 'H')\n"
     ]
    },
    {
     "data": {
      "text/plain": [
       "DatetimeIndex(['2019-01-01 08:00:00', '2019-01-01 09:00:00',\n",
       "               '2019-01-01 10:00:00', '2019-01-01 11:00:00',\n",
       "               '2019-01-01 12:00:00', '2019-01-01 13:00:00',\n",
       "               '2019-01-01 14:00:00', '2019-01-01 15:00:00',\n",
       "               '2019-01-01 16:00:00', '2019-01-01 17:00:00'],\n",
       "              dtype='datetime64[ns]', freq='h')"
      ]
     },
     "execution_count": 51,
     "metadata": {},
     "output_type": "execute_result"
    }
   ],
   "source": [
    "pd.date_range(start = '2019-01-01 08:00',periods = 10, freq = 'H')"
   ]
  },
  {
   "cell_type": "code",
   "execution_count": 53,
   "id": "2d45a902-7158-41ff-b04e-52f7adb86e44",
   "metadata": {},
   "outputs": [
    {
     "name": "stderr",
     "output_type": "stream",
     "text": [
      "C:\\Users\\user1\\AppData\\Local\\Temp\\ipykernel_12032\\2358304759.py:1: FutureWarning: 'BH' is deprecated and will be removed in a future version, please use 'bh' instead.\n",
      "  pd.date_range(start = '2019-01-01 08:00', periods = 10 , freq = 'BH')\n"
     ]
    },
    {
     "data": {
      "text/plain": [
       "DatetimeIndex(['2019-01-01 09:00:00', '2019-01-01 10:00:00',\n",
       "               '2019-01-01 11:00:00', '2019-01-01 12:00:00',\n",
       "               '2019-01-01 13:00:00', '2019-01-01 14:00:00',\n",
       "               '2019-01-01 15:00:00', '2019-01-01 16:00:00',\n",
       "               '2019-01-02 09:00:00', '2019-01-02 10:00:00'],\n",
       "              dtype='datetime64[ns]', freq='bh')"
      ]
     },
     "execution_count": 53,
     "metadata": {},
     "output_type": "execute_result"
    }
   ],
   "source": [
    "pd.date_range(start = '2019-01-01 08:00', periods = 10 , freq = 'BH')"
   ]
  },
  {
   "cell_type": "code",
   "execution_count": 55,
   "id": "3942b8df-d265-422e-a0e8-4ef8b1777c0e",
   "metadata": {},
   "outputs": [
    {
     "data": {
      "text/plain": [
       "DatetimeIndex(['2019-01-01 10:00:00', '2019-01-01 10:30:00',\n",
       "               '2019-01-01 11:00:00', '2019-01-01 11:30:00'],\n",
       "              dtype='datetime64[ns]', freq='30min')"
      ]
     },
     "execution_count": 55,
     "metadata": {},
     "output_type": "execute_result"
    }
   ],
   "source": [
    "pd.date_range(start = '2019-01-01 10:00', periods = 4, freq = '30min')"
   ]
  },
  {
   "cell_type": "code",
   "execution_count": 57,
   "id": "2f8edbc2-5816-45ed-90c6-09eee61fca43",
   "metadata": {},
   "outputs": [
    {
     "ename": "SyntaxError",
     "evalue": "invalid decimal literal (344492982.py, line 1)",
     "output_type": "error",
     "traceback": [
      "\u001b[1;36m  Cell \u001b[1;32mIn[57], line 1\u001b[1;36m\u001b[0m\n\u001b[1;33m    pd.date_range(start = '2019-01-01 10:00, periods = 4, freq = '30T')\u001b[0m\n\u001b[1;37m                                                                   ^\u001b[0m\n\u001b[1;31mSyntaxError\u001b[0m\u001b[1;31m:\u001b[0m invalid decimal literal\n"
     ]
    }
   ],
   "source": [
    "pd.date_range(start = '2019-01-01 10:00, periods = 4, freq = '30T')"
   ]
  },
  {
   "cell_type": "code",
   "execution_count": 59,
   "id": "e97a2249-3a16-48b3-974c-026363b185fe",
   "metadata": {},
   "outputs": [
    {
     "name": "stderr",
     "output_type": "stream",
     "text": [
      "C:\\Users\\user1\\AppData\\Local\\Temp\\ipykernel_12032\\3026018592.py:1: FutureWarning: 'S' is deprecated and will be removed in a future version, please use 's' instead.\n",
      "  pd.date_range(start = '2019-01-01 10:00:00', periods = 4, freq = '10S')\n"
     ]
    },
    {
     "data": {
      "text/plain": [
       "DatetimeIndex(['2019-01-01 10:00:00', '2019-01-01 10:00:10',\n",
       "               '2019-01-01 10:00:20', '2019-01-01 10:00:30'],\n",
       "              dtype='datetime64[ns]', freq='10s')"
      ]
     },
     "execution_count": 59,
     "metadata": {},
     "output_type": "execute_result"
    }
   ],
   "source": [
    "pd.date_range(start = '2019-01-01 10:00:00', periods = 4, freq = '10S')"
   ]
  },
  {
   "cell_type": "code",
   "execution_count": 61,
   "id": "3cef9a7f-2f08-4751-a3e6-38628a443211",
   "metadata": {},
   "outputs": [
    {
     "data": {
      "text/plain": [
       "2019-03-01    51\n",
       "2019-03-02    62\n",
       "2019-03-03    55\n",
       "2019-03-04    49\n",
       "2019-03-05    58\n",
       "Freq: D, dtype: int64"
      ]
     },
     "execution_count": 61,
     "metadata": {},
     "output_type": "execute_result"
    }
   ],
   "source": [
    "index_date = pd.date_range(start = '2019-03-01',periods = 5, freq = 'D')\n",
    "pd.Series([51,62,55,49,58],index = index_date)"
   ]
  },
  {
   "cell_type": "code",
   "execution_count": 63,
   "id": "771763a5-fa8f-43b2-9eab-43c700825856",
   "metadata": {},
   "outputs": [
    {
     "data": {
      "text/html": [
       "<div>\n",
       "<style scoped>\n",
       "    .dataframe tbody tr th:only-of-type {\n",
       "        vertical-align: middle;\n",
       "    }\n",
       "\n",
       "    .dataframe tbody tr th {\n",
       "        vertical-align: top;\n",
       "    }\n",
       "\n",
       "    .dataframe thead th {\n",
       "        text-align: right;\n",
       "    }\n",
       "</style>\n",
       "<table border=\"1\" class=\"dataframe\">\n",
       "  <thead>\n",
       "    <tr style=\"text-align: right;\">\n",
       "      <th></th>\n",
       "      <th>0</th>\n",
       "      <th>1</th>\n",
       "      <th>2</th>\n",
       "    </tr>\n",
       "  </thead>\n",
       "  <tbody>\n",
       "    <tr>\n",
       "      <th>0</th>\n",
       "      <td>1</td>\n",
       "      <td>2</td>\n",
       "      <td>3</td>\n",
       "    </tr>\n",
       "    <tr>\n",
       "      <th>1</th>\n",
       "      <td>4</td>\n",
       "      <td>5</td>\n",
       "      <td>6</td>\n",
       "    </tr>\n",
       "    <tr>\n",
       "      <th>2</th>\n",
       "      <td>7</td>\n",
       "      <td>8</td>\n",
       "      <td>9</td>\n",
       "    </tr>\n",
       "  </tbody>\n",
       "</table>\n",
       "</div>"
      ],
      "text/plain": [
       "   0  1  2\n",
       "0  1  2  3\n",
       "1  4  5  6\n",
       "2  7  8  9"
      ]
     },
     "execution_count": 63,
     "metadata": {},
     "output_type": "execute_result"
    }
   ],
   "source": [
    "# DataFrame()의 인자인 data에는 리스트와 형태가 유사한 데이터 타입은 모두 사용할수 있습니다. 즉 , \n",
    "# 리스트와 딕셔너리 타입의 데이터, Numpy 의 배열 데이터, Series 나 DataFrame 타입의 데이터를 입력할수있습니다. \n",
    "# df = pd.DataFrame(data [, index = index_data, columns = columns_data])\n",
    "\n",
    "import pandas as pd \n",
    "\n",
    "pd.DataFrame([[1,2,3],[4,5,6],[7,8,9]])"
   ]
  },
  {
   "cell_type": "code",
   "execution_count": 65,
   "id": "91545c3e-2f0b-4dc3-a3dc-de7d4dafdb73",
   "metadata": {},
   "outputs": [
    {
     "data": {
      "text/html": [
       "<div>\n",
       "<style scoped>\n",
       "    .dataframe tbody tr th:only-of-type {\n",
       "        vertical-align: middle;\n",
       "    }\n",
       "\n",
       "    .dataframe tbody tr th {\n",
       "        vertical-align: top;\n",
       "    }\n",
       "\n",
       "    .dataframe thead th {\n",
       "        text-align: right;\n",
       "    }\n",
       "</style>\n",
       "<table border=\"1\" class=\"dataframe\">\n",
       "  <thead>\n",
       "    <tr style=\"text-align: right;\">\n",
       "      <th></th>\n",
       "      <th>0</th>\n",
       "      <th>1</th>\n",
       "      <th>2</th>\n",
       "    </tr>\n",
       "  </thead>\n",
       "  <tbody>\n",
       "    <tr>\n",
       "      <th>0</th>\n",
       "      <td>10</td>\n",
       "      <td>20</td>\n",
       "      <td>30</td>\n",
       "    </tr>\n",
       "    <tr>\n",
       "      <th>1</th>\n",
       "      <td>40</td>\n",
       "      <td>50</td>\n",
       "      <td>60</td>\n",
       "    </tr>\n",
       "    <tr>\n",
       "      <th>2</th>\n",
       "      <td>70</td>\n",
       "      <td>80</td>\n",
       "      <td>90</td>\n",
       "    </tr>\n",
       "  </tbody>\n",
       "</table>\n",
       "</div>"
      ],
      "text/plain": [
       "    0   1   2\n",
       "0  10  20  30\n",
       "1  40  50  60\n",
       "2  70  80  90"
      ]
     },
     "execution_count": 65,
     "metadata": {},
     "output_type": "execute_result"
    }
   ],
   "source": [
    "import numpy as np\n",
    "import pandas as pd \n",
    "\n",
    "data_list = np.array([[10,20,30],[40,50,60],[70,80,90]])\n",
    "pd.DataFrame(data_list)"
   ]
  },
  {
   "cell_type": "code",
   "execution_count": 71,
   "id": "f8f5330e-a0b0-40f7-8e6e-6997802ff209",
   "metadata": {},
   "outputs": [
    {
     "data": {
      "text/html": [
       "<div>\n",
       "<style scoped>\n",
       "    .dataframe tbody tr th:only-of-type {\n",
       "        vertical-align: middle;\n",
       "    }\n",
       "\n",
       "    .dataframe tbody tr th {\n",
       "        vertical-align: top;\n",
       "    }\n",
       "\n",
       "    .dataframe thead th {\n",
       "        text-align: right;\n",
       "    }\n",
       "</style>\n",
       "<table border=\"1\" class=\"dataframe\">\n",
       "  <thead>\n",
       "    <tr style=\"text-align: right;\">\n",
       "      <th></th>\n",
       "      <th>A</th>\n",
       "      <th>B</th>\n",
       "      <th>C</th>\n",
       "    </tr>\n",
       "  </thead>\n",
       "  <tbody>\n",
       "    <tr>\n",
       "      <th>2019-09-01</th>\n",
       "      <td>1</td>\n",
       "      <td>2</td>\n",
       "      <td>3</td>\n",
       "    </tr>\n",
       "    <tr>\n",
       "      <th>2019-09-02</th>\n",
       "      <td>4</td>\n",
       "      <td>5</td>\n",
       "      <td>6</td>\n",
       "    </tr>\n",
       "    <tr>\n",
       "      <th>2019-09-03</th>\n",
       "      <td>7</td>\n",
       "      <td>8</td>\n",
       "      <td>9</td>\n",
       "    </tr>\n",
       "    <tr>\n",
       "      <th>2019-09-04</th>\n",
       "      <td>10</td>\n",
       "      <td>11</td>\n",
       "      <td>12</td>\n",
       "    </tr>\n",
       "  </tbody>\n",
       "</table>\n",
       "</div>"
      ],
      "text/plain": [
       "             A   B   C\n",
       "2019-09-01   1   2   3\n",
       "2019-09-02   4   5   6\n",
       "2019-09-03   7   8   9\n",
       "2019-09-04  10  11  12"
      ]
     },
     "execution_count": 71,
     "metadata": {},
     "output_type": "execute_result"
    }
   ],
   "source": [
    "import numpy as np \n",
    "import pandas as pd\n",
    "data = np.array([[1,2,3],[4,5,6],[7,8,9],[10,11,12]])\n",
    "index_date = pd.date_range('2019-09-01',periods = 4)\n",
    "columns_list=['A','B','C']\n",
    "pd.DataFrame(data,index = index_date, columns = columns_list)"
   ]
  },
  {
   "cell_type": "code",
   "execution_count": 73,
   "id": "4055d7ee-b0c7-468f-bc21-98b220daf774",
   "metadata": {},
   "outputs": [
    {
     "data": {
      "text/plain": [
       "{'연도': [2015, 2016, 2016, 2017, 2017],\n",
       " '지사': ['한국', '한국', '미국', '한국', '미국'],\n",
       " '고객 수': [200, 250, 450, 300, 500]}"
      ]
     },
     "execution_count": 73,
     "metadata": {},
     "output_type": "execute_result"
    }
   ],
   "source": [
    "table_data = {'연도':[2015,2016,2016,2017,2017],'지사':['한국','한국','미국','한국','미국'],'고객 수':[200,250,450,300,500]}\n",
    "table_data"
   ]
  },
  {
   "cell_type": "code",
   "execution_count": 75,
   "id": "c7cce27a-52e7-45cd-a21e-bf8c1d6444a5",
   "metadata": {},
   "outputs": [
    {
     "data": {
      "text/html": [
       "<div>\n",
       "<style scoped>\n",
       "    .dataframe tbody tr th:only-of-type {\n",
       "        vertical-align: middle;\n",
       "    }\n",
       "\n",
       "    .dataframe tbody tr th {\n",
       "        vertical-align: top;\n",
       "    }\n",
       "\n",
       "    .dataframe thead th {\n",
       "        text-align: right;\n",
       "    }\n",
       "</style>\n",
       "<table border=\"1\" class=\"dataframe\">\n",
       "  <thead>\n",
       "    <tr style=\"text-align: right;\">\n",
       "      <th></th>\n",
       "      <th>연도</th>\n",
       "      <th>지사</th>\n",
       "      <th>고객 수</th>\n",
       "    </tr>\n",
       "  </thead>\n",
       "  <tbody>\n",
       "    <tr>\n",
       "      <th>0</th>\n",
       "      <td>2015</td>\n",
       "      <td>한국</td>\n",
       "      <td>200</td>\n",
       "    </tr>\n",
       "    <tr>\n",
       "      <th>1</th>\n",
       "      <td>2016</td>\n",
       "      <td>한국</td>\n",
       "      <td>250</td>\n",
       "    </tr>\n",
       "    <tr>\n",
       "      <th>2</th>\n",
       "      <td>2016</td>\n",
       "      <td>미국</td>\n",
       "      <td>450</td>\n",
       "    </tr>\n",
       "    <tr>\n",
       "      <th>3</th>\n",
       "      <td>2017</td>\n",
       "      <td>한국</td>\n",
       "      <td>300</td>\n",
       "    </tr>\n",
       "    <tr>\n",
       "      <th>4</th>\n",
       "      <td>2017</td>\n",
       "      <td>미국</td>\n",
       "      <td>500</td>\n",
       "    </tr>\n",
       "  </tbody>\n",
       "</table>\n",
       "</div>"
      ],
      "text/plain": [
       "     연도  지사  고객 수\n",
       "0  2015  한국   200\n",
       "1  2016  한국   250\n",
       "2  2016  미국   450\n",
       "3  2017  한국   300\n",
       "4  2017  미국   500"
      ]
     },
     "execution_count": 75,
     "metadata": {},
     "output_type": "execute_result"
    }
   ],
   "source": [
    "pd.DataFrame(table_data)"
   ]
  },
  {
   "cell_type": "code",
   "execution_count": 79,
   "id": "a6766b51-bed1-4d07-abf0-b2a286e03c1e",
   "metadata": {},
   "outputs": [
    {
     "data": {
      "text/html": [
       "<div>\n",
       "<style scoped>\n",
       "    .dataframe tbody tr th:only-of-type {\n",
       "        vertical-align: middle;\n",
       "    }\n",
       "\n",
       "    .dataframe tbody tr th {\n",
       "        vertical-align: top;\n",
       "    }\n",
       "\n",
       "    .dataframe thead th {\n",
       "        text-align: right;\n",
       "    }\n",
       "</style>\n",
       "<table border=\"1\" class=\"dataframe\">\n",
       "  <thead>\n",
       "    <tr style=\"text-align: right;\">\n",
       "      <th></th>\n",
       "      <th>연도</th>\n",
       "      <th>지사</th>\n",
       "      <th>고객 수</th>\n",
       "    </tr>\n",
       "  </thead>\n",
       "  <tbody>\n",
       "    <tr>\n",
       "      <th>0</th>\n",
       "      <td>2015</td>\n",
       "      <td>한국</td>\n",
       "      <td>200</td>\n",
       "    </tr>\n",
       "    <tr>\n",
       "      <th>1</th>\n",
       "      <td>2016</td>\n",
       "      <td>한국</td>\n",
       "      <td>250</td>\n",
       "    </tr>\n",
       "    <tr>\n",
       "      <th>2</th>\n",
       "      <td>2016</td>\n",
       "      <td>미국</td>\n",
       "      <td>450</td>\n",
       "    </tr>\n",
       "    <tr>\n",
       "      <th>3</th>\n",
       "      <td>2017</td>\n",
       "      <td>한국</td>\n",
       "      <td>300</td>\n",
       "    </tr>\n",
       "    <tr>\n",
       "      <th>4</th>\n",
       "      <td>2017</td>\n",
       "      <td>미국</td>\n",
       "      <td>500</td>\n",
       "    </tr>\n",
       "  </tbody>\n",
       "</table>\n",
       "</div>"
      ],
      "text/plain": [
       "     연도  지사  고객 수\n",
       "0  2015  한국   200\n",
       "1  2016  한국   250\n",
       "2  2016  미국   450\n",
       "3  2017  한국   300\n",
       "4  2017  미국   500"
      ]
     },
     "execution_count": 79,
     "metadata": {},
     "output_type": "execute_result"
    }
   ],
   "source": [
    "df = pd.DataFrame(table_data, columns = ['연도','지사','고객 수'])\n",
    "df"
   ]
  },
  {
   "cell_type": "code",
   "execution_count": 81,
   "id": "bb881fb5-fac4-4c61-9fbd-32923923e842",
   "metadata": {},
   "outputs": [
    {
     "data": {
      "text/plain": [
       "RangeIndex(start=0, stop=5, step=1)"
      ]
     },
     "execution_count": 81,
     "metadata": {},
     "output_type": "execute_result"
    }
   ],
   "source": [
    "df.index"
   ]
  },
  {
   "cell_type": "code",
   "execution_count": 83,
   "id": "81421a52-2cec-4047-8bb4-da67292d8d90",
   "metadata": {},
   "outputs": [
    {
     "data": {
      "text/plain": [
       "Index(['연도', '지사', '고객 수'], dtype='object')"
      ]
     },
     "execution_count": 83,
     "metadata": {},
     "output_type": "execute_result"
    }
   ],
   "source": [
    "df.columns"
   ]
  },
  {
   "cell_type": "code",
   "execution_count": 85,
   "id": "67475a24-47c1-4fea-a68e-6b2a7b6c1735",
   "metadata": {},
   "outputs": [
    {
     "data": {
      "text/plain": [
       "array([[2015, '한국', 200],\n",
       "       [2016, '한국', 250],\n",
       "       [2016, '미국', 450],\n",
       "       [2017, '한국', 300],\n",
       "       [2017, '미국', 500]], dtype=object)"
      ]
     },
     "execution_count": 85,
     "metadata": {},
     "output_type": "execute_result"
    }
   ],
   "source": [
    "df.values"
   ]
  },
  {
   "cell_type": "code",
   "execution_count": 87,
   "id": "fdffe6f9-06de-4e75-a798-c05526ebdc31",
   "metadata": {},
   "outputs": [
    {
     "data": {
      "text/plain": [
       "0    11\n",
       "1    22\n",
       "2    33\n",
       "3    44\n",
       "4    55\n",
       "dtype: int64"
      ]
     },
     "execution_count": 87,
     "metadata": {},
     "output_type": "execute_result"
    }
   ],
   "source": [
    "s1 = pd.Series([1,2,3,4,5])\n",
    "s2 = pd.Series([10,20,30,40,50])\n",
    "s1 + s2"
   ]
  },
  {
   "cell_type": "code",
   "execution_count": 89,
   "id": "a808bbc0-bd29-4419-b52d-a6ffa08ae732",
   "metadata": {},
   "outputs": [
    {
     "data": {
      "text/plain": [
       "0     10\n",
       "1     40\n",
       "2     90\n",
       "3    160\n",
       "4    250\n",
       "dtype: int64"
      ]
     },
     "execution_count": 89,
     "metadata": {},
     "output_type": "execute_result"
    }
   ],
   "source": [
    "s1 * s2"
   ]
  },
  {
   "cell_type": "code",
   "execution_count": 91,
   "id": "2d0b4d3f-940a-44c8-90ee-582bccab9ffb",
   "metadata": {},
   "outputs": [
    {
     "data": {
      "text/plain": [
       "0    10.0\n",
       "1    10.0\n",
       "2    10.0\n",
       "3    10.0\n",
       "4    10.0\n",
       "dtype: float64"
      ]
     },
     "execution_count": 91,
     "metadata": {},
     "output_type": "execute_result"
    }
   ],
   "source": [
    "s2 /s1"
   ]
  },
  {
   "cell_type": "code",
   "execution_count": 93,
   "id": "f8e9a87f-4ed5-4bcf-bf94-23954fceb001",
   "metadata": {},
   "outputs": [
    {
     "data": {
      "text/plain": [
       "0    11.0\n",
       "1    22.0\n",
       "2    33.0\n",
       "3    44.0\n",
       "4     NaN\n",
       "dtype: float64"
      ]
     },
     "execution_count": 93,
     "metadata": {},
     "output_type": "execute_result"
    }
   ],
   "source": [
    "s3  = pd.Series([1,2,3,4])\n",
    "s4 = pd.Series([10,20,30,40,50])\n",
    "s3 + s4"
   ]
  },
  {
   "cell_type": "code",
   "execution_count": 95,
   "id": "686bb777-f25d-421a-a40c-b062d2b2e702",
   "metadata": {},
   "outputs": [
    {
     "data": {
      "text/plain": [
       "0     9.0\n",
       "1    18.0\n",
       "2    27.0\n",
       "3    36.0\n",
       "4     NaN\n",
       "dtype: float64"
      ]
     },
     "execution_count": 95,
     "metadata": {},
     "output_type": "execute_result"
    }
   ],
   "source": [
    "s4 - s3"
   ]
  },
  {
   "cell_type": "code",
   "execution_count": 97,
   "id": "19164422-a5ef-4efa-893f-64252fd09a94",
   "metadata": {},
   "outputs": [
    {
     "data": {
      "text/plain": [
       "0     10.0\n",
       "1     40.0\n",
       "2     90.0\n",
       "3    160.0\n",
       "4      NaN\n",
       "dtype: float64"
      ]
     },
     "execution_count": 97,
     "metadata": {},
     "output_type": "execute_result"
    }
   ],
   "source": [
    "s3 * s4"
   ]
  },
  {
   "cell_type": "code",
   "execution_count": 99,
   "id": "12441e11-5980-482e-b698-7ce0872f7e5f",
   "metadata": {},
   "outputs": [
    {
     "data": {
      "text/plain": [
       "0    10.0\n",
       "1    10.0\n",
       "2    10.0\n",
       "3    10.0\n",
       "4     NaN\n",
       "dtype: float64"
      ]
     },
     "execution_count": 99,
     "metadata": {},
     "output_type": "execute_result"
    }
   ],
   "source": [
    "s4/ s3"
   ]
  },
  {
   "cell_type": "code",
   "execution_count": 101,
   "id": "4d596aeb-226b-4034-a708-2030fadf59c5",
   "metadata": {},
   "outputs": [
    {
     "data": {
      "text/html": [
       "<div>\n",
       "<style scoped>\n",
       "    .dataframe tbody tr th:only-of-type {\n",
       "        vertical-align: middle;\n",
       "    }\n",
       "\n",
       "    .dataframe tbody tr th {\n",
       "        vertical-align: top;\n",
       "    }\n",
       "\n",
       "    .dataframe thead th {\n",
       "        text-align: right;\n",
       "    }\n",
       "</style>\n",
       "<table border=\"1\" class=\"dataframe\">\n",
       "  <thead>\n",
       "    <tr style=\"text-align: right;\">\n",
       "      <th></th>\n",
       "      <th>A</th>\n",
       "      <th>B</th>\n",
       "      <th>C</th>\n",
       "    </tr>\n",
       "  </thead>\n",
       "  <tbody>\n",
       "    <tr>\n",
       "      <th>0</th>\n",
       "      <td>1</td>\n",
       "      <td>10</td>\n",
       "      <td>100</td>\n",
       "    </tr>\n",
       "    <tr>\n",
       "      <th>1</th>\n",
       "      <td>2</td>\n",
       "      <td>20</td>\n",
       "      <td>200</td>\n",
       "    </tr>\n",
       "    <tr>\n",
       "      <th>2</th>\n",
       "      <td>3</td>\n",
       "      <td>30</td>\n",
       "      <td>300</td>\n",
       "    </tr>\n",
       "    <tr>\n",
       "      <th>3</th>\n",
       "      <td>4</td>\n",
       "      <td>40</td>\n",
       "      <td>400</td>\n",
       "    </tr>\n",
       "    <tr>\n",
       "      <th>4</th>\n",
       "      <td>5</td>\n",
       "      <td>50</td>\n",
       "      <td>500</td>\n",
       "    </tr>\n",
       "  </tbody>\n",
       "</table>\n",
       "</div>"
      ],
      "text/plain": [
       "   A   B    C\n",
       "0  1  10  100\n",
       "1  2  20  200\n",
       "2  3  30  300\n",
       "3  4  40  400\n",
       "4  5  50  500"
      ]
     },
     "execution_count": 101,
     "metadata": {},
     "output_type": "execute_result"
    }
   ],
   "source": [
    "table_data1 = {'A':[1,2,3,4,5],'B':[10,20,30,40,50],'C':[100,200,300,400,500]}\n",
    "df1 = pd.DataFrame(table_data1)\n",
    "df1\n"
   ]
  },
  {
   "cell_type": "code",
   "execution_count": 103,
   "id": "86298c3e-e0e4-487a-a25e-a7cb86141ffe",
   "metadata": {},
   "outputs": [
    {
     "data": {
      "text/html": [
       "<div>\n",
       "<style scoped>\n",
       "    .dataframe tbody tr th:only-of-type {\n",
       "        vertical-align: middle;\n",
       "    }\n",
       "\n",
       "    .dataframe tbody tr th {\n",
       "        vertical-align: top;\n",
       "    }\n",
       "\n",
       "    .dataframe thead th {\n",
       "        text-align: right;\n",
       "    }\n",
       "</style>\n",
       "<table border=\"1\" class=\"dataframe\">\n",
       "  <thead>\n",
       "    <tr style=\"text-align: right;\">\n",
       "      <th></th>\n",
       "      <th>A</th>\n",
       "      <th>B</th>\n",
       "      <th>C</th>\n",
       "    </tr>\n",
       "  </thead>\n",
       "  <tbody>\n",
       "    <tr>\n",
       "      <th>0</th>\n",
       "      <td>6</td>\n",
       "      <td>60</td>\n",
       "      <td>600</td>\n",
       "    </tr>\n",
       "    <tr>\n",
       "      <th>1</th>\n",
       "      <td>7</td>\n",
       "      <td>70</td>\n",
       "      <td>700</td>\n",
       "    </tr>\n",
       "    <tr>\n",
       "      <th>2</th>\n",
       "      <td>8</td>\n",
       "      <td>80</td>\n",
       "      <td>800</td>\n",
       "    </tr>\n",
       "  </tbody>\n",
       "</table>\n",
       "</div>"
      ],
      "text/plain": [
       "   A   B    C\n",
       "0  6  60  600\n",
       "1  7  70  700\n",
       "2  8  80  800"
      ]
     },
     "execution_count": 103,
     "metadata": {},
     "output_type": "execute_result"
    }
   ],
   "source": [
    "table_data2 = {'A':[6,7,8],'B':[60,70,80],'C':[600,700,800]}\n",
    "df2 = pd.DataFrame(table_data2)\n",
    "df2"
   ]
  },
  {
   "cell_type": "code",
   "execution_count": 105,
   "id": "0cdc7cdc-ebff-4a93-af95-eca921487c81",
   "metadata": {},
   "outputs": [
    {
     "data": {
      "text/html": [
       "<div>\n",
       "<style scoped>\n",
       "    .dataframe tbody tr th:only-of-type {\n",
       "        vertical-align: middle;\n",
       "    }\n",
       "\n",
       "    .dataframe tbody tr th {\n",
       "        vertical-align: top;\n",
       "    }\n",
       "\n",
       "    .dataframe thead th {\n",
       "        text-align: right;\n",
       "    }\n",
       "</style>\n",
       "<table border=\"1\" class=\"dataframe\">\n",
       "  <thead>\n",
       "    <tr style=\"text-align: right;\">\n",
       "      <th></th>\n",
       "      <th>A</th>\n",
       "      <th>B</th>\n",
       "      <th>C</th>\n",
       "    </tr>\n",
       "  </thead>\n",
       "  <tbody>\n",
       "    <tr>\n",
       "      <th>0</th>\n",
       "      <td>7.0</td>\n",
       "      <td>70.0</td>\n",
       "      <td>700.0</td>\n",
       "    </tr>\n",
       "    <tr>\n",
       "      <th>1</th>\n",
       "      <td>9.0</td>\n",
       "      <td>90.0</td>\n",
       "      <td>900.0</td>\n",
       "    </tr>\n",
       "    <tr>\n",
       "      <th>2</th>\n",
       "      <td>11.0</td>\n",
       "      <td>110.0</td>\n",
       "      <td>1100.0</td>\n",
       "    </tr>\n",
       "    <tr>\n",
       "      <th>3</th>\n",
       "      <td>NaN</td>\n",
       "      <td>NaN</td>\n",
       "      <td>NaN</td>\n",
       "    </tr>\n",
       "    <tr>\n",
       "      <th>4</th>\n",
       "      <td>NaN</td>\n",
       "      <td>NaN</td>\n",
       "      <td>NaN</td>\n",
       "    </tr>\n",
       "  </tbody>\n",
       "</table>\n",
       "</div>"
      ],
      "text/plain": [
       "      A      B       C\n",
       "0   7.0   70.0   700.0\n",
       "1   9.0   90.0   900.0\n",
       "2  11.0  110.0  1100.0\n",
       "3   NaN    NaN     NaN\n",
       "4   NaN    NaN     NaN"
      ]
     },
     "execution_count": 105,
     "metadata": {},
     "output_type": "execute_result"
    }
   ],
   "source": [
    "df1 + df2"
   ]
  },
  {
   "cell_type": "code",
   "execution_count": 109,
   "id": "ff9696e9-cd3b-4f38-b6f4-ac494a11538e",
   "metadata": {},
   "outputs": [
    {
     "data": {
      "text/html": [
       "<div>\n",
       "<style scoped>\n",
       "    .dataframe tbody tr th:only-of-type {\n",
       "        vertical-align: middle;\n",
       "    }\n",
       "\n",
       "    .dataframe tbody tr th {\n",
       "        vertical-align: top;\n",
       "    }\n",
       "\n",
       "    .dataframe thead th {\n",
       "        text-align: right;\n",
       "    }\n",
       "</style>\n",
       "<table border=\"1\" class=\"dataframe\">\n",
       "  <thead>\n",
       "    <tr style=\"text-align: right;\">\n",
       "      <th></th>\n",
       "      <th>봄</th>\n",
       "      <th>여름</th>\n",
       "      <th>가을</th>\n",
       "      <th>겨울</th>\n",
       "    </tr>\n",
       "  </thead>\n",
       "  <tbody>\n",
       "    <tr>\n",
       "      <th>2012</th>\n",
       "      <td>256.5</td>\n",
       "      <td>770.6</td>\n",
       "      <td>363.5</td>\n",
       "      <td>139.3</td>\n",
       "    </tr>\n",
       "    <tr>\n",
       "      <th>2013</th>\n",
       "      <td>264.3</td>\n",
       "      <td>567.5</td>\n",
       "      <td>231.2</td>\n",
       "      <td>59.9</td>\n",
       "    </tr>\n",
       "    <tr>\n",
       "      <th>2014</th>\n",
       "      <td>215.9</td>\n",
       "      <td>599.8</td>\n",
       "      <td>293.1</td>\n",
       "      <td>76.9</td>\n",
       "    </tr>\n",
       "    <tr>\n",
       "      <th>2015</th>\n",
       "      <td>223.2</td>\n",
       "      <td>387.1</td>\n",
       "      <td>247.7</td>\n",
       "      <td>109.1</td>\n",
       "    </tr>\n",
       "    <tr>\n",
       "      <th>2016</th>\n",
       "      <td>312.8</td>\n",
       "      <td>446.2</td>\n",
       "      <td>381.6</td>\n",
       "      <td>108.1</td>\n",
       "    </tr>\n",
       "  </tbody>\n",
       "</table>\n",
       "</div>"
      ],
      "text/plain": [
       "          봄     여름     가을     겨울\n",
       "2012  256.5  770.6  363.5  139.3\n",
       "2013  264.3  567.5  231.2   59.9\n",
       "2014  215.9  599.8  293.1   76.9\n",
       "2015  223.2  387.1  247.7  109.1\n",
       "2016  312.8  446.2  381.6  108.1"
      ]
     },
     "execution_count": 109,
     "metadata": {},
     "output_type": "execute_result"
    }
   ],
   "source": [
    "table_data3= {'봄':[256.5,264.3,215.9,223.2,312.8],'여름':[770.6,567.5,599.8,387.1,446.2],'가을':[363.5,231.2,293.1,247.7,381.6],'겨울':[139.3,59.9,76.9,109.1,108.1]}\n",
    "columns_list =['봄','여름','가을','겨울']\n",
    "index_list =['2012','2013','2014','2015','2016']\n",
    "\n",
    "df3 = pd.DataFrame(table_data3, columns = columns_list, index = index_list)\n",
    "df3"
   ]
  },
  {
   "cell_type": "code",
   "execution_count": 111,
   "id": "c4f30806-baef-4509-beaf-d736f9a40f21",
   "metadata": {},
   "outputs": [
    {
     "data": {
      "text/plain": [
       "봄     254.54\n",
       "여름    554.24\n",
       "가을    303.42\n",
       "겨울     98.66\n",
       "dtype: float64"
      ]
     },
     "execution_count": 111,
     "metadata": {},
     "output_type": "execute_result"
    }
   ],
   "source": [
    "df3.mean()"
   ]
  },
  {
   "cell_type": "code",
   "execution_count": 113,
   "id": "24d5580e-d378-449d-82d9-733792e4e87b",
   "metadata": {},
   "outputs": [
    {
     "data": {
      "text/plain": [
       "봄      38.628267\n",
       "여름    148.888895\n",
       "가을     67.358496\n",
       "겨울     30.925523\n",
       "dtype: float64"
      ]
     },
     "execution_count": 113,
     "metadata": {},
     "output_type": "execute_result"
    }
   ],
   "source": [
    "df3.std()"
   ]
  },
  {
   "cell_type": "code",
   "execution_count": 115,
   "id": "301829e4-23d6-4d97-9313-7b385be984d7",
   "metadata": {},
   "outputs": [
    {
     "data": {
      "text/plain": [
       "2012    382.475\n",
       "2013    280.725\n",
       "2014    296.425\n",
       "2015    241.775\n",
       "2016    312.175\n",
       "dtype: float64"
      ]
     },
     "execution_count": 115,
     "metadata": {},
     "output_type": "execute_result"
    }
   ],
   "source": [
    "df3.mean(axis=1)"
   ]
  },
  {
   "cell_type": "code",
   "execution_count": 117,
   "id": "489f4fa8-cba8-4226-a008-59d796abcb89",
   "metadata": {},
   "outputs": [
    {
     "data": {
      "text/plain": [
       "2012    274.472128\n",
       "2013    211.128782\n",
       "2014    221.150739\n",
       "2015    114.166760\n",
       "2016    146.548658\n",
       "dtype: float64"
      ]
     },
     "execution_count": 117,
     "metadata": {},
     "output_type": "execute_result"
    }
   ],
   "source": [
    "df3.std(axis=1)"
   ]
  },
  {
   "cell_type": "code",
   "execution_count": 119,
   "id": "67ab9bd2-6c2c-47e6-b4cb-9fdca03bc3ab",
   "metadata": {},
   "outputs": [
    {
     "data": {
      "text/html": [
       "<div>\n",
       "<style scoped>\n",
       "    .dataframe tbody tr th:only-of-type {\n",
       "        vertical-align: middle;\n",
       "    }\n",
       "\n",
       "    .dataframe tbody tr th {\n",
       "        vertical-align: top;\n",
       "    }\n",
       "\n",
       "    .dataframe thead th {\n",
       "        text-align: right;\n",
       "    }\n",
       "</style>\n",
       "<table border=\"1\" class=\"dataframe\">\n",
       "  <thead>\n",
       "    <tr style=\"text-align: right;\">\n",
       "      <th></th>\n",
       "      <th>봄</th>\n",
       "      <th>여름</th>\n",
       "      <th>가을</th>\n",
       "      <th>겨울</th>\n",
       "    </tr>\n",
       "  </thead>\n",
       "  <tbody>\n",
       "    <tr>\n",
       "      <th>count</th>\n",
       "      <td>5.000000</td>\n",
       "      <td>5.000000</td>\n",
       "      <td>5.000000</td>\n",
       "      <td>5.000000</td>\n",
       "    </tr>\n",
       "    <tr>\n",
       "      <th>mean</th>\n",
       "      <td>254.540000</td>\n",
       "      <td>554.240000</td>\n",
       "      <td>303.420000</td>\n",
       "      <td>98.660000</td>\n",
       "    </tr>\n",
       "    <tr>\n",
       "      <th>std</th>\n",
       "      <td>38.628267</td>\n",
       "      <td>148.888895</td>\n",
       "      <td>67.358496</td>\n",
       "      <td>30.925523</td>\n",
       "    </tr>\n",
       "    <tr>\n",
       "      <th>min</th>\n",
       "      <td>215.900000</td>\n",
       "      <td>387.100000</td>\n",
       "      <td>231.200000</td>\n",
       "      <td>59.900000</td>\n",
       "    </tr>\n",
       "    <tr>\n",
       "      <th>25%</th>\n",
       "      <td>223.200000</td>\n",
       "      <td>446.200000</td>\n",
       "      <td>247.700000</td>\n",
       "      <td>76.900000</td>\n",
       "    </tr>\n",
       "    <tr>\n",
       "      <th>50%</th>\n",
       "      <td>256.500000</td>\n",
       "      <td>567.500000</td>\n",
       "      <td>293.100000</td>\n",
       "      <td>108.100000</td>\n",
       "    </tr>\n",
       "    <tr>\n",
       "      <th>75%</th>\n",
       "      <td>264.300000</td>\n",
       "      <td>599.800000</td>\n",
       "      <td>363.500000</td>\n",
       "      <td>109.100000</td>\n",
       "    </tr>\n",
       "    <tr>\n",
       "      <th>max</th>\n",
       "      <td>312.800000</td>\n",
       "      <td>770.600000</td>\n",
       "      <td>381.600000</td>\n",
       "      <td>139.300000</td>\n",
       "    </tr>\n",
       "  </tbody>\n",
       "</table>\n",
       "</div>"
      ],
      "text/plain": [
       "                봄          여름          가을          겨울\n",
       "count    5.000000    5.000000    5.000000    5.000000\n",
       "mean   254.540000  554.240000  303.420000   98.660000\n",
       "std     38.628267  148.888895   67.358496   30.925523\n",
       "min    215.900000  387.100000  231.200000   59.900000\n",
       "25%    223.200000  446.200000  247.700000   76.900000\n",
       "50%    256.500000  567.500000  293.100000  108.100000\n",
       "75%    264.300000  599.800000  363.500000  109.100000\n",
       "max    312.800000  770.600000  381.600000  139.300000"
      ]
     },
     "execution_count": 119,
     "metadata": {},
     "output_type": "execute_result"
    }
   ],
   "source": [
    "df3.describe()"
   ]
  },
  {
   "cell_type": "code",
   "execution_count": 121,
   "id": "c5e77dc1-ef6a-4728-8248-13553184911c",
   "metadata": {},
   "outputs": [
    {
     "data": {
      "text/html": [
       "<div>\n",
       "<style scoped>\n",
       "    .dataframe tbody tr th:only-of-type {\n",
       "        vertical-align: middle;\n",
       "    }\n",
       "\n",
       "    .dataframe tbody tr th {\n",
       "        vertical-align: top;\n",
       "    }\n",
       "\n",
       "    .dataframe thead th {\n",
       "        text-align: right;\n",
       "    }\n",
       "</style>\n",
       "<table border=\"1\" class=\"dataframe\">\n",
       "  <thead>\n",
       "    <tr style=\"text-align: right;\">\n",
       "      <th></th>\n",
       "      <th>경부선 KTX</th>\n",
       "      <th>호남선 KTX</th>\n",
       "      <th>경전선 KTX</th>\n",
       "      <th>전라선 KTX</th>\n",
       "      <th>동해선 KTX</th>\n",
       "    </tr>\n",
       "  </thead>\n",
       "  <tbody>\n",
       "    <tr>\n",
       "      <th>2011</th>\n",
       "      <td>39060</td>\n",
       "      <td>7313</td>\n",
       "      <td>3627</td>\n",
       "      <td>309</td>\n",
       "      <td>NaN</td>\n",
       "    </tr>\n",
       "    <tr>\n",
       "      <th>2012</th>\n",
       "      <td>39896</td>\n",
       "      <td>6967</td>\n",
       "      <td>4168</td>\n",
       "      <td>1771</td>\n",
       "      <td>NaN</td>\n",
       "    </tr>\n",
       "    <tr>\n",
       "      <th>2013</th>\n",
       "      <td>42005</td>\n",
       "      <td>6873</td>\n",
       "      <td>4088</td>\n",
       "      <td>1954</td>\n",
       "      <td>NaN</td>\n",
       "    </tr>\n",
       "    <tr>\n",
       "      <th>2014</th>\n",
       "      <td>43621</td>\n",
       "      <td>6626</td>\n",
       "      <td>4424</td>\n",
       "      <td>2244</td>\n",
       "      <td>NaN</td>\n",
       "    </tr>\n",
       "    <tr>\n",
       "      <th>2015</th>\n",
       "      <td>41702</td>\n",
       "      <td>8675</td>\n",
       "      <td>4606</td>\n",
       "      <td>3146</td>\n",
       "      <td>2395.0</td>\n",
       "    </tr>\n",
       "    <tr>\n",
       "      <th>2016</th>\n",
       "      <td>41266</td>\n",
       "      <td>10622</td>\n",
       "      <td>4984</td>\n",
       "      <td>3945</td>\n",
       "      <td>3786.0</td>\n",
       "    </tr>\n",
       "    <tr>\n",
       "      <th>2017</th>\n",
       "      <td>32427</td>\n",
       "      <td>9228</td>\n",
       "      <td>5570</td>\n",
       "      <td>5766</td>\n",
       "      <td>6667.0</td>\n",
       "    </tr>\n",
       "  </tbody>\n",
       "</table>\n",
       "</div>"
      ],
      "text/plain": [
       "      경부선 KTX  호남선 KTX  경전선 KTX  전라선 KTX  동해선 KTX\n",
       "2011    39060     7313     3627      309      NaN\n",
       "2012    39896     6967     4168     1771      NaN\n",
       "2013    42005     6873     4088     1954      NaN\n",
       "2014    43621     6626     4424     2244      NaN\n",
       "2015    41702     8675     4606     3146   2395.0\n",
       "2016    41266    10622     4984     3945   3786.0\n",
       "2017    32427     9228     5570     5766   6667.0"
      ]
     },
     "execution_count": 121,
     "metadata": {},
     "output_type": "execute_result"
    }
   ],
   "source": [
    "import pandas as pd \n",
    "import numpy as np\n",
    "KTX_data = {'경부선 KTX':[39060,39896,42005,43621,41702,41266,32427],\n",
    "            '호남선 KTX':[7313,6967,6873,6626,8675,10622,9228],\n",
    "            '경전선 KTX':[3627,4168,4088,4424,4606,4984,5570],\n",
    "            '전라선 KTX':[309,1771,1954,2244,3146,3945,5766],\n",
    "            '동해선 KTX':[np.nan,np.nan,np.nan,np.nan,2395,3786,6667]}\n",
    "col_list = ['경부선 KTX','호남선 KTX','경전선 KTX','전라선 KTX','동해선 KTX']\n",
    "index_list = ['2011','2012','2013','2014','2015','2016','2017']\n",
    "\n",
    "df_KTX = pd.DataFrame(KTX_data, columns = col_list, index= index_list)\n",
    "df_KTX"
   ]
  },
  {
   "cell_type": "code",
   "execution_count": 123,
   "id": "371d4828-b77b-4fc1-85fd-a45c11ddaca3",
   "metadata": {},
   "outputs": [
    {
     "data": {
      "text/plain": [
       "Index(['2011', '2012', '2013', '2014', '2015', '2016', '2017'], dtype='object')"
      ]
     },
     "execution_count": 123,
     "metadata": {},
     "output_type": "execute_result"
    }
   ],
   "source": [
    "df_KTX.index"
   ]
  },
  {
   "cell_type": "code",
   "execution_count": 125,
   "id": "2b023518-9050-4aff-b20d-fe6971e82db5",
   "metadata": {},
   "outputs": [
    {
     "data": {
      "text/plain": [
       "Index(['경부선 KTX', '호남선 KTX', '경전선 KTX', '전라선 KTX', '동해선 KTX'], dtype='object')"
      ]
     },
     "execution_count": 125,
     "metadata": {},
     "output_type": "execute_result"
    }
   ],
   "source": [
    "df_KTX.columns"
   ]
  },
  {
   "cell_type": "code",
   "execution_count": 127,
   "id": "068dce37-6e53-43b6-83f6-6dd52d676d21",
   "metadata": {},
   "outputs": [
    {
     "data": {
      "text/plain": [
       "array([[39060.,  7313.,  3627.,   309.,    nan],\n",
       "       [39896.,  6967.,  4168.,  1771.,    nan],\n",
       "       [42005.,  6873.,  4088.,  1954.,    nan],\n",
       "       [43621.,  6626.,  4424.,  2244.,    nan],\n",
       "       [41702.,  8675.,  4606.,  3146.,  2395.],\n",
       "       [41266., 10622.,  4984.,  3945.,  3786.],\n",
       "       [32427.,  9228.,  5570.,  5766.,  6667.]])"
      ]
     },
     "execution_count": 127,
     "metadata": {},
     "output_type": "execute_result"
    }
   ],
   "source": [
    "df_KTX.values"
   ]
  },
  {
   "cell_type": "code",
   "execution_count": 129,
   "id": "f2111505-f47c-4f50-a7ea-fcb83fe29e8f",
   "metadata": {},
   "outputs": [
    {
     "data": {
      "text/html": [
       "<div>\n",
       "<style scoped>\n",
       "    .dataframe tbody tr th:only-of-type {\n",
       "        vertical-align: middle;\n",
       "    }\n",
       "\n",
       "    .dataframe tbody tr th {\n",
       "        vertical-align: top;\n",
       "    }\n",
       "\n",
       "    .dataframe thead th {\n",
       "        text-align: right;\n",
       "    }\n",
       "</style>\n",
       "<table border=\"1\" class=\"dataframe\">\n",
       "  <thead>\n",
       "    <tr style=\"text-align: right;\">\n",
       "      <th></th>\n",
       "      <th>경부선 KTX</th>\n",
       "      <th>호남선 KTX</th>\n",
       "      <th>경전선 KTX</th>\n",
       "      <th>전라선 KTX</th>\n",
       "      <th>동해선 KTX</th>\n",
       "    </tr>\n",
       "  </thead>\n",
       "  <tbody>\n",
       "    <tr>\n",
       "      <th>2011</th>\n",
       "      <td>39060</td>\n",
       "      <td>7313</td>\n",
       "      <td>3627</td>\n",
       "      <td>309</td>\n",
       "      <td>NaN</td>\n",
       "    </tr>\n",
       "    <tr>\n",
       "      <th>2012</th>\n",
       "      <td>39896</td>\n",
       "      <td>6967</td>\n",
       "      <td>4168</td>\n",
       "      <td>1771</td>\n",
       "      <td>NaN</td>\n",
       "    </tr>\n",
       "    <tr>\n",
       "      <th>2013</th>\n",
       "      <td>42005</td>\n",
       "      <td>6873</td>\n",
       "      <td>4088</td>\n",
       "      <td>1954</td>\n",
       "      <td>NaN</td>\n",
       "    </tr>\n",
       "    <tr>\n",
       "      <th>2014</th>\n",
       "      <td>43621</td>\n",
       "      <td>6626</td>\n",
       "      <td>4424</td>\n",
       "      <td>2244</td>\n",
       "      <td>NaN</td>\n",
       "    </tr>\n",
       "    <tr>\n",
       "      <th>2015</th>\n",
       "      <td>41702</td>\n",
       "      <td>8675</td>\n",
       "      <td>4606</td>\n",
       "      <td>3146</td>\n",
       "      <td>2395.0</td>\n",
       "    </tr>\n",
       "  </tbody>\n",
       "</table>\n",
       "</div>"
      ],
      "text/plain": [
       "      경부선 KTX  호남선 KTX  경전선 KTX  전라선 KTX  동해선 KTX\n",
       "2011    39060     7313     3627      309      NaN\n",
       "2012    39896     6967     4168     1771      NaN\n",
       "2013    42005     6873     4088     1954      NaN\n",
       "2014    43621     6626     4424     2244      NaN\n",
       "2015    41702     8675     4606     3146   2395.0"
      ]
     },
     "execution_count": 129,
     "metadata": {},
     "output_type": "execute_result"
    }
   ],
   "source": [
    "df_KTX.head()\n"
   ]
  },
  {
   "cell_type": "code",
   "execution_count": 131,
   "id": "c33633c7-1dfc-4ca9-bf9f-391a8adad200",
   "metadata": {},
   "outputs": [
    {
     "data": {
      "text/html": [
       "<div>\n",
       "<style scoped>\n",
       "    .dataframe tbody tr th:only-of-type {\n",
       "        vertical-align: middle;\n",
       "    }\n",
       "\n",
       "    .dataframe tbody tr th {\n",
       "        vertical-align: top;\n",
       "    }\n",
       "\n",
       "    .dataframe thead th {\n",
       "        text-align: right;\n",
       "    }\n",
       "</style>\n",
       "<table border=\"1\" class=\"dataframe\">\n",
       "  <thead>\n",
       "    <tr style=\"text-align: right;\">\n",
       "      <th></th>\n",
       "      <th>경부선 KTX</th>\n",
       "      <th>호남선 KTX</th>\n",
       "      <th>경전선 KTX</th>\n",
       "      <th>전라선 KTX</th>\n",
       "      <th>동해선 KTX</th>\n",
       "    </tr>\n",
       "  </thead>\n",
       "  <tbody>\n",
       "    <tr>\n",
       "      <th>2013</th>\n",
       "      <td>42005</td>\n",
       "      <td>6873</td>\n",
       "      <td>4088</td>\n",
       "      <td>1954</td>\n",
       "      <td>NaN</td>\n",
       "    </tr>\n",
       "    <tr>\n",
       "      <th>2014</th>\n",
       "      <td>43621</td>\n",
       "      <td>6626</td>\n",
       "      <td>4424</td>\n",
       "      <td>2244</td>\n",
       "      <td>NaN</td>\n",
       "    </tr>\n",
       "    <tr>\n",
       "      <th>2015</th>\n",
       "      <td>41702</td>\n",
       "      <td>8675</td>\n",
       "      <td>4606</td>\n",
       "      <td>3146</td>\n",
       "      <td>2395.0</td>\n",
       "    </tr>\n",
       "    <tr>\n",
       "      <th>2016</th>\n",
       "      <td>41266</td>\n",
       "      <td>10622</td>\n",
       "      <td>4984</td>\n",
       "      <td>3945</td>\n",
       "      <td>3786.0</td>\n",
       "    </tr>\n",
       "    <tr>\n",
       "      <th>2017</th>\n",
       "      <td>32427</td>\n",
       "      <td>9228</td>\n",
       "      <td>5570</td>\n",
       "      <td>5766</td>\n",
       "      <td>6667.0</td>\n",
       "    </tr>\n",
       "  </tbody>\n",
       "</table>\n",
       "</div>"
      ],
      "text/plain": [
       "      경부선 KTX  호남선 KTX  경전선 KTX  전라선 KTX  동해선 KTX\n",
       "2013    42005     6873     4088     1954      NaN\n",
       "2014    43621     6626     4424     2244      NaN\n",
       "2015    41702     8675     4606     3146   2395.0\n",
       "2016    41266    10622     4984     3945   3786.0\n",
       "2017    32427     9228     5570     5766   6667.0"
      ]
     },
     "execution_count": 131,
     "metadata": {},
     "output_type": "execute_result"
    }
   ],
   "source": [
    "df_KTX.tail()"
   ]
  },
  {
   "cell_type": "code",
   "execution_count": 133,
   "id": "b8598309-006f-45fc-888a-924df5ec5171",
   "metadata": {},
   "outputs": [
    {
     "data": {
      "text/html": [
       "<div>\n",
       "<style scoped>\n",
       "    .dataframe tbody tr th:only-of-type {\n",
       "        vertical-align: middle;\n",
       "    }\n",
       "\n",
       "    .dataframe tbody tr th {\n",
       "        vertical-align: top;\n",
       "    }\n",
       "\n",
       "    .dataframe thead th {\n",
       "        text-align: right;\n",
       "    }\n",
       "</style>\n",
       "<table border=\"1\" class=\"dataframe\">\n",
       "  <thead>\n",
       "    <tr style=\"text-align: right;\">\n",
       "      <th></th>\n",
       "      <th>경부선 KTX</th>\n",
       "      <th>호남선 KTX</th>\n",
       "      <th>경전선 KTX</th>\n",
       "      <th>전라선 KTX</th>\n",
       "      <th>동해선 KTX</th>\n",
       "    </tr>\n",
       "  </thead>\n",
       "  <tbody>\n",
       "    <tr>\n",
       "      <th>2011</th>\n",
       "      <td>39060</td>\n",
       "      <td>7313</td>\n",
       "      <td>3627</td>\n",
       "      <td>309</td>\n",
       "      <td>NaN</td>\n",
       "    </tr>\n",
       "    <tr>\n",
       "      <th>2012</th>\n",
       "      <td>39896</td>\n",
       "      <td>6967</td>\n",
       "      <td>4168</td>\n",
       "      <td>1771</td>\n",
       "      <td>NaN</td>\n",
       "    </tr>\n",
       "    <tr>\n",
       "      <th>2013</th>\n",
       "      <td>42005</td>\n",
       "      <td>6873</td>\n",
       "      <td>4088</td>\n",
       "      <td>1954</td>\n",
       "      <td>NaN</td>\n",
       "    </tr>\n",
       "  </tbody>\n",
       "</table>\n",
       "</div>"
      ],
      "text/plain": [
       "      경부선 KTX  호남선 KTX  경전선 KTX  전라선 KTX  동해선 KTX\n",
       "2011    39060     7313     3627      309      NaN\n",
       "2012    39896     6967     4168     1771      NaN\n",
       "2013    42005     6873     4088     1954      NaN"
      ]
     },
     "execution_count": 133,
     "metadata": {},
     "output_type": "execute_result"
    }
   ],
   "source": [
    "df_KTX.head(3)"
   ]
  },
  {
   "cell_type": "code",
   "execution_count": 135,
   "id": "27046924-4bc0-491d-9489-521e7d389706",
   "metadata": {},
   "outputs": [
    {
     "data": {
      "text/html": [
       "<div>\n",
       "<style scoped>\n",
       "    .dataframe tbody tr th:only-of-type {\n",
       "        vertical-align: middle;\n",
       "    }\n",
       "\n",
       "    .dataframe tbody tr th {\n",
       "        vertical-align: top;\n",
       "    }\n",
       "\n",
       "    .dataframe thead th {\n",
       "        text-align: right;\n",
       "    }\n",
       "</style>\n",
       "<table border=\"1\" class=\"dataframe\">\n",
       "  <thead>\n",
       "    <tr style=\"text-align: right;\">\n",
       "      <th></th>\n",
       "      <th>경부선 KTX</th>\n",
       "      <th>호남선 KTX</th>\n",
       "      <th>경전선 KTX</th>\n",
       "      <th>전라선 KTX</th>\n",
       "      <th>동해선 KTX</th>\n",
       "    </tr>\n",
       "  </thead>\n",
       "  <tbody>\n",
       "    <tr>\n",
       "      <th>2016</th>\n",
       "      <td>41266</td>\n",
       "      <td>10622</td>\n",
       "      <td>4984</td>\n",
       "      <td>3945</td>\n",
       "      <td>3786.0</td>\n",
       "    </tr>\n",
       "    <tr>\n",
       "      <th>2017</th>\n",
       "      <td>32427</td>\n",
       "      <td>9228</td>\n",
       "      <td>5570</td>\n",
       "      <td>5766</td>\n",
       "      <td>6667.0</td>\n",
       "    </tr>\n",
       "  </tbody>\n",
       "</table>\n",
       "</div>"
      ],
      "text/plain": [
       "      경부선 KTX  호남선 KTX  경전선 KTX  전라선 KTX  동해선 KTX\n",
       "2016    41266    10622     4984     3945   3786.0\n",
       "2017    32427     9228     5570     5766   6667.0"
      ]
     },
     "execution_count": 135,
     "metadata": {},
     "output_type": "execute_result"
    }
   ],
   "source": [
    "df_KTX.tail(2)\n"
   ]
  },
  {
   "cell_type": "code",
   "execution_count": 137,
   "id": "171e3108-e6a5-4c94-aec4-9092c035ba54",
   "metadata": {},
   "outputs": [
    {
     "data": {
      "text/html": [
       "<div>\n",
       "<style scoped>\n",
       "    .dataframe tbody tr th:only-of-type {\n",
       "        vertical-align: middle;\n",
       "    }\n",
       "\n",
       "    .dataframe tbody tr th {\n",
       "        vertical-align: top;\n",
       "    }\n",
       "\n",
       "    .dataframe thead th {\n",
       "        text-align: right;\n",
       "    }\n",
       "</style>\n",
       "<table border=\"1\" class=\"dataframe\">\n",
       "  <thead>\n",
       "    <tr style=\"text-align: right;\">\n",
       "      <th></th>\n",
       "      <th>경부선 KTX</th>\n",
       "      <th>호남선 KTX</th>\n",
       "      <th>경전선 KTX</th>\n",
       "      <th>전라선 KTX</th>\n",
       "      <th>동해선 KTX</th>\n",
       "    </tr>\n",
       "  </thead>\n",
       "  <tbody>\n",
       "    <tr>\n",
       "      <th>2012</th>\n",
       "      <td>39896</td>\n",
       "      <td>6967</td>\n",
       "      <td>4168</td>\n",
       "      <td>1771</td>\n",
       "      <td>NaN</td>\n",
       "    </tr>\n",
       "  </tbody>\n",
       "</table>\n",
       "</div>"
      ],
      "text/plain": [
       "      경부선 KTX  호남선 KTX  경전선 KTX  전라선 KTX  동해선 KTX\n",
       "2012    39896     6967     4168     1771      NaN"
      ]
     },
     "execution_count": 137,
     "metadata": {},
     "output_type": "execute_result"
    }
   ],
   "source": [
    "df_KTX[1:2]"
   ]
  },
  {
   "cell_type": "code",
   "execution_count": 139,
   "id": "eba0c8db-1c74-4bce-9fc1-0ece7ffefc48",
   "metadata": {},
   "outputs": [
    {
     "data": {
      "text/html": [
       "<div>\n",
       "<style scoped>\n",
       "    .dataframe tbody tr th:only-of-type {\n",
       "        vertical-align: middle;\n",
       "    }\n",
       "\n",
       "    .dataframe tbody tr th {\n",
       "        vertical-align: top;\n",
       "    }\n",
       "\n",
       "    .dataframe thead th {\n",
       "        text-align: right;\n",
       "    }\n",
       "</style>\n",
       "<table border=\"1\" class=\"dataframe\">\n",
       "  <thead>\n",
       "    <tr style=\"text-align: right;\">\n",
       "      <th></th>\n",
       "      <th>경부선 KTX</th>\n",
       "      <th>호남선 KTX</th>\n",
       "      <th>경전선 KTX</th>\n",
       "      <th>전라선 KTX</th>\n",
       "      <th>동해선 KTX</th>\n",
       "    </tr>\n",
       "  </thead>\n",
       "  <tbody>\n",
       "    <tr>\n",
       "      <th>2013</th>\n",
       "      <td>42005</td>\n",
       "      <td>6873</td>\n",
       "      <td>4088</td>\n",
       "      <td>1954</td>\n",
       "      <td>NaN</td>\n",
       "    </tr>\n",
       "    <tr>\n",
       "      <th>2014</th>\n",
       "      <td>43621</td>\n",
       "      <td>6626</td>\n",
       "      <td>4424</td>\n",
       "      <td>2244</td>\n",
       "      <td>NaN</td>\n",
       "    </tr>\n",
       "    <tr>\n",
       "      <th>2015</th>\n",
       "      <td>41702</td>\n",
       "      <td>8675</td>\n",
       "      <td>4606</td>\n",
       "      <td>3146</td>\n",
       "      <td>2395.0</td>\n",
       "    </tr>\n",
       "  </tbody>\n",
       "</table>\n",
       "</div>"
      ],
      "text/plain": [
       "      경부선 KTX  호남선 KTX  경전선 KTX  전라선 KTX  동해선 KTX\n",
       "2013    42005     6873     4088     1954      NaN\n",
       "2014    43621     6626     4424     2244      NaN\n",
       "2015    41702     8675     4606     3146   2395.0"
      ]
     },
     "execution_count": 139,
     "metadata": {},
     "output_type": "execute_result"
    }
   ],
   "source": [
    "df_KTX[2:5]"
   ]
  },
  {
   "cell_type": "code",
   "execution_count": null,
   "id": "88b53146-647f-43b0-ad0a-e2b080581aa6",
   "metadata": {},
   "outputs": [],
   "source": []
  }
 ],
 "metadata": {
  "kernelspec": {
   "display_name": "Python [conda env:base] *",
   "language": "python",
   "name": "conda-base-py"
  },
  "language_info": {
   "codemirror_mode": {
    "name": "ipython",
    "version": 3
   },
   "file_extension": ".py",
   "mimetype": "text/x-python",
   "name": "python",
   "nbconvert_exporter": "python",
   "pygments_lexer": "ipython3",
   "version": "3.12.4"
  }
 },
 "nbformat": 4,
 "nbformat_minor": 5
}
